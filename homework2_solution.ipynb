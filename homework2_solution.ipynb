{
 "cells": [
  {
   "cell_type": "code",
   "execution_count": 2,
   "id": "d67be06b-3eab-4545-8b04-493010a2f66e",
   "metadata": {},
   "outputs": [],
   "source": [
    "import numpy as np\n",
    "import pandas as pd\n",
    "\n",
    "#Fin Data Sources\n",
    "import yfinance as yf\n",
    "import pandas_datareader as pdr\n",
    "\n",
    "#Data viz\n",
    "import plotly.graph_objs as go\n",
    "import plotly.express as px\n",
    "\n",
    "import time\n",
    "from datetime import date\n",
    "\n",
    "# for graphs\n",
    "import matplotlib.pyplot as plt\n",
    "\n",
    "import pandas as pd\n",
    "import requests"
   ]
  },
  {
   "cell_type": "markdown",
   "id": "abc3f926-f0de-4b6b-adfa-02a17e049d23",
   "metadata": {},
   "source": [
    "# Question 1"
   ]
  },
  {
   "cell_type": "code",
   "execution_count": 5,
   "id": "309cd100-6ef7-4a36-9d45-76b976f8d4f6",
   "metadata": {},
   "outputs": [],
   "source": [
    "headers = {\n",
    "    'User-Agent': 'Mozilla/5.0 (Windows NT 10.0; Win64; x64) AppleWebKit/537.36 (KHTML, like Gecko) Chrome/58.0.3029.110 Safari/537.3',\n",
    "}\n",
    "\n",
    "url = \"https://stockanalysis.com/ipos/filings/\"\n",
    "response = requests.get(url, headers=headers)\n",
    "\n",
    "ipo_filing_df = pd.read_html(response.text)"
   ]
  },
  {
   "cell_type": "code",
   "execution_count": 11,
   "id": "90a24908-e717-4fe0-babd-0c652af535d9",
   "metadata": {},
   "outputs": [],
   "source": [
    "ipo_filing_df = ipo_filing_df[0]"
   ]
  },
  {
   "cell_type": "code",
   "execution_count": 13,
   "id": "ac955847-b127-4801-a520-3eab9e44602a",
   "metadata": {},
   "outputs": [
    {
     "name": "stdout",
     "output_type": "stream",
     "text": [
      "<class 'pandas.core.frame.DataFrame'>\n",
      "RangeIndex: 325 entries, 0 to 324\n",
      "Data columns (total 5 columns):\n",
      " #   Column          Non-Null Count  Dtype \n",
      "---  ------          --------------  ----- \n",
      " 0   Filing Date     325 non-null    object\n",
      " 1   Symbol          325 non-null    object\n",
      " 2   Company Name    325 non-null    object\n",
      " 3   Price Range     325 non-null    object\n",
      " 4   Shares Offered  325 non-null    object\n",
      "dtypes: object(5)\n",
      "memory usage: 12.8+ KB\n"
     ]
    }
   ],
   "source": [
    "ipo_filing_df.info()"
   ]
  },
  {
   "cell_type": "code",
   "execution_count": 12,
   "id": "77f1050c-1370-4c3a-9b60-bd1c8296142e",
   "metadata": {},
   "outputs": [
    {
     "data": {
      "text/html": [
       "<div>\n",
       "<style scoped>\n",
       "    .dataframe tbody tr th:only-of-type {\n",
       "        vertical-align: middle;\n",
       "    }\n",
       "\n",
       "    .dataframe tbody tr th {\n",
       "        vertical-align: top;\n",
       "    }\n",
       "\n",
       "    .dataframe thead th {\n",
       "        text-align: right;\n",
       "    }\n",
       "</style>\n",
       "<table border=\"1\" class=\"dataframe\">\n",
       "  <thead>\n",
       "    <tr style=\"text-align: right;\">\n",
       "      <th></th>\n",
       "      <th>Filing Date</th>\n",
       "      <th>Symbol</th>\n",
       "      <th>Company Name</th>\n",
       "      <th>Price Range</th>\n",
       "      <th>Shares Offered</th>\n",
       "    </tr>\n",
       "  </thead>\n",
       "  <tbody>\n",
       "    <tr>\n",
       "      <th>0</th>\n",
       "      <td>Apr 29, 2024</td>\n",
       "      <td>HWEC</td>\n",
       "      <td>HW Electro Co., Ltd.</td>\n",
       "      <td>$3.00</td>\n",
       "      <td>3750000</td>\n",
       "    </tr>\n",
       "    <tr>\n",
       "      <th>1</th>\n",
       "      <td>Apr 29, 2024</td>\n",
       "      <td>DTSQ</td>\n",
       "      <td>DT Cloud Star Acquisition Corporation</td>\n",
       "      <td>$10.00</td>\n",
       "      <td>6000000</td>\n",
       "    </tr>\n",
       "    <tr>\n",
       "      <th>2</th>\n",
       "      <td>Apr 26, 2024</td>\n",
       "      <td>EURK</td>\n",
       "      <td>Eureka Acquisition Corp</td>\n",
       "      <td>$10.00</td>\n",
       "      <td>5000000</td>\n",
       "    </tr>\n",
       "  </tbody>\n",
       "</table>\n",
       "</div>"
      ],
      "text/plain": [
       "    Filing Date Symbol                           Company Name Price Range  \\\n",
       "0  Apr 29, 2024   HWEC                   HW Electro Co., Ltd.       $3.00   \n",
       "1  Apr 29, 2024   DTSQ  DT Cloud Star Acquisition Corporation      $10.00   \n",
       "2  Apr 26, 2024   EURK                Eureka Acquisition Corp      $10.00   \n",
       "\n",
       "  Shares Offered  \n",
       "0        3750000  \n",
       "1        6000000  \n",
       "2        5000000  "
      ]
     },
     "execution_count": 12,
     "metadata": {},
     "output_type": "execute_result"
    }
   ],
   "source": [
    "ipo_filing_df.head(3)"
   ]
  },
  {
   "cell_type": "code",
   "execution_count": 14,
   "id": "d2392399-8579-479c-aa48-7a0bb8048727",
   "metadata": {},
   "outputs": [],
   "source": [
    "ipo_filing_df['Filing Date'] = pd.to_datetime(ipo_filing_df['Filing Date'])"
   ]
  },
  {
   "cell_type": "code",
   "execution_count": 21,
   "id": "88728824-c1a6-4c05-9510-49942f0d08eb",
   "metadata": {},
   "outputs": [],
   "source": [
    "ipo_filing_df['Shares Offered'] = pd.to_numeric(ipo_filing_df['Shares Offered'], errors='coerce')"
   ]
  },
  {
   "cell_type": "code",
   "execution_count": 23,
   "id": "a23d3b9d-8e22-4664-8c89-47805e791782",
   "metadata": {},
   "outputs": [
    {
     "data": {
      "text/html": [
       "<div>\n",
       "<style scoped>\n",
       "    .dataframe tbody tr th:only-of-type {\n",
       "        vertical-align: middle;\n",
       "    }\n",
       "\n",
       "    .dataframe tbody tr th {\n",
       "        vertical-align: top;\n",
       "    }\n",
       "\n",
       "    .dataframe thead th {\n",
       "        text-align: right;\n",
       "    }\n",
       "</style>\n",
       "<table border=\"1\" class=\"dataframe\">\n",
       "  <thead>\n",
       "    <tr style=\"text-align: right;\">\n",
       "      <th></th>\n",
       "      <th>Filing Date</th>\n",
       "      <th>Symbol</th>\n",
       "      <th>Company Name</th>\n",
       "      <th>Price Range</th>\n",
       "      <th>Shares Offered</th>\n",
       "    </tr>\n",
       "  </thead>\n",
       "  <tbody>\n",
       "    <tr>\n",
       "      <th>3</th>\n",
       "      <td>2024-04-26</td>\n",
       "      <td>HDL</td>\n",
       "      <td>Super Hi International Holding Ltd.</td>\n",
       "      <td>-</td>\n",
       "      <td>NaN</td>\n",
       "    </tr>\n",
       "    <tr>\n",
       "      <th>4</th>\n",
       "      <td>2024-04-22</td>\n",
       "      <td>DRJT</td>\n",
       "      <td>Derun Group Inc</td>\n",
       "      <td>$5.00</td>\n",
       "      <td>NaN</td>\n",
       "    </tr>\n",
       "    <tr>\n",
       "      <th>6</th>\n",
       "      <td>2024-04-16</td>\n",
       "      <td>JLJT</td>\n",
       "      <td>Jialiang Holdings Ltd</td>\n",
       "      <td>$5.00</td>\n",
       "      <td>NaN</td>\n",
       "    </tr>\n",
       "    <tr>\n",
       "      <th>7</th>\n",
       "      <td>2024-04-15</td>\n",
       "      <td>GAUZ</td>\n",
       "      <td>Gauzy Ltd.</td>\n",
       "      <td>-</td>\n",
       "      <td>NaN</td>\n",
       "    </tr>\n",
       "    <tr>\n",
       "      <th>8</th>\n",
       "      <td>2024-04-12</td>\n",
       "      <td>BOW</td>\n",
       "      <td>Bowhead Specialty Holdings Inc.</td>\n",
       "      <td>-</td>\n",
       "      <td>NaN</td>\n",
       "    </tr>\n",
       "    <tr>\n",
       "      <th>...</th>\n",
       "      <td>...</td>\n",
       "      <td>...</td>\n",
       "      <td>...</td>\n",
       "      <td>...</td>\n",
       "      <td>...</td>\n",
       "    </tr>\n",
       "    <tr>\n",
       "      <th>300</th>\n",
       "      <td>2021-03-02</td>\n",
       "      <td>NSAL</td>\n",
       "      <td>Navios South American Logistics, Inc.</td>\n",
       "      <td>-</td>\n",
       "      <td>NaN</td>\n",
       "    </tr>\n",
       "    <tr>\n",
       "      <th>314</th>\n",
       "      <td>2021-01-19</td>\n",
       "      <td>DECI</td>\n",
       "      <td>Decipher Biosciences, Inc.</td>\n",
       "      <td>-</td>\n",
       "      <td>NaN</td>\n",
       "    </tr>\n",
       "    <tr>\n",
       "      <th>316</th>\n",
       "      <td>2020-09-08</td>\n",
       "      <td>GMWX</td>\n",
       "      <td>GameWorks, Inc.</td>\n",
       "      <td>-</td>\n",
       "      <td>NaN</td>\n",
       "    </tr>\n",
       "    <tr>\n",
       "      <th>317</th>\n",
       "      <td>2020-09-04</td>\n",
       "      <td>SCIT</td>\n",
       "      <td>Sancai Holding Group Ltd.</td>\n",
       "      <td>-</td>\n",
       "      <td>NaN</td>\n",
       "    </tr>\n",
       "    <tr>\n",
       "      <th>319</th>\n",
       "      <td>2020-02-18</td>\n",
       "      <td>CAST</td>\n",
       "      <td>FreeCast, Inc.</td>\n",
       "      <td>-</td>\n",
       "      <td>NaN</td>\n",
       "    </tr>\n",
       "  </tbody>\n",
       "</table>\n",
       "<p>72 rows × 5 columns</p>\n",
       "</div>"
      ],
      "text/plain": [
       "    Filing Date Symbol                           Company Name Price Range  \\\n",
       "3    2024-04-26    HDL    Super Hi International Holding Ltd.           -   \n",
       "4    2024-04-22   DRJT                        Derun Group Inc       $5.00   \n",
       "6    2024-04-16   JLJT                  Jialiang Holdings Ltd       $5.00   \n",
       "7    2024-04-15   GAUZ                             Gauzy Ltd.           -   \n",
       "8    2024-04-12    BOW        Bowhead Specialty Holdings Inc.           -   \n",
       "..          ...    ...                                    ...         ...   \n",
       "300  2021-03-02   NSAL  Navios South American Logistics, Inc.           -   \n",
       "314  2021-01-19   DECI             Decipher Biosciences, Inc.           -   \n",
       "316  2020-09-08   GMWX                        GameWorks, Inc.           -   \n",
       "317  2020-09-04   SCIT              Sancai Holding Group Ltd.           -   \n",
       "319  2020-02-18   CAST                         FreeCast, Inc.           -   \n",
       "\n",
       "     Shares Offered  \n",
       "3               NaN  \n",
       "4               NaN  \n",
       "6               NaN  \n",
       "7               NaN  \n",
       "8               NaN  \n",
       "..              ...  \n",
       "300             NaN  \n",
       "314             NaN  \n",
       "316             NaN  \n",
       "317             NaN  \n",
       "319             NaN  \n",
       "\n",
       "[72 rows x 5 columns]"
      ]
     },
     "execution_count": 23,
     "metadata": {},
     "output_type": "execute_result"
    }
   ],
   "source": [
    "#ipo_filing_df[ipo_filing_df['Shares Offered'].isnull()]"
   ]
  },
  {
   "cell_type": "code",
   "execution_count": 30,
   "id": "aaa4bdcd-e468-44c9-96d3-a230d2883c46",
   "metadata": {},
   "outputs": [
    {
     "name": "stderr",
     "output_type": "stream",
     "text": [
      "C:\\Users\\nisith.singh\\AppData\\Local\\Temp\\ipykernel_36700\\3171195870.py:1: FutureWarning: The default value of regex will change from True to False in a future version. In addition, single character regular expressions will *not* be treated as literal strings when regex=True.\n",
      "  ipo_filing_df['Price Range'] = ipo_filing_df['Price Range'].str.replace('$','')\n"
     ]
    }
   ],
   "source": [
    "ipo_filing_df['Price Range'] = ipo_filing_df['Price Range'].str.replace('$','')"
   ]
  },
  {
   "cell_type": "code",
   "execution_count": 43,
   "id": "5669dcef-389b-483b-bcac-758ea4b88683",
   "metadata": {},
   "outputs": [],
   "source": [
    "ipo_filing_df['Price Range_nos'] = ipo_filing_df['Price Range'].str.split('-').apply(lambda x: len(x))"
   ]
  },
  {
   "cell_type": "code",
   "execution_count": 45,
   "id": "a6439ae2-41d6-461e-90de-07f4a2e02e7d",
   "metadata": {},
   "outputs": [],
   "source": [
    "ipo_filing_df.loc[ipo_filing_df['Price Range'] == '-','Price Range_nos'] = 0"
   ]
  },
  {
   "cell_type": "code",
   "execution_count": 51,
   "id": "f68f9aed-4ee8-4083-a285-b2fb82738c82",
   "metadata": {},
   "outputs": [],
   "source": [
    "def calcAvgPrice(x):\n",
    "\n",
    "    if x['Price Range_nos'] == 0:\n",
    "        return 0\n",
    "    elif x['Price Range_nos'] == 1:\n",
    "        return float(x['Price Range'].split('-')[0])\n",
    "    elif x['Price Range_nos'] == 2:\n",
    "        return np.mean([float(i) for i in x['Price Range'].split('-')] )\n"
   ]
  },
  {
   "cell_type": "code",
   "execution_count": 53,
   "id": "f75a5843-6156-4905-a35e-72748846faa0",
   "metadata": {},
   "outputs": [],
   "source": [
    "ipo_filing_df['Avg_price'] = ipo_filing_df.apply(lambda x: calcAvgPrice(x), axis=1)"
   ]
  },
  {
   "cell_type": "code",
   "execution_count": 58,
   "id": "bdbf163e-2245-403c-91ce-8708f0328b6c",
   "metadata": {},
   "outputs": [],
   "source": [
    "ipo_filing_df[\"Shares_offered_value\"] = ipo_filing_df['Shares Offered'] * ipo_filing_df['Avg_price']"
   ]
  },
  {
   "cell_type": "code",
   "execution_count": 67,
   "id": "b57f6620-f2be-4eab-9a8e-307d32a4ec8a",
   "metadata": {},
   "outputs": [
    {
     "data": {
      "text/plain": [
       "285700000.0"
      ]
     },
     "execution_count": 67,
     "metadata": {},
     "output_type": "execute_result"
    }
   ],
   "source": [
    "ipo_filing_df[(ipo_filing_df['Filing Date'].dt.year == 2023) & (ipo_filing_df['Filing Date'].dt.dayofweek==4)]['Shares_offered_value'].sum()"
   ]
  },
  {
   "cell_type": "code",
   "execution_count": 158,
   "id": "bf4581be-e09d-446b-ab3a-6f350a6367c8",
   "metadata": {},
   "outputs": [],
   "source": [
    "ipo_filing_df.to_csv(\"q1_output.csv\")"
   ]
  },
  {
   "cell_type": "markdown",
   "id": "069d0f79-c534-47f3-92db-e5a533b8dbbe",
   "metadata": {},
   "source": [
    "# Question 2"
   ]
  },
  {
   "cell_type": "code",
   "execution_count": 68,
   "id": "9bae127e-534a-406c-b925-497b46477e12",
   "metadata": {},
   "outputs": [
    {
     "name": "stderr",
     "output_type": "stream",
     "text": [
      "C:\\Users\\nisith.singh\\AppData\\Local\\Temp\\ipykernel_36700\\1160792438.py:19: FutureWarning: The default value of regex will change from True to False in a future version. In addition, single character regular expressions will *not* be treated as literal strings when regex=True.\n",
      "  stacked_ipos_df['IPO Price'] = pd.to_numeric(stacked_ipos_df['IPO Price'].str.replace('$', ''), errors='coerce')\n",
      "C:\\Users\\nisith.singh\\AppData\\Local\\Temp\\ipykernel_36700\\1160792438.py:24: FutureWarning: The default value of regex will change from True to False in a future version. In addition, single character regular expressions will *not* be treated as literal strings when regex=True.\n",
      "  stacked_ipos_df['Current'] = pd.to_numeric(stacked_ipos_df['Current'].str.replace('$', ''), errors='coerce')\n"
     ]
    }
   ],
   "source": [
    "url = \"https://stockanalysis.com/ipos/2023/\"\n",
    "response = requests.get(url, headers=headers)\n",
    "\n",
    "ipo_dfs = pd.read_html(response.text)\n",
    "\n",
    "ipos_2023 = ipo_dfs[0]\n",
    "\n",
    "url = \"https://stockanalysis.com/ipos/2024/\"\n",
    "response = requests.get(url, headers=headers)\n",
    "\n",
    "ipo_dfs = pd.read_html(response.text)\n",
    "\n",
    "ipos_2024 = ipo_dfs[0]\n",
    "\n",
    "stacked_ipos_df = pd.concat([ipos_2024, ipos_2023], ignore_index=True)\n",
    "\n",
    "stacked_ipos_df['IPO Date'] = pd.to_datetime(stacked_ipos_df['IPO Date'])\n",
    "\n",
    "stacked_ipos_df['IPO Price'] = pd.to_numeric(stacked_ipos_df['IPO Price'].str.replace('$', ''), errors='coerce')\n",
    "# not sure why, but need to call it again to transform 'object' to 'float64'\n",
    "stacked_ipos_df['IPO Price'] = pd.to_numeric(stacked_ipos_df['IPO Price'])\n",
    "\n",
    "# Convert \"Current\" column\n",
    "stacked_ipos_df['Current'] = pd.to_numeric(stacked_ipos_df['Current'].str.replace('$', ''), errors='coerce')\n",
    "\n",
    "# Convert 'Return' to numeric format (percentage)\n",
    "stacked_ipos_df['Return'] = pd.to_numeric(stacked_ipos_df['Return'].str.replace('%', ''), errors='coerce') / 100"
   ]
  },
  {
   "cell_type": "code",
   "execution_count": 70,
   "id": "a3fb9f40-ba1c-4e54-b8d0-6c85ce3e8bfd",
   "metadata": {},
   "outputs": [],
   "source": [
    "stacked_ipos_df_subst = stacked_ipos_df[stacked_ipos_df['IPO Date']<pd.to_datetime(\"2024-03-01\")]"
   ]
  },
  {
   "cell_type": "code",
   "execution_count": 74,
   "id": "ae2b3d5c-1202-44cd-aa59-3a79acb052b9",
   "metadata": {},
   "outputs": [
    {
     "data": {
      "text/plain": [
       "(184, 6)"
      ]
     },
     "execution_count": 74,
     "metadata": {},
     "output_type": "execute_result"
    }
   ],
   "source": [
    "#Removing 'RYZB'\n",
    "stacked_ipos_df_subst = stacked_ipos_df_subst[stacked_ipos_df_subst['Symbol']!='RYZB']\n",
    "stacked_ipos_df_subst.shape"
   ]
  },
  {
   "cell_type": "code",
   "execution_count": 77,
   "id": "f8790b0f-c6e9-4dbd-a59d-aa82f6cfbb14",
   "metadata": {},
   "outputs": [],
   "source": [
    "ipo_tickers = stacked_ipos_df_subst['Symbol'].values"
   ]
  },
  {
   "cell_type": "code",
   "execution_count": 78,
   "id": "0e12052e-3668-4059-8413-ca2ffe5ec38e",
   "metadata": {},
   "outputs": [
    {
     "name": "stdout",
     "output_type": "stream",
     "text": [
      "0\n"
     ]
    },
    {
     "name": "stderr",
     "output_type": "stream",
     "text": [
      "[*********************100%%**********************]  1 of 1 completed\n",
      "[*********************100%%**********************]  1 of 1 completed\n",
      "[*********************100%%**********************]  1 of 1 completed\n"
     ]
    },
    {
     "name": "stdout",
     "output_type": "stream",
     "text": [
      "1\n",
      "2\n",
      "3\n"
     ]
    },
    {
     "name": "stderr",
     "output_type": "stream",
     "text": [
      "[*********************100%%**********************]  1 of 1 completed\n",
      "[*********************100%%**********************]  1 of 1 completed\n",
      "[*********************100%%**********************]  1 of 1 completed"
     ]
    },
    {
     "name": "stdout",
     "output_type": "stream",
     "text": [
      "4\n",
      "5\n",
      "6\n"
     ]
    },
    {
     "name": "stderr",
     "output_type": "stream",
     "text": [
      "\n",
      "[*********************100%%**********************]  1 of 1 completed\n",
      "[*********************100%%**********************]  1 of 1 completed\n",
      "[*********************100%%**********************]  1 of 1 completed\n"
     ]
    },
    {
     "name": "stdout",
     "output_type": "stream",
     "text": [
      "7\n",
      "8\n",
      "9\n"
     ]
    },
    {
     "name": "stderr",
     "output_type": "stream",
     "text": [
      "[*********************100%%**********************]  1 of 1 completed\n",
      "[*********************100%%**********************]  1 of 1 completed\n",
      "[*********************100%%**********************]  1 of 1 completed\n"
     ]
    },
    {
     "name": "stdout",
     "output_type": "stream",
     "text": [
      "10\n",
      "11\n",
      "12\n"
     ]
    },
    {
     "name": "stderr",
     "output_type": "stream",
     "text": [
      "[*********************100%%**********************]  1 of 1 completed\n",
      "[*********************100%%**********************]  1 of 1 completed\n",
      "[*********************100%%**********************]  1 of 1 completed\n"
     ]
    },
    {
     "name": "stdout",
     "output_type": "stream",
     "text": [
      "13\n",
      "14\n",
      "15\n"
     ]
    },
    {
     "name": "stderr",
     "output_type": "stream",
     "text": [
      "[*********************100%%**********************]  1 of 1 completed\n",
      "[*********************100%%**********************]  1 of 1 completed\n",
      "[*********************100%%**********************]  1 of 1 completed\n"
     ]
    },
    {
     "name": "stdout",
     "output_type": "stream",
     "text": [
      "16\n",
      "17\n",
      "18\n"
     ]
    },
    {
     "name": "stderr",
     "output_type": "stream",
     "text": [
      "[*********************100%%**********************]  1 of 1 completed\n",
      "[*********************100%%**********************]  1 of 1 completed\n",
      "[*********************100%%**********************]  1 of 1 completed\n"
     ]
    },
    {
     "name": "stdout",
     "output_type": "stream",
     "text": [
      "19\n",
      "20\n",
      "21\n"
     ]
    },
    {
     "name": "stderr",
     "output_type": "stream",
     "text": [
      "[*********************100%%**********************]  1 of 1 completed\n",
      "[*********************100%%**********************]  1 of 1 completed\n",
      "[*********************100%%**********************]  1 of 1 completed\n"
     ]
    },
    {
     "name": "stdout",
     "output_type": "stream",
     "text": [
      "22\n",
      "23\n",
      "24\n"
     ]
    },
    {
     "name": "stderr",
     "output_type": "stream",
     "text": [
      "[*********************100%%**********************]  1 of 1 completed\n",
      "[*********************100%%**********************]  1 of 1 completed\n",
      "[*********************100%%**********************]  1 of 1 completed\n"
     ]
    },
    {
     "name": "stdout",
     "output_type": "stream",
     "text": [
      "25\n",
      "26\n",
      "27\n"
     ]
    },
    {
     "name": "stderr",
     "output_type": "stream",
     "text": [
      "[*********************100%%**********************]  1 of 1 completed\n",
      "[*********************100%%**********************]  1 of 1 completed\n",
      "[*********************100%%**********************]  1 of 1 completed\n"
     ]
    },
    {
     "name": "stdout",
     "output_type": "stream",
     "text": [
      "28\n",
      "29\n",
      "30\n"
     ]
    },
    {
     "name": "stderr",
     "output_type": "stream",
     "text": [
      "[*********************100%%**********************]  1 of 1 completed\n",
      "[*********************100%%**********************]  1 of 1 completed\n",
      "[*********************100%%**********************]  1 of 1 completed\n"
     ]
    },
    {
     "name": "stdout",
     "output_type": "stream",
     "text": [
      "31\n",
      "32\n",
      "33\n"
     ]
    },
    {
     "name": "stderr",
     "output_type": "stream",
     "text": [
      "[*********************100%%**********************]  1 of 1 completed\n",
      "[*********************100%%**********************]  1 of 1 completed\n",
      "[*********************100%%**********************]  1 of 1 completed\n"
     ]
    },
    {
     "name": "stdout",
     "output_type": "stream",
     "text": [
      "34\n",
      "35\n",
      "36\n"
     ]
    },
    {
     "name": "stderr",
     "output_type": "stream",
     "text": [
      "[*********************100%%**********************]  1 of 1 completed\n",
      "[*********************100%%**********************]  1 of 1 completed\n",
      "[*********************100%%**********************]  1 of 1 completed\n"
     ]
    },
    {
     "name": "stdout",
     "output_type": "stream",
     "text": [
      "37\n",
      "38\n",
      "39\n"
     ]
    },
    {
     "name": "stderr",
     "output_type": "stream",
     "text": [
      "[*********************100%%**********************]  1 of 1 completed\n",
      "[*********************100%%**********************]  1 of 1 completed\n",
      "[*********************100%%**********************]  1 of 1 completed\n"
     ]
    },
    {
     "name": "stdout",
     "output_type": "stream",
     "text": [
      "40\n",
      "41\n",
      "42\n"
     ]
    },
    {
     "name": "stderr",
     "output_type": "stream",
     "text": [
      "[*********************100%%**********************]  1 of 1 completed\n",
      "[*********************100%%**********************]  1 of 1 completed\n",
      "[*********************100%%**********************]  1 of 1 completed"
     ]
    },
    {
     "name": "stdout",
     "output_type": "stream",
     "text": [
      "43\n",
      "44\n",
      "45\n"
     ]
    },
    {
     "name": "stderr",
     "output_type": "stream",
     "text": [
      "\n",
      "[*********************100%%**********************]  1 of 1 completed\n",
      "[*********************100%%**********************]  1 of 1 completed\n",
      "[*********************100%%**********************]  1 of 1 completed\n"
     ]
    },
    {
     "name": "stdout",
     "output_type": "stream",
     "text": [
      "46\n",
      "47\n",
      "48\n"
     ]
    },
    {
     "name": "stderr",
     "output_type": "stream",
     "text": [
      "[*********************100%%**********************]  1 of 1 completed\n",
      "[*********************100%%**********************]  1 of 1 completed\n",
      "[*********************100%%**********************]  1 of 1 completed"
     ]
    },
    {
     "name": "stdout",
     "output_type": "stream",
     "text": [
      "49\n",
      "50\n",
      "51\n"
     ]
    },
    {
     "name": "stderr",
     "output_type": "stream",
     "text": [
      "\n",
      "[*********************100%%**********************]  1 of 1 completed\n",
      "[*********************100%%**********************]  1 of 1 completed\n",
      "[*********************100%%**********************]  1 of 1 completed\n"
     ]
    },
    {
     "name": "stdout",
     "output_type": "stream",
     "text": [
      "52\n",
      "53\n",
      "54\n"
     ]
    },
    {
     "name": "stderr",
     "output_type": "stream",
     "text": [
      "[*********************100%%**********************]  1 of 1 completed\n",
      "[*********************100%%**********************]  1 of 1 completed\n",
      "[*********************100%%**********************]  1 of 1 completed\n"
     ]
    },
    {
     "name": "stdout",
     "output_type": "stream",
     "text": [
      "55\n",
      "56\n",
      "57\n"
     ]
    },
    {
     "name": "stderr",
     "output_type": "stream",
     "text": [
      "[*********************100%%**********************]  1 of 1 completed\n",
      "[*********************100%%**********************]  1 of 1 completed\n",
      "[*********************100%%**********************]  1 of 1 completed\n"
     ]
    },
    {
     "name": "stdout",
     "output_type": "stream",
     "text": [
      "58\n",
      "59\n",
      "60\n"
     ]
    },
    {
     "name": "stderr",
     "output_type": "stream",
     "text": [
      "[*********************100%%**********************]  1 of 1 completed\n",
      "[*********************100%%**********************]  1 of 1 completed\n",
      "[*********************100%%**********************]  1 of 1 completed\n"
     ]
    },
    {
     "name": "stdout",
     "output_type": "stream",
     "text": [
      "61\n",
      "62\n",
      "63\n"
     ]
    },
    {
     "name": "stderr",
     "output_type": "stream",
     "text": [
      "[*********************100%%**********************]  1 of 1 completed\n",
      "[*********************100%%**********************]  1 of 1 completed\n",
      "[*********************100%%**********************]  1 of 1 completed\n"
     ]
    },
    {
     "name": "stdout",
     "output_type": "stream",
     "text": [
      "64\n",
      "65\n",
      "66\n"
     ]
    },
    {
     "name": "stderr",
     "output_type": "stream",
     "text": [
      "[*********************100%%**********************]  1 of 1 completed\n",
      "[*********************100%%**********************]  1 of 1 completed\n"
     ]
    },
    {
     "name": "stdout",
     "output_type": "stream",
     "text": [
      "67\n",
      "68\n"
     ]
    },
    {
     "name": "stderr",
     "output_type": "stream",
     "text": [
      "[*********************100%%**********************]  1 of 1 completed\n",
      "[*********************100%%**********************]  1 of 1 completed\n",
      "[*********************100%%**********************]  1 of 1 completed"
     ]
    },
    {
     "name": "stdout",
     "output_type": "stream",
     "text": [
      "69\n",
      "70\n",
      "71\n"
     ]
    },
    {
     "name": "stderr",
     "output_type": "stream",
     "text": [
      "\n",
      "[*********************100%%**********************]  1 of 1 completed\n",
      "[*********************100%%**********************]  1 of 1 completed\n"
     ]
    },
    {
     "name": "stdout",
     "output_type": "stream",
     "text": [
      "72\n",
      "73\n"
     ]
    },
    {
     "name": "stderr",
     "output_type": "stream",
     "text": [
      "[*********************100%%**********************]  1 of 1 completed\n",
      "[*********************100%%**********************]  1 of 1 completed\n",
      "[*********************100%%**********************]  1 of 1 completed\n"
     ]
    },
    {
     "name": "stdout",
     "output_type": "stream",
     "text": [
      "74\n",
      "75\n",
      "76\n"
     ]
    },
    {
     "name": "stderr",
     "output_type": "stream",
     "text": [
      "[*********************100%%**********************]  1 of 1 completed\n",
      "[*********************100%%**********************]  1 of 1 completed\n",
      "[*********************100%%**********************]  1 of 1 completed"
     ]
    },
    {
     "name": "stdout",
     "output_type": "stream",
     "text": [
      "77\n",
      "78\n"
     ]
    },
    {
     "name": "stderr",
     "output_type": "stream",
     "text": [
      "\n",
      "[*********************100%%**********************]  1 of 1 completed\n",
      "[*********************100%%**********************]  1 of 1 completed\n"
     ]
    },
    {
     "name": "stdout",
     "output_type": "stream",
     "text": [
      "79\n",
      "80\n",
      "81\n"
     ]
    },
    {
     "name": "stderr",
     "output_type": "stream",
     "text": [
      "[*********************100%%**********************]  1 of 1 completed\n",
      "[*********************100%%**********************]  1 of 1 completed\n",
      "[*********************100%%**********************]  1 of 1 completed\n"
     ]
    },
    {
     "name": "stdout",
     "output_type": "stream",
     "text": [
      "82\n",
      "83\n",
      "84\n"
     ]
    },
    {
     "name": "stderr",
     "output_type": "stream",
     "text": [
      "[*********************100%%**********************]  1 of 1 completed\n",
      "[*********************100%%**********************]  1 of 1 completed\n",
      "[*********************100%%**********************]  1 of 1 completed\n"
     ]
    },
    {
     "name": "stdout",
     "output_type": "stream",
     "text": [
      "85\n",
      "86\n",
      "87\n"
     ]
    },
    {
     "name": "stderr",
     "output_type": "stream",
     "text": [
      "[*********************100%%**********************]  1 of 1 completed\n",
      "[*********************100%%**********************]  1 of 1 completed\n",
      "[*********************100%%**********************]  1 of 1 completed\n"
     ]
    },
    {
     "name": "stdout",
     "output_type": "stream",
     "text": [
      "88\n",
      "89\n",
      "90\n"
     ]
    },
    {
     "name": "stderr",
     "output_type": "stream",
     "text": [
      "[*********************100%%**********************]  1 of 1 completed\n",
      "[*********************100%%**********************]  1 of 1 completed\n",
      "[*********************100%%**********************]  1 of 1 completed\n"
     ]
    },
    {
     "name": "stdout",
     "output_type": "stream",
     "text": [
      "91\n",
      "92\n",
      "93\n"
     ]
    },
    {
     "name": "stderr",
     "output_type": "stream",
     "text": [
      "[*********************100%%**********************]  1 of 1 completed\n",
      "[*********************100%%**********************]  1 of 1 completed\n",
      "[*********************100%%**********************]  1 of 1 completed\n"
     ]
    },
    {
     "name": "stdout",
     "output_type": "stream",
     "text": [
      "94\n",
      "95\n",
      "96\n"
     ]
    },
    {
     "name": "stderr",
     "output_type": "stream",
     "text": [
      "[*********************100%%**********************]  1 of 1 completed\n",
      "[*********************100%%**********************]  1 of 1 completed\n",
      "[*********************100%%**********************]  1 of 1 completed"
     ]
    },
    {
     "name": "stdout",
     "output_type": "stream",
     "text": [
      "97\n",
      "98\n"
     ]
    },
    {
     "name": "stderr",
     "output_type": "stream",
     "text": [
      "\n",
      "[*********************100%%**********************]  1 of 1 completed\n",
      "[*********************100%%**********************]  1 of 1 completed\n"
     ]
    },
    {
     "name": "stdout",
     "output_type": "stream",
     "text": [
      "99\n",
      "100\n",
      "101\n"
     ]
    },
    {
     "name": "stderr",
     "output_type": "stream",
     "text": [
      "[*********************100%%**********************]  1 of 1 completed\n",
      "[*********************100%%**********************]  1 of 1 completed\n",
      "[*********************100%%**********************]  1 of 1 completed"
     ]
    },
    {
     "name": "stdout",
     "output_type": "stream",
     "text": [
      "102\n",
      "103\n",
      "104\n"
     ]
    },
    {
     "name": "stderr",
     "output_type": "stream",
     "text": [
      "\n",
      "[*********************100%%**********************]  1 of 1 completed\n",
      "[*********************100%%**********************]  1 of 1 completed\n",
      "[*********************100%%**********************]  1 of 1 completed"
     ]
    },
    {
     "name": "stdout",
     "output_type": "stream",
     "text": [
      "105\n",
      "106\n",
      "107\n"
     ]
    },
    {
     "name": "stderr",
     "output_type": "stream",
     "text": [
      "\n",
      "[*********************100%%**********************]  1 of 1 completed\n",
      "[*********************100%%**********************]  1 of 1 completed\n",
      "[*********************100%%**********************]  1 of 1 completed\n"
     ]
    },
    {
     "name": "stdout",
     "output_type": "stream",
     "text": [
      "108\n",
      "109\n",
      "110\n"
     ]
    },
    {
     "name": "stderr",
     "output_type": "stream",
     "text": [
      "[*********************100%%**********************]  1 of 1 completed\n",
      "[*********************100%%**********************]  1 of 1 completed\n",
      "[*********************100%%**********************]  1 of 1 completed\n"
     ]
    },
    {
     "name": "stdout",
     "output_type": "stream",
     "text": [
      "111\n",
      "112\n",
      "113\n"
     ]
    },
    {
     "name": "stderr",
     "output_type": "stream",
     "text": [
      "[*********************100%%**********************]  1 of 1 completed\n",
      "[*********************100%%**********************]  1 of 1 completed\n",
      "[*********************100%%**********************]  1 of 1 completed\n"
     ]
    },
    {
     "name": "stdout",
     "output_type": "stream",
     "text": [
      "114\n",
      "115\n",
      "116\n"
     ]
    },
    {
     "name": "stderr",
     "output_type": "stream",
     "text": [
      "[*********************100%%**********************]  1 of 1 completed\n",
      "[*********************100%%**********************]  1 of 1 completed\n"
     ]
    },
    {
     "name": "stdout",
     "output_type": "stream",
     "text": [
      "117\n",
      "118\n"
     ]
    },
    {
     "name": "stderr",
     "output_type": "stream",
     "text": [
      "[*********************100%%**********************]  1 of 1 completed\n",
      "[*********************100%%**********************]  1 of 1 completed\n",
      "[*********************100%%**********************]  1 of 1 completed"
     ]
    },
    {
     "name": "stdout",
     "output_type": "stream",
     "text": [
      "119\n",
      "120\n",
      "121\n"
     ]
    },
    {
     "name": "stderr",
     "output_type": "stream",
     "text": [
      "\n",
      "[*********************100%%**********************]  1 of 1 completed\n",
      "[*********************100%%**********************]  1 of 1 completed\n",
      "[*********************100%%**********************]  1 of 1 completed"
     ]
    },
    {
     "name": "stdout",
     "output_type": "stream",
     "text": [
      "122\n",
      "123\n"
     ]
    },
    {
     "name": "stderr",
     "output_type": "stream",
     "text": [
      "\n",
      "[*********************100%%**********************]  1 of 1 completed\n",
      "[*********************100%%**********************]  1 of 1 completed"
     ]
    },
    {
     "name": "stdout",
     "output_type": "stream",
     "text": [
      "124\n",
      "125\n",
      "126\n"
     ]
    },
    {
     "name": "stderr",
     "output_type": "stream",
     "text": [
      "\n",
      "[*********************100%%**********************]  1 of 1 completed\n",
      "[*********************100%%**********************]  1 of 1 completed\n",
      "[*********************100%%**********************]  1 of 1 completed"
     ]
    },
    {
     "name": "stdout",
     "output_type": "stream",
     "text": [
      "127\n",
      "128\n",
      "129\n"
     ]
    },
    {
     "name": "stderr",
     "output_type": "stream",
     "text": [
      "\n",
      "[*********************100%%**********************]  1 of 1 completed\n",
      "[*********************100%%**********************]  1 of 1 completed\n",
      "[*********************100%%**********************]  1 of 1 completed"
     ]
    },
    {
     "name": "stdout",
     "output_type": "stream",
     "text": [
      "130\n",
      "131\n"
     ]
    },
    {
     "name": "stderr",
     "output_type": "stream",
     "text": [
      "\n",
      "[*********************100%%**********************]  1 of 1 completed\n",
      "[*********************100%%**********************]  1 of 1 completed"
     ]
    },
    {
     "name": "stdout",
     "output_type": "stream",
     "text": [
      "132\n",
      "133\n"
     ]
    },
    {
     "name": "stderr",
     "output_type": "stream",
     "text": [
      "\n",
      "[*********************100%%**********************]  1 of 1 completed\n",
      "[*********************100%%**********************]  1 of 1 completed\n"
     ]
    },
    {
     "name": "stdout",
     "output_type": "stream",
     "text": [
      "134\n",
      "135\n",
      "136\n"
     ]
    },
    {
     "name": "stderr",
     "output_type": "stream",
     "text": [
      "[*********************100%%**********************]  1 of 1 completed\n",
      "[*********************100%%**********************]  1 of 1 completed\n",
      "[*********************100%%**********************]  1 of 1 completed"
     ]
    },
    {
     "name": "stdout",
     "output_type": "stream",
     "text": [
      "137\n",
      "138\n",
      "139\n"
     ]
    },
    {
     "name": "stderr",
     "output_type": "stream",
     "text": [
      "\n",
      "[*********************100%%**********************]  1 of 1 completed\n",
      "[*********************100%%**********************]  1 of 1 completed\n",
      "[*********************100%%**********************]  1 of 1 completed\n"
     ]
    },
    {
     "name": "stdout",
     "output_type": "stream",
     "text": [
      "140\n",
      "141\n",
      "142\n"
     ]
    },
    {
     "name": "stderr",
     "output_type": "stream",
     "text": [
      "[*********************100%%**********************]  1 of 1 completed\n",
      "[*********************100%%**********************]  1 of 1 completed\n",
      "[*********************100%%**********************]  1 of 1 completed\n"
     ]
    },
    {
     "name": "stdout",
     "output_type": "stream",
     "text": [
      "143\n",
      "144\n",
      "145\n"
     ]
    },
    {
     "name": "stderr",
     "output_type": "stream",
     "text": [
      "[*********************100%%**********************]  1 of 1 completed\n",
      "[*********************100%%**********************]  1 of 1 completed\n",
      "[*********************100%%**********************]  1 of 1 completed\n"
     ]
    },
    {
     "name": "stdout",
     "output_type": "stream",
     "text": [
      "146\n",
      "147\n",
      "148\n"
     ]
    },
    {
     "name": "stderr",
     "output_type": "stream",
     "text": [
      "[*********************100%%**********************]  1 of 1 completed\n",
      "[*********************100%%**********************]  1 of 1 completed\n",
      "[*********************100%%**********************]  1 of 1 completed\n"
     ]
    },
    {
     "name": "stdout",
     "output_type": "stream",
     "text": [
      "149\n",
      "150\n",
      "151\n"
     ]
    },
    {
     "name": "stderr",
     "output_type": "stream",
     "text": [
      "[*********************100%%**********************]  1 of 1 completed\n",
      "[*********************100%%**********************]  1 of 1 completed\n",
      "[*********************100%%**********************]  1 of 1 completed\n"
     ]
    },
    {
     "name": "stdout",
     "output_type": "stream",
     "text": [
      "152\n",
      "153\n",
      "154\n"
     ]
    },
    {
     "name": "stderr",
     "output_type": "stream",
     "text": [
      "[*********************100%%**********************]  1 of 1 completed\n",
      "[*********************100%%**********************]  1 of 1 completed\n",
      "[*********************100%%**********************]  1 of 1 completed\n"
     ]
    },
    {
     "name": "stdout",
     "output_type": "stream",
     "text": [
      "155\n",
      "156\n",
      "157\n"
     ]
    },
    {
     "name": "stderr",
     "output_type": "stream",
     "text": [
      "[*********************100%%**********************]  1 of 1 completed\n",
      "[*********************100%%**********************]  1 of 1 completed\n",
      "[*********************100%%**********************]  1 of 1 completed"
     ]
    },
    {
     "name": "stdout",
     "output_type": "stream",
     "text": [
      "158\n",
      "159\n",
      "160\n"
     ]
    },
    {
     "name": "stderr",
     "output_type": "stream",
     "text": [
      "\n",
      "[*********************100%%**********************]  1 of 1 completed\n",
      "[*********************100%%**********************]  1 of 1 completed\n",
      "[*********************100%%**********************]  1 of 1 completed\n"
     ]
    },
    {
     "name": "stdout",
     "output_type": "stream",
     "text": [
      "161\n",
      "162\n",
      "163\n"
     ]
    },
    {
     "name": "stderr",
     "output_type": "stream",
     "text": [
      "[*********************100%%**********************]  1 of 1 completed\n",
      "[*********************100%%**********************]  1 of 1 completed\n",
      "[*********************100%%**********************]  1 of 1 completed"
     ]
    },
    {
     "name": "stdout",
     "output_type": "stream",
     "text": [
      "164\n",
      "165\n",
      "166\n"
     ]
    },
    {
     "name": "stderr",
     "output_type": "stream",
     "text": [
      "\n",
      "[*********************100%%**********************]  1 of 1 completed\n"
     ]
    },
    {
     "name": "stdout",
     "output_type": "stream",
     "text": [
      "167\n"
     ]
    },
    {
     "name": "stderr",
     "output_type": "stream",
     "text": [
      "[*********************100%%**********************]  1 of 1 completed\n",
      "\n",
      "1 Failed download:\n",
      "['PTHR']: Exception('%ticker%: No timezone found, symbol may be delisted')\n",
      "[*********************100%%**********************]  1 of 1 completed\n",
      "[*********************100%%**********************]  1 of 1 completed"
     ]
    },
    {
     "name": "stdout",
     "output_type": "stream",
     "text": [
      "168\n",
      "169\n"
     ]
    },
    {
     "name": "stderr",
     "output_type": "stream",
     "text": [
      "\n",
      "[*********************100%%**********************]  1 of 1 completed\n",
      "[*********************100%%**********************]  1 of 1 completed\n"
     ]
    },
    {
     "name": "stdout",
     "output_type": "stream",
     "text": [
      "170\n",
      "171\n",
      "172\n"
     ]
    },
    {
     "name": "stderr",
     "output_type": "stream",
     "text": [
      "[*********************100%%**********************]  1 of 1 completed\n",
      "[*********************100%%**********************]  1 of 1 completed\n",
      "[*********************100%%**********************]  1 of 1 completed"
     ]
    },
    {
     "name": "stdout",
     "output_type": "stream",
     "text": [
      "173\n",
      "174\n"
     ]
    },
    {
     "name": "stderr",
     "output_type": "stream",
     "text": [
      "\n",
      "[*********************100%%**********************]  1 of 1 completed\n",
      "[*********************100%%**********************]  1 of 1 completed\n"
     ]
    },
    {
     "name": "stdout",
     "output_type": "stream",
     "text": [
      "175\n",
      "176\n",
      "177\n"
     ]
    },
    {
     "name": "stderr",
     "output_type": "stream",
     "text": [
      "[*********************100%%**********************]  1 of 1 completed\n",
      "[*********************100%%**********************]  1 of 1 completed\n",
      "[*********************100%%**********************]  1 of 1 completed\n"
     ]
    },
    {
     "name": "stdout",
     "output_type": "stream",
     "text": [
      "178\n",
      "179\n",
      "180\n"
     ]
    },
    {
     "name": "stderr",
     "output_type": "stream",
     "text": [
      "[*********************100%%**********************]  1 of 1 completed\n",
      "[*********************100%%**********************]  1 of 1 completed\n",
      "[*********************100%%**********************]  1 of 1 completed\n"
     ]
    },
    {
     "name": "stdout",
     "output_type": "stream",
     "text": [
      "181\n",
      "182\n",
      "183\n"
     ]
    },
    {
     "name": "stderr",
     "output_type": "stream",
     "text": [
      "[*********************100%%**********************]  1 of 1 completed\n"
     ]
    }
   ],
   "source": [
    "ohlcv_lst = {}\n",
    "\n",
    "for idx,ticker in enumerate(ipo_tickers):\n",
    "    print(idx)\n",
    "    df_ticker = yf.download(tickers = ticker,\n",
    "                     period = \"max\",\n",
    "                     interval = \"1d\")\n",
    "\n",
    "    ohlcv_lst[ticker] = df_ticker"
   ]
  },
  {
   "cell_type": "code",
   "execution_count": 79,
   "id": "24e72c82-687b-46a0-a487-28c79151f4fe",
   "metadata": {},
   "outputs": [
    {
     "data": {
      "text/plain": [
       "dict_keys(['SMXT', 'VHAI', 'DYCQ', 'CHRO', 'UMAC', 'TBBB', 'MGX', 'HLXB', 'TELO', 'KYTX', 'PMNT', 'AHR', 'LEGT', 'ANRO', 'GUTS', 'AS', 'FBLG', 'BTSG', 'AVBP', 'HAO', 'CGON', 'YIBO', 'SUGP', 'JL', 'KSPI', 'JVSA', 'PSBD', 'CCTG', 'SYNX', 'SDHC', 'ROMA', 'IROH', 'LGCB', 'ZKH', 'BAYA', 'INHD', 'AFJK', 'GSIW', 'FEBO', 'CLBR', 'ELAB', 'RR', 'DDC', 'SHIM', 'GLAC', 'SGN', 'HG', 'CRGX', 'ANSC', 'AITR', 'GVH', 'LXEO', 'PAPL', 'ATGL', 'MNR', 'WBUY', 'NCL', 'BIRK', 'GMM', 'PMEC', 'LRHC', 'GPAK', 'SPKL', 'QETA', 'MSS', 'ANL', 'SYRA', 'VSME', 'LRE', 'TURB', 'MDBH', 'KVYO', 'CART', 'DTCK', 'NMRA', 'ARM', 'SPPL', 'NWGL', 'SWIN', 'IVP', 'NNAG', 'SRM', 'SPGC', 'LQR', 'NRXS', 'FTEL', 'MIRA', 'PXDT', 'CTNT', 'HRYU', 'SRFM', 'PRZO', 'HYAC', 'KVAC', 'JNVR', 'ELWS', 'WRNT', 'TSBX', 'ODD', 'APGE', 'NETD', 'SGMT', 'BOWN', 'SXTP', 'PWM', 'VTMX', 'INTS', 'SVV', 'KGS', 'FIHL', 'GENK', 'BUJA', 'BOF', 'AZTR', 'CAVA', 'ESHA', 'ATMU', 'ATS', 'IPXX', 'CWD', 'SGE', 'SLRN', 'ALCY', 'KVUE', 'GODN', 'TRNR', 'AACT', 'JYD', 'USGO', 'UCAR', 'WLGS', 'TPET', 'TCJH', 'GDTC', 'VCIG', 'GDHG', 'ARBB', 'ISPR', 'MGIH', 'MWG', 'HSHP', 'SFWL', 'SYT', 'HKIT', 'CHSN', 'TBMC', 'HLP', 'ZJYL', 'TMTC', 'YGFGF', 'OAKU', 'BANL', 'OMH', 'MGRX', 'FORL', 'ICG', 'IZM', 'AESI', 'AIXI', 'SBXC', 'BMR', 'DIST', 'GXAI', 'MARX', 'BFRG', 'ENLT', 'MLYS', 'PTHR', 'BLAC', 'NXT', 'HSAI', 'LSDI', 'LICN', 'GPCR', 'ASST', 'CETU', 'TXO', 'BREA', 'GNLX', 'QSG', 'CVKD', 'SKWD', 'ISRL', 'MGOL'])"
      ]
     },
     "execution_count": 79,
     "metadata": {},
     "output_type": "execute_result"
    }
   ],
   "source": [
    "ohlcv_lst.keys()"
   ]
  },
  {
   "cell_type": "code",
   "execution_count": 102,
   "id": "d477dcf4-c639-47e8-af83-bdfac7fdf0c3",
   "metadata": {},
   "outputs": [
    {
     "name": "stdout",
     "output_type": "stream",
     "text": [
      "ticker:  SMXT  ticker rows:  48\n",
      "df_ipofiling_ohlcv rows : 48\n",
      "ticker:  VHAI  ticker rows:  49\n",
      "df_ipofiling_ohlcv rows : 97\n",
      "ticker:  DYCQ  ticker rows:  16\n",
      "df_ipofiling_ohlcv rows : 113\n",
      "ticker:  CHRO  ticker rows:  54\n",
      "df_ipofiling_ohlcv rows : 167\n",
      "ticker:  UMAC  ticker rows:  56\n",
      "df_ipofiling_ohlcv rows : 223\n",
      "ticker:  TBBB  ticker rows:  59\n",
      "df_ipofiling_ohlcv rows : 282\n",
      "ticker:  MGX  ticker rows:  59\n",
      "df_ipofiling_ohlcv rows : 341\n",
      "ticker:  HLXB  ticker rows:  58\n",
      "df_ipofiling_ohlcv rows : 399\n",
      "ticker:  TELO  ticker rows:  59\n",
      "df_ipofiling_ohlcv rows : 458\n",
      "ticker:  KYTX  ticker rows:  59\n",
      "df_ipofiling_ohlcv rows : 517\n",
      "ticker:  PMNT  ticker rows:  60\n",
      "df_ipofiling_ohlcv rows : 577\n",
      "ticker:  AHR  ticker rows:  61\n",
      "df_ipofiling_ohlcv rows : 638\n",
      "ticker:  LEGT  ticker rows:  26\n",
      "df_ipofiling_ohlcv rows : 664\n",
      "ticker:  ANRO  ticker rows:  64\n",
      "df_ipofiling_ohlcv rows : 728\n",
      "ticker:  GUTS  ticker rows:  64\n",
      "df_ipofiling_ohlcv rows : 792\n",
      "ticker:  AS  ticker rows:  65\n",
      "df_ipofiling_ohlcv rows : 857\n",
      "ticker:  FBLG  ticker rows:  65\n",
      "df_ipofiling_ohlcv rows : 922\n",
      "ticker:  BTSG  ticker rows:  69\n",
      "df_ipofiling_ohlcv rows : 991\n",
      "ticker:  AVBP  ticker rows:  69\n",
      "df_ipofiling_ohlcv rows : 1060\n",
      "ticker:  HAO  ticker rows:  69\n",
      "df_ipofiling_ohlcv rows : 1129\n",
      "ticker:  CGON  ticker rows:  70\n",
      "df_ipofiling_ohlcv rows : 1199\n",
      "ticker:  YIBO  ticker rows:  70\n",
      "df_ipofiling_ohlcv rows : 1269\n",
      "ticker:  SUGP  ticker rows:  71\n",
      "df_ipofiling_ohlcv rows : 1340\n",
      "ticker:  JL  ticker rows:  71\n",
      "df_ipofiling_ohlcv rows : 1411\n",
      "ticker:  KSPI  ticker rows:  74\n",
      "df_ipofiling_ohlcv rows : 1485\n",
      "ticker:  JVSA  ticker rows:  38\n",
      "df_ipofiling_ohlcv rows : 1523\n",
      "ticker:  PSBD  ticker rows:  75\n",
      "df_ipofiling_ohlcv rows : 1598\n",
      "ticker:  CCTG  ticker rows:  75\n",
      "df_ipofiling_ohlcv rows : 1673\n",
      "ticker:  SYNX  ticker rows:  78\n",
      "df_ipofiling_ohlcv rows : 1751\n",
      "ticker:  SDHC  ticker rows:  77\n",
      "df_ipofiling_ohlcv rows : 1828\n",
      "ticker:  ROMA  ticker rows:  81\n",
      "df_ipofiling_ohlcv rows : 1909\n",
      "ticker:  IROH  ticker rows:  54\n",
      "df_ipofiling_ohlcv rows : 1963\n",
      "ticker:  LGCB  ticker rows:  90\n",
      "df_ipofiling_ohlcv rows : 2053\n",
      "ticker:  ZKH  ticker rows:  96\n",
      "df_ipofiling_ohlcv rows : 2149\n",
      "ticker:  BAYA  ticker rows:  86\n",
      "df_ipofiling_ohlcv rows : 2235\n",
      "ticker:  INHD  ticker rows:  97\n",
      "df_ipofiling_ohlcv rows : 2332\n",
      "ticker:  AFJK  ticker rows:  71\n",
      "df_ipofiling_ohlcv rows : 2403\n",
      "ticker:  GSIW  ticker rows:  106\n",
      "df_ipofiling_ohlcv rows : 2509\n",
      "ticker:  FEBO  ticker rows:  107\n",
      "df_ipofiling_ohlcv rows : 2616\n",
      "ticker:  CLBR  ticker rows:  79\n",
      "df_ipofiling_ohlcv rows : 2695\n",
      "ticker:  ELAB  ticker rows:  113\n",
      "df_ipofiling_ohlcv rows : 2808\n",
      "ticker:  RR  ticker rows:  115\n",
      "df_ipofiling_ohlcv rows : 2923\n",
      "ticker:  DDC  ticker rows:  114\n",
      "df_ipofiling_ohlcv rows : 3037\n",
      "ticker:  SHIM  ticker rows:  118\n",
      "df_ipofiling_ohlcv rows : 3155\n",
      "ticker:  GLAC  ticker rows:  104\n",
      "df_ipofiling_ohlcv rows : 3259\n",
      "ticker:  SGN  ticker rows:  118\n",
      "df_ipofiling_ohlcv rows : 3377\n",
      "ticker:  HG  ticker rows:  119\n",
      "df_ipofiling_ohlcv rows : 3496\n",
      "ticker:  CRGX  ticker rows:  119\n",
      "df_ipofiling_ohlcv rows : 3615\n",
      "ticker:  ANSC  ticker rows:  85\n",
      "df_ipofiling_ohlcv rows : 3700\n",
      "ticker:  AITR  ticker rows:  86\n",
      "df_ipofiling_ohlcv rows : 3786\n",
      "ticker:  GVH  ticker rows:  122\n",
      "df_ipofiling_ohlcv rows : 3908\n",
      "ticker:  LXEO  ticker rows:  125\n",
      "df_ipofiling_ohlcv rows : 4033\n",
      "ticker:  PAPL  ticker rows:  127\n",
      "df_ipofiling_ohlcv rows : 4160\n",
      "ticker:  ATGL  ticker rows:  128\n",
      "df_ipofiling_ohlcv rows : 4288\n",
      "ticker:  MNR  ticker rows:  132\n",
      "df_ipofiling_ohlcv rows : 4420\n",
      "ticker:  WBUY  ticker rows:  136\n",
      "df_ipofiling_ohlcv rows : 4556\n",
      "ticker:  NCL  ticker rows:  136\n",
      "df_ipofiling_ohlcv rows : 4692\n",
      "ticker:  BIRK  ticker rows:  142\n",
      "df_ipofiling_ohlcv rows : 4834\n",
      "ticker:  GMM  ticker rows:  144\n",
      "df_ipofiling_ohlcv rows : 4978\n",
      "ticker:  PMEC  ticker rows:  144\n",
      "df_ipofiling_ohlcv rows : 5122\n",
      "ticker:  LRHC  ticker rows:  144\n",
      "df_ipofiling_ohlcv rows : 5266\n",
      "ticker:  GPAK  ticker rows:  144\n",
      "df_ipofiling_ohlcv rows : 5410\n",
      "ticker:  SPKL  ticker rows:  109\n",
      "df_ipofiling_ohlcv rows : 5519\n",
      "ticker:  QETA  ticker rows:  106\n",
      "df_ipofiling_ohlcv rows : 5625\n",
      "ticker:  MSS  ticker rows:  146\n",
      "df_ipofiling_ohlcv rows : 5771\n",
      "ticker:  ANL  ticker rows:  150\n",
      "df_ipofiling_ohlcv rows : 5921\n",
      "ticker:  SYRA  ticker rows:  150\n",
      "df_ipofiling_ohlcv rows : 6071\n",
      "ticker:  VSME  ticker rows:  152\n",
      "df_ipofiling_ohlcv rows : 6223\n",
      "ticker:  LRE  ticker rows:  152\n",
      "df_ipofiling_ohlcv rows : 6375\n",
      "ticker:  TURB  ticker rows:  155\n",
      "df_ipofiling_ohlcv rows : 6530\n",
      "ticker:  MDBH  ticker rows:  156\n",
      "df_ipofiling_ohlcv rows : 6686\n",
      "ticker:  KVYO  ticker rows:  156\n",
      "df_ipofiling_ohlcv rows : 6842\n",
      "ticker:  CART  ticker rows:  158\n",
      "df_ipofiling_ohlcv rows : 7000\n",
      "ticker:  DTCK  ticker rows:  158\n",
      "df_ipofiling_ohlcv rows : 7158\n",
      "ticker:  NMRA  ticker rows:  161\n",
      "df_ipofiling_ohlcv rows : 7319\n",
      "ticker:  ARM  ticker rows:  161\n",
      "df_ipofiling_ohlcv rows : 7480\n",
      "ticker:  SPPL  ticker rows:  162\n",
      "df_ipofiling_ohlcv rows : 7642\n",
      "ticker:  NWGL  ticker rows:  163\n",
      "df_ipofiling_ohlcv rows : 7805\n",
      "ticker:  SWIN  ticker rows:  166\n",
      "df_ipofiling_ohlcv rows : 7971\n",
      "ticker:  IVP  ticker rows:  168\n",
      "df_ipofiling_ohlcv rows : 8139\n",
      "ticker:  NNAG  ticker rows:  143\n",
      "df_ipofiling_ohlcv rows : 8282\n",
      "ticker:  SRM  ticker rows:  182\n",
      "df_ipofiling_ohlcv rows : 8464\n",
      "ticker:  SPGC  ticker rows:  182\n",
      "df_ipofiling_ohlcv rows : 8646\n",
      "ticker:  LQR  ticker rows:  185\n",
      "df_ipofiling_ohlcv rows : 8831\n",
      "ticker:  NRXS  ticker rows:  186\n",
      "df_ipofiling_ohlcv rows : 9017\n",
      "ticker:  FTEL  ticker rows:  183\n",
      "df_ipofiling_ohlcv rows : 9200\n",
      "ticker:  MIRA  ticker rows:  183\n",
      "df_ipofiling_ohlcv rows : 9383\n",
      "ticker:  PXDT  ticker rows:  192\n",
      "df_ipofiling_ohlcv rows : 9575\n",
      "ticker:  CTNT  ticker rows:  192\n",
      "df_ipofiling_ohlcv rows : 9767\n",
      "ticker:  HRYU  ticker rows:  183\n",
      "df_ipofiling_ohlcv rows : 9950\n",
      "ticker:  SRFM  ticker rows:  194\n",
      "df_ipofiling_ohlcv rows : 10144\n",
      "ticker:  PRZO  ticker rows:  195\n",
      "df_ipofiling_ohlcv rows : 10339\n",
      "ticker:  HYAC  ticker rows:  159\n",
      "df_ipofiling_ohlcv rows : 10498\n",
      "ticker:  KVAC  ticker rows:  160\n",
      "df_ipofiling_ohlcv rows : 10658\n",
      "ticker:  JNVR  ticker rows:  197\n",
      "df_ipofiling_ohlcv rows : 10855\n",
      "ticker:  ELWS  ticker rows:  197\n",
      "df_ipofiling_ohlcv rows : 11052\n",
      "ticker:  WRNT  ticker rows:  197\n",
      "df_ipofiling_ohlcv rows : 11249\n",
      "ticker:  TSBX  ticker rows:  199\n",
      "df_ipofiling_ohlcv rows : 11448\n",
      "ticker:  ODD  ticker rows:  201\n",
      "df_ipofiling_ohlcv rows : 11649\n",
      "ticker:  APGE  ticker rows:  204\n",
      "df_ipofiling_ohlcv rows : 11853\n",
      "ticker:  NETD  ticker rows:  168\n",
      "df_ipofiling_ohlcv rows : 12021\n",
      "ticker:  SGMT  ticker rows:  203\n",
      "df_ipofiling_ohlcv rows : 12224\n",
      "ticker:  BOWN  ticker rows:  168\n",
      "df_ipofiling_ohlcv rows : 12392\n",
      "ticker:  SXTP  ticker rows:  206\n",
      "df_ipofiling_ohlcv rows : 12598\n",
      "ticker:  PWM  ticker rows:  209\n",
      "df_ipofiling_ohlcv rows : 12807\n",
      "ticker:  VTMX  ticker rows:  213\n",
      "df_ipofiling_ohlcv rows : 13020\n",
      "ticker:  INTS  ticker rows:  213\n",
      "df_ipofiling_ohlcv rows : 13233\n",
      "ticker:  SVV  ticker rows:  214\n",
      "df_ipofiling_ohlcv rows : 13447\n",
      "ticker:  KGS  ticker rows:  214\n",
      "df_ipofiling_ohlcv rows : 13661\n",
      "ticker:  FIHL  ticker rows:  214\n",
      "df_ipofiling_ohlcv rows : 13875\n",
      "ticker:  GENK  ticker rows:  215\n",
      "df_ipofiling_ohlcv rows : 14090\n",
      "ticker:  BUJA  ticker rows:  167\n",
      "df_ipofiling_ohlcv rows : 14257\n",
      "ticker:  BOF  ticker rows:  222\n",
      "df_ipofiling_ohlcv rows : 14479\n",
      "ticker:  AZTR  ticker rows:  221\n",
      "df_ipofiling_ohlcv rows : 14700\n",
      "ticker:  CAVA  ticker rows:  222\n",
      "df_ipofiling_ohlcv rows : 14922\n",
      "ticker:  ESHA  ticker rows:  223\n",
      "df_ipofiling_ohlcv rows : 15145\n",
      "ticker:  ATMU  ticker rows:  236\n",
      "df_ipofiling_ohlcv rows : 15381\n",
      "ticker:  ATS  ticker rows:  3611\n",
      "df_ipofiling_ohlcv rows : 18992\n",
      "ticker:  IPXX  ticker rows:  203\n",
      "df_ipofiling_ohlcv rows : 19195\n",
      "ticker:  CWD  ticker rows:  242\n",
      "df_ipofiling_ohlcv rows : 19437\n",
      "ticker:  SGE  ticker rows:  244\n",
      "df_ipofiling_ohlcv rows : 19681\n",
      "ticker:  SLRN  ticker rows:  252\n",
      "df_ipofiling_ohlcv rows : 19933\n",
      "ticker:  ALCY  ticker rows:  209\n",
      "df_ipofiling_ohlcv rows : 20142\n",
      "ticker:  KVUE  ticker rows:  252\n",
      "df_ipofiling_ohlcv rows : 20394\n",
      "ticker:  GODN  ticker rows:  215\n",
      "df_ipofiling_ohlcv rows : 20609\n",
      "ticker:  TRNR  ticker rows:  255\n",
      "df_ipofiling_ohlcv rows : 20864\n",
      "ticker:  AACT  ticker rows:  225\n",
      "df_ipofiling_ohlcv rows : 21089\n",
      "ticker:  JYD  ticker rows:  260\n",
      "df_ipofiling_ohlcv rows : 21349\n",
      "ticker:  USGO  ticker rows:  262\n",
      "df_ipofiling_ohlcv rows : 21611\n",
      "ticker:  UCAR  ticker rows:  262\n",
      "df_ipofiling_ohlcv rows : 21873\n",
      "ticker:  WLGS  ticker rows:  262\n",
      "df_ipofiling_ohlcv rows : 22135\n",
      "ticker:  TPET  ticker rows:  264\n",
      "df_ipofiling_ohlcv rows : 22399\n",
      "ticker:  TCJH  ticker rows:  264\n",
      "df_ipofiling_ohlcv rows : 22663\n",
      "ticker:  GDTC  ticker rows:  266\n",
      "df_ipofiling_ohlcv rows : 22929\n",
      "ticker:  VCIG  ticker rows:  267\n",
      "df_ipofiling_ohlcv rows : 23196\n",
      "ticker:  GDHG  ticker rows:  268\n",
      "df_ipofiling_ohlcv rows : 23464\n",
      "ticker:  ARBB  ticker rows:  272\n",
      "df_ipofiling_ohlcv rows : 23736\n",
      "ticker:  ISPR  ticker rows:  273\n",
      "df_ipofiling_ohlcv rows : 24009\n",
      "ticker:  MGIH  ticker rows:  273\n",
      "df_ipofiling_ohlcv rows : 24282\n",
      "ticker:  MWG  ticker rows:  274\n",
      "df_ipofiling_ohlcv rows : 24556\n",
      "ticker:  HSHP  ticker rows:  275\n",
      "df_ipofiling_ohlcv rows : 24831\n",
      "ticker:  SFWL  ticker rows:  275\n",
      "df_ipofiling_ohlcv rows : 25106\n",
      "ticker:  SYT  ticker rows:  275\n",
      "df_ipofiling_ohlcv rows : 25381\n",
      "ticker:  HKIT  ticker rows:  275\n",
      "df_ipofiling_ohlcv rows : 25656\n",
      "ticker:  CHSN  ticker rows:  276\n",
      "df_ipofiling_ohlcv rows : 25932\n",
      "ticker:  TBMC  ticker rows:  245\n",
      "df_ipofiling_ohlcv rows : 26177\n",
      "ticker:  HLP  ticker rows:  277\n",
      "df_ipofiling_ohlcv rows : 26454\n",
      "ticker:  ZJYL  ticker rows:  278\n",
      "df_ipofiling_ohlcv rows : 26732\n",
      "ticker:  TMTC  ticker rows:  255\n",
      "df_ipofiling_ohlcv rows : 26987\n",
      "ticker:  YGFGF  ticker rows:  277\n",
      "df_ipofiling_ohlcv rows : 27264\n",
      "ticker:  OAKU  ticker rows:  241\n",
      "df_ipofiling_ohlcv rows : 27505\n",
      "ticker:  BANL  ticker rows:  281\n",
      "df_ipofiling_ohlcv rows : 27786\n",
      "ticker:  OMH  ticker rows:  282\n",
      "df_ipofiling_ohlcv rows : 28068\n",
      "ticker:  MGRX  ticker rows:  283\n",
      "df_ipofiling_ohlcv rows : 28351\n",
      "ticker:  FORL  ticker rows:  243\n",
      "df_ipofiling_ohlcv rows : 28594\n",
      "ticker:  ICG  ticker rows:  286\n",
      "df_ipofiling_ohlcv rows : 28880\n",
      "ticker:  IZM  ticker rows:  287\n",
      "df_ipofiling_ohlcv rows : 29167\n",
      "ticker:  AESI  ticker rows:  291\n",
      "df_ipofiling_ohlcv rows : 29458\n",
      "ticker:  AIXI  ticker rows:  291\n",
      "df_ipofiling_ohlcv rows : 29749\n",
      "ticker:  SBXC  ticker rows:  247\n",
      "df_ipofiling_ohlcv rows : 29996\n",
      "ticker:  BMR  ticker rows:  298\n",
      "df_ipofiling_ohlcv rows : 30294\n",
      "ticker:  DIST  ticker rows:  275\n",
      "df_ipofiling_ohlcv rows : 30569\n",
      "ticker:  GXAI  ticker rows:  306\n",
      "df_ipofiling_ohlcv rows : 30875\n",
      "ticker:  MARX  ticker rows:  287\n",
      "df_ipofiling_ohlcv rows : 31162\n",
      "ticker:  BFRG  ticker rows:  308\n",
      "df_ipofiling_ohlcv rows : 31470\n",
      "ticker:  ENLT  ticker rows:  336\n",
      "df_ipofiling_ohlcv rows : 31806\n",
      "ticker:  MLYS  ticker rows:  309\n",
      "df_ipofiling_ohlcv rows : 32115\n",
      "ticker:  PTHR  ticker rows:  0\n",
      "df_ipofiling_ohlcv rows : 32115\n",
      "ticker:  BLAC  ticker rows:  283\n",
      "df_ipofiling_ohlcv rows : 32398\n",
      "ticker:  NXT  ticker rows:  310\n",
      "df_ipofiling_ohlcv rows : 32708\n",
      "ticker:  HSAI  ticker rows:  310\n",
      "df_ipofiling_ohlcv rows : 33018\n",
      "ticker:  LSDI  ticker rows:  310\n",
      "df_ipofiling_ohlcv rows : 33328\n",
      "ticker:  LICN  ticker rows:  313\n",
      "df_ipofiling_ohlcv rows : 33641\n",
      "ticker:  GPCR  ticker rows:  314\n",
      "df_ipofiling_ohlcv rows : 33955\n",
      "ticker:  ASST  ticker rows:  314\n",
      "df_ipofiling_ohlcv rows : 34269\n",
      "ticker:  CETU  ticker rows:  277\n",
      "df_ipofiling_ohlcv rows : 34546\n",
      "ticker:  TXO  ticker rows:  319\n",
      "df_ipofiling_ohlcv rows : 34865\n",
      "ticker:  BREA  ticker rows:  319\n",
      "df_ipofiling_ohlcv rows : 35184\n",
      "ticker:  GNLX  ticker rows:  320\n",
      "df_ipofiling_ohlcv rows : 35504\n",
      "ticker:  QSG  ticker rows:  321\n",
      "df_ipofiling_ohlcv rows : 35825\n",
      "ticker:  CVKD  ticker rows:  324\n",
      "df_ipofiling_ohlcv rows : 36149\n",
      "ticker:  SKWD  ticker rows:  328\n",
      "df_ipofiling_ohlcv rows : 36477\n",
      "ticker:  ISRL  ticker rows:  298\n",
      "df_ipofiling_ohlcv rows : 36775\n",
      "ticker:  MGOL  ticker rows:  328\n",
      "df_ipofiling_ohlcv rows : 37103\n"
     ]
    }
   ],
   "source": [
    "for idx, ticker in enumerate(ohlcv_lst.keys()):\n",
    "\n",
    "    df_ticker = ohlcv_lst[ticker]\n",
    "    df_ticker['ticker'] = ticker\n",
    "    print(\"ticker: \",ticker, \" ticker rows: \", df_ticker.shape[0])\n",
    "    if idx == 0:\n",
    "        \n",
    "        df_ipofiling_ohlcv = df_ticker.reset_index()\n",
    "        \n",
    "    else:\n",
    "\n",
    "        df_ipofiling_ohlcv = pd.concat([df_ipofiling_ohlcv, df_ticker.reset_index() ])\n",
    "\n",
    "    del(df_ticker)\n",
    "    print(\"df_ipofiling_ohlcv rows :\", df_ipofiling_ohlcv.shape[0])"
   ]
  },
  {
   "cell_type": "code",
   "execution_count": 98,
   "id": "3f380c5d-4dfb-48f9-9b66-e1d4b13c4a8b",
   "metadata": {},
   "outputs": [
    {
     "data": {
      "text/plain": [
       "184"
      ]
     },
     "execution_count": 98,
     "metadata": {},
     "output_type": "execute_result"
    }
   ],
   "source": [
    "len(ohlcv_lst.keys())"
   ]
  },
  {
   "cell_type": "code",
   "execution_count": 100,
   "id": "17bc8ed3-ee5c-44b8-b4ab-0eca02355722",
   "metadata": {},
   "outputs": [
    {
     "data": {
      "text/plain": [
       "(183,)"
      ]
     },
     "execution_count": 100,
     "metadata": {},
     "output_type": "execute_result"
    }
   ],
   "source": [
    "df_ipofiling_ohlcv['ticker'].unique().shape"
   ]
  },
  {
   "cell_type": "code",
   "execution_count": 104,
   "id": "612d1306-3477-44fd-93a3-19b2634a62f6",
   "metadata": {},
   "outputs": [
    {
     "name": "stderr",
     "output_type": "stream",
     "text": [
      "[*********************100%%**********************]  1 of 1 completed"
     ]
    },
    {
     "name": "stdout",
     "output_type": "stream",
     "text": [
      "(274, 6)\n"
     ]
    },
    {
     "name": "stderr",
     "output_type": "stream",
     "text": [
      "\n"
     ]
    }
   ],
   "source": [
    "#PTHR data was missing. It was renamed to HOVR \n",
    "ticker = 'HOVR'\n",
    "df_ticker = yf.download(tickers = ticker,\n",
    "                     period = \"max\",\n",
    "                     interval = \"1d\")\n",
    "print(df_ticker.shape)\n",
    "ohlcv_lst[ticker] = df_ticker\n",
    "del(ohlcv_lst['PTHR'])"
   ]
  },
  {
   "cell_type": "code",
   "execution_count": 105,
   "id": "cead1831-056f-4a7e-8c77-c9d378611dd4",
   "metadata": {},
   "outputs": [
    {
     "data": {
      "text/plain": [
       "184"
      ]
     },
     "execution_count": 105,
     "metadata": {},
     "output_type": "execute_result"
    }
   ],
   "source": [
    "len(ohlcv_lst.keys())"
   ]
  },
  {
   "cell_type": "code",
   "execution_count": 106,
   "id": "4d1b84b3-828b-4675-ba38-32c0b53a124e",
   "metadata": {},
   "outputs": [],
   "source": [
    "df_ticker['ticker'] = ticker\n",
    "df_ipofiling_ohlcv = pd.concat([df_ipofiling_ohlcv, df_ticker.reset_index() ])"
   ]
  },
  {
   "cell_type": "code",
   "execution_count": 107,
   "id": "c56ebce9-c186-42be-b43d-3f91f2a5d39b",
   "metadata": {},
   "outputs": [
    {
     "data": {
      "text/plain": [
       "(184,)"
      ]
     },
     "execution_count": 107,
     "metadata": {},
     "output_type": "execute_result"
    }
   ],
   "source": [
    "df_ipofiling_ohlcv['ticker'].unique().shape"
   ]
  },
  {
   "cell_type": "code",
   "execution_count": 110,
   "id": "ffb0f4c6-91ae-4835-a88c-d4ca168a7115",
   "metadata": {},
   "outputs": [
    {
     "name": "stdout",
     "output_type": "stream",
     "text": [
      "<class 'pandas.core.frame.DataFrame'>\n",
      "Int64Index: 37377 entries, 0 to 273\n",
      "Data columns (total 8 columns):\n",
      " #   Column     Non-Null Count  Dtype         \n",
      "---  ------     --------------  -----         \n",
      " 0   Date       37377 non-null  datetime64[ns]\n",
      " 1   Open       37377 non-null  float64       \n",
      " 2   High       37377 non-null  float64       \n",
      " 3   Low        37377 non-null  float64       \n",
      " 4   Close      37377 non-null  float64       \n",
      " 5   Adj Close  37377 non-null  float64       \n",
      " 6   Volume     37377 non-null  float64       \n",
      " 7   ticker     37377 non-null  object        \n",
      "dtypes: datetime64[ns](1), float64(6), object(1)\n",
      "memory usage: 2.6+ MB\n"
     ]
    }
   ],
   "source": [
    "df_ipofiling_ohlcv.info()"
   ]
  },
  {
   "cell_type": "code",
   "execution_count": 118,
   "id": "5792653c-e9fc-4996-9514-0d7fcef47b9c",
   "metadata": {},
   "outputs": [],
   "source": [
    "def calc_growth_future_day( x, day ):\n",
    "\n",
    "    x = x.sort_values('Date')\n",
    "    x['growth_future_'+str(day)+'d'] = x['Adj Close'].shift(-day) / x['Adj Close']\n",
    "    \n",
    "    return x\n",
    "    "
   ]
  },
  {
   "cell_type": "code",
   "execution_count": 123,
   "id": "74ae102f-018d-4893-87bc-1d33503fa7a9",
   "metadata": {},
   "outputs": [
    {
     "name": "stderr",
     "output_type": "stream",
     "text": [
      "<timed exec>:2: FutureWarning: Not prepending group keys to the result index of transform-like apply. In the future, the group keys will be included in the index, regardless of whether the applied function returns a like-indexed object.\n",
      "To preserve the previous behavior, use\n",
      "\n",
      "\t>>> .groupby(..., group_keys=False)\n",
      "\n",
      "To adopt the future behavior and silence this warning, use \n",
      "\n",
      "\t>>> .groupby(..., group_keys=True)\n",
      "<timed exec>:2: FutureWarning: Not prepending group keys to the result index of transform-like apply. In the future, the group keys will be included in the index, regardless of whether the applied function returns a like-indexed object.\n",
      "To preserve the previous behavior, use\n",
      "\n",
      "\t>>> .groupby(..., group_keys=False)\n",
      "\n",
      "To adopt the future behavior and silence this warning, use \n",
      "\n",
      "\t>>> .groupby(..., group_keys=True)\n",
      "<timed exec>:2: FutureWarning: Not prepending group keys to the result index of transform-like apply. In the future, the group keys will be included in the index, regardless of whether the applied function returns a like-indexed object.\n",
      "To preserve the previous behavior, use\n",
      "\n",
      "\t>>> .groupby(..., group_keys=False)\n",
      "\n",
      "To adopt the future behavior and silence this warning, use \n",
      "\n",
      "\t>>> .groupby(..., group_keys=True)\n",
      "<timed exec>:2: FutureWarning: Not prepending group keys to the result index of transform-like apply. In the future, the group keys will be included in the index, regardless of whether the applied function returns a like-indexed object.\n",
      "To preserve the previous behavior, use\n",
      "\n",
      "\t>>> .groupby(..., group_keys=False)\n",
      "\n",
      "To adopt the future behavior and silence this warning, use \n",
      "\n",
      "\t>>> .groupby(..., group_keys=True)\n",
      "<timed exec>:2: FutureWarning: Not prepending group keys to the result index of transform-like apply. In the future, the group keys will be included in the index, regardless of whether the applied function returns a like-indexed object.\n",
      "To preserve the previous behavior, use\n",
      "\n",
      "\t>>> .groupby(..., group_keys=False)\n",
      "\n",
      "To adopt the future behavior and silence this warning, use \n",
      "\n",
      "\t>>> .groupby(..., group_keys=True)\n",
      "<timed exec>:2: FutureWarning: Not prepending group keys to the result index of transform-like apply. In the future, the group keys will be included in the index, regardless of whether the applied function returns a like-indexed object.\n",
      "To preserve the previous behavior, use\n",
      "\n",
      "\t>>> .groupby(..., group_keys=False)\n",
      "\n",
      "To adopt the future behavior and silence this warning, use \n",
      "\n",
      "\t>>> .groupby(..., group_keys=True)\n",
      "<timed exec>:2: FutureWarning: Not prepending group keys to the result index of transform-like apply. In the future, the group keys will be included in the index, regardless of whether the applied function returns a like-indexed object.\n",
      "To preserve the previous behavior, use\n",
      "\n",
      "\t>>> .groupby(..., group_keys=False)\n",
      "\n",
      "To adopt the future behavior and silence this warning, use \n",
      "\n",
      "\t>>> .groupby(..., group_keys=True)\n",
      "<timed exec>:2: FutureWarning: Not prepending group keys to the result index of transform-like apply. In the future, the group keys will be included in the index, regardless of whether the applied function returns a like-indexed object.\n",
      "To preserve the previous behavior, use\n",
      "\n",
      "\t>>> .groupby(..., group_keys=False)\n",
      "\n",
      "To adopt the future behavior and silence this warning, use \n",
      "\n",
      "\t>>> .groupby(..., group_keys=True)\n",
      "<timed exec>:2: FutureWarning: Not prepending group keys to the result index of transform-like apply. In the future, the group keys will be included in the index, regardless of whether the applied function returns a like-indexed object.\n",
      "To preserve the previous behavior, use\n",
      "\n",
      "\t>>> .groupby(..., group_keys=False)\n",
      "\n",
      "To adopt the future behavior and silence this warning, use \n",
      "\n",
      "\t>>> .groupby(..., group_keys=True)\n",
      "<timed exec>:2: FutureWarning: Not prepending group keys to the result index of transform-like apply. In the future, the group keys will be included in the index, regardless of whether the applied function returns a like-indexed object.\n",
      "To preserve the previous behavior, use\n",
      "\n",
      "\t>>> .groupby(..., group_keys=False)\n",
      "\n",
      "To adopt the future behavior and silence this warning, use \n",
      "\n",
      "\t>>> .groupby(..., group_keys=True)\n",
      "<timed exec>:2: FutureWarning: Not prepending group keys to the result index of transform-like apply. In the future, the group keys will be included in the index, regardless of whether the applied function returns a like-indexed object.\n",
      "To preserve the previous behavior, use\n",
      "\n",
      "\t>>> .groupby(..., group_keys=False)\n",
      "\n",
      "To adopt the future behavior and silence this warning, use \n",
      "\n",
      "\t>>> .groupby(..., group_keys=True)\n",
      "<timed exec>:2: FutureWarning: Not prepending group keys to the result index of transform-like apply. In the future, the group keys will be included in the index, regardless of whether the applied function returns a like-indexed object.\n",
      "To preserve the previous behavior, use\n",
      "\n",
      "\t>>> .groupby(..., group_keys=False)\n",
      "\n",
      "To adopt the future behavior and silence this warning, use \n",
      "\n",
      "\t>>> .groupby(..., group_keys=True)\n",
      "<timed exec>:2: FutureWarning: Not prepending group keys to the result index of transform-like apply. In the future, the group keys will be included in the index, regardless of whether the applied function returns a like-indexed object.\n",
      "To preserve the previous behavior, use\n",
      "\n",
      "\t>>> .groupby(..., group_keys=False)\n",
      "\n",
      "To adopt the future behavior and silence this warning, use \n",
      "\n",
      "\t>>> .groupby(..., group_keys=True)\n",
      "<timed exec>:2: FutureWarning: Not prepending group keys to the result index of transform-like apply. In the future, the group keys will be included in the index, regardless of whether the applied function returns a like-indexed object.\n",
      "To preserve the previous behavior, use\n",
      "\n",
      "\t>>> .groupby(..., group_keys=False)\n",
      "\n",
      "To adopt the future behavior and silence this warning, use \n",
      "\n",
      "\t>>> .groupby(..., group_keys=True)\n",
      "<timed exec>:2: FutureWarning: Not prepending group keys to the result index of transform-like apply. In the future, the group keys will be included in the index, regardless of whether the applied function returns a like-indexed object.\n",
      "To preserve the previous behavior, use\n",
      "\n",
      "\t>>> .groupby(..., group_keys=False)\n",
      "\n",
      "To adopt the future behavior and silence this warning, use \n",
      "\n",
      "\t>>> .groupby(..., group_keys=True)\n",
      "<timed exec>:2: FutureWarning: Not prepending group keys to the result index of transform-like apply. In the future, the group keys will be included in the index, regardless of whether the applied function returns a like-indexed object.\n",
      "To preserve the previous behavior, use\n",
      "\n",
      "\t>>> .groupby(..., group_keys=False)\n",
      "\n",
      "To adopt the future behavior and silence this warning, use \n",
      "\n",
      "\t>>> .groupby(..., group_keys=True)\n",
      "<timed exec>:2: FutureWarning: Not prepending group keys to the result index of transform-like apply. In the future, the group keys will be included in the index, regardless of whether the applied function returns a like-indexed object.\n",
      "To preserve the previous behavior, use\n",
      "\n",
      "\t>>> .groupby(..., group_keys=False)\n",
      "\n",
      "To adopt the future behavior and silence this warning, use \n",
      "\n",
      "\t>>> .groupby(..., group_keys=True)\n",
      "<timed exec>:2: FutureWarning: Not prepending group keys to the result index of transform-like apply. In the future, the group keys will be included in the index, regardless of whether the applied function returns a like-indexed object.\n",
      "To preserve the previous behavior, use\n",
      "\n",
      "\t>>> .groupby(..., group_keys=False)\n",
      "\n",
      "To adopt the future behavior and silence this warning, use \n",
      "\n",
      "\t>>> .groupby(..., group_keys=True)\n",
      "<timed exec>:2: FutureWarning: Not prepending group keys to the result index of transform-like apply. In the future, the group keys will be included in the index, regardless of whether the applied function returns a like-indexed object.\n",
      "To preserve the previous behavior, use\n",
      "\n",
      "\t>>> .groupby(..., group_keys=False)\n",
      "\n",
      "To adopt the future behavior and silence this warning, use \n",
      "\n",
      "\t>>> .groupby(..., group_keys=True)\n",
      "<timed exec>:2: FutureWarning: Not prepending group keys to the result index of transform-like apply. In the future, the group keys will be included in the index, regardless of whether the applied function returns a like-indexed object.\n",
      "To preserve the previous behavior, use\n",
      "\n",
      "\t>>> .groupby(..., group_keys=False)\n",
      "\n",
      "To adopt the future behavior and silence this warning, use \n",
      "\n",
      "\t>>> .groupby(..., group_keys=True)\n",
      "<timed exec>:2: FutureWarning: Not prepending group keys to the result index of transform-like apply. In the future, the group keys will be included in the index, regardless of whether the applied function returns a like-indexed object.\n",
      "To preserve the previous behavior, use\n",
      "\n",
      "\t>>> .groupby(..., group_keys=False)\n",
      "\n",
      "To adopt the future behavior and silence this warning, use \n",
      "\n",
      "\t>>> .groupby(..., group_keys=True)\n",
      "<timed exec>:2: FutureWarning: Not prepending group keys to the result index of transform-like apply. In the future, the group keys will be included in the index, regardless of whether the applied function returns a like-indexed object.\n",
      "To preserve the previous behavior, use\n",
      "\n",
      "\t>>> .groupby(..., group_keys=False)\n",
      "\n",
      "To adopt the future behavior and silence this warning, use \n",
      "\n",
      "\t>>> .groupby(..., group_keys=True)\n",
      "<timed exec>:2: FutureWarning: Not prepending group keys to the result index of transform-like apply. In the future, the group keys will be included in the index, regardless of whether the applied function returns a like-indexed object.\n",
      "To preserve the previous behavior, use\n",
      "\n",
      "\t>>> .groupby(..., group_keys=False)\n",
      "\n",
      "To adopt the future behavior and silence this warning, use \n",
      "\n",
      "\t>>> .groupby(..., group_keys=True)\n",
      "<timed exec>:2: FutureWarning: Not prepending group keys to the result index of transform-like apply. In the future, the group keys will be included in the index, regardless of whether the applied function returns a like-indexed object.\n",
      "To preserve the previous behavior, use\n",
      "\n",
      "\t>>> .groupby(..., group_keys=False)\n",
      "\n",
      "To adopt the future behavior and silence this warning, use \n",
      "\n",
      "\t>>> .groupby(..., group_keys=True)\n",
      "<timed exec>:2: FutureWarning: Not prepending group keys to the result index of transform-like apply. In the future, the group keys will be included in the index, regardless of whether the applied function returns a like-indexed object.\n",
      "To preserve the previous behavior, use\n",
      "\n",
      "\t>>> .groupby(..., group_keys=False)\n",
      "\n",
      "To adopt the future behavior and silence this warning, use \n",
      "\n",
      "\t>>> .groupby(..., group_keys=True)\n",
      "<timed exec>:2: FutureWarning: Not prepending group keys to the result index of transform-like apply. In the future, the group keys will be included in the index, regardless of whether the applied function returns a like-indexed object.\n",
      "To preserve the previous behavior, use\n",
      "\n",
      "\t>>> .groupby(..., group_keys=False)\n",
      "\n",
      "To adopt the future behavior and silence this warning, use \n",
      "\n",
      "\t>>> .groupby(..., group_keys=True)\n",
      "<timed exec>:2: FutureWarning: Not prepending group keys to the result index of transform-like apply. In the future, the group keys will be included in the index, regardless of whether the applied function returns a like-indexed object.\n",
      "To preserve the previous behavior, use\n",
      "\n",
      "\t>>> .groupby(..., group_keys=False)\n",
      "\n",
      "To adopt the future behavior and silence this warning, use \n",
      "\n",
      "\t>>> .groupby(..., group_keys=True)\n",
      "<timed exec>:2: FutureWarning: Not prepending group keys to the result index of transform-like apply. In the future, the group keys will be included in the index, regardless of whether the applied function returns a like-indexed object.\n",
      "To preserve the previous behavior, use\n",
      "\n",
      "\t>>> .groupby(..., group_keys=False)\n",
      "\n",
      "To adopt the future behavior and silence this warning, use \n",
      "\n",
      "\t>>> .groupby(..., group_keys=True)\n",
      "<timed exec>:2: FutureWarning: Not prepending group keys to the result index of transform-like apply. In the future, the group keys will be included in the index, regardless of whether the applied function returns a like-indexed object.\n",
      "To preserve the previous behavior, use\n",
      "\n",
      "\t>>> .groupby(..., group_keys=False)\n",
      "\n",
      "To adopt the future behavior and silence this warning, use \n",
      "\n",
      "\t>>> .groupby(..., group_keys=True)\n"
     ]
    },
    {
     "name": "stdout",
     "output_type": "stream",
     "text": [
      "CPU times: total: 5.44 s\n",
      "Wall time: 7.04 s\n"
     ]
    },
    {
     "name": "stderr",
     "output_type": "stream",
     "text": [
      "<timed exec>:2: FutureWarning: Not prepending group keys to the result index of transform-like apply. In the future, the group keys will be included in the index, regardless of whether the applied function returns a like-indexed object.\n",
      "To preserve the previous behavior, use\n",
      "\n",
      "\t>>> .groupby(..., group_keys=False)\n",
      "\n",
      "To adopt the future behavior and silence this warning, use \n",
      "\n",
      "\t>>> .groupby(..., group_keys=True)\n"
     ]
    }
   ],
   "source": [
    "%%time\n",
    "\n",
    "for day in range(30):\n",
    "    df_ipofiling_ohlcv =  df_ipofiling_ohlcv.groupby('ticker').apply(lambda x: calc_growth_future_day(x, day+1)) "
   ]
  },
  {
   "cell_type": "code",
   "execution_count": 124,
   "id": "4d135c6f-8719-49f1-b9b2-8cbcedadfbef",
   "metadata": {},
   "outputs": [
    {
     "data": {
      "text/html": [
       "<div>\n",
       "<style scoped>\n",
       "    .dataframe tbody tr th:only-of-type {\n",
       "        vertical-align: middle;\n",
       "    }\n",
       "\n",
       "    .dataframe tbody tr th {\n",
       "        vertical-align: top;\n",
       "    }\n",
       "\n",
       "    .dataframe thead th {\n",
       "        text-align: right;\n",
       "    }\n",
       "</style>\n",
       "<table border=\"1\" class=\"dataframe\">\n",
       "  <thead>\n",
       "    <tr style=\"text-align: right;\">\n",
       "      <th></th>\n",
       "      <th>Date</th>\n",
       "      <th>Open</th>\n",
       "      <th>High</th>\n",
       "      <th>Low</th>\n",
       "      <th>Close</th>\n",
       "      <th>Adj Close</th>\n",
       "      <th>Volume</th>\n",
       "      <th>ticker</th>\n",
       "      <th>growth_future_1d</th>\n",
       "      <th>growth_future_2d</th>\n",
       "      <th>...</th>\n",
       "      <th>growth_future_21d</th>\n",
       "      <th>growth_future_22d</th>\n",
       "      <th>growth_future_23d</th>\n",
       "      <th>growth_future_24d</th>\n",
       "      <th>growth_future_25d</th>\n",
       "      <th>growth_future_26d</th>\n",
       "      <th>growth_future_27d</th>\n",
       "      <th>growth_future_28d</th>\n",
       "      <th>growth_future_29d</th>\n",
       "      <th>growth_future_30d</th>\n",
       "    </tr>\n",
       "  </thead>\n",
       "  <tbody>\n",
       "    <tr>\n",
       "      <th>0</th>\n",
       "      <td>2023-06-13</td>\n",
       "      <td>10.14</td>\n",
       "      <td>10.1400</td>\n",
       "      <td>10.110</td>\n",
       "      <td>10.11</td>\n",
       "      <td>10.11</td>\n",
       "      <td>5500.0</td>\n",
       "      <td>AACT</td>\n",
       "      <td>0.999011</td>\n",
       "      <td>1.000000</td>\n",
       "      <td>...</td>\n",
       "      <td>1.005539</td>\n",
       "      <td>1.004946</td>\n",
       "      <td>1.004946</td>\n",
       "      <td>1.004946</td>\n",
       "      <td>1.005935</td>\n",
       "      <td>1.005935</td>\n",
       "      <td>1.005935</td>\n",
       "      <td>1.007913</td>\n",
       "      <td>1.007913</td>\n",
       "      <td>1.007913</td>\n",
       "    </tr>\n",
       "    <tr>\n",
       "      <th>1</th>\n",
       "      <td>2023-06-14</td>\n",
       "      <td>10.11</td>\n",
       "      <td>10.1300</td>\n",
       "      <td>10.095</td>\n",
       "      <td>10.10</td>\n",
       "      <td>10.10</td>\n",
       "      <td>143900.0</td>\n",
       "      <td>AACT</td>\n",
       "      <td>1.000990</td>\n",
       "      <td>1.000990</td>\n",
       "      <td>...</td>\n",
       "      <td>1.005941</td>\n",
       "      <td>1.005941</td>\n",
       "      <td>1.005941</td>\n",
       "      <td>1.006931</td>\n",
       "      <td>1.006931</td>\n",
       "      <td>1.006931</td>\n",
       "      <td>1.008911</td>\n",
       "      <td>1.008911</td>\n",
       "      <td>1.008911</td>\n",
       "      <td>1.007921</td>\n",
       "    </tr>\n",
       "    <tr>\n",
       "      <th>2</th>\n",
       "      <td>2023-06-15</td>\n",
       "      <td>10.11</td>\n",
       "      <td>10.1100</td>\n",
       "      <td>10.100</td>\n",
       "      <td>10.11</td>\n",
       "      <td>10.11</td>\n",
       "      <td>2061100.0</td>\n",
       "      <td>AACT</td>\n",
       "      <td>1.000000</td>\n",
       "      <td>1.000989</td>\n",
       "      <td>...</td>\n",
       "      <td>1.004946</td>\n",
       "      <td>1.004946</td>\n",
       "      <td>1.005935</td>\n",
       "      <td>1.005935</td>\n",
       "      <td>1.005935</td>\n",
       "      <td>1.007913</td>\n",
       "      <td>1.007913</td>\n",
       "      <td>1.007913</td>\n",
       "      <td>1.006924</td>\n",
       "      <td>1.007913</td>\n",
       "    </tr>\n",
       "    <tr>\n",
       "      <th>3</th>\n",
       "      <td>2023-06-16</td>\n",
       "      <td>10.12</td>\n",
       "      <td>10.1200</td>\n",
       "      <td>10.110</td>\n",
       "      <td>10.11</td>\n",
       "      <td>10.11</td>\n",
       "      <td>251000.0</td>\n",
       "      <td>AACT</td>\n",
       "      <td>1.000989</td>\n",
       "      <td>1.000989</td>\n",
       "      <td>...</td>\n",
       "      <td>1.004946</td>\n",
       "      <td>1.005935</td>\n",
       "      <td>1.005935</td>\n",
       "      <td>1.005935</td>\n",
       "      <td>1.007913</td>\n",
       "      <td>1.007913</td>\n",
       "      <td>1.007913</td>\n",
       "      <td>1.006924</td>\n",
       "      <td>1.007913</td>\n",
       "      <td>1.006924</td>\n",
       "    </tr>\n",
       "    <tr>\n",
       "      <th>4</th>\n",
       "      <td>2023-06-20</td>\n",
       "      <td>10.13</td>\n",
       "      <td>10.1300</td>\n",
       "      <td>10.110</td>\n",
       "      <td>10.12</td>\n",
       "      <td>10.12</td>\n",
       "      <td>102800.0</td>\n",
       "      <td>AACT</td>\n",
       "      <td>1.000000</td>\n",
       "      <td>1.000000</td>\n",
       "      <td>...</td>\n",
       "      <td>1.004941</td>\n",
       "      <td>1.004941</td>\n",
       "      <td>1.004941</td>\n",
       "      <td>1.006917</td>\n",
       "      <td>1.006917</td>\n",
       "      <td>1.006917</td>\n",
       "      <td>1.005929</td>\n",
       "      <td>1.006917</td>\n",
       "      <td>1.005929</td>\n",
       "      <td>1.005929</td>\n",
       "    </tr>\n",
       "    <tr>\n",
       "      <th>...</th>\n",
       "      <td>...</td>\n",
       "      <td>...</td>\n",
       "      <td>...</td>\n",
       "      <td>...</td>\n",
       "      <td>...</td>\n",
       "      <td>...</td>\n",
       "      <td>...</td>\n",
       "      <td>...</td>\n",
       "      <td>...</td>\n",
       "      <td>...</td>\n",
       "      <td>...</td>\n",
       "      <td>...</td>\n",
       "      <td>...</td>\n",
       "      <td>...</td>\n",
       "      <td>...</td>\n",
       "      <td>...</td>\n",
       "      <td>...</td>\n",
       "      <td>...</td>\n",
       "      <td>...</td>\n",
       "      <td>...</td>\n",
       "      <td>...</td>\n",
       "    </tr>\n",
       "    <tr>\n",
       "      <th>220</th>\n",
       "      <td>2024-04-29</td>\n",
       "      <td>10.61</td>\n",
       "      <td>10.6250</td>\n",
       "      <td>10.610</td>\n",
       "      <td>10.62</td>\n",
       "      <td>10.62</td>\n",
       "      <td>30100.0</td>\n",
       "      <td>AACT</td>\n",
       "      <td>1.000000</td>\n",
       "      <td>0.999058</td>\n",
       "      <td>...</td>\n",
       "      <td>NaN</td>\n",
       "      <td>NaN</td>\n",
       "      <td>NaN</td>\n",
       "      <td>NaN</td>\n",
       "      <td>NaN</td>\n",
       "      <td>NaN</td>\n",
       "      <td>NaN</td>\n",
       "      <td>NaN</td>\n",
       "      <td>NaN</td>\n",
       "      <td>NaN</td>\n",
       "    </tr>\n",
       "    <tr>\n",
       "      <th>221</th>\n",
       "      <td>2024-04-30</td>\n",
       "      <td>10.68</td>\n",
       "      <td>10.6800</td>\n",
       "      <td>10.620</td>\n",
       "      <td>10.62</td>\n",
       "      <td>10.62</td>\n",
       "      <td>556100.0</td>\n",
       "      <td>AACT</td>\n",
       "      <td>0.999058</td>\n",
       "      <td>1.000942</td>\n",
       "      <td>...</td>\n",
       "      <td>NaN</td>\n",
       "      <td>NaN</td>\n",
       "      <td>NaN</td>\n",
       "      <td>NaN</td>\n",
       "      <td>NaN</td>\n",
       "      <td>NaN</td>\n",
       "      <td>NaN</td>\n",
       "      <td>NaN</td>\n",
       "      <td>NaN</td>\n",
       "      <td>NaN</td>\n",
       "    </tr>\n",
       "    <tr>\n",
       "      <th>222</th>\n",
       "      <td>2024-05-01</td>\n",
       "      <td>10.64</td>\n",
       "      <td>10.6400</td>\n",
       "      <td>10.610</td>\n",
       "      <td>10.61</td>\n",
       "      <td>10.61</td>\n",
       "      <td>33100.0</td>\n",
       "      <td>AACT</td>\n",
       "      <td>1.001885</td>\n",
       "      <td>1.000943</td>\n",
       "      <td>...</td>\n",
       "      <td>NaN</td>\n",
       "      <td>NaN</td>\n",
       "      <td>NaN</td>\n",
       "      <td>NaN</td>\n",
       "      <td>NaN</td>\n",
       "      <td>NaN</td>\n",
       "      <td>NaN</td>\n",
       "      <td>NaN</td>\n",
       "      <td>NaN</td>\n",
       "      <td>NaN</td>\n",
       "    </tr>\n",
       "    <tr>\n",
       "      <th>223</th>\n",
       "      <td>2024-05-02</td>\n",
       "      <td>10.62</td>\n",
       "      <td>10.6400</td>\n",
       "      <td>10.620</td>\n",
       "      <td>10.63</td>\n",
       "      <td>10.63</td>\n",
       "      <td>2952200.0</td>\n",
       "      <td>AACT</td>\n",
       "      <td>0.999059</td>\n",
       "      <td>NaN</td>\n",
       "      <td>...</td>\n",
       "      <td>NaN</td>\n",
       "      <td>NaN</td>\n",
       "      <td>NaN</td>\n",
       "      <td>NaN</td>\n",
       "      <td>NaN</td>\n",
       "      <td>NaN</td>\n",
       "      <td>NaN</td>\n",
       "      <td>NaN</td>\n",
       "      <td>NaN</td>\n",
       "      <td>NaN</td>\n",
       "    </tr>\n",
       "    <tr>\n",
       "      <th>224</th>\n",
       "      <td>2024-05-03</td>\n",
       "      <td>10.62</td>\n",
       "      <td>10.6399</td>\n",
       "      <td>10.620</td>\n",
       "      <td>10.62</td>\n",
       "      <td>10.62</td>\n",
       "      <td>12213.0</td>\n",
       "      <td>AACT</td>\n",
       "      <td>NaN</td>\n",
       "      <td>NaN</td>\n",
       "      <td>...</td>\n",
       "      <td>NaN</td>\n",
       "      <td>NaN</td>\n",
       "      <td>NaN</td>\n",
       "      <td>NaN</td>\n",
       "      <td>NaN</td>\n",
       "      <td>NaN</td>\n",
       "      <td>NaN</td>\n",
       "      <td>NaN</td>\n",
       "      <td>NaN</td>\n",
       "      <td>NaN</td>\n",
       "    </tr>\n",
       "  </tbody>\n",
       "</table>\n",
       "<p>225 rows × 38 columns</p>\n",
       "</div>"
      ],
      "text/plain": [
       "          Date   Open     High     Low  Close  Adj Close     Volume ticker  \\\n",
       "0   2023-06-13  10.14  10.1400  10.110  10.11      10.11     5500.0   AACT   \n",
       "1   2023-06-14  10.11  10.1300  10.095  10.10      10.10   143900.0   AACT   \n",
       "2   2023-06-15  10.11  10.1100  10.100  10.11      10.11  2061100.0   AACT   \n",
       "3   2023-06-16  10.12  10.1200  10.110  10.11      10.11   251000.0   AACT   \n",
       "4   2023-06-20  10.13  10.1300  10.110  10.12      10.12   102800.0   AACT   \n",
       "..         ...    ...      ...     ...    ...        ...        ...    ...   \n",
       "220 2024-04-29  10.61  10.6250  10.610  10.62      10.62    30100.0   AACT   \n",
       "221 2024-04-30  10.68  10.6800  10.620  10.62      10.62   556100.0   AACT   \n",
       "222 2024-05-01  10.64  10.6400  10.610  10.61      10.61    33100.0   AACT   \n",
       "223 2024-05-02  10.62  10.6400  10.620  10.63      10.63  2952200.0   AACT   \n",
       "224 2024-05-03  10.62  10.6399  10.620  10.62      10.62    12213.0   AACT   \n",
       "\n",
       "     growth_future_1d  growth_future_2d  ...  growth_future_21d  \\\n",
       "0            0.999011          1.000000  ...           1.005539   \n",
       "1            1.000990          1.000990  ...           1.005941   \n",
       "2            1.000000          1.000989  ...           1.004946   \n",
       "3            1.000989          1.000989  ...           1.004946   \n",
       "4            1.000000          1.000000  ...           1.004941   \n",
       "..                ...               ...  ...                ...   \n",
       "220          1.000000          0.999058  ...                NaN   \n",
       "221          0.999058          1.000942  ...                NaN   \n",
       "222          1.001885          1.000943  ...                NaN   \n",
       "223          0.999059               NaN  ...                NaN   \n",
       "224               NaN               NaN  ...                NaN   \n",
       "\n",
       "     growth_future_22d  growth_future_23d  growth_future_24d  \\\n",
       "0             1.004946           1.004946           1.004946   \n",
       "1             1.005941           1.005941           1.006931   \n",
       "2             1.004946           1.005935           1.005935   \n",
       "3             1.005935           1.005935           1.005935   \n",
       "4             1.004941           1.004941           1.006917   \n",
       "..                 ...                ...                ...   \n",
       "220                NaN                NaN                NaN   \n",
       "221                NaN                NaN                NaN   \n",
       "222                NaN                NaN                NaN   \n",
       "223                NaN                NaN                NaN   \n",
       "224                NaN                NaN                NaN   \n",
       "\n",
       "     growth_future_25d  growth_future_26d  growth_future_27d  \\\n",
       "0             1.005935           1.005935           1.005935   \n",
       "1             1.006931           1.006931           1.008911   \n",
       "2             1.005935           1.007913           1.007913   \n",
       "3             1.007913           1.007913           1.007913   \n",
       "4             1.006917           1.006917           1.005929   \n",
       "..                 ...                ...                ...   \n",
       "220                NaN                NaN                NaN   \n",
       "221                NaN                NaN                NaN   \n",
       "222                NaN                NaN                NaN   \n",
       "223                NaN                NaN                NaN   \n",
       "224                NaN                NaN                NaN   \n",
       "\n",
       "     growth_future_28d  growth_future_29d  growth_future_30d  \n",
       "0             1.007913           1.007913           1.007913  \n",
       "1             1.008911           1.008911           1.007921  \n",
       "2             1.007913           1.006924           1.007913  \n",
       "3             1.006924           1.007913           1.006924  \n",
       "4             1.006917           1.005929           1.005929  \n",
       "..                 ...                ...                ...  \n",
       "220                NaN                NaN                NaN  \n",
       "221                NaN                NaN                NaN  \n",
       "222                NaN                NaN                NaN  \n",
       "223                NaN                NaN                NaN  \n",
       "224                NaN                NaN                NaN  \n",
       "\n",
       "[225 rows x 38 columns]"
      ]
     },
     "execution_count": 124,
     "metadata": {},
     "output_type": "execute_result"
    }
   ],
   "source": [
    "df_ipofiling_ohlcv[df_ipofiling_ohlcv['ticker']=='AACT']"
   ]
  },
  {
   "cell_type": "code",
   "execution_count": 140,
   "id": "2f0e86df-78fa-4d0f-a1de-0ad6bce25827",
   "metadata": {},
   "outputs": [
    {
     "data": {
      "text/plain": [
       "30"
      ]
     },
     "execution_count": 140,
     "metadata": {},
     "output_type": "execute_result"
    }
   ],
   "source": [
    "day_x_75_pcile_lst = []\n",
    "day_x_median_lst = []\n",
    "day_x_mean_lst = []\n",
    "\n",
    "for day in range(30):\n",
    "    #print(\"day: \",day + 1)\n",
    "    day_x_75_pcile_lst.append(df_ipofiling_ohlcv['growth_future_'+str(day+1)+'d'].describe()['75%'])\n",
    "    day_x_median_lst.append(df_ipofiling_ohlcv['growth_future_'+str(day+1)+'d'].describe()['50%'])\n",
    "    day_x_mean_lst.append(df_ipofiling_ohlcv['growth_future_'+str(day+1)+'d'].describe()['mean'])\n",
    "len(day_x_75_pcile_lst)"
   ]
  },
  {
   "cell_type": "code",
   "execution_count": 142,
   "id": "773f1660-8eeb-4461-8426-e1e5a814c872",
   "metadata": {
    "scrolled": true
   },
   "outputs": [
    {
     "data": {
      "text/plain": [
       "[0.9995414637126476,\n",
       " 0.9993289759761143,\n",
       " 0.9992222362947901,\n",
       " 0.9990344793124465,\n",
       " 0.9990181791570804,\n",
       " 0.9990693705576126,\n",
       " 0.9988642370551901,\n",
       " 0.9987282761959282,\n",
       " 0.9986114204362183,\n",
       " 0.9983909012593254,\n",
       " 0.9981289638490025,\n",
       " 0.9977231148367675,\n",
       " 0.9970877984197716,\n",
       " 0.9964115843538572,\n",
       " 0.9959040845562891,\n",
       " 0.9955579594114955,\n",
       " 0.9952534926287993,\n",
       " 0.9949357703717291,\n",
       " 0.9947285653513092,\n",
       " 0.9945580918653487,\n",
       " 0.9942096279622457,\n",
       " 0.9938388806948991,\n",
       " 0.9933766416377019,\n",
       " 0.9929968025749683,\n",
       " 0.9926912307085048,\n",
       " 0.9926158186800828,\n",
       " 0.9924891843009032,\n",
       " 0.9922605401992468,\n",
       " 0.9921319645106228,\n",
       " 0.992141717620871]"
      ]
     },
     "execution_count": 142,
     "metadata": {},
     "output_type": "execute_result"
    }
   ],
   "source": [
    "day_x_mean_lst"
   ]
  },
  {
   "cell_type": "code",
   "execution_count": 143,
   "id": "78cadf85-aa32-40d6-9c52-097092014c63",
   "metadata": {},
   "outputs": [
    {
     "data": {
      "text/plain": [
       "Date                    0\n",
       "Open                    0\n",
       "High                    0\n",
       "Low                     0\n",
       "Close                   0\n",
       "Adj Close               0\n",
       "Volume                  0\n",
       "ticker                  0\n",
       "growth_future_1d      184\n",
       "growth_future_2d      368\n",
       "growth_future_3d      552\n",
       "growth_future_4d      736\n",
       "growth_future_5d      920\n",
       "growth_future_6d     1104\n",
       "growth_future_7d     1288\n",
       "growth_future_8d     1472\n",
       "growth_future_9d     1656\n",
       "growth_future_10d    1840\n",
       "growth_future_11d    2024\n",
       "growth_future_12d    2208\n",
       "growth_future_13d    2392\n",
       "growth_future_14d    2576\n",
       "growth_future_15d    2760\n",
       "growth_future_16d    2944\n",
       "growth_future_17d    3127\n",
       "growth_future_18d    3310\n",
       "growth_future_19d    3493\n",
       "growth_future_20d    3676\n",
       "growth_future_21d    3859\n",
       "growth_future_22d    4042\n",
       "growth_future_23d    4225\n",
       "growth_future_24d    4408\n",
       "growth_future_25d    4591\n",
       "growth_future_26d    4774\n",
       "growth_future_27d    4956\n",
       "growth_future_28d    5138\n",
       "growth_future_29d    5320\n",
       "growth_future_30d    5502\n",
       "dtype: int64"
      ]
     },
     "execution_count": 143,
     "metadata": {},
     "output_type": "execute_result"
    }
   ],
   "source": [
    "df_ipofiling_ohlcv.isnull().sum()"
   ]
  },
  {
   "cell_type": "code",
   "execution_count": 139,
   "id": "956f115c-3354-4739-b3dc-cee64c7fc8bc",
   "metadata": {},
   "outputs": [
    {
     "data": {
      "text/html": [
       "<div>\n",
       "<style scoped>\n",
       "    .dataframe tbody tr th:only-of-type {\n",
       "        vertical-align: middle;\n",
       "    }\n",
       "\n",
       "    .dataframe tbody tr th {\n",
       "        vertical-align: top;\n",
       "    }\n",
       "\n",
       "    .dataframe thead th {\n",
       "        text-align: right;\n",
       "    }\n",
       "</style>\n",
       "<table border=\"1\" class=\"dataframe\">\n",
       "  <thead>\n",
       "    <tr style=\"text-align: right;\">\n",
       "      <th></th>\n",
       "      <th>Open</th>\n",
       "      <th>High</th>\n",
       "      <th>Low</th>\n",
       "      <th>Close</th>\n",
       "      <th>Adj Close</th>\n",
       "      <th>Volume</th>\n",
       "      <th>growth_future_1d</th>\n",
       "      <th>growth_future_2d</th>\n",
       "      <th>growth_future_3d</th>\n",
       "      <th>growth_future_4d</th>\n",
       "      <th>...</th>\n",
       "      <th>growth_future_21d</th>\n",
       "      <th>growth_future_22d</th>\n",
       "      <th>growth_future_23d</th>\n",
       "      <th>growth_future_24d</th>\n",
       "      <th>growth_future_25d</th>\n",
       "      <th>growth_future_26d</th>\n",
       "      <th>growth_future_27d</th>\n",
       "      <th>growth_future_28d</th>\n",
       "      <th>growth_future_29d</th>\n",
       "      <th>growth_future_30d</th>\n",
       "    </tr>\n",
       "  </thead>\n",
       "  <tbody>\n",
       "    <tr>\n",
       "      <th>count</th>\n",
       "      <td>37377.000000</td>\n",
       "      <td>37377.000000</td>\n",
       "      <td>37377.000000</td>\n",
       "      <td>37377.000000</td>\n",
       "      <td>37377.000000</td>\n",
       "      <td>3.737700e+04</td>\n",
       "      <td>37193.000000</td>\n",
       "      <td>37009.000000</td>\n",
       "      <td>36825.000000</td>\n",
       "      <td>36641.000000</td>\n",
       "      <td>...</td>\n",
       "      <td>33518.000000</td>\n",
       "      <td>33335.000000</td>\n",
       "      <td>33152.000000</td>\n",
       "      <td>32969.000000</td>\n",
       "      <td>32786.000000</td>\n",
       "      <td>32603.000000</td>\n",
       "      <td>32421.000000</td>\n",
       "      <td>32239.000000</td>\n",
       "      <td>32057.000000</td>\n",
       "      <td>31875.000000</td>\n",
       "    </tr>\n",
       "    <tr>\n",
       "      <th>mean</th>\n",
       "      <td>12.264412</td>\n",
       "      <td>12.872159</td>\n",
       "      <td>11.820162</td>\n",
       "      <td>12.244424</td>\n",
       "      <td>12.216767</td>\n",
       "      <td>6.710233e+05</td>\n",
       "      <td>0.999541</td>\n",
       "      <td>0.999329</td>\n",
       "      <td>0.999222</td>\n",
       "      <td>0.999034</td>\n",
       "      <td>...</td>\n",
       "      <td>0.994210</td>\n",
       "      <td>0.993839</td>\n",
       "      <td>0.993377</td>\n",
       "      <td>0.992997</td>\n",
       "      <td>0.992691</td>\n",
       "      <td>0.992616</td>\n",
       "      <td>0.992489</td>\n",
       "      <td>0.992261</td>\n",
       "      <td>0.992132</td>\n",
       "      <td>0.992142</td>\n",
       "    </tr>\n",
       "    <tr>\n",
       "      <th>std</th>\n",
       "      <td>37.896620</td>\n",
       "      <td>56.824212</td>\n",
       "      <td>32.680708</td>\n",
       "      <td>40.589890</td>\n",
       "      <td>40.578475</td>\n",
       "      <td>5.156670e+06</td>\n",
       "      <td>0.095803</td>\n",
       "      <td>0.135382</td>\n",
       "      <td>0.166530</td>\n",
       "      <td>0.191195</td>\n",
       "      <td>...</td>\n",
       "      <td>0.433097</td>\n",
       "      <td>0.443464</td>\n",
       "      <td>0.453291</td>\n",
       "      <td>0.462350</td>\n",
       "      <td>0.472677</td>\n",
       "      <td>0.486147</td>\n",
       "      <td>0.499691</td>\n",
       "      <td>0.516723</td>\n",
       "      <td>0.536434</td>\n",
       "      <td>0.558915</td>\n",
       "    </tr>\n",
       "    <tr>\n",
       "      <th>min</th>\n",
       "      <td>0.002000</td>\n",
       "      <td>0.002000</td>\n",
       "      <td>0.002000</td>\n",
       "      <td>0.002000</td>\n",
       "      <td>0.002000</td>\n",
       "      <td>0.000000e+00</td>\n",
       "      <td>0.028674</td>\n",
       "      <td>0.003584</td>\n",
       "      <td>0.002729</td>\n",
       "      <td>0.002729</td>\n",
       "      <td>...</td>\n",
       "      <td>0.002729</td>\n",
       "      <td>0.002729</td>\n",
       "      <td>0.002729</td>\n",
       "      <td>0.002729</td>\n",
       "      <td>0.002729</td>\n",
       "      <td>0.002729</td>\n",
       "      <td>0.002729</td>\n",
       "      <td>0.002729</td>\n",
       "      <td>0.002729</td>\n",
       "      <td>0.002729</td>\n",
       "    </tr>\n",
       "    <tr>\n",
       "      <th>25%</th>\n",
       "      <td>1.850000</td>\n",
       "      <td>1.960000</td>\n",
       "      <td>1.742000</td>\n",
       "      <td>1.840000</td>\n",
       "      <td>1.835000</td>\n",
       "      <td>6.100000e+03</td>\n",
       "      <td>0.977539</td>\n",
       "      <td>0.966319</td>\n",
       "      <td>0.957447</td>\n",
       "      <td>0.949367</td>\n",
       "      <td>...</td>\n",
       "      <td>0.840243</td>\n",
       "      <td>0.835294</td>\n",
       "      <td>0.830492</td>\n",
       "      <td>0.823529</td>\n",
       "      <td>0.820073</td>\n",
       "      <td>0.814001</td>\n",
       "      <td>0.810811</td>\n",
       "      <td>0.806605</td>\n",
       "      <td>0.802703</td>\n",
       "      <td>0.798714</td>\n",
       "    </tr>\n",
       "    <tr>\n",
       "      <th>50%</th>\n",
       "      <td>7.910000</td>\n",
       "      <td>8.190000</td>\n",
       "      <td>7.600000</td>\n",
       "      <td>7.877000</td>\n",
       "      <td>7.860853</td>\n",
       "      <td>5.100000e+04</td>\n",
       "      <td>1.000000</td>\n",
       "      <td>1.000000</td>\n",
       "      <td>1.000000</td>\n",
       "      <td>1.000000</td>\n",
       "      <td>...</td>\n",
       "      <td>0.996904</td>\n",
       "      <td>0.996226</td>\n",
       "      <td>0.996135</td>\n",
       "      <td>0.995687</td>\n",
       "      <td>0.995886</td>\n",
       "      <td>0.995059</td>\n",
       "      <td>0.994644</td>\n",
       "      <td>0.994376</td>\n",
       "      <td>0.994048</td>\n",
       "      <td>0.994001</td>\n",
       "    </tr>\n",
       "    <tr>\n",
       "      <th>75%</th>\n",
       "      <td>12.000000</td>\n",
       "      <td>12.320000</td>\n",
       "      <td>11.510000</td>\n",
       "      <td>11.970000</td>\n",
       "      <td>11.960000</td>\n",
       "      <td>2.259000e+05</td>\n",
       "      <td>1.014778</td>\n",
       "      <td>1.020007</td>\n",
       "      <td>1.024946</td>\n",
       "      <td>1.028006</td>\n",
       "      <td>...</td>\n",
       "      <td>1.057643</td>\n",
       "      <td>1.058621</td>\n",
       "      <td>1.059192</td>\n",
       "      <td>1.060221</td>\n",
       "      <td>1.060865</td>\n",
       "      <td>1.060446</td>\n",
       "      <td>1.062751</td>\n",
       "      <td>1.064606</td>\n",
       "      <td>1.066524</td>\n",
       "      <td>1.067691</td>\n",
       "    </tr>\n",
       "    <tr>\n",
       "      <th>max</th>\n",
       "      <td>3069.000000</td>\n",
       "      <td>7500.000000</td>\n",
       "      <td>875.000000</td>\n",
       "      <td>4318.000000</td>\n",
       "      <td>4318.000000</td>\n",
       "      <td>3.723413e+08</td>\n",
       "      <td>6.826923</td>\n",
       "      <td>6.971311</td>\n",
       "      <td>7.625593</td>\n",
       "      <td>8.650538</td>\n",
       "      <td>...</td>\n",
       "      <td>12.634409</td>\n",
       "      <td>11.491442</td>\n",
       "      <td>12.486842</td>\n",
       "      <td>12.284789</td>\n",
       "      <td>12.661000</td>\n",
       "      <td>15.025219</td>\n",
       "      <td>14.782093</td>\n",
       "      <td>19.655310</td>\n",
       "      <td>22.918785</td>\n",
       "      <td>27.198465</td>\n",
       "    </tr>\n",
       "  </tbody>\n",
       "</table>\n",
       "<p>8 rows × 36 columns</p>\n",
       "</div>"
      ],
      "text/plain": [
       "               Open          High           Low         Close     Adj Close  \\\n",
       "count  37377.000000  37377.000000  37377.000000  37377.000000  37377.000000   \n",
       "mean      12.264412     12.872159     11.820162     12.244424     12.216767   \n",
       "std       37.896620     56.824212     32.680708     40.589890     40.578475   \n",
       "min        0.002000      0.002000      0.002000      0.002000      0.002000   \n",
       "25%        1.850000      1.960000      1.742000      1.840000      1.835000   \n",
       "50%        7.910000      8.190000      7.600000      7.877000      7.860853   \n",
       "75%       12.000000     12.320000     11.510000     11.970000     11.960000   \n",
       "max     3069.000000   7500.000000    875.000000   4318.000000   4318.000000   \n",
       "\n",
       "             Volume  growth_future_1d  growth_future_2d  growth_future_3d  \\\n",
       "count  3.737700e+04      37193.000000      37009.000000      36825.000000   \n",
       "mean   6.710233e+05          0.999541          0.999329          0.999222   \n",
       "std    5.156670e+06          0.095803          0.135382          0.166530   \n",
       "min    0.000000e+00          0.028674          0.003584          0.002729   \n",
       "25%    6.100000e+03          0.977539          0.966319          0.957447   \n",
       "50%    5.100000e+04          1.000000          1.000000          1.000000   \n",
       "75%    2.259000e+05          1.014778          1.020007          1.024946   \n",
       "max    3.723413e+08          6.826923          6.971311          7.625593   \n",
       "\n",
       "       growth_future_4d  ...  growth_future_21d  growth_future_22d  \\\n",
       "count      36641.000000  ...       33518.000000       33335.000000   \n",
       "mean           0.999034  ...           0.994210           0.993839   \n",
       "std            0.191195  ...           0.433097           0.443464   \n",
       "min            0.002729  ...           0.002729           0.002729   \n",
       "25%            0.949367  ...           0.840243           0.835294   \n",
       "50%            1.000000  ...           0.996904           0.996226   \n",
       "75%            1.028006  ...           1.057643           1.058621   \n",
       "max            8.650538  ...          12.634409          11.491442   \n",
       "\n",
       "       growth_future_23d  growth_future_24d  growth_future_25d  \\\n",
       "count       33152.000000       32969.000000       32786.000000   \n",
       "mean            0.993377           0.992997           0.992691   \n",
       "std             0.453291           0.462350           0.472677   \n",
       "min             0.002729           0.002729           0.002729   \n",
       "25%             0.830492           0.823529           0.820073   \n",
       "50%             0.996135           0.995687           0.995886   \n",
       "75%             1.059192           1.060221           1.060865   \n",
       "max            12.486842          12.284789          12.661000   \n",
       "\n",
       "       growth_future_26d  growth_future_27d  growth_future_28d  \\\n",
       "count       32603.000000       32421.000000       32239.000000   \n",
       "mean            0.992616           0.992489           0.992261   \n",
       "std             0.486147           0.499691           0.516723   \n",
       "min             0.002729           0.002729           0.002729   \n",
       "25%             0.814001           0.810811           0.806605   \n",
       "50%             0.995059           0.994644           0.994376   \n",
       "75%             1.060446           1.062751           1.064606   \n",
       "max            15.025219          14.782093          19.655310   \n",
       "\n",
       "       growth_future_29d  growth_future_30d  \n",
       "count       32057.000000       31875.000000  \n",
       "mean            0.992132           0.992142  \n",
       "std             0.536434           0.558915  \n",
       "min             0.002729           0.002729  \n",
       "25%             0.802703           0.798714  \n",
       "50%             0.994048           0.994001  \n",
       "75%             1.066524           1.067691  \n",
       "max            22.918785          27.198465  \n",
       "\n",
       "[8 rows x 36 columns]"
      ]
     },
     "execution_count": 139,
     "metadata": {},
     "output_type": "execute_result"
    }
   ],
   "source": [
    "df_ipofiling_ohlcv.describe()"
   ]
  },
  {
   "cell_type": "code",
   "execution_count": 156,
   "id": "f73a096b-731a-421f-a5df-0e74dd3f2874",
   "metadata": {},
   "outputs": [],
   "source": [
    "df_ipofiling_ohlcv.to_csv(\"q2_output.csv\")"
   ]
  },
  {
   "cell_type": "markdown",
   "id": "0d21dea5-0c00-43ed-ab2c-6c542aee0841",
   "metadata": {},
   "source": [
    "# Question 3"
   ]
  },
  {
   "cell_type": "code",
   "execution_count": 144,
   "id": "d7122abf-640f-4c41-81f3-b440940017d8",
   "metadata": {},
   "outputs": [],
   "source": [
    "US_STOCKS = ['MSFT', 'AAPL', 'GOOG', 'NVDA', 'AMZN', 'META', 'BRK-B', 'LLY', 'AVGO','V', 'JPM']\n",
    "\n",
    "EU_STOCKS = ['NVO','MC.PA', 'ASML', 'RMS.PA', 'OR.PA', 'SAP', 'ACN', 'TTE', 'SIE.DE','IDEXY','CDI.PA']\n",
    "\n",
    "INDIA_STOCKS = ['RELIANCE.NS','TCS.NS','HDB','BHARTIARTL.NS','IBN','SBIN.NS','LICI.NS','INFY','ITC.NS','HINDUNILVR.NS','LT.NS']\n",
    "\n",
    "LARGEST_STOCKS = US_STOCKS + EU_STOCKS + INDIA_STOCKS"
   ]
  },
  {
   "cell_type": "code",
   "execution_count": 145,
   "id": "a1bbb232-63d5-4808-9849-febd4beba61b",
   "metadata": {},
   "outputs": [],
   "source": [
    "NEW_US = ['TSLA','WMT','XOM','UNH','MA','PG','JNJ','MRK','HD','COST','ORCL']\n",
    "\n",
    "NEW_EU = ['PRX.AS','CDI.PA','AIR.PA','SU.PA','ETN','SNY','BUD','DTE.DE','ALV.DE','MDT','AI.PA','EL.PA']\n",
    "\n",
    "NEW_INDIA = ['BAJFINANCE.NS','MARUTI.NS','HCLTECH.NS','TATAMOTORS.NS','SUNPHARMA.NS','ONGC.NS','ADANIENT.NS','ADANIENT.NS','NTPC.NS','KOTAKBANK.NS','TITAN.NS']\n",
    "\n",
    "LARGE_STOCKS = NEW_EU + NEW_US + NEW_INDIA"
   ]
  },
  {
   "cell_type": "code",
   "execution_count": 147,
   "id": "dc564728-e01c-420f-a439-0bfa5af075a2",
   "metadata": {},
   "outputs": [
    {
     "data": {
      "text/plain": [
       "(33, 34)"
      ]
     },
     "execution_count": 147,
     "metadata": {},
     "output_type": "execute_result"
    }
   ],
   "source": [
    "len(LARGEST_STOCKS) , len(LARGE_STOCKS)"
   ]
  },
  {
   "cell_type": "code",
   "execution_count": 150,
   "id": "8dce0abd-f567-4f52-b7aa-270d5e0ac490",
   "metadata": {},
   "outputs": [
    {
     "data": {
      "text/plain": [
       "67"
      ]
     },
     "execution_count": 150,
     "metadata": {},
     "output_type": "execute_result"
    }
   ],
   "source": [
    "ALL_TICKERS = LARGEST_STOCKS + LARGE_STOCKS\n",
    "len(ALL_TICKERS)"
   ]
  },
  {
   "cell_type": "code",
   "execution_count": 151,
   "id": "a15d35bb-5091-4c1a-94c2-4dd000ccf49d",
   "metadata": {},
   "outputs": [
    {
     "name": "stdout",
     "output_type": "stream",
     "text": [
      "0 MSFT\n"
     ]
    },
    {
     "name": "stderr",
     "output_type": "stream",
     "text": [
      "[*********************100%%**********************]  1 of 1 completed\n"
     ]
    },
    {
     "name": "stdout",
     "output_type": "stream",
     "text": [
      "1 AAPL\n"
     ]
    },
    {
     "name": "stderr",
     "output_type": "stream",
     "text": [
      "[*********************100%%**********************]  1 of 1 completed\n",
      "[*********************100%%**********************]  1 of 1 completed"
     ]
    },
    {
     "name": "stdout",
     "output_type": "stream",
     "text": [
      "2 GOOG\n"
     ]
    },
    {
     "name": "stderr",
     "output_type": "stream",
     "text": [
      "\n"
     ]
    },
    {
     "name": "stdout",
     "output_type": "stream",
     "text": [
      "3 NVDA\n"
     ]
    },
    {
     "name": "stderr",
     "output_type": "stream",
     "text": [
      "[*********************100%%**********************]  1 of 1 completed\n"
     ]
    },
    {
     "name": "stdout",
     "output_type": "stream",
     "text": [
      "4 AMZN\n"
     ]
    },
    {
     "name": "stderr",
     "output_type": "stream",
     "text": [
      "[*********************100%%**********************]  1 of 1 completed\n",
      "[*********************100%%**********************]  1 of 1 completed"
     ]
    },
    {
     "name": "stdout",
     "output_type": "stream",
     "text": [
      "5 META\n"
     ]
    },
    {
     "name": "stderr",
     "output_type": "stream",
     "text": [
      "\n",
      "[*********************100%%**********************]  1 of 1 completed"
     ]
    },
    {
     "name": "stdout",
     "output_type": "stream",
     "text": [
      "6 BRK-B\n"
     ]
    },
    {
     "name": "stderr",
     "output_type": "stream",
     "text": [
      "\n"
     ]
    },
    {
     "name": "stdout",
     "output_type": "stream",
     "text": [
      "7 LLY\n"
     ]
    },
    {
     "name": "stderr",
     "output_type": "stream",
     "text": [
      "[*********************100%%**********************]  1 of 1 completed\n",
      "[*********************100%%**********************]  1 of 1 completed"
     ]
    },
    {
     "name": "stdout",
     "output_type": "stream",
     "text": [
      "8 AVGO\n"
     ]
    },
    {
     "name": "stderr",
     "output_type": "stream",
     "text": [
      "\n"
     ]
    },
    {
     "name": "stdout",
     "output_type": "stream",
     "text": [
      "9 V\n"
     ]
    },
    {
     "name": "stderr",
     "output_type": "stream",
     "text": [
      "[*********************100%%**********************]  1 of 1 completed\n"
     ]
    },
    {
     "name": "stdout",
     "output_type": "stream",
     "text": [
      "10 JPM\n"
     ]
    },
    {
     "name": "stderr",
     "output_type": "stream",
     "text": [
      "[*********************100%%**********************]  1 of 1 completed\n"
     ]
    },
    {
     "name": "stdout",
     "output_type": "stream",
     "text": [
      "11 NVO\n"
     ]
    },
    {
     "name": "stderr",
     "output_type": "stream",
     "text": [
      "[*********************100%%**********************]  1 of 1 completed\n"
     ]
    },
    {
     "name": "stdout",
     "output_type": "stream",
     "text": [
      "12 MC.PA\n"
     ]
    },
    {
     "name": "stderr",
     "output_type": "stream",
     "text": [
      "[*********************100%%**********************]  1 of 1 completed\n"
     ]
    },
    {
     "name": "stdout",
     "output_type": "stream",
     "text": [
      "13 ASML\n"
     ]
    },
    {
     "name": "stderr",
     "output_type": "stream",
     "text": [
      "[*********************100%%**********************]  1 of 1 completed\n"
     ]
    },
    {
     "name": "stdout",
     "output_type": "stream",
     "text": [
      "14 RMS.PA\n"
     ]
    },
    {
     "name": "stderr",
     "output_type": "stream",
     "text": [
      "[*********************100%%**********************]  1 of 1 completed\n"
     ]
    },
    {
     "name": "stdout",
     "output_type": "stream",
     "text": [
      "15 OR.PA\n"
     ]
    },
    {
     "name": "stderr",
     "output_type": "stream",
     "text": [
      "[*********************100%%**********************]  1 of 1 completed\n"
     ]
    },
    {
     "name": "stdout",
     "output_type": "stream",
     "text": [
      "16 SAP\n"
     ]
    },
    {
     "name": "stderr",
     "output_type": "stream",
     "text": [
      "[*********************100%%**********************]  1 of 1 completed\n"
     ]
    },
    {
     "name": "stdout",
     "output_type": "stream",
     "text": [
      "17 ACN\n"
     ]
    },
    {
     "name": "stderr",
     "output_type": "stream",
     "text": [
      "[*********************100%%**********************]  1 of 1 completed\n"
     ]
    },
    {
     "name": "stdout",
     "output_type": "stream",
     "text": [
      "18 TTE\n"
     ]
    },
    {
     "name": "stderr",
     "output_type": "stream",
     "text": [
      "[*********************100%%**********************]  1 of 1 completed\n"
     ]
    },
    {
     "name": "stdout",
     "output_type": "stream",
     "text": [
      "19 SIE.DE\n"
     ]
    },
    {
     "name": "stderr",
     "output_type": "stream",
     "text": [
      "[*********************100%%**********************]  1 of 1 completed\n",
      "[*********************100%%**********************]  1 of 1 completed"
     ]
    },
    {
     "name": "stdout",
     "output_type": "stream",
     "text": [
      "20 IDEXY\n"
     ]
    },
    {
     "name": "stderr",
     "output_type": "stream",
     "text": [
      "\n"
     ]
    },
    {
     "name": "stdout",
     "output_type": "stream",
     "text": [
      "21 CDI.PA\n"
     ]
    },
    {
     "name": "stderr",
     "output_type": "stream",
     "text": [
      "[*********************100%%**********************]  1 of 1 completed\n"
     ]
    },
    {
     "name": "stdout",
     "output_type": "stream",
     "text": [
      "22 RELIANCE.NS\n"
     ]
    },
    {
     "name": "stderr",
     "output_type": "stream",
     "text": [
      "[*********************100%%**********************]  1 of 1 completed\n"
     ]
    },
    {
     "name": "stdout",
     "output_type": "stream",
     "text": [
      "23 TCS.NS\n"
     ]
    },
    {
     "name": "stderr",
     "output_type": "stream",
     "text": [
      "[*********************100%%**********************]  1 of 1 completed\n"
     ]
    },
    {
     "name": "stdout",
     "output_type": "stream",
     "text": [
      "24 HDB\n"
     ]
    },
    {
     "name": "stderr",
     "output_type": "stream",
     "text": [
      "[*********************100%%**********************]  1 of 1 completed\n"
     ]
    },
    {
     "name": "stdout",
     "output_type": "stream",
     "text": [
      "25 BHARTIARTL.NS\n"
     ]
    },
    {
     "name": "stderr",
     "output_type": "stream",
     "text": [
      "[*********************100%%**********************]  1 of 1 completed\n"
     ]
    },
    {
     "name": "stdout",
     "output_type": "stream",
     "text": [
      "26 IBN\n"
     ]
    },
    {
     "name": "stderr",
     "output_type": "stream",
     "text": [
      "[*********************100%%**********************]  1 of 1 completed\n"
     ]
    },
    {
     "name": "stdout",
     "output_type": "stream",
     "text": [
      "27 SBIN.NS\n"
     ]
    },
    {
     "name": "stderr",
     "output_type": "stream",
     "text": [
      "[*********************100%%**********************]  1 of 1 completed\n",
      "[*********************100%%**********************]  1 of 1 completed"
     ]
    },
    {
     "name": "stdout",
     "output_type": "stream",
     "text": [
      "28 LICI.NS\n"
     ]
    },
    {
     "name": "stderr",
     "output_type": "stream",
     "text": [
      "\n"
     ]
    },
    {
     "name": "stdout",
     "output_type": "stream",
     "text": [
      "29 INFY\n"
     ]
    },
    {
     "name": "stderr",
     "output_type": "stream",
     "text": [
      "[*********************100%%**********************]  1 of 1 completed\n"
     ]
    },
    {
     "name": "stdout",
     "output_type": "stream",
     "text": [
      "30 ITC.NS\n"
     ]
    },
    {
     "name": "stderr",
     "output_type": "stream",
     "text": [
      "[*********************100%%**********************]  1 of 1 completed\n"
     ]
    },
    {
     "name": "stdout",
     "output_type": "stream",
     "text": [
      "31 HINDUNILVR.NS\n"
     ]
    },
    {
     "name": "stderr",
     "output_type": "stream",
     "text": [
      "[*********************100%%**********************]  1 of 1 completed\n"
     ]
    },
    {
     "name": "stdout",
     "output_type": "stream",
     "text": [
      "32 LT.NS\n"
     ]
    },
    {
     "name": "stderr",
     "output_type": "stream",
     "text": [
      "[*********************100%%**********************]  1 of 1 completed\n",
      "[*********************100%%**********************]  1 of 1 completed"
     ]
    },
    {
     "name": "stdout",
     "output_type": "stream",
     "text": [
      "33 PRX.AS\n"
     ]
    },
    {
     "name": "stderr",
     "output_type": "stream",
     "text": [
      "\n"
     ]
    },
    {
     "name": "stdout",
     "output_type": "stream",
     "text": [
      "34 CDI.PA\n"
     ]
    },
    {
     "name": "stderr",
     "output_type": "stream",
     "text": [
      "[*********************100%%**********************]  1 of 1 completed\n"
     ]
    },
    {
     "name": "stdout",
     "output_type": "stream",
     "text": [
      "35 AIR.PA\n"
     ]
    },
    {
     "name": "stderr",
     "output_type": "stream",
     "text": [
      "[*********************100%%**********************]  1 of 1 completed\n"
     ]
    },
    {
     "name": "stdout",
     "output_type": "stream",
     "text": [
      "36 SU.PA\n"
     ]
    },
    {
     "name": "stderr",
     "output_type": "stream",
     "text": [
      "[*********************100%%**********************]  1 of 1 completed\n"
     ]
    },
    {
     "name": "stdout",
     "output_type": "stream",
     "text": [
      "37 ETN\n"
     ]
    },
    {
     "name": "stderr",
     "output_type": "stream",
     "text": [
      "[*********************100%%**********************]  1 of 1 completed\n"
     ]
    },
    {
     "name": "stdout",
     "output_type": "stream",
     "text": [
      "38 SNY\n"
     ]
    },
    {
     "name": "stderr",
     "output_type": "stream",
     "text": [
      "[*********************100%%**********************]  1 of 1 completed\n"
     ]
    },
    {
     "name": "stdout",
     "output_type": "stream",
     "text": [
      "39 BUD\n"
     ]
    },
    {
     "name": "stderr",
     "output_type": "stream",
     "text": [
      "[*********************100%%**********************]  1 of 1 completed\n"
     ]
    },
    {
     "name": "stdout",
     "output_type": "stream",
     "text": [
      "40 DTE.DE\n"
     ]
    },
    {
     "name": "stderr",
     "output_type": "stream",
     "text": [
      "[*********************100%%**********************]  1 of 1 completed\n"
     ]
    },
    {
     "name": "stdout",
     "output_type": "stream",
     "text": [
      "41 ALV.DE\n"
     ]
    },
    {
     "name": "stderr",
     "output_type": "stream",
     "text": [
      "[*********************100%%**********************]  1 of 1 completed\n"
     ]
    },
    {
     "name": "stdout",
     "output_type": "stream",
     "text": [
      "42 MDT\n"
     ]
    },
    {
     "name": "stderr",
     "output_type": "stream",
     "text": [
      "[*********************100%%**********************]  1 of 1 completed\n"
     ]
    },
    {
     "name": "stdout",
     "output_type": "stream",
     "text": [
      "43 AI.PA\n"
     ]
    },
    {
     "name": "stderr",
     "output_type": "stream",
     "text": [
      "[*********************100%%**********************]  1 of 1 completed\n"
     ]
    },
    {
     "name": "stdout",
     "output_type": "stream",
     "text": [
      "44 EL.PA\n"
     ]
    },
    {
     "name": "stderr",
     "output_type": "stream",
     "text": [
      "[*********************100%%**********************]  1 of 1 completed\n",
      "[*********************100%%**********************]  1 of 1 completed"
     ]
    },
    {
     "name": "stdout",
     "output_type": "stream",
     "text": [
      "45 TSLA\n"
     ]
    },
    {
     "name": "stderr",
     "output_type": "stream",
     "text": [
      "\n"
     ]
    },
    {
     "name": "stdout",
     "output_type": "stream",
     "text": [
      "46 WMT\n"
     ]
    },
    {
     "name": "stderr",
     "output_type": "stream",
     "text": [
      "[*********************100%%**********************]  1 of 1 completed\n"
     ]
    },
    {
     "name": "stdout",
     "output_type": "stream",
     "text": [
      "47 XOM\n"
     ]
    },
    {
     "name": "stderr",
     "output_type": "stream",
     "text": [
      "[*********************100%%**********************]  1 of 1 completed\n"
     ]
    },
    {
     "name": "stdout",
     "output_type": "stream",
     "text": [
      "48 UNH\n"
     ]
    },
    {
     "name": "stderr",
     "output_type": "stream",
     "text": [
      "[*********************100%%**********************]  1 of 1 completed\n"
     ]
    },
    {
     "name": "stdout",
     "output_type": "stream",
     "text": [
      "49 MA\n"
     ]
    },
    {
     "name": "stderr",
     "output_type": "stream",
     "text": [
      "[*********************100%%**********************]  1 of 1 completed\n"
     ]
    },
    {
     "name": "stdout",
     "output_type": "stream",
     "text": [
      "50 PG\n"
     ]
    },
    {
     "name": "stderr",
     "output_type": "stream",
     "text": [
      "[*********************100%%**********************]  1 of 1 completed\n"
     ]
    },
    {
     "name": "stdout",
     "output_type": "stream",
     "text": [
      "51 JNJ\n"
     ]
    },
    {
     "name": "stderr",
     "output_type": "stream",
     "text": [
      "[*********************100%%**********************]  1 of 1 completed\n"
     ]
    },
    {
     "name": "stdout",
     "output_type": "stream",
     "text": [
      "52 MRK\n"
     ]
    },
    {
     "name": "stderr",
     "output_type": "stream",
     "text": [
      "[*********************100%%**********************]  1 of 1 completed\n"
     ]
    },
    {
     "name": "stdout",
     "output_type": "stream",
     "text": [
      "53 HD\n"
     ]
    },
    {
     "name": "stderr",
     "output_type": "stream",
     "text": [
      "[*********************100%%**********************]  1 of 1 completed\n"
     ]
    },
    {
     "name": "stdout",
     "output_type": "stream",
     "text": [
      "54 COST\n"
     ]
    },
    {
     "name": "stderr",
     "output_type": "stream",
     "text": [
      "[*********************100%%**********************]  1 of 1 completed\n"
     ]
    },
    {
     "name": "stdout",
     "output_type": "stream",
     "text": [
      "55 ORCL\n"
     ]
    },
    {
     "name": "stderr",
     "output_type": "stream",
     "text": [
      "[*********************100%%**********************]  1 of 1 completed\n",
      "[*********************100%%**********************]  1 of 1 completed"
     ]
    },
    {
     "name": "stdout",
     "output_type": "stream",
     "text": [
      "56 BAJFINANCE.NS\n"
     ]
    },
    {
     "name": "stderr",
     "output_type": "stream",
     "text": [
      "\n",
      "[*********************100%%**********************]  1 of 1 completed"
     ]
    },
    {
     "name": "stdout",
     "output_type": "stream",
     "text": [
      "57 MARUTI.NS\n"
     ]
    },
    {
     "name": "stderr",
     "output_type": "stream",
     "text": [
      "\n"
     ]
    },
    {
     "name": "stdout",
     "output_type": "stream",
     "text": [
      "58 HCLTECH.NS\n"
     ]
    },
    {
     "name": "stderr",
     "output_type": "stream",
     "text": [
      "[*********************100%%**********************]  1 of 1 completed\n"
     ]
    },
    {
     "name": "stdout",
     "output_type": "stream",
     "text": [
      "59 TATAMOTORS.NS\n"
     ]
    },
    {
     "name": "stderr",
     "output_type": "stream",
     "text": [
      "[*********************100%%**********************]  1 of 1 completed\n"
     ]
    },
    {
     "name": "stdout",
     "output_type": "stream",
     "text": [
      "60 SUNPHARMA.NS\n"
     ]
    },
    {
     "name": "stderr",
     "output_type": "stream",
     "text": [
      "[*********************100%%**********************]  1 of 1 completed\n"
     ]
    },
    {
     "name": "stdout",
     "output_type": "stream",
     "text": [
      "61 ONGC.NS\n"
     ]
    },
    {
     "name": "stderr",
     "output_type": "stream",
     "text": [
      "[*********************100%%**********************]  1 of 1 completed\n"
     ]
    },
    {
     "name": "stdout",
     "output_type": "stream",
     "text": [
      "62 ADANIENT.NS\n"
     ]
    },
    {
     "name": "stderr",
     "output_type": "stream",
     "text": [
      "[*********************100%%**********************]  1 of 1 completed\n"
     ]
    },
    {
     "name": "stdout",
     "output_type": "stream",
     "text": [
      "63 ADANIENT.NS\n"
     ]
    },
    {
     "name": "stderr",
     "output_type": "stream",
     "text": [
      "[*********************100%%**********************]  1 of 1 completed\n"
     ]
    },
    {
     "name": "stdout",
     "output_type": "stream",
     "text": [
      "64 NTPC.NS\n"
     ]
    },
    {
     "name": "stderr",
     "output_type": "stream",
     "text": [
      "[*********************100%%**********************]  1 of 1 completed\n"
     ]
    },
    {
     "name": "stdout",
     "output_type": "stream",
     "text": [
      "65 KOTAKBANK.NS\n"
     ]
    },
    {
     "name": "stderr",
     "output_type": "stream",
     "text": [
      "[*********************100%%**********************]  1 of 1 completed\n"
     ]
    },
    {
     "name": "stdout",
     "output_type": "stream",
     "text": [
      "66 TITAN.NS\n"
     ]
    },
    {
     "name": "stderr",
     "output_type": "stream",
     "text": [
      "[*********************100%%**********************]  1 of 1 completed\n"
     ]
    }
   ],
   "source": [
    "import time\n",
    "\n",
    "stocks_df = pd.DataFrame({'A' : []})\n",
    "\n",
    "for i,ticker in enumerate(ALL_TICKERS):\n",
    "  print(i,ticker)\n",
    "\n",
    "  # Work with stock prices\n",
    "  historyPrices = yf.download(tickers = ticker,\n",
    "                     period = \"max\",\n",
    "                     interval = \"1d\")\n",
    "\n",
    "  # generate features for historical prices, and what we want to predict\n",
    "  historyPrices['Ticker'] = ticker\n",
    "  historyPrices['Year']= historyPrices.index.year\n",
    "  historyPrices['Month'] = historyPrices.index.month\n",
    "  historyPrices['Weekday'] = historyPrices.index.weekday\n",
    "  historyPrices['Date'] = historyPrices.index.date\n",
    "\n",
    "  # historical returns\n",
    "  for i in [7]: #1,3,7,30,90,365\n",
    "    historyPrices['growth_'+str(i)+'d'] = historyPrices['Adj Close'] / historyPrices['Adj Close'].shift(i)\n",
    "  \n",
    "  #historyPrices['growth_future_5d'] = historyPrices['Adj Close'].shift(-5) / historyPrices['Adj Close']\n",
    "  # # Technical indicators\n",
    "  # # SimpleMovingAverage 10 days and 20 days\n",
    "  # historyPrices['SMA10']= historyPrices['Close'].rolling(10).mean()\n",
    "  # historyPrices['SMA20']= historyPrices['Close'].rolling(20).mean()\n",
    "  # historyPrices['growing_moving_average'] = np.where(historyPrices['SMA10'] > historyPrices['SMA20'], 1, 0)\n",
    "  # historyPrices['high_minus_low_relative'] = (historyPrices.High - historyPrices.Low) / historyPrices['Adj Close']\n",
    "\n",
    "  # # 30d rolling volatility : https://ycharts.com/glossary/terms/rolling_vol_30\n",
    "  # historyPrices['volatility'] =   historyPrices['Adj Close'].rolling(30).std() * np.sqrt(252)\n",
    "\n",
    "  # # what we want to predict\n",
    "  # historyPrices['is_positive_growth_5d_future'] = np.where(historyPrices['growth_future_5d'] > 1, 1, 0)\n",
    "\n",
    "  # sleep 1 sec between downloads - not to overload the API server\n",
    "  time.sleep(1)\n",
    "\n",
    "\n",
    "  if stocks_df.empty:\n",
    "    stocks_df = historyPrices\n",
    "  else:\n",
    "    stocks_df = pd.concat([stocks_df, historyPrices], ignore_index=True)"
   ]
  },
  {
   "cell_type": "code",
   "execution_count": 155,
   "id": "6a8c2373-9781-4525-9101-78a303e54857",
   "metadata": {},
   "outputs": [],
   "source": [
    "#stocks_df.to_csv('q3_input.csv')"
   ]
  },
  {
   "cell_type": "code",
   "execution_count": 196,
   "id": "9c71d7e9-cb07-474d-8dd5-cafd0f0db433",
   "metadata": {},
   "outputs": [],
   "source": [
    "stocks_df = pd.read_csv('q3_input.csv')"
   ]
  },
  {
   "cell_type": "code",
   "execution_count": 197,
   "id": "5022f9f0-87e5-43b2-826a-d6465106987f",
   "metadata": {},
   "outputs": [],
   "source": [
    "stocks_df['Date'] = pd.to_datetime(stocks_df['Date'])"
   ]
  },
  {
   "cell_type": "code",
   "execution_count": 198,
   "id": "a1cdf717-ce68-4411-aef6-d69db76d21bc",
   "metadata": {},
   "outputs": [
    {
     "data": {
      "text/plain": [
       "(495188, 13)"
      ]
     },
     "execution_count": 198,
     "metadata": {},
     "output_type": "execute_result"
    }
   ],
   "source": [
    "stocks_df.shape"
   ]
  },
  {
   "cell_type": "code",
   "execution_count": 199,
   "id": "de073dcf-9f50-4cf3-ab00-f4e99c31ebc7",
   "metadata": {},
   "outputs": [
    {
     "data": {
      "text/plain": [
       "(164607, 13)"
      ]
     },
     "execution_count": 199,
     "metadata": {},
     "output_type": "execute_result"
    }
   ],
   "source": [
    "stocks_df = stocks_df[stocks_df['Date'].between(pd.to_datetime('2014-01-01'),pd.to_datetime('2023-12-31'))]\n",
    "stocks_df.shape"
   ]
  },
  {
   "cell_type": "code",
   "execution_count": 200,
   "id": "e3bbd54d-55f7-4719-883b-4ef8b02c49ed",
   "metadata": {},
   "outputs": [],
   "source": [
    "def get_ticker_type(ticker:str, US_STOCKS, EU_STOCKS, INDIA_STOCKS, NEW_US, NEW_EU, NEW_INDIA):\n",
    "  if ticker in US_STOCKS:\n",
    "    return 'US_STOCKS'\n",
    "  elif ticker in EU_STOCKS:\n",
    "    return 'EU_STOCKS'\n",
    "  elif ticker in INDIA_STOCKS:\n",
    "    return 'INDIA_STOCKS'\n",
    "  elif ticker in NEW_US:\n",
    "    return 'NEW_US'\n",
    "  elif ticker in NEW_EU:\n",
    "    return 'NEW_EU'\n",
    "  elif ticker in NEW_INDIA:\n",
    "    return 'NEW_INDIA'\n",
    "  else:\n",
    "    return 'ERROR'\n",
    "\n",
    "stocks_df['ticker_type'] = stocks_df.Ticker.apply(lambda x:get_ticker_type(x, US_STOCKS, EU_STOCKS, INDIA_STOCKS, NEW_US, NEW_EU, NEW_INDIA))"
   ]
  },
  {
   "cell_type": "code",
   "execution_count": 201,
   "id": "89392971-4de2-4cfa-91b7-c95ae171212f",
   "metadata": {},
   "outputs": [],
   "source": [
    "def get_ticker_category(ticker:str, LARGEST_STOCKS, LARGE_STOCKS):\n",
    "  if ticker in LARGEST_STOCKS:\n",
    "    return 'LARGEST_STOCKS'\n",
    "  elif ticker in LARGE_STOCKS:\n",
    "    return 'LARGE_STOCKS'\n",
    "  else:\n",
    "    return 'ERROR'\n",
    "\n",
    "stocks_df['ticker_category'] = stocks_df.Ticker.apply(lambda x:get_ticker_category(x, LARGEST_STOCKS, LARGE_STOCKS))"
   ]
  },
  {
   "cell_type": "code",
   "execution_count": 202,
   "id": "3ec228ac-60fd-4631-a65a-882f07ac335e",
   "metadata": {},
   "outputs": [
    {
     "data": {
      "text/plain": [
       "LARGEST_STOCKS    83323\n",
       "LARGE_STOCKS      81284\n",
       "Name: ticker_category, dtype: int64"
      ]
     },
     "execution_count": 202,
     "metadata": {},
     "output_type": "execute_result"
    }
   ],
   "source": [
    "stocks_df.ticker_category.value_counts()"
   ]
  },
  {
   "cell_type": "code",
   "execution_count": 203,
   "id": "86275845-639d-4182-8d13-5baef566b23f",
   "metadata": {},
   "outputs": [
    {
     "data": {
      "text/plain": [
       "(Timestamp('2023-12-29 00:00:00'), Timestamp('2014-01-01 00:00:00'))"
      ]
     },
     "execution_count": 203,
     "metadata": {},
     "output_type": "execute_result"
    }
   ],
   "source": [
    "stocks_df['Date'].max(), stocks_df['Date'].min()"
   ]
  },
  {
   "cell_type": "code",
   "execution_count": 204,
   "id": "3568f9ae-06d0-4e68-8193-a7577a8fa45b",
   "metadata": {},
   "outputs": [
    {
     "data": {
      "text/html": [
       "<div>\n",
       "<style scoped>\n",
       "    .dataframe tbody tr th:only-of-type {\n",
       "        vertical-align: middle;\n",
       "    }\n",
       "\n",
       "    .dataframe tbody tr th {\n",
       "        vertical-align: top;\n",
       "    }\n",
       "\n",
       "    .dataframe thead th {\n",
       "        text-align: right;\n",
       "    }\n",
       "</style>\n",
       "<table border=\"1\" class=\"dataframe\">\n",
       "  <thead>\n",
       "    <tr style=\"text-align: right;\">\n",
       "      <th></th>\n",
       "      <th></th>\n",
       "      <th>growth_7d</th>\n",
       "    </tr>\n",
       "    <tr>\n",
       "      <th>ticker_category</th>\n",
       "      <th>Date</th>\n",
       "      <th></th>\n",
       "    </tr>\n",
       "  </thead>\n",
       "  <tbody>\n",
       "    <tr>\n",
       "      <th rowspan=\"5\" valign=\"top\">LARGEST_STOCKS</th>\n",
       "      <th>2014-01-01</th>\n",
       "      <td>1.011797</td>\n",
       "    </tr>\n",
       "    <tr>\n",
       "      <th>2014-01-02</th>\n",
       "      <td>1.006979</td>\n",
       "    </tr>\n",
       "    <tr>\n",
       "      <th>2014-01-03</th>\n",
       "      <td>0.999562</td>\n",
       "    </tr>\n",
       "    <tr>\n",
       "      <th>2014-01-06</th>\n",
       "      <td>0.994459</td>\n",
       "    </tr>\n",
       "    <tr>\n",
       "      <th>2014-01-07</th>\n",
       "      <td>0.992542</td>\n",
       "    </tr>\n",
       "    <tr>\n",
       "      <th>...</th>\n",
       "      <th>...</th>\n",
       "      <td>...</td>\n",
       "    </tr>\n",
       "    <tr>\n",
       "      <th rowspan=\"5\" valign=\"top\">LARGE_STOCKS</th>\n",
       "      <th>2023-12-22</th>\n",
       "      <td>1.003170</td>\n",
       "    </tr>\n",
       "    <tr>\n",
       "      <th>2023-12-26</th>\n",
       "      <td>1.013505</td>\n",
       "    </tr>\n",
       "    <tr>\n",
       "      <th>2023-12-27</th>\n",
       "      <td>1.003030</td>\n",
       "    </tr>\n",
       "    <tr>\n",
       "      <th>2023-12-28</th>\n",
       "      <td>0.999068</td>\n",
       "    </tr>\n",
       "    <tr>\n",
       "      <th>2023-12-29</th>\n",
       "      <td>0.999590</td>\n",
       "    </tr>\n",
       "  </tbody>\n",
       "</table>\n",
       "<p>5190 rows × 1 columns</p>\n",
       "</div>"
      ],
      "text/plain": [
       "                            growth_7d\n",
       "ticker_category Date                 \n",
       "LARGEST_STOCKS  2014-01-01   1.011797\n",
       "                2014-01-02   1.006979\n",
       "                2014-01-03   0.999562\n",
       "                2014-01-06   0.994459\n",
       "                2014-01-07   0.992542\n",
       "...                               ...\n",
       "LARGE_STOCKS    2023-12-22   1.003170\n",
       "                2023-12-26   1.013505\n",
       "                2023-12-27   1.003030\n",
       "                2023-12-28   0.999068\n",
       "                2023-12-29   0.999590\n",
       "\n",
       "[5190 rows x 1 columns]"
      ]
     },
     "execution_count": 204,
     "metadata": {},
     "output_type": "execute_result"
    }
   ],
   "source": [
    "stocks_df.groupby(['ticker_category', 'Date']).agg({'growth_7d':'mean'})"
   ]
  },
  {
   "cell_type": "code",
   "execution_count": 205,
   "id": "8d38a286-239c-4ead-a8b1-cbb796fec40a",
   "metadata": {},
   "outputs": [
    {
     "data": {
      "text/html": [
       "<div>\n",
       "<style scoped>\n",
       "    .dataframe tbody tr th:only-of-type {\n",
       "        vertical-align: middle;\n",
       "    }\n",
       "\n",
       "    .dataframe tbody tr th {\n",
       "        vertical-align: top;\n",
       "    }\n",
       "\n",
       "    .dataframe thead th {\n",
       "        text-align: right;\n",
       "    }\n",
       "</style>\n",
       "<table border=\"1\" class=\"dataframe\">\n",
       "  <thead>\n",
       "    <tr style=\"text-align: right;\">\n",
       "      <th></th>\n",
       "      <th>Unnamed: 0</th>\n",
       "      <th>Open</th>\n",
       "      <th>High</th>\n",
       "      <th>Low</th>\n",
       "      <th>Close</th>\n",
       "      <th>Adj Close</th>\n",
       "      <th>Volume</th>\n",
       "      <th>Ticker</th>\n",
       "      <th>Year</th>\n",
       "      <th>Month</th>\n",
       "      <th>Weekday</th>\n",
       "      <th>Date</th>\n",
       "      <th>growth_7d</th>\n",
       "      <th>ticker_type</th>\n",
       "      <th>ticker_category</th>\n",
       "    </tr>\n",
       "  </thead>\n",
       "  <tbody>\n",
       "    <tr>\n",
       "      <th>7011</th>\n",
       "      <td>7011</td>\n",
       "      <td>37.349998</td>\n",
       "      <td>37.400002</td>\n",
       "      <td>37.099998</td>\n",
       "      <td>37.160000</td>\n",
       "      <td>31.233074</td>\n",
       "      <td>30632200</td>\n",
       "      <td>MSFT</td>\n",
       "      <td>2014</td>\n",
       "      <td>1</td>\n",
       "      <td>3</td>\n",
       "      <td>2014-01-02</td>\n",
       "      <td>1.009783</td>\n",
       "      <td>US_STOCKS</td>\n",
       "      <td>LARGEST_STOCKS</td>\n",
       "    </tr>\n",
       "    <tr>\n",
       "      <th>7012</th>\n",
       "      <td>7012</td>\n",
       "      <td>37.200001</td>\n",
       "      <td>37.220001</td>\n",
       "      <td>36.599998</td>\n",
       "      <td>36.910000</td>\n",
       "      <td>31.022943</td>\n",
       "      <td>31134800</td>\n",
       "      <td>MSFT</td>\n",
       "      <td>2014</td>\n",
       "      <td>1</td>\n",
       "      <td>4</td>\n",
       "      <td>2014-01-03</td>\n",
       "      <td>1.007920</td>\n",
       "      <td>US_STOCKS</td>\n",
       "      <td>LARGEST_STOCKS</td>\n",
       "    </tr>\n",
       "    <tr>\n",
       "      <th>7013</th>\n",
       "      <td>7013</td>\n",
       "      <td>36.849998</td>\n",
       "      <td>36.889999</td>\n",
       "      <td>36.110001</td>\n",
       "      <td>36.130001</td>\n",
       "      <td>30.367353</td>\n",
       "      <td>43603700</td>\n",
       "      <td>MSFT</td>\n",
       "      <td>2014</td>\n",
       "      <td>1</td>\n",
       "      <td>0</td>\n",
       "      <td>2014-01-06</td>\n",
       "      <td>0.974380</td>\n",
       "      <td>US_STOCKS</td>\n",
       "      <td>LARGEST_STOCKS</td>\n",
       "    </tr>\n",
       "    <tr>\n",
       "      <th>7014</th>\n",
       "      <td>7014</td>\n",
       "      <td>36.330002</td>\n",
       "      <td>36.490002</td>\n",
       "      <td>36.209999</td>\n",
       "      <td>36.410000</td>\n",
       "      <td>30.602684</td>\n",
       "      <td>35802800</td>\n",
       "      <td>MSFT</td>\n",
       "      <td>2014</td>\n",
       "      <td>1</td>\n",
       "      <td>1</td>\n",
       "      <td>2014-01-07</td>\n",
       "      <td>0.972489</td>\n",
       "      <td>US_STOCKS</td>\n",
       "      <td>LARGEST_STOCKS</td>\n",
       "    </tr>\n",
       "    <tr>\n",
       "      <th>7015</th>\n",
       "      <td>7015</td>\n",
       "      <td>36.000000</td>\n",
       "      <td>36.139999</td>\n",
       "      <td>35.580002</td>\n",
       "      <td>35.759998</td>\n",
       "      <td>30.056360</td>\n",
       "      <td>59971700</td>\n",
       "      <td>MSFT</td>\n",
       "      <td>2014</td>\n",
       "      <td>1</td>\n",
       "      <td>2</td>\n",
       "      <td>2014-01-08</td>\n",
       "      <td>0.958971</td>\n",
       "      <td>US_STOCKS</td>\n",
       "      <td>LARGEST_STOCKS</td>\n",
       "    </tr>\n",
       "    <tr>\n",
       "      <th>...</th>\n",
       "      <td>...</td>\n",
       "      <td>...</td>\n",
       "      <td>...</td>\n",
       "      <td>...</td>\n",
       "      <td>...</td>\n",
       "      <td>...</td>\n",
       "      <td>...</td>\n",
       "      <td>...</td>\n",
       "      <td>...</td>\n",
       "      <td>...</td>\n",
       "      <td>...</td>\n",
       "      <td>...</td>\n",
       "      <td>...</td>\n",
       "      <td>...</td>\n",
       "      <td>...</td>\n",
       "    </tr>\n",
       "    <tr>\n",
       "      <th>495101</th>\n",
       "      <td>495101</td>\n",
       "      <td>3580.000000</td>\n",
       "      <td>3638.449951</td>\n",
       "      <td>3560.550049</td>\n",
       "      <td>3627.350098</td>\n",
       "      <td>3627.350098</td>\n",
       "      <td>777099</td>\n",
       "      <td>TITAN.NS</td>\n",
       "      <td>2023</td>\n",
       "      <td>12</td>\n",
       "      <td>4</td>\n",
       "      <td>2023-12-22</td>\n",
       "      <td>1.006940</td>\n",
       "      <td>NEW_INDIA</td>\n",
       "      <td>LARGE_STOCKS</td>\n",
       "    </tr>\n",
       "    <tr>\n",
       "      <th>495102</th>\n",
       "      <td>495102</td>\n",
       "      <td>3635.000000</td>\n",
       "      <td>3665.000000</td>\n",
       "      <td>3623.449951</td>\n",
       "      <td>3656.699951</td>\n",
       "      <td>3656.699951</td>\n",
       "      <td>526101</td>\n",
       "      <td>TITAN.NS</td>\n",
       "      <td>2023</td>\n",
       "      <td>12</td>\n",
       "      <td>1</td>\n",
       "      <td>2023-12-26</td>\n",
       "      <td>1.018182</td>\n",
       "      <td>NEW_INDIA</td>\n",
       "      <td>LARGE_STOCKS</td>\n",
       "    </tr>\n",
       "    <tr>\n",
       "      <th>495103</th>\n",
       "      <td>495103</td>\n",
       "      <td>3668.000000</td>\n",
       "      <td>3695.000000</td>\n",
       "      <td>3645.000000</td>\n",
       "      <td>3689.250000</td>\n",
       "      <td>3689.250000</td>\n",
       "      <td>666625</td>\n",
       "      <td>TITAN.NS</td>\n",
       "      <td>2023</td>\n",
       "      <td>12</td>\n",
       "      <td>2</td>\n",
       "      <td>2023-12-27</td>\n",
       "      <td>1.024635</td>\n",
       "      <td>NEW_INDIA</td>\n",
       "      <td>LARGE_STOCKS</td>\n",
       "    </tr>\n",
       "    <tr>\n",
       "      <th>495104</th>\n",
       "      <td>495104</td>\n",
       "      <td>3699.899902</td>\n",
       "      <td>3737.000000</td>\n",
       "      <td>3680.699951</td>\n",
       "      <td>3715.100098</td>\n",
       "      <td>3715.100098</td>\n",
       "      <td>1033648</td>\n",
       "      <td>TITAN.NS</td>\n",
       "      <td>2023</td>\n",
       "      <td>12</td>\n",
       "      <td>3</td>\n",
       "      <td>2023-12-28</td>\n",
       "      <td>1.026384</td>\n",
       "      <td>NEW_INDIA</td>\n",
       "      <td>LARGE_STOCKS</td>\n",
       "    </tr>\n",
       "    <tr>\n",
       "      <th>495105</th>\n",
       "      <td>495105</td>\n",
       "      <td>3715.100098</td>\n",
       "      <td>3715.100098</td>\n",
       "      <td>3660.250000</td>\n",
       "      <td>3675.449951</td>\n",
       "      <td>3675.449951</td>\n",
       "      <td>709614</td>\n",
       "      <td>TITAN.NS</td>\n",
       "      <td>2023</td>\n",
       "      <td>12</td>\n",
       "      <td>4</td>\n",
       "      <td>2023-12-29</td>\n",
       "      <td>1.018003</td>\n",
       "      <td>NEW_INDIA</td>\n",
       "      <td>LARGE_STOCKS</td>\n",
       "    </tr>\n",
       "  </tbody>\n",
       "</table>\n",
       "<p>164607 rows × 15 columns</p>\n",
       "</div>"
      ],
      "text/plain": [
       "        Unnamed: 0         Open         High          Low        Close  \\\n",
       "7011          7011    37.349998    37.400002    37.099998    37.160000   \n",
       "7012          7012    37.200001    37.220001    36.599998    36.910000   \n",
       "7013          7013    36.849998    36.889999    36.110001    36.130001   \n",
       "7014          7014    36.330002    36.490002    36.209999    36.410000   \n",
       "7015          7015    36.000000    36.139999    35.580002    35.759998   \n",
       "...            ...          ...          ...          ...          ...   \n",
       "495101      495101  3580.000000  3638.449951  3560.550049  3627.350098   \n",
       "495102      495102  3635.000000  3665.000000  3623.449951  3656.699951   \n",
       "495103      495103  3668.000000  3695.000000  3645.000000  3689.250000   \n",
       "495104      495104  3699.899902  3737.000000  3680.699951  3715.100098   \n",
       "495105      495105  3715.100098  3715.100098  3660.250000  3675.449951   \n",
       "\n",
       "          Adj Close    Volume    Ticker  Year  Month  Weekday       Date  \\\n",
       "7011      31.233074  30632200      MSFT  2014      1        3 2014-01-02   \n",
       "7012      31.022943  31134800      MSFT  2014      1        4 2014-01-03   \n",
       "7013      30.367353  43603700      MSFT  2014      1        0 2014-01-06   \n",
       "7014      30.602684  35802800      MSFT  2014      1        1 2014-01-07   \n",
       "7015      30.056360  59971700      MSFT  2014      1        2 2014-01-08   \n",
       "...             ...       ...       ...   ...    ...      ...        ...   \n",
       "495101  3627.350098    777099  TITAN.NS  2023     12        4 2023-12-22   \n",
       "495102  3656.699951    526101  TITAN.NS  2023     12        1 2023-12-26   \n",
       "495103  3689.250000    666625  TITAN.NS  2023     12        2 2023-12-27   \n",
       "495104  3715.100098   1033648  TITAN.NS  2023     12        3 2023-12-28   \n",
       "495105  3675.449951    709614  TITAN.NS  2023     12        4 2023-12-29   \n",
       "\n",
       "        growth_7d ticker_type ticker_category  \n",
       "7011     1.009783   US_STOCKS  LARGEST_STOCKS  \n",
       "7012     1.007920   US_STOCKS  LARGEST_STOCKS  \n",
       "7013     0.974380   US_STOCKS  LARGEST_STOCKS  \n",
       "7014     0.972489   US_STOCKS  LARGEST_STOCKS  \n",
       "7015     0.958971   US_STOCKS  LARGEST_STOCKS  \n",
       "...           ...         ...             ...  \n",
       "495101   1.006940   NEW_INDIA    LARGE_STOCKS  \n",
       "495102   1.018182   NEW_INDIA    LARGE_STOCKS  \n",
       "495103   1.024635   NEW_INDIA    LARGE_STOCKS  \n",
       "495104   1.026384   NEW_INDIA    LARGE_STOCKS  \n",
       "495105   1.018003   NEW_INDIA    LARGE_STOCKS  \n",
       "\n",
       "[164607 rows x 15 columns]"
      ]
     },
     "execution_count": 205,
     "metadata": {},
     "output_type": "execute_result"
    }
   ],
   "source": [
    "stocks_df"
   ]
  },
  {
   "cell_type": "code",
   "execution_count": 209,
   "id": "ef83c0ba-9e61-4ece-8cd9-ded428e93bd5",
   "metadata": {},
   "outputs": [
    {
     "data": {
      "text/plain": [
       "(2595, 2)"
      ]
     },
     "execution_count": 209,
     "metadata": {},
     "output_type": "execute_result"
    }
   ],
   "source": [
    "df_q3 = pd.pivot_table(stocks_df, values='growth_7d', index=['Date'],\n",
    "                       columns=['ticker_category'], aggfunc=\"mean\")\n",
    "df_q3.shape"
   ]
  },
  {
   "cell_type": "code",
   "execution_count": 210,
   "id": "819ed6da-630b-42e3-b30d-2ac6ff640243",
   "metadata": {},
   "outputs": [
    {
     "data": {
      "text/html": [
       "<div>\n",
       "<style scoped>\n",
       "    .dataframe tbody tr th:only-of-type {\n",
       "        vertical-align: middle;\n",
       "    }\n",
       "\n",
       "    .dataframe tbody tr th {\n",
       "        vertical-align: top;\n",
       "    }\n",
       "\n",
       "    .dataframe thead th {\n",
       "        text-align: right;\n",
       "    }\n",
       "</style>\n",
       "<table border=\"1\" class=\"dataframe\">\n",
       "  <thead>\n",
       "    <tr style=\"text-align: right;\">\n",
       "      <th>ticker_category</th>\n",
       "      <th>LARGEST_STOCKS</th>\n",
       "      <th>LARGE_STOCKS</th>\n",
       "    </tr>\n",
       "    <tr>\n",
       "      <th>Date</th>\n",
       "      <th></th>\n",
       "      <th></th>\n",
       "    </tr>\n",
       "  </thead>\n",
       "  <tbody>\n",
       "    <tr>\n",
       "      <th>2014-01-01</th>\n",
       "      <td>1.011797</td>\n",
       "      <td>1.011684</td>\n",
       "    </tr>\n",
       "  </tbody>\n",
       "</table>\n",
       "</div>"
      ],
      "text/plain": [
       "ticker_category  LARGEST_STOCKS  LARGE_STOCKS\n",
       "Date                                         \n",
       "2014-01-01             1.011797      1.011684"
      ]
     },
     "execution_count": 210,
     "metadata": {},
     "output_type": "execute_result"
    }
   ],
   "source": [
    "df_q3.head(1)"
   ]
  },
  {
   "cell_type": "code",
   "execution_count": 211,
   "id": "7a593b0a-f51b-4e23-abc7-4f3024abb1ac",
   "metadata": {},
   "outputs": [],
   "source": [
    "df_q3['LG_GT_THAN_LGST'] = df_q3['LARGE_STOCKS'] > df_q3['LARGEST_STOCKS']"
   ]
  },
  {
   "cell_type": "code",
   "execution_count": 213,
   "id": "9f553925-b5fc-4c98-acf0-6982c5fba82a",
   "metadata": {},
   "outputs": [
    {
     "data": {
      "text/plain": [
       "0.4705202312138728"
      ]
     },
     "execution_count": 213,
     "metadata": {},
     "output_type": "execute_result"
    }
   ],
   "source": [
    "df_q3['LG_GT_THAN_LGST'].sum() / df_q3['LG_GT_THAN_LGST'].shape[0]"
   ]
  },
  {
   "cell_type": "code",
   "execution_count": null,
   "id": "d5f3946c-07ad-4c15-9893-2a2571afd76b",
   "metadata": {},
   "outputs": [],
   "source": []
  }
 ],
 "metadata": {
  "kernelspec": {
   "display_name": "Python 3 (ipykernel)",
   "language": "python",
   "name": "python3"
  },
  "language_info": {
   "codemirror_mode": {
    "name": "ipython",
    "version": 3
   },
   "file_extension": ".py",
   "mimetype": "text/x-python",
   "name": "python",
   "nbconvert_exporter": "python",
   "pygments_lexer": "ipython3",
   "version": "3.10.14"
  }
 },
 "nbformat": 4,
 "nbformat_minor": 5
}
