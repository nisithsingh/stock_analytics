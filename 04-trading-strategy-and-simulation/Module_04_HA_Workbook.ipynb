{
 "cells": [
  {
   "cell_type": "markdown",
   "metadata": {
    "id": "NgeNPyTWVVPj"
   },
   "source": [
    "# Imports and Installs"
   ]
  },
  {
   "cell_type": "code",
   "execution_count": null,
   "metadata": {
    "colab": {
     "base_uri": "https://localhost:8080/"
    },
    "id": "ClEckHA-VPaj",
    "outputId": "59458897-4919-47e4-8e6a-a36e701ba4a9"
   },
   "outputs": [],
   "source": [
    "!pip install yfinance"
   ]
  },
  {
   "cell_type": "code",
   "execution_count": null,
   "metadata": {
    "colab": {
     "base_uri": "https://localhost:8080/"
    },
    "id": "vX1S1BHdVXyc",
    "outputId": "1e714852-0a8b-4ee0-9367-d3f604ebaca8"
   },
   "outputs": [],
   "source": [
    "# read files shared via google-drive-link\n",
    "# https://stackoverflow.com/questions/62759748/downloading-data-from-a-shared-google-drive-link-in-google-colab\n",
    "\n",
    "!pip uninstall gdown -y && pip install gdown\n",
    "!gdown -V"
   ]
  },
  {
   "cell_type": "code",
   "execution_count": null,
   "metadata": {
    "id": "ZqeDMHR9VamL"
   },
   "outputs": [],
   "source": [
    "# IMPORTS\n",
    "import numpy as np\n",
    "import pandas as pd\n",
    "\n",
    "#Fin Data Sources\n",
    "import yfinance as yf\n",
    "import pandas_datareader as pdr\n",
    "\n",
    "#Data viz\n",
    "import plotly.graph_objs as go\n",
    "import plotly.graph_objects as go\n",
    "import plotly.express as px\n",
    "import matplotlib.pyplot as plt\n",
    "import seaborn as sns\n",
    "\n",
    "# measure time for ML HyperParams search\n",
    "import time\n",
    "from datetime import date\n",
    "\n",
    "# ML models and utils\n",
    "from sklearn.tree import DecisionTreeClassifier\n",
    "from sklearn.ensemble import RandomForestClassifier\n",
    "from sklearn.metrics import accuracy_score\n",
    "from sklearn.metrics import precision_score\n",
    "\n",
    "# Disable SettingWithCopyWarning\n",
    "pd.options.mode.chained_assignment = None  # default='warn'"
   ]
  },
  {
   "cell_type": "markdown",
   "metadata": {
    "id": "Z3wOUBm4V0D_"
   },
   "source": [
    "# 0) One DataFrame with Dummies\n",
    "* including newly defined \"month-week_of_month\""
   ]
  },
  {
   "cell_type": "markdown",
   "metadata": {
    "id": "hdTaoVoPV35S"
   },
   "source": [
    "## 0.1) Read and truncate data (last 25 years from 2000), define variable sets\n"
   ]
  },
  {
   "cell_type": "code",
   "execution_count": null,
   "metadata": {
    "colab": {
     "base_uri": "https://localhost:8080/"
    },
    "id": "saQHmUeAV1Dk",
    "outputId": "10028eb9-dd82-4cf6-d3ed-a07324794ef2"
   },
   "outputs": [],
   "source": [
    "# https://stackoverflow.com/questions/62759748/downloading-data-from-a-shared-google-drive-link-in-google-colab\n",
    "# truncated data from Module 2: https://drive.google.com/file/d/1m3Qisfs2XfWk6Sw_Uk5kHLWqwQ0q8SKb/view?usp=sharing\n",
    "!gdown https://drive.google.com/file/d/1kNWWPi49td0EZhmi6LzNCa2ssC5IUxHP/view?usp=sharing --fuzzy -O /content/"
   ]
  },
  {
   "cell_type": "code",
   "execution_count": 1193,
   "metadata": {
    "id": "wO4EVPkTV5ze"
   },
   "outputs": [],
   "source": [
    "# truncated\n",
    "# df = pd.read_parquet(\"/content/stocks_df_combined_trunc_2014_2023.parquet.brotli\", )\n",
    "\n",
    "# full dataset for 33 stocks\n",
    "df_full = pd.read_parquet(\"stocks_df_combined_2024_05_07.parquet.brotli\", )"
   ]
  },
  {
   "cell_type": "code",
   "execution_count": 1194,
   "metadata": {
    "colab": {
     "base_uri": "https://localhost:8080/"
    },
    "id": "535cuVR8V-DS",
    "outputId": "bd81218f-9c32-452a-ea4a-1dc6ed809f0e"
   },
   "outputs": [
    {
     "name": "stdout",
     "output_type": "stream",
     "text": [
      "<class 'pandas.core.frame.DataFrame'>\n",
      "Int64Index: 221142 entries, 0 to 5426\n",
      "Columns: 202 entries, Open to growth_btc_usd_365d\n",
      "dtypes: datetime64[ns](3), float64(128), int32(64), int64(5), object(2)\n",
      "memory usage: 288.5+ MB\n"
     ]
    }
   ],
   "source": [
    "df_full.info()"
   ]
  },
  {
   "cell_type": "code",
   "execution_count": 1195,
   "metadata": {
    "colab": {
     "base_uri": "https://localhost:8080/"
    },
    "id": "dslxEREBV-RU",
    "outputId": "1ea53777-6c66-4db6-d8d5-e9c9e5164c3a"
   },
   "outputs": [
    {
     "data": {
      "text/plain": [
       "['growth_1d',\n",
       " 'growth_3d',\n",
       " 'growth_7d',\n",
       " 'growth_30d',\n",
       " 'growth_90d',\n",
       " 'growth_365d',\n",
       " 'growth_dax_1d',\n",
       " 'growth_dax_3d',\n",
       " 'growth_dax_7d',\n",
       " 'growth_dax_30d',\n",
       " 'growth_dax_90d',\n",
       " 'growth_dax_365d',\n",
       " 'growth_snp500_1d',\n",
       " 'growth_snp500_3d',\n",
       " 'growth_snp500_7d',\n",
       " 'growth_snp500_30d',\n",
       " 'growth_snp500_90d',\n",
       " 'growth_snp500_365d',\n",
       " 'growth_dji_1d',\n",
       " 'growth_dji_3d',\n",
       " 'growth_dji_7d',\n",
       " 'growth_dji_30d',\n",
       " 'growth_dji_90d',\n",
       " 'growth_dji_365d',\n",
       " 'growth_epi_1d',\n",
       " 'growth_epi_3d',\n",
       " 'growth_epi_7d',\n",
       " 'growth_epi_30d',\n",
       " 'growth_epi_90d',\n",
       " 'growth_epi_365d',\n",
       " 'growth_gold_1d',\n",
       " 'growth_gold_3d',\n",
       " 'growth_gold_7d',\n",
       " 'growth_gold_30d',\n",
       " 'growth_gold_90d',\n",
       " 'growth_gold_365d',\n",
       " 'growth_wti_oil_1d',\n",
       " 'growth_wti_oil_3d',\n",
       " 'growth_wti_oil_7d',\n",
       " 'growth_wti_oil_30d',\n",
       " 'growth_wti_oil_90d',\n",
       " 'growth_wti_oil_365d',\n",
       " 'growth_brent_oil_1d',\n",
       " 'growth_brent_oil_3d',\n",
       " 'growth_brent_oil_7d',\n",
       " 'growth_brent_oil_30d',\n",
       " 'growth_brent_oil_90d',\n",
       " 'growth_brent_oil_365d',\n",
       " 'growth_btc_usd_1d',\n",
       " 'growth_btc_usd_3d',\n",
       " 'growth_btc_usd_7d',\n",
       " 'growth_btc_usd_30d',\n",
       " 'growth_btc_usd_90d',\n",
       " 'growth_btc_usd_365d']"
      ]
     },
     "execution_count": 1195,
     "metadata": {},
     "output_type": "execute_result"
    }
   ],
   "source": [
    "# growth indicators (but not future growth)\n",
    "GROWTH = [g for g in df_full.keys() if (g.find('growth_')==0)&(g.find('future')<0)]\n",
    "GROWTH"
   ]
  },
  {
   "cell_type": "code",
   "execution_count": 1196,
   "metadata": {
    "id": "OhBqWGM6WAfs"
   },
   "outputs": [],
   "source": [
    "# leaving only Volume ==> generate ln(Volume)\n",
    "OHLCV = ['Open','High','Low','Close','Adj Close_x','Volume']"
   ]
  },
  {
   "cell_type": "code",
   "execution_count": 1197,
   "metadata": {
    "id": "_ip2ve25WCvM"
   },
   "outputs": [],
   "source": [
    "CATEGORICAL = ['Month', 'Weekday', 'Ticker', 'ticker_type']"
   ]
  },
  {
   "cell_type": "code",
   "execution_count": 1198,
   "metadata": {
    "colab": {
     "base_uri": "https://localhost:8080/"
    },
    "id": "pPn7cWXvi4SB",
    "outputId": "64c916e2-0b8e-48c6-beba-b1f8131567a4"
   },
   "outputs": [
    {
     "data": {
      "text/plain": [
       "count    220977.000000\n",
       "mean          1.004630\n",
       "std           0.051592\n",
       "min           0.412383\n",
       "25%           0.979594\n",
       "50%           1.003802\n",
       "75%           1.028273\n",
       "max           3.018887\n",
       "Name: growth_future_5d, dtype: float64"
      ]
     },
     "execution_count": 1198,
     "metadata": {},
     "output_type": "execute_result"
    }
   ],
   "source": [
    "df_full.growth_future_5d.describe()"
   ]
  },
  {
   "cell_type": "code",
   "execution_count": 1199,
   "metadata": {
    "colab": {
     "base_uri": "https://localhost:8080/"
    },
    "id": "SLUhJQ79jlse",
    "outputId": "f4a9e9fa-33fa-47c2-f464-48f7a85d2a2e"
   },
   "outputs": [
    {
     "data": {
      "text/plain": [
       "0.5411319423718697"
      ]
     },
     "execution_count": 1199,
     "metadata": {},
     "output_type": "execute_result"
    }
   ],
   "source": [
    "# 54% of data records have positive future growth>0\n",
    "df_full.is_positive_growth_5d_future.mean()"
   ]
  },
  {
   "cell_type": "code",
   "execution_count": 1200,
   "metadata": {
    "colab": {
     "base_uri": "https://localhost:8080/"
    },
    "id": "Mf_eMiRVjGHE",
    "outputId": "95663827-0d82-4c05-8a4e-2b83b8cf3f1c"
   },
   "outputs": [
    {
     "data": {
      "text/plain": [
       "1.0202201074172228"
      ]
     },
     "execution_count": 1200,
     "metadata": {},
     "output_type": "execute_result"
    }
   ],
   "source": [
    "# moving to strong growth (54% -> ~ 32%)\n",
    "df_full.growth_future_5d.quantile(0.68)"
   ]
  },
  {
   "cell_type": "code",
   "execution_count": 1201,
   "metadata": {
    "id": "8imLlR6JdwTE"
   },
   "outputs": [],
   "source": [
    "# TODO HA4 Q3: Define a new variable 'is_strong_positive_growth_5d_future' according to the task\n",
    "#  it will be automatically added the the list TO_PREDICT\n",
    "df_full['is_strong_positive_growth_5d_future'] = df_full.growth_future_5d > df_full.growth_future_5d.quantile(0.68)"
   ]
  },
  {
   "cell_type": "code",
   "execution_count": 1202,
   "metadata": {
    "colab": {
     "base_uri": "https://localhost:8080/"
    },
    "id": "bbXsoQBRWDp8",
    "outputId": "0332fc33-8608-404c-e3c6-10ea02eb3e29"
   },
   "outputs": [
    {
     "data": {
      "text/plain": [
       "['growth_future_5d',\n",
       " 'is_positive_growth_5d_future',\n",
       " 'is_strong_positive_growth_5d_future']"
      ]
     },
     "execution_count": 1202,
     "metadata": {},
     "output_type": "execute_result"
    }
   ],
   "source": [
    "TO_PREDICT = [g for g in df_full.keys() if (g.find('future')>=0)]\n",
    "TO_PREDICT"
   ]
  },
  {
   "cell_type": "code",
   "execution_count": 1203,
   "metadata": {
    "colab": {
     "base_uri": "https://localhost:8080/"
    },
    "id": "7CbNbrJdWFQc",
    "outputId": "93dec84c-95b8-4337-bcbb-e78f7f0ca522"
   },
   "outputs": [
    {
     "data": {
      "text/plain": [
       "['Year',\n",
       " 'Date',\n",
       " 'index_x',\n",
       " 'index_y',\n",
       " 'index',\n",
       " 'Quarter',\n",
       " 'Adj Close_y',\n",
       " 'Month',\n",
       " 'Weekday',\n",
       " 'Ticker',\n",
       " 'ticker_type',\n",
       " 'Open',\n",
       " 'High',\n",
       " 'Low',\n",
       " 'Close',\n",
       " 'Adj Close_x',\n",
       " 'Volume']"
      ]
     },
     "execution_count": 1203,
     "metadata": {},
     "output_type": "execute_result"
    }
   ],
   "source": [
    "TO_DROP = ['Year','Date','index_x', 'index_y', 'index', 'Quarter','Adj Close_y'] + CATEGORICAL + OHLCV\n",
    "TO_DROP"
   ]
  },
  {
   "cell_type": "code",
   "execution_count": 1204,
   "metadata": {
    "id": "CNc5uwyFWG3M"
   },
   "outputs": [],
   "source": [
    "# let's define on more custom numerical features\n",
    "df_full['ln_volume'] = df_full.Volume.apply(lambda x: np.log(x))"
   ]
  },
  {
   "cell_type": "code",
   "execution_count": 1205,
   "metadata": {
    "id": "XC4T9xLmWJa7"
   },
   "outputs": [],
   "source": [
    "# manually defined features\n",
    "CUSTOM_NUMERICAL = ['SMA10', 'SMA20', 'growing_moving_average', 'high_minus_low_relative','volatility', 'ln_volume']"
   ]
  },
  {
   "cell_type": "code",
   "execution_count": 1206,
   "metadata": {
    "id": "C41u7lvzWLJE"
   },
   "outputs": [],
   "source": [
    "# All Supported Ta-lib indicators: https://github.com/TA-Lib/ta-lib-python/blob/master/docs/funcs.md\n",
    "\n",
    "TECHNICAL_INDICATORS = ['adx', 'adxr', 'apo', 'aroon_1','aroon_2', 'aroonosc',\n",
    " 'bop', 'cci', 'cmo','dx', 'macd', 'macdsignal', 'macdhist', 'macd_ext',\n",
    " 'macdsignal_ext', 'macdhist_ext', 'macd_fix', 'macdsignal_fix',\n",
    " 'macdhist_fix', 'mfi', 'minus_di', 'mom', 'plus_di', 'dm', 'ppo',\n",
    " 'roc', 'rocp', 'rocr', 'rocr100', 'rsi', 'slowk', 'slowd', 'fastk',\n",
    " 'fastd', 'fastk_rsi', 'fastd_rsi', 'trix', 'ultosc', 'willr',\n",
    " 'ad', 'adosc', 'obv', 'atr', 'natr', 'ht_dcperiod', 'ht_dcphase',\n",
    " 'ht_phasor_inphase', 'ht_phasor_quadrature', 'ht_sine_sine', 'ht_sine_leadsine',\n",
    " 'ht_trendmod', 'avgprice', 'medprice', 'typprice', 'wclprice']"
   ]
  },
  {
   "cell_type": "code",
   "execution_count": 1207,
   "metadata": {
    "colab": {
     "base_uri": "https://localhost:8080/"
    },
    "id": "9sNnG3eIWM9r",
    "outputId": "93a35c64-ba05-41de-e3b4-5918d07b6180"
   },
   "outputs": [
    {
     "name": "stdout",
     "output_type": "stream",
     "text": [
      "Technical patterns count = 61, examples = ['cdl2crows', 'cdl3blackrows', 'cdl3inside', 'cdl3linestrike', 'cdl3outside']\n"
     ]
    }
   ],
   "source": [
    "TECHNICAL_PATTERNS = [g for g in df_full.keys() if g.find('cdl')>=0]\n",
    "print(f'Technical patterns count = {len(TECHNICAL_PATTERNS)}, examples = {TECHNICAL_PATTERNS[0:5]}')"
   ]
  },
  {
   "cell_type": "code",
   "execution_count": 1208,
   "metadata": {
    "id": "6rBloicrWOYL"
   },
   "outputs": [],
   "source": [
    "MACRO = ['gdppot_us_yoy', 'gdppot_us_qoq', 'cpi_core_yoy', 'cpi_core_mom', 'FEDFUNDS',\n",
    " 'DGS1', 'DGS5', 'DGS10']"
   ]
  },
  {
   "cell_type": "code",
   "execution_count": 1209,
   "metadata": {
    "id": "t_e3W8kRWQRr"
   },
   "outputs": [],
   "source": [
    "NUMERICAL = GROWTH + TECHNICAL_INDICATORS + TECHNICAL_PATTERNS + CUSTOM_NUMERICAL + MACRO"
   ]
  },
  {
   "cell_type": "code",
   "execution_count": 1210,
   "metadata": {
    "colab": {
     "base_uri": "https://localhost:8080/"
    },
    "id": "QAK0EbpDWRK7",
    "outputId": "532b2fc5-1e71-4d3a-d20d-90e4ebab2986"
   },
   "outputs": [
    {
     "data": {
      "text/plain": [
       "[]"
      ]
     },
     "execution_count": 1210,
     "metadata": {},
     "output_type": "execute_result"
    }
   ],
   "source": [
    "# CHECK: NO OTHER INDICATORS LEFT\n",
    "OTHER = [k for k in df_full.keys() if k not in OHLCV + CATEGORICAL + NUMERICAL + TO_DROP + TO_PREDICT]\n",
    "OTHER"
   ]
  },
  {
   "cell_type": "code",
   "execution_count": 1211,
   "metadata": {
    "colab": {
     "base_uri": "https://localhost:8080/"
    },
    "id": "x-WWdNqjWSY7",
    "outputId": "3a05ccca-f4df-47e7-c283-9ccfaed1eddc"
   },
   "outputs": [
    {
     "data": {
      "text/plain": [
       "33"
      ]
     },
     "execution_count": 1211,
     "metadata": {},
     "output_type": "execute_result"
    }
   ],
   "source": [
    "df_full.Ticker.nunique()"
   ]
  },
  {
   "cell_type": "code",
   "execution_count": 1212,
   "metadata": {
    "colab": {
     "base_uri": "https://localhost:8080/"
    },
    "id": "_44ozBryWTmD",
    "outputId": "5ac2f0a1-dd39-4f13-9325-7ff296022222"
   },
   "outputs": [
    {
     "name": "stdout",
     "output_type": "stream",
     "text": [
      "<class 'pandas.core.frame.DataFrame'>\n",
      "Int64Index: 182675 entries, 3490 to 5426\n",
      "Columns: 204 entries, Open to ln_volume\n",
      "dtypes: bool(1), datetime64[ns](3), float64(129), int32(64), int64(5), object(2)\n",
      "memory usage: 239.9+ MB\n"
     ]
    }
   ],
   "source": [
    "# truncated df_full with 25 years of data (and defined growth variables)\n",
    "df = df_full[df_full.Date>='2000-01-01']\n",
    "df.info()"
   ]
  },
  {
   "cell_type": "code",
   "execution_count": 1213,
   "metadata": {},
   "outputs": [
    {
     "data": {
      "text/plain": [
       "True"
      ]
     },
     "execution_count": 1213,
     "metadata": {},
     "output_type": "execute_result"
    }
   ],
   "source": [
    "'is_strong_positive_growth_5d_future' in df_full.columns"
   ]
  },
  {
   "cell_type": "markdown",
   "metadata": {
    "id": "pDASl99NXU5e"
   },
   "source": [
    "## 0.2) Dummies"
   ]
  },
  {
   "cell_type": "code",
   "execution_count": 1214,
   "metadata": {
    "id": "CaRSY88HWU-D"
   },
   "outputs": [],
   "source": [
    "# dummy variables can't be generated from Date and numeric variables ==> convert to STRING (to define groups for Dummies)\n",
    "df.loc[:,'Month'] = df.Month.dt.strftime('%B')\n",
    "df.loc[:,'Weekday'] = df.Weekday.astype(str)"
   ]
  },
  {
   "cell_type": "markdown",
   "metadata": {
    "id": "qSRpQdx8Y97_"
   },
   "source": [
    "### 0.2.1) Create a new string column 'month_wom' (month_week_of_month)"
   ]
  },
  {
   "cell_type": "code",
   "execution_count": 1215,
   "metadata": {
    "id": "6DQAmZvUXXLe"
   },
   "outputs": [],
   "source": [
    "# define week of month\n",
    "df.loc[:,'wom'] = df.Date.apply(lambda d: (d.day-1)//7 + 1)\n",
    "# convert to string\n",
    "df.loc[:,'wom'] = df.loc[:,'wom'].astype(str)"
   ]
  },
  {
   "cell_type": "code",
   "execution_count": 1216,
   "metadata": {
    "colab": {
     "base_uri": "https://localhost:8080/"
    },
    "id": "C5FL1MRVXjgr",
    "outputId": "68c640ee-cbbe-40c0-e2fb-56c470b1d7b0"
   },
   "outputs": [
    {
     "data": {
      "text/plain": [
       "2    42817\n",
       "3    42007\n",
       "4    41715\n",
       "1    41490\n",
       "5    14646\n",
       "Name: wom, dtype: int64"
      ]
     },
     "execution_count": 1216,
     "metadata": {},
     "output_type": "execute_result"
    }
   ],
   "source": [
    "# check values for week-of-month (should be between 1 and 5)\n",
    "df.wom.value_counts()"
   ]
  },
  {
   "cell_type": "code",
   "execution_count": 1217,
   "metadata": {
    "id": "EugKIiAwXkqN"
   },
   "outputs": [],
   "source": [
    "df.loc[:,'month_wom'] = df.Month + '_w' + df.wom"
   ]
  },
  {
   "cell_type": "code",
   "execution_count": 1218,
   "metadata": {
    "colab": {
     "base_uri": "https://localhost:8080/"
    },
    "id": "31WAyGcEXmHt",
    "outputId": "d9b0d918-26f8-426f-eb35-f8af47cd4f85"
   },
   "outputs": [
    {
     "data": {
      "text/plain": [
       "February_w1    3705\n",
       "January_w2     3686\n",
       "Name: month_wom, dtype: int64"
      ]
     },
     "execution_count": 1218,
     "metadata": {},
     "output_type": "execute_result"
    }
   ],
   "source": [
    "# examples of encoding\n",
    "df.month_wom.value_counts()[0:2]"
   ]
  },
  {
   "cell_type": "code",
   "execution_count": 1219,
   "metadata": {
    "id": "Yu8tCw_lXnXd"
   },
   "outputs": [],
   "source": [
    "# del wom temp variable\n",
    "del df['wom']"
   ]
  },
  {
   "cell_type": "markdown",
   "metadata": {
    "id": "-oaBtlVfZBhV"
   },
   "source": [
    "### 0.2.2) Generate all dummies"
   ]
  },
  {
   "cell_type": "code",
   "execution_count": 1220,
   "metadata": {
    "colab": {
     "base_uri": "https://localhost:8080/"
    },
    "id": "69ep2F0mXpN8",
    "outputId": "bc6982dd-5009-443b-a616-57613d22f321"
   },
   "outputs": [
    {
     "data": {
      "text/plain": [
       "['Month', 'Weekday', 'Ticker', 'ticker_type', 'month_wom']"
      ]
     },
     "execution_count": 1220,
     "metadata": {},
     "output_type": "execute_result"
    }
   ],
   "source": [
    "# what are the categorical features?\n",
    "CATEGORICAL.append('month_wom')\n",
    "CATEGORICAL"
   ]
  },
  {
   "cell_type": "code",
   "execution_count": 1221,
   "metadata": {
    "id": "vmC3oav8ZGHJ"
   },
   "outputs": [],
   "source": [
    "# Generate dummy variables (no need for bool, let's have int32 instead)\n",
    "dummy_variables = pd.get_dummies(df[CATEGORICAL], dtype='int32')"
   ]
  },
  {
   "cell_type": "code",
   "execution_count": 1222,
   "metadata": {
    "colab": {
     "base_uri": "https://localhost:8080/"
    },
    "id": "oY0lIQZhZHOU",
    "outputId": "cfb1f8b7-1205-460f-a078-9f28c53db3bb"
   },
   "outputs": [
    {
     "name": "stdout",
     "output_type": "stream",
     "text": [
      "<class 'pandas.core.frame.DataFrame'>\n",
      "Int64Index: 182675 entries, 3490 to 5426\n",
      "Columns: 115 entries, Month_April to month_wom_September_w5\n",
      "dtypes: int32(115)\n",
      "memory usage: 81.5 MB\n"
     ]
    }
   ],
   "source": [
    "dummy_variables.info()"
   ]
  },
  {
   "cell_type": "code",
   "execution_count": 1223,
   "metadata": {
    "colab": {
     "base_uri": "https://localhost:8080/"
    },
    "id": "oLhfvOTSZIok",
    "outputId": "456761dd-b227-4bef-99ae-a6bc843cc7e4"
   },
   "outputs": [
    {
     "data": {
      "text/plain": [
       "['Month_April',\n",
       " 'Month_August',\n",
       " 'Month_December',\n",
       " 'Month_February',\n",
       " 'Month_January',\n",
       " 'Month_July',\n",
       " 'Month_June',\n",
       " 'Month_March',\n",
       " 'Month_May',\n",
       " 'Month_November',\n",
       " 'Month_October',\n",
       " 'Month_September',\n",
       " 'Weekday_0',\n",
       " 'Weekday_1',\n",
       " 'Weekday_2',\n",
       " 'Weekday_3',\n",
       " 'Weekday_4',\n",
       " 'Weekday_5',\n",
       " 'Weekday_6',\n",
       " 'Ticker_AAPL',\n",
       " 'Ticker_ACN',\n",
       " 'Ticker_AMZN',\n",
       " 'Ticker_ASML',\n",
       " 'Ticker_AVGO',\n",
       " 'Ticker_BHARTIARTL.NS',\n",
       " 'Ticker_BRK-B',\n",
       " 'Ticker_CDI.PA',\n",
       " 'Ticker_GOOG',\n",
       " 'Ticker_HDB',\n",
       " 'Ticker_HINDUNILVR.NS',\n",
       " 'Ticker_IBN',\n",
       " 'Ticker_IDEXY',\n",
       " 'Ticker_INFY',\n",
       " 'Ticker_ITC.NS',\n",
       " 'Ticker_JPM',\n",
       " 'Ticker_LICI.NS',\n",
       " 'Ticker_LLY',\n",
       " 'Ticker_LT.NS',\n",
       " 'Ticker_MC.PA',\n",
       " 'Ticker_META',\n",
       " 'Ticker_MSFT',\n",
       " 'Ticker_NVDA',\n",
       " 'Ticker_NVO',\n",
       " 'Ticker_OR.PA',\n",
       " 'Ticker_RELIANCE.NS',\n",
       " 'Ticker_RMS.PA',\n",
       " 'Ticker_SAP',\n",
       " 'Ticker_SBIN.NS',\n",
       " 'Ticker_SIE.DE',\n",
       " 'Ticker_TCS.NS',\n",
       " 'Ticker_TTE',\n",
       " 'Ticker_V',\n",
       " 'ticker_type_EU',\n",
       " 'ticker_type_INDIA',\n",
       " 'ticker_type_US',\n",
       " 'month_wom_April_w1',\n",
       " 'month_wom_April_w2',\n",
       " 'month_wom_April_w3',\n",
       " 'month_wom_April_w4',\n",
       " 'month_wom_April_w5',\n",
       " 'month_wom_August_w1',\n",
       " 'month_wom_August_w2',\n",
       " 'month_wom_August_w3',\n",
       " 'month_wom_August_w4',\n",
       " 'month_wom_August_w5',\n",
       " 'month_wom_December_w1',\n",
       " 'month_wom_December_w2',\n",
       " 'month_wom_December_w3',\n",
       " 'month_wom_December_w4',\n",
       " 'month_wom_December_w5',\n",
       " 'month_wom_February_w1',\n",
       " 'month_wom_February_w2',\n",
       " 'month_wom_February_w3',\n",
       " 'month_wom_February_w4',\n",
       " 'month_wom_February_w5',\n",
       " 'month_wom_January_w1',\n",
       " 'month_wom_January_w2',\n",
       " 'month_wom_January_w3',\n",
       " 'month_wom_January_w4',\n",
       " 'month_wom_January_w5',\n",
       " 'month_wom_July_w1',\n",
       " 'month_wom_July_w2',\n",
       " 'month_wom_July_w3',\n",
       " 'month_wom_July_w4',\n",
       " 'month_wom_July_w5',\n",
       " 'month_wom_June_w1',\n",
       " 'month_wom_June_w2',\n",
       " 'month_wom_June_w3',\n",
       " 'month_wom_June_w4',\n",
       " 'month_wom_June_w5',\n",
       " 'month_wom_March_w1',\n",
       " 'month_wom_March_w2',\n",
       " 'month_wom_March_w3',\n",
       " 'month_wom_March_w4',\n",
       " 'month_wom_March_w5',\n",
       " 'month_wom_May_w1',\n",
       " 'month_wom_May_w2',\n",
       " 'month_wom_May_w3',\n",
       " 'month_wom_May_w4',\n",
       " 'month_wom_May_w5',\n",
       " 'month_wom_November_w1',\n",
       " 'month_wom_November_w2',\n",
       " 'month_wom_November_w3',\n",
       " 'month_wom_November_w4',\n",
       " 'month_wom_November_w5',\n",
       " 'month_wom_October_w1',\n",
       " 'month_wom_October_w2',\n",
       " 'month_wom_October_w3',\n",
       " 'month_wom_October_w4',\n",
       " 'month_wom_October_w5',\n",
       " 'month_wom_September_w1',\n",
       " 'month_wom_September_w2',\n",
       " 'month_wom_September_w3',\n",
       " 'month_wom_September_w4',\n",
       " 'month_wom_September_w5']"
      ]
     },
     "execution_count": 1223,
     "metadata": {},
     "output_type": "execute_result"
    }
   ],
   "source": [
    "# get dummies names in a list\n",
    "DUMMIES = dummy_variables.keys().to_list()\n",
    "DUMMIES"
   ]
  },
  {
   "cell_type": "code",
   "execution_count": 1224,
   "metadata": {
    "colab": {
     "base_uri": "https://localhost:8080/"
    },
    "id": "6tOjmWbYZ4-R",
    "outputId": "799f5ea2-6479-4e82-e4fd-71448d49aba0"
   },
   "outputs": [
    {
     "data": {
      "text/plain": [
       "115"
      ]
     },
     "execution_count": 1224,
     "metadata": {},
     "output_type": "execute_result"
    }
   ],
   "source": [
    "len(DUMMIES)"
   ]
  },
  {
   "cell_type": "code",
   "execution_count": 1225,
   "metadata": {
    "id": "ue-ErnKBZ6XZ"
   },
   "outputs": [],
   "source": [
    "# Concatenate the dummy variables with the original DataFrame\n",
    "df_with_dummies = pd.concat([df, dummy_variables], axis=1)"
   ]
  },
  {
   "cell_type": "code",
   "execution_count": 1226,
   "metadata": {
    "colab": {
     "base_uri": "https://localhost:8080/"
    },
    "id": "eSYdvRh_Z8Kq",
    "outputId": "be79b4cc-fb78-497a-8d31-7acebcbd2e89"
   },
   "outputs": [
    {
     "name": "stdout",
     "output_type": "stream",
     "text": [
      "<class 'pandas.core.frame.DataFrame'>\n",
      "Int64Index: 182675 entries, 3490 to 5426\n",
      "Columns: 299 entries, growth_1d to month_wom_September_w5\n",
      "dtypes: float64(121), int32(177), int64(1)\n",
      "memory usage: 294.8 MB\n"
     ]
    }
   ],
   "source": [
    "df_with_dummies[NUMERICAL+DUMMIES].info()"
   ]
  },
  {
   "cell_type": "code",
   "execution_count": 1227,
   "metadata": {},
   "outputs": [
    {
     "data": {
      "text/plain": [
       "['Month_April',\n",
       " 'Month_August',\n",
       " 'Month_December',\n",
       " 'Month_February',\n",
       " 'Month_January',\n",
       " 'Month_July',\n",
       " 'Month_June',\n",
       " 'Month_March',\n",
       " 'Month_May',\n",
       " 'Month_November',\n",
       " 'Month_October',\n",
       " 'Month_September',\n",
       " 'Weekday_0',\n",
       " 'Weekday_1',\n",
       " 'Weekday_2',\n",
       " 'Weekday_3',\n",
       " 'Weekday_4',\n",
       " 'Weekday_5',\n",
       " 'Weekday_6',\n",
       " 'Ticker_AAPL',\n",
       " 'Ticker_ACN',\n",
       " 'Ticker_AMZN',\n",
       " 'Ticker_ASML',\n",
       " 'Ticker_AVGO',\n",
       " 'Ticker_BHARTIARTL.NS',\n",
       " 'Ticker_BRK-B',\n",
       " 'Ticker_CDI.PA',\n",
       " 'Ticker_GOOG',\n",
       " 'Ticker_HDB',\n",
       " 'Ticker_HINDUNILVR.NS',\n",
       " 'Ticker_IBN',\n",
       " 'Ticker_IDEXY',\n",
       " 'Ticker_INFY',\n",
       " 'Ticker_ITC.NS',\n",
       " 'Ticker_JPM',\n",
       " 'Ticker_LICI.NS',\n",
       " 'Ticker_LLY',\n",
       " 'Ticker_LT.NS',\n",
       " 'Ticker_MC.PA',\n",
       " 'Ticker_META',\n",
       " 'Ticker_MSFT',\n",
       " 'Ticker_NVDA',\n",
       " 'Ticker_NVO',\n",
       " 'Ticker_OR.PA',\n",
       " 'Ticker_RELIANCE.NS',\n",
       " 'Ticker_RMS.PA',\n",
       " 'Ticker_SAP',\n",
       " 'Ticker_SBIN.NS',\n",
       " 'Ticker_SIE.DE',\n",
       " 'Ticker_TCS.NS',\n",
       " 'Ticker_TTE',\n",
       " 'Ticker_V',\n",
       " 'ticker_type_EU',\n",
       " 'ticker_type_INDIA',\n",
       " 'ticker_type_US',\n",
       " 'month_wom_April_w1',\n",
       " 'month_wom_April_w2',\n",
       " 'month_wom_April_w3',\n",
       " 'month_wom_April_w4',\n",
       " 'month_wom_April_w5',\n",
       " 'month_wom_August_w1',\n",
       " 'month_wom_August_w2',\n",
       " 'month_wom_August_w3',\n",
       " 'month_wom_August_w4',\n",
       " 'month_wom_August_w5',\n",
       " 'month_wom_December_w1',\n",
       " 'month_wom_December_w2',\n",
       " 'month_wom_December_w3',\n",
       " 'month_wom_December_w4',\n",
       " 'month_wom_December_w5',\n",
       " 'month_wom_February_w1',\n",
       " 'month_wom_February_w2',\n",
       " 'month_wom_February_w3',\n",
       " 'month_wom_February_w4',\n",
       " 'month_wom_February_w5',\n",
       " 'month_wom_January_w1',\n",
       " 'month_wom_January_w2',\n",
       " 'month_wom_January_w3',\n",
       " 'month_wom_January_w4',\n",
       " 'month_wom_January_w5',\n",
       " 'month_wom_July_w1',\n",
       " 'month_wom_July_w2',\n",
       " 'month_wom_July_w3',\n",
       " 'month_wom_July_w4',\n",
       " 'month_wom_July_w5',\n",
       " 'month_wom_June_w1',\n",
       " 'month_wom_June_w2',\n",
       " 'month_wom_June_w3',\n",
       " 'month_wom_June_w4',\n",
       " 'month_wom_June_w5',\n",
       " 'month_wom_March_w1',\n",
       " 'month_wom_March_w2',\n",
       " 'month_wom_March_w3',\n",
       " 'month_wom_March_w4',\n",
       " 'month_wom_March_w5',\n",
       " 'month_wom_May_w1',\n",
       " 'month_wom_May_w2',\n",
       " 'month_wom_May_w3',\n",
       " 'month_wom_May_w4',\n",
       " 'month_wom_May_w5',\n",
       " 'month_wom_November_w1',\n",
       " 'month_wom_November_w2',\n",
       " 'month_wom_November_w3',\n",
       " 'month_wom_November_w4',\n",
       " 'month_wom_November_w5',\n",
       " 'month_wom_October_w1',\n",
       " 'month_wom_October_w2',\n",
       " 'month_wom_October_w3',\n",
       " 'month_wom_October_w4',\n",
       " 'month_wom_October_w5',\n",
       " 'month_wom_September_w1',\n",
       " 'month_wom_September_w2',\n",
       " 'month_wom_September_w3',\n",
       " 'month_wom_September_w4',\n",
       " 'month_wom_September_w5']"
      ]
     },
     "execution_count": 1227,
     "metadata": {},
     "output_type": "execute_result"
    }
   ],
   "source": [
    "DUMMIES"
   ]
  },
  {
   "cell_type": "code",
   "execution_count": 1228,
   "metadata": {},
   "outputs": [
    {
     "data": {
      "text/plain": [
       "True"
      ]
     },
     "execution_count": 1228,
     "metadata": {},
     "output_type": "execute_result"
    }
   ],
   "source": [
    "'is_strong_positive_growth_5d_future' in df_with_dummies.columns"
   ]
  },
  {
   "cell_type": "markdown",
   "metadata": {
    "id": "P5Yx6gCfZP0A"
   },
   "source": [
    "### 0.2.3 Define \"DUMMIES_SHORT\""
   ]
  },
  {
   "cell_type": "code",
   "execution_count": 1229,
   "metadata": {
    "id": "csXwAWouZWJE"
   },
   "outputs": [],
   "source": [
    "# TODO HA4 Q2: Define DUMMIES_SHORT from DUMMIES -- all elements: without month_* and Ticker_*\n",
    "#DUMMIES_SHORT=[]\n",
    "\n",
    "DUMMIES_SHORT= [dum for dum in DUMMIES if (not dum.startswith('month_'))&( not dum.startswith('Ticker_'))]"
   ]
  },
  {
   "cell_type": "code",
   "execution_count": 1230,
   "metadata": {
    "colab": {
     "base_uri": "https://localhost:8080/"
    },
    "id": "lVK6iJMcdAQX",
    "outputId": "21e0e48a-5fbb-4698-c04a-2e229d32061d"
   },
   "outputs": [
    {
     "name": "stdout",
     "output_type": "stream",
     "text": [
      "<class 'pandas.core.frame.DataFrame'>\n",
      "Int64Index: 182675 entries, 3490 to 5426\n",
      "Columns: 206 entries, growth_1d to ticker_type_US\n",
      "dtypes: float64(121), int32(84), int64(1)\n",
      "memory usage: 230.0 MB\n"
     ]
    }
   ],
   "source": [
    "# now check the size of the dataset\n",
    "df_with_dummies[NUMERICAL+DUMMIES_SHORT].info()"
   ]
  },
  {
   "cell_type": "markdown",
   "metadata": {
    "id": "4PlNTgNRZqKE"
   },
   "source": [
    "### 0.2.4) Temporal split"
   ]
  },
  {
   "cell_type": "code",
   "execution_count": 1231,
   "metadata": {
    "id": "JgKjTey_Ztao"
   },
   "outputs": [],
   "source": [
    "def temporal_split(df, min_date, max_date, train_prop=0.7, val_prop=0.15, test_prop=0.15):\n",
    "    \"\"\"\n",
    "    Splits a DataFrame into three buckets based on the temporal order of the 'Date' column.\n",
    "\n",
    "    Args:\n",
    "        df (DataFrame): The DataFrame to split.\n",
    "        min_date (str or Timestamp): Minimum date in the DataFrame.\n",
    "        max_date (str or Timestamp): Maximum date in the DataFrame.\n",
    "        train_prop (float): Proportion of data for training set (default: 0.7).\n",
    "        val_prop (float): Proportion of data for validation set (default: 0.15).\n",
    "        test_prop (float): Proportion of data for test set (default: 0.15).\n",
    "\n",
    "    Returns:\n",
    "        DataFrame: The input DataFrame with a new column 'split' indicating the split for each row.\n",
    "    \"\"\"\n",
    "    # Define the date intervals\n",
    "    train_end = min_date + pd.Timedelta(days=(max_date - min_date).days * train_prop)\n",
    "    val_end = train_end + pd.Timedelta(days=(max_date - min_date).days * val_prop)\n",
    "\n",
    "    # Assign split labels based on date ranges\n",
    "    split_labels = []\n",
    "    for date in df['Date']:\n",
    "        if date <= train_end:\n",
    "            split_labels.append('train')\n",
    "        elif date <= val_end:\n",
    "            split_labels.append('validation')\n",
    "        else:\n",
    "            split_labels.append('test')\n",
    "\n",
    "    # Add 'split' column to the DataFrame\n",
    "    df['split'] = split_labels\n",
    "\n",
    "    return df"
   ]
  },
  {
   "cell_type": "code",
   "execution_count": 1232,
   "metadata": {
    "id": "uxEHgYXSZyQr"
   },
   "outputs": [],
   "source": [
    "min_date_df = df_with_dummies.Date.min()\n",
    "max_date_df = df_with_dummies.Date.max()\n",
    "\n",
    "df_with_dummies = temporal_split(df_with_dummies,\n",
    "                                 min_date = min_date_df,\n",
    "                                 max_date = max_date_df)"
   ]
  },
  {
   "cell_type": "code",
   "execution_count": 1233,
   "metadata": {
    "colab": {
     "base_uri": "https://localhost:8080/"
    },
    "id": "Tr-hylcUcxrp",
    "outputId": "d6db5212-71ea-4810-80cd-d63fc42eb0ce"
   },
   "outputs": [
    {
     "data": {
      "text/plain": [
       "train         0.675834\n",
       "test          0.163290\n",
       "validation    0.160876\n",
       "Name: split, dtype: float64"
      ]
     },
     "execution_count": 1233,
     "metadata": {},
     "output_type": "execute_result"
    }
   ],
   "source": [
    "# the split is approximate!\n",
    "  # as tickers can have a different history\n",
    "df_with_dummies['split'].value_counts()/len(df_with_dummies)"
   ]
  },
  {
   "cell_type": "code",
   "execution_count": 1234,
   "metadata": {
    "id": "Y4cIgjawcx5J"
   },
   "outputs": [],
   "source": [
    "# remove the \"segmentation\" problem (warning message on df performance after many joins and data transformations)\n",
    "new_df = df_with_dummies.copy()"
   ]
  },
  {
   "cell_type": "code",
   "execution_count": 1235,
   "metadata": {},
   "outputs": [
    {
     "data": {
      "text/plain": [
       "True"
      ]
     },
     "execution_count": 1235,
     "metadata": {},
     "output_type": "execute_result"
    }
   ],
   "source": [
    "'is_strong_positive_growth_5d_future' in new_df.columns"
   ]
  },
  {
   "cell_type": "code",
   "execution_count": 1236,
   "metadata": {
    "colab": {
     "base_uri": "https://localhost:8080/",
     "height": 175
    },
    "id": "0Q7X54t2dXAY",
    "outputId": "55ec6541-37f6-4bcd-b774-43dd000f29ca"
   },
   "outputs": [
    {
     "data": {
      "text/html": [
       "<div>\n",
       "<style scoped>\n",
       "    .dataframe tbody tr th:only-of-type {\n",
       "        vertical-align: middle;\n",
       "    }\n",
       "\n",
       "    .dataframe tbody tr th {\n",
       "        vertical-align: top;\n",
       "    }\n",
       "\n",
       "    .dataframe thead th {\n",
       "        text-align: right;\n",
       "    }\n",
       "</style>\n",
       "<table border=\"1\" class=\"dataframe\">\n",
       "  <thead>\n",
       "    <tr style=\"text-align: right;\">\n",
       "      <th></th>\n",
       "      <th>min</th>\n",
       "      <th>count</th>\n",
       "      <th>max</th>\n",
       "    </tr>\n",
       "    <tr>\n",
       "      <th>split</th>\n",
       "      <th></th>\n",
       "      <th></th>\n",
       "      <th></th>\n",
       "    </tr>\n",
       "  </thead>\n",
       "  <tbody>\n",
       "    <tr>\n",
       "      <th>test</th>\n",
       "      <td>2020-09-14</td>\n",
       "      <td>29829</td>\n",
       "      <td>2024-05-07</td>\n",
       "    </tr>\n",
       "    <tr>\n",
       "      <th>train</th>\n",
       "      <td>2000-01-03</td>\n",
       "      <td>123458</td>\n",
       "      <td>2017-01-16</td>\n",
       "    </tr>\n",
       "    <tr>\n",
       "      <th>validation</th>\n",
       "      <td>2017-01-17</td>\n",
       "      <td>29388</td>\n",
       "      <td>2020-09-11</td>\n",
       "    </tr>\n",
       "  </tbody>\n",
       "</table>\n",
       "</div>"
      ],
      "text/plain": [
       "                  min   count        max\n",
       "split                                   \n",
       "test       2020-09-14   29829 2024-05-07\n",
       "train      2000-01-03  123458 2017-01-16\n",
       "validation 2017-01-17   29388 2020-09-11"
      ]
     },
     "execution_count": 1236,
     "metadata": {},
     "output_type": "execute_result"
    }
   ],
   "source": [
    "# EXACT DATES for the split:\n",
    "# time split on train/validation/test: FIXED dates of split, approx. 70%, 15%, 15% split\n",
    "new_df.groupby(['split'])['Date'].agg({'min','max','count'})"
   ]
  },
  {
   "cell_type": "code",
   "execution_count": 1237,
   "metadata": {
    "colab": {
     "base_uri": "https://localhost:8080/"
    },
    "id": "p4i13Gt6fRxn",
    "outputId": "27372f12-424f-4ff6-8d54-587d77e2216c"
   },
   "outputs": [
    {
     "name": "stdout",
     "output_type": "stream",
     "text": [
      "<class 'pandas.core.frame.DataFrame'>\n",
      "Int64Index: 182675 entries, 3490 to 5426\n",
      "Columns: 321 entries, Open to split\n",
      "dtypes: bool(1), datetime64[ns](2), float64(129), int32(178), int64(5), object(6)\n",
      "memory usage: 323.5+ MB\n"
     ]
    }
   ],
   "source": [
    "# Full dataframe (transformed and truncated to 25 years)\n",
    "new_df.info()"
   ]
  },
  {
   "cell_type": "code",
   "execution_count": 1238,
   "metadata": {
    "colab": {
     "base_uri": "https://localhost:8080/",
     "height": 147
    },
    "id": "iJDIOFfNfVlx",
    "outputId": "e72a101b-28a1-4f3d-ac2c-606121b1a506"
   },
   "outputs": [
    {
     "data": {
      "text/html": [
       "<div>\n",
       "<style scoped>\n",
       "    .dataframe tbody tr th:only-of-type {\n",
       "        vertical-align: middle;\n",
       "    }\n",
       "\n",
       "    .dataframe tbody tr th {\n",
       "        vertical-align: top;\n",
       "    }\n",
       "\n",
       "    .dataframe thead th {\n",
       "        text-align: right;\n",
       "    }\n",
       "</style>\n",
       "<table border=\"1\" class=\"dataframe\">\n",
       "  <thead>\n",
       "    <tr style=\"text-align: right;\">\n",
       "      <th></th>\n",
       "      <th>Open</th>\n",
       "      <th>High</th>\n",
       "      <th>Low</th>\n",
       "      <th>Close</th>\n",
       "      <th>Adj Close_x</th>\n",
       "      <th>Volume</th>\n",
       "      <th>Ticker</th>\n",
       "      <th>Year</th>\n",
       "      <th>Month</th>\n",
       "      <th>Weekday</th>\n",
       "      <th>...</th>\n",
       "      <th>month_wom_October_w2</th>\n",
       "      <th>month_wom_October_w3</th>\n",
       "      <th>month_wom_October_w4</th>\n",
       "      <th>month_wom_October_w5</th>\n",
       "      <th>month_wom_September_w1</th>\n",
       "      <th>month_wom_September_w2</th>\n",
       "      <th>month_wom_September_w3</th>\n",
       "      <th>month_wom_September_w4</th>\n",
       "      <th>month_wom_September_w5</th>\n",
       "      <th>split</th>\n",
       "    </tr>\n",
       "  </thead>\n",
       "  <tbody>\n",
       "    <tr>\n",
       "      <th>3490</th>\n",
       "      <td>58.6875</td>\n",
       "      <td>59.3125</td>\n",
       "      <td>56.0</td>\n",
       "      <td>58.28125</td>\n",
       "      <td>36.065567</td>\n",
       "      <td>53228400.0</td>\n",
       "      <td>MSFT</td>\n",
       "      <td>2000</td>\n",
       "      <td>January</td>\n",
       "      <td>0</td>\n",
       "      <td>...</td>\n",
       "      <td>0</td>\n",
       "      <td>0</td>\n",
       "      <td>0</td>\n",
       "      <td>0</td>\n",
       "      <td>0</td>\n",
       "      <td>0</td>\n",
       "      <td>0</td>\n",
       "      <td>0</td>\n",
       "      <td>0</td>\n",
       "      <td>train</td>\n",
       "    </tr>\n",
       "  </tbody>\n",
       "</table>\n",
       "<p>1 rows × 321 columns</p>\n",
       "</div>"
      ],
      "text/plain": [
       "         Open     High   Low     Close  Adj Close_x      Volume Ticker  Year  \\\n",
       "3490  58.6875  59.3125  56.0  58.28125    36.065567  53228400.0   MSFT  2000   \n",
       "\n",
       "        Month Weekday  ... month_wom_October_w2  month_wom_October_w3  \\\n",
       "3490  January       0  ...                    0                     0   \n",
       "\n",
       "      month_wom_October_w4  month_wom_October_w5  month_wom_September_w1  \\\n",
       "3490                     0                     0                       0   \n",
       "\n",
       "      month_wom_September_w2  month_wom_September_w3  month_wom_September_w4  \\\n",
       "3490                       0                       0                       0   \n",
       "\n",
       "      month_wom_September_w5  split  \n",
       "3490                       0  train  \n",
       "\n",
       "[1 rows x 321 columns]"
      ]
     },
     "execution_count": 1238,
     "metadata": {},
     "output_type": "execute_result"
    }
   ],
   "source": [
    "# check one record: it has abs. values, text, and numbers\n",
    "new_df.head(1)"
   ]
  },
  {
   "cell_type": "code",
   "execution_count": 1239,
   "metadata": {
    "colab": {
     "base_uri": "https://localhost:8080/",
     "height": 81
    },
    "id": "DxhUdHUgfY11",
    "outputId": "94f4c62f-64d8-480c-d125-ca35abc65048"
   },
   "outputs": [
    {
     "data": {
      "text/html": [
       "<div>\n",
       "<style scoped>\n",
       "    .dataframe tbody tr th:only-of-type {\n",
       "        vertical-align: middle;\n",
       "    }\n",
       "\n",
       "    .dataframe tbody tr th {\n",
       "        vertical-align: top;\n",
       "    }\n",
       "\n",
       "    .dataframe thead th {\n",
       "        text-align: right;\n",
       "    }\n",
       "</style>\n",
       "<table border=\"1\" class=\"dataframe\">\n",
       "  <thead>\n",
       "    <tr style=\"text-align: right;\">\n",
       "      <th></th>\n",
       "      <th>growth_future_5d</th>\n",
       "      <th>is_positive_growth_5d_future</th>\n",
       "      <th>is_strong_positive_growth_5d_future</th>\n",
       "    </tr>\n",
       "  </thead>\n",
       "  <tbody>\n",
       "    <tr>\n",
       "      <th>3490</th>\n",
       "      <td>0.963003</td>\n",
       "      <td>0</td>\n",
       "      <td>False</td>\n",
       "    </tr>\n",
       "  </tbody>\n",
       "</table>\n",
       "</div>"
      ],
      "text/plain": [
       "      growth_future_5d  is_positive_growth_5d_future  \\\n",
       "3490          0.963003                             0   \n",
       "\n",
       "      is_strong_positive_growth_5d_future  \n",
       "3490                                False  "
      ]
     },
     "execution_count": 1239,
     "metadata": {},
     "output_type": "execute_result"
    }
   ],
   "source": [
    "# what do we try to predict\n",
    "new_df[TO_PREDICT].head(1)"
   ]
  },
  {
   "cell_type": "markdown",
   "metadata": {
    "id": "iCOKbMCweoCo"
   },
   "source": [
    "### 0.2.5 Define dataframes for Modeling (ML) and cleane them"
   ]
  },
  {
   "cell_type": "code",
   "execution_count": 1348,
   "metadata": {
    "colab": {
     "base_uri": "https://localhost:8080/"
    },
    "id": "ORY8KtcrNS0K",
    "outputId": "23d7118d-ed06-4677-d117-3ae7169bf584"
   },
   "outputs": [
    {
     "name": "stdout",
     "output_type": "stream",
     "text": [
      "length: X_train (123458, 300),  X_validation (29388, 300), X_test (29829, 300), X_train_valid = (152846, 300),  all combined: X_all (182675, 300)\n"
     ]
    }
   ],
   "source": [
    "# Features to be used in predictions (incl. new dummies)\n",
    "\n",
    "# TODO HA4 Q2: use correct dummies here : DUMMIES_SHOR\n",
    "\n",
    "features_list = NUMERICAL+ DUMMIES  # DUMMIES_SHORT\n",
    "\n",
    "# What we're trying to predict?\n",
    "\n",
    "# TODO HA4 Q3: use correct feature to predict 'is_strong_positive_growth_5d_future'\n",
    "\n",
    "to_predict = 'is_strong_positive_growth_5d_future' #'is_positive_growth_5d_future'\n",
    "\n",
    "train_df = new_df[new_df.split.isin(['train'])].copy(deep=True)\n",
    "valid_df = new_df[new_df.split.isin(['validation'])].copy(deep=True)\n",
    "train_valid_df = new_df[new_df.split.isin(['train','validation'])].copy(deep=True)\n",
    "\n",
    "test_df =  new_df[new_df.split.isin(['test'])].copy(deep=True)\n",
    "\n",
    "# ONLY numerical Separate features and target variable for training and testing sets\n",
    "X_train = train_df[features_list+[to_predict]]\n",
    "X_valid = valid_df[features_list+[to_predict]]\n",
    "\n",
    "X_train_valid = train_valid_df[features_list+[to_predict]]\n",
    "\n",
    "X_test = test_df[features_list+[to_predict]]\n",
    "\n",
    "# this to be used for predictions and join to the original dataframe new_df\n",
    "X_all =  new_df[features_list+[to_predict]].copy(deep=True)\n",
    "\n",
    "print(f'length: X_train {X_train.shape},  X_validation {X_valid.shape}, X_test {X_test.shape}, X_train_valid = {X_train_valid.shape},  all combined: X_all {X_all.shape}')"
   ]
  },
  {
   "cell_type": "code",
   "execution_count": 1349,
   "metadata": {
    "id": "VhpEOSemftan"
   },
   "outputs": [],
   "source": [
    "# Prepare a dataframe for ML:\n",
    "  # +-inf to NaN, all NaNs to 0s\n",
    "def clean_dataframe_from_inf_and_nan(df:pd.DataFrame):\n",
    "  df.replace([np.inf, -np.inf], np.nan, inplace=True)\n",
    "  df.fillna(0, inplace=True)\n",
    "  return df"
   ]
  },
  {
   "cell_type": "code",
   "execution_count": 1350,
   "metadata": {
    "id": "V1l1jTnWf5BR"
   },
   "outputs": [],
   "source": [
    "# Clean from +-inf and NaNs:\n",
    "\n",
    "X_train = clean_dataframe_from_inf_and_nan(X_train)\n",
    "X_valid = clean_dataframe_from_inf_and_nan(X_valid)\n",
    "X_train_valid = clean_dataframe_from_inf_and_nan(X_train_valid)\n",
    "X_test = clean_dataframe_from_inf_and_nan(X_test)\n",
    "X_all = clean_dataframe_from_inf_and_nan(X_all)"
   ]
  },
  {
   "cell_type": "code",
   "execution_count": 1351,
   "metadata": {
    "id": "Gyise-_BgGIr"
   },
   "outputs": [],
   "source": [
    "y_train = X_train[to_predict]\n",
    "\n",
    "y_valid = X_valid[to_predict]\n",
    "\n",
    "y_train_valid = X_train_valid[to_predict]\n",
    "y_test = X_test[to_predict]\n",
    "y_all =  X_all[to_predict]\n",
    "\n",
    "# remove y_train, y_test from X_ dataframes\n",
    "del X_train[to_predict]\n",
    "del X_valid[to_predict]\n",
    "del X_train_valid[to_predict]\n",
    "\n",
    "del X_test[to_predict]\n",
    "\n",
    "del X_all[to_predict]"
   ]
  },
  {
   "cell_type": "markdown",
   "metadata": {
    "id": "kkKt7sJYdNF2"
   },
   "source": [
    "# 1) Modeling"
   ]
  },
  {
   "cell_type": "markdown",
   "metadata": {
    "id": "Dlhxz3d4djgT"
   },
   "source": [
    "## 1.1) Manual 'rule of thumb' predictions\n",
    "* (pred0) CCI>200 (binary, on technical indicator CCI)\n",
    "* (pred1) growth_1d>1\n",
    "* (pred2) (growth_1d>1) & (growth_snp500_1d>1)\n",
    "* (pred3) (gdppot_us_yoy <= 0.027) & (fastd >= 0.251)\n",
    "* (pred4) (gdppot_us_yoy >= 0.027) & (growth_wti_oil_30d <= 1.005)"
   ]
  },
  {
   "cell_type": "code",
   "execution_count": 1352,
   "metadata": {
    "id": "PQrCT7xldUdf"
   },
   "outputs": [],
   "source": [
    "# generate manual predictions\n",
    "# Let's label all prediction features with prefix \"pred\"\n",
    "new_df['pred0_manual_cci'] = (new_df.cci>200).astype(int)\n",
    "new_df['pred1_manual_prev_g1'] = (new_df.growth_1d>1).astype(int)\n",
    "new_df['pred2_manual_prev_g1_and_snp'] = ((new_df['growth_1d'] > 1) & (new_df['growth_snp500_1d'] > 1)).astype(int)\n",
    "new_df['pred3_manual_gdp_and_fastd'] = ((new_df['gdppot_us_yoy'] <= 0.027) & (new_df['fastd'] >=0.251)).astype(int)\n",
    "new_df['pred4_manual_gdp_and_wti30d'] = ((new_df['gdppot_us_yoy'] >= 0.027) & (new_df['growth_wti_oil_30d'] <= 1.005)).astype(int)"
   ]
  },
  {
   "cell_type": "code",
   "execution_count": 1353,
   "metadata": {
    "colab": {
     "base_uri": "https://localhost:8080/",
     "height": 444
    },
    "id": "3tD9asrDkC3m",
    "outputId": "83446863-9f45-4dc6-b053-d4c03430b42c"
   },
   "outputs": [
    {
     "data": {
      "text/html": [
       "<div>\n",
       "<style scoped>\n",
       "    .dataframe tbody tr th:only-of-type {\n",
       "        vertical-align: middle;\n",
       "    }\n",
       "\n",
       "    .dataframe tbody tr th {\n",
       "        vertical-align: top;\n",
       "    }\n",
       "\n",
       "    .dataframe thead th {\n",
       "        text-align: right;\n",
       "    }\n",
       "</style>\n",
       "<table border=\"1\" class=\"dataframe\">\n",
       "  <thead>\n",
       "    <tr style=\"text-align: right;\">\n",
       "      <th></th>\n",
       "      <th>cci</th>\n",
       "      <th>growth_1d</th>\n",
       "      <th>growth_snp500_1d</th>\n",
       "      <th>pred0_manual_cci</th>\n",
       "      <th>pred1_manual_prev_g1</th>\n",
       "      <th>pred2_manual_prev_g1_and_snp</th>\n",
       "      <th>pred3_manual_gdp_and_fastd</th>\n",
       "      <th>pred4_manual_gdp_and_wti30d</th>\n",
       "      <th>is_strong_positive_growth_5d_future</th>\n",
       "    </tr>\n",
       "  </thead>\n",
       "  <tbody>\n",
       "    <tr>\n",
       "      <th>3490</th>\n",
       "      <td>26.847237</td>\n",
       "      <td>0.998394</td>\n",
       "      <td>0.990451</td>\n",
       "      <td>0</td>\n",
       "      <td>0</td>\n",
       "      <td>0</td>\n",
       "      <td>0</td>\n",
       "      <td>0</td>\n",
       "      <td>False</td>\n",
       "    </tr>\n",
       "    <tr>\n",
       "      <th>3491</th>\n",
       "      <td>-34.319663</td>\n",
       "      <td>0.966220</td>\n",
       "      <td>0.961655</td>\n",
       "      <td>0</td>\n",
       "      <td>0</td>\n",
       "      <td>0</td>\n",
       "      <td>0</td>\n",
       "      <td>0</td>\n",
       "      <td>False</td>\n",
       "    </tr>\n",
       "    <tr>\n",
       "      <th>3492</th>\n",
       "      <td>-97.318008</td>\n",
       "      <td>1.010544</td>\n",
       "      <td>1.001922</td>\n",
       "      <td>0</td>\n",
       "      <td>1</td>\n",
       "      <td>1</td>\n",
       "      <td>0</td>\n",
       "      <td>0</td>\n",
       "      <td>False</td>\n",
       "    </tr>\n",
       "    <tr>\n",
       "      <th>3493</th>\n",
       "      <td>-169.947507</td>\n",
       "      <td>0.966502</td>\n",
       "      <td>1.000956</td>\n",
       "      <td>0</td>\n",
       "      <td>0</td>\n",
       "      <td>0</td>\n",
       "      <td>0</td>\n",
       "      <td>0</td>\n",
       "      <td>False</td>\n",
       "    </tr>\n",
       "    <tr>\n",
       "      <th>3494</th>\n",
       "      <td>-142.142685</td>\n",
       "      <td>1.013068</td>\n",
       "      <td>1.027090</td>\n",
       "      <td>0</td>\n",
       "      <td>1</td>\n",
       "      <td>1</td>\n",
       "      <td>0</td>\n",
       "      <td>0</td>\n",
       "      <td>False</td>\n",
       "    </tr>\n",
       "    <tr>\n",
       "      <th>...</th>\n",
       "      <td>...</td>\n",
       "      <td>...</td>\n",
       "      <td>...</td>\n",
       "      <td>...</td>\n",
       "      <td>...</td>\n",
       "      <td>...</td>\n",
       "      <td>...</td>\n",
       "      <td>...</td>\n",
       "      <td>...</td>\n",
       "    </tr>\n",
       "    <tr>\n",
       "      <th>5422</th>\n",
       "      <td>-29.424989</td>\n",
       "      <td>0.988994</td>\n",
       "      <td>0.984269</td>\n",
       "      <td>0</td>\n",
       "      <td>0</td>\n",
       "      <td>0</td>\n",
       "      <td>1</td>\n",
       "      <td>0</td>\n",
       "      <td>False</td>\n",
       "    </tr>\n",
       "    <tr>\n",
       "      <th>5423</th>\n",
       "      <td>-26.657181</td>\n",
       "      <td>1.001447</td>\n",
       "      <td>1.009128</td>\n",
       "      <td>0</td>\n",
       "      <td>1</td>\n",
       "      <td>1</td>\n",
       "      <td>1</td>\n",
       "      <td>0</td>\n",
       "      <td>False</td>\n",
       "    </tr>\n",
       "    <tr>\n",
       "      <th>5424</th>\n",
       "      <td>-123.785473</td>\n",
       "      <td>0.972302</td>\n",
       "      <td>1.012557</td>\n",
       "      <td>0</td>\n",
       "      <td>0</td>\n",
       "      <td>0</td>\n",
       "      <td>1</td>\n",
       "      <td>0</td>\n",
       "      <td>False</td>\n",
       "    </tr>\n",
       "    <tr>\n",
       "      <th>5425</th>\n",
       "      <td>-181.986224</td>\n",
       "      <td>0.989571</td>\n",
       "      <td>1.010326</td>\n",
       "      <td>0</td>\n",
       "      <td>0</td>\n",
       "      <td>0</td>\n",
       "      <td>1</td>\n",
       "      <td>0</td>\n",
       "      <td>False</td>\n",
       "    </tr>\n",
       "    <tr>\n",
       "      <th>5426</th>\n",
       "      <td>-169.406977</td>\n",
       "      <td>0.989735</td>\n",
       "      <td>1.001343</td>\n",
       "      <td>0</td>\n",
       "      <td>0</td>\n",
       "      <td>0</td>\n",
       "      <td>1</td>\n",
       "      <td>0</td>\n",
       "      <td>False</td>\n",
       "    </tr>\n",
       "  </tbody>\n",
       "</table>\n",
       "<p>182675 rows × 9 columns</p>\n",
       "</div>"
      ],
      "text/plain": [
       "             cci  growth_1d  growth_snp500_1d  pred0_manual_cci  \\\n",
       "3490   26.847237   0.998394          0.990451                 0   \n",
       "3491  -34.319663   0.966220          0.961655                 0   \n",
       "3492  -97.318008   1.010544          1.001922                 0   \n",
       "3493 -169.947507   0.966502          1.000956                 0   \n",
       "3494 -142.142685   1.013068          1.027090                 0   \n",
       "...          ...        ...               ...               ...   \n",
       "5422  -29.424989   0.988994          0.984269                 0   \n",
       "5423  -26.657181   1.001447          1.009128                 0   \n",
       "5424 -123.785473   0.972302          1.012557                 0   \n",
       "5425 -181.986224   0.989571          1.010326                 0   \n",
       "5426 -169.406977   0.989735          1.001343                 0   \n",
       "\n",
       "      pred1_manual_prev_g1  pred2_manual_prev_g1_and_snp  \\\n",
       "3490                     0                             0   \n",
       "3491                     0                             0   \n",
       "3492                     1                             1   \n",
       "3493                     0                             0   \n",
       "3494                     1                             1   \n",
       "...                    ...                           ...   \n",
       "5422                     0                             0   \n",
       "5423                     1                             1   \n",
       "5424                     0                             0   \n",
       "5425                     0                             0   \n",
       "5426                     0                             0   \n",
       "\n",
       "      pred3_manual_gdp_and_fastd  pred4_manual_gdp_and_wti30d  \\\n",
       "3490                           0                            0   \n",
       "3491                           0                            0   \n",
       "3492                           0                            0   \n",
       "3493                           0                            0   \n",
       "3494                           0                            0   \n",
       "...                          ...                          ...   \n",
       "5422                           1                            0   \n",
       "5423                           1                            0   \n",
       "5424                           1                            0   \n",
       "5425                           1                            0   \n",
       "5426                           1                            0   \n",
       "\n",
       "      is_strong_positive_growth_5d_future  \n",
       "3490                                False  \n",
       "3491                                False  \n",
       "3492                                False  \n",
       "3493                                False  \n",
       "3494                                False  \n",
       "...                                   ...  \n",
       "5422                                False  \n",
       "5423                                False  \n",
       "5424                                False  \n",
       "5425                                False  \n",
       "5426                                False  \n",
       "\n",
       "[182675 rows x 9 columns]"
      ]
     },
     "execution_count": 1353,
     "metadata": {},
     "output_type": "execute_result"
    }
   ],
   "source": [
    "# example output manual predictions:\n",
    "new_df[['cci','growth_1d','growth_snp500_1d','pred0_manual_cci','pred1_manual_prev_g1','pred2_manual_prev_g1_and_snp','pred3_manual_gdp_and_fastd','pred4_manual_gdp_and_wti30d', to_predict]]"
   ]
  },
  {
   "cell_type": "code",
   "execution_count": 1354,
   "metadata": {
    "id": "tn-AvNGVkIku"
   },
   "outputs": [],
   "source": [
    "# Function to find all predictions (starting from 'pred'), generate is_correct (correctness of each prediction)\n",
    "# and precision on TEST dataset (assuming there is df[\"split\"] column with values 'train','validation','test'\n",
    "\n",
    "# returns 2 lists of features: PREDICTIONS and IS_CORRECT\n",
    "\n",
    "def get_predictions_correctness(df:pd.DataFrame, to_predict:str):\n",
    "  PREDICTIONS = [k for k in df.keys() if k.startswith('pred')]\n",
    "  print(f'Prediction columns founded: {PREDICTIONS}')\n",
    "\n",
    "  # add columns is_correct_\n",
    "  for pred in PREDICTIONS:\n",
    "    part1 = pred.split('_')[0] # first prefix before '_'\n",
    "    df[f'is_correct_{part1}'] =  (new_df[pred] == new_df[to_predict]).astype(int)\n",
    "\n",
    "  # IS_CORRECT features set\n",
    "  IS_CORRECT =  [k for k in df.keys() if k.startswith('is_correct_')]\n",
    "  print(f'Created columns is_correct: {IS_CORRECT}')\n",
    "\n",
    "  print('Precision on TEST set for each prediction:')\n",
    "  # define \"Precision\" for ALL predictions on a Test dataset (~4 last years of trading)\n",
    "  for i,column in enumerate(IS_CORRECT):\n",
    "    prediction_column = PREDICTIONS[i]\n",
    "    is_correct_column = column\n",
    "    filter = (new_df.split=='test') & (new_df[prediction_column]==1)\n",
    "    print(f'Prediction column:{prediction_column} , is_correct_column: {is_correct_column}')\n",
    "    print(new_df[filter][is_correct_column].value_counts())\n",
    "    print(new_df[filter][is_correct_column].value_counts()/len(new_df[filter]))\n",
    "    print('---------')\n",
    "\n",
    "  return PREDICTIONS, IS_CORRECT"
   ]
  },
  {
   "cell_type": "code",
   "execution_count": 1355,
   "metadata": {
    "colab": {
     "base_uri": "https://localhost:8080/"
    },
    "id": "nUW-bTFrkM_2",
    "outputId": "1c453436-38f6-4347-af9a-0c2c0bd63281"
   },
   "outputs": [
    {
     "name": "stdout",
     "output_type": "stream",
     "text": [
      "Prediction columns founded: ['pred0_manual_cci', 'pred1_manual_prev_g1', 'pred2_manual_prev_g1_and_snp', 'pred3_manual_gdp_and_fastd', 'pred4_manual_gdp_and_wti30d', 'pred5_clf_10', 'pred6_clf_best', 'pred7_clf_best_rule_66', 'pred8_clf_best_rule_78', 'pred9_rf_best_rule_55', 'pred10_rf_best_rule_60', 'pred11_rf_best_rule_51', 'pred12_rf_best_rule_52', 'pred13_rf_best_rule_53', 'pred14_rf_best_rule_54', 'pred15_rf_best_rule_56', 'pred16_rf_best_rule_57', 'pred17_rf_best_rule_58', 'pred18_rf_best_rule_59']\n",
      "Created columns is_correct: ['is_correct_pred0', 'is_correct_pred1', 'is_correct_pred2', 'is_correct_pred3', 'is_correct_pred4', 'is_correct_pred5', 'is_correct_pred6', 'is_correct_pred7', 'is_correct_pred8', 'is_correct_pred9', 'is_correct_pred10', 'is_correct_pred11', 'is_correct_pred12', 'is_correct_pred13', 'is_correct_pred14', 'is_correct_pred15', 'is_correct_pred16', 'is_correct_pred17', 'is_correct_pred18']\n",
      "Precision on TEST set for each prediction:\n",
      "Prediction column:pred0_manual_cci , is_correct_column: is_correct_pred0\n",
      "0    566\n",
      "1    233\n",
      "Name: is_correct_pred0, dtype: int64\n",
      "0    0.708385\n",
      "1    0.291615\n",
      "Name: is_correct_pred0, dtype: float64\n",
      "---------\n",
      "Prediction column:pred1_manual_prev_g1 , is_correct_column: is_correct_pred1\n",
      "0    10790\n",
      "1     4811\n",
      "Name: is_correct_pred1, dtype: int64\n",
      "0    0.691622\n",
      "1    0.308378\n",
      "Name: is_correct_pred1, dtype: float64\n",
      "---------\n",
      "Prediction column:pred2_manual_prev_g1_and_snp , is_correct_column: is_correct_pred2\n",
      "0    7272\n",
      "1    3183\n",
      "Name: is_correct_pred2, dtype: int64\n",
      "0    0.695552\n",
      "1    0.304448\n",
      "Name: is_correct_pred2, dtype: float64\n",
      "---------\n",
      "Prediction column:pred3_manual_gdp_and_fastd , is_correct_column: is_correct_pred3\n",
      "0    20416\n",
      "1     9406\n",
      "Name: is_correct_pred3, dtype: int64\n",
      "0    0.684595\n",
      "1    0.315405\n",
      "Name: is_correct_pred3, dtype: float64\n",
      "---------\n",
      "Prediction column:pred4_manual_gdp_and_wti30d , is_correct_column: is_correct_pred4\n",
      "Series([], Name: is_correct_pred4, dtype: int64)\n",
      "Series([], Name: is_correct_pred4, dtype: float64)\n",
      "---------\n",
      "Prediction column:pred5_clf_10 , is_correct_column: is_correct_pred5\n",
      "0    2628\n",
      "1    1073\n",
      "Name: is_correct_pred5, dtype: int64\n",
      "0    0.710078\n",
      "1    0.289922\n",
      "Name: is_correct_pred5, dtype: float64\n",
      "---------\n",
      "Prediction column:pred6_clf_best , is_correct_column: is_correct_pred6\n",
      "0    5806\n",
      "1    2791\n",
      "Name: is_correct_pred6, dtype: int64\n",
      "0    0.675352\n",
      "1    0.324648\n",
      "Name: is_correct_pred6, dtype: float64\n",
      "---------\n",
      "Prediction column:pred7_clf_best_rule_66 , is_correct_column: is_correct_pred7\n",
      "0    5124\n",
      "1    2553\n",
      "Name: is_correct_pred7, dtype: int64\n",
      "0    0.667448\n",
      "1    0.332552\n",
      "Name: is_correct_pred7, dtype: float64\n",
      "---------\n",
      "Prediction column:pred8_clf_best_rule_78 , is_correct_column: is_correct_pred8\n",
      "0    4259\n",
      "1    1824\n",
      "Name: is_correct_pred8, dtype: int64\n",
      "0    0.700148\n",
      "1    0.299852\n",
      "Name: is_correct_pred8, dtype: float64\n",
      "---------\n",
      "Prediction column:pred9_rf_best_rule_55 , is_correct_column: is_correct_pred9\n",
      "0    9\n",
      "1    7\n",
      "Name: is_correct_pred9, dtype: int64\n",
      "0    0.5625\n",
      "1    0.4375\n",
      "Name: is_correct_pred9, dtype: float64\n",
      "---------\n",
      "Prediction column:pred10_rf_best_rule_60 , is_correct_column: is_correct_pred10\n",
      "Series([], Name: is_correct_pred10, dtype: int64)\n",
      "Series([], Name: is_correct_pred10, dtype: float64)\n",
      "---------\n",
      "Prediction column:pred11_rf_best_rule_51 , is_correct_column: is_correct_pred11\n",
      "1    70\n",
      "0    67\n",
      "Name: is_correct_pred11, dtype: int64\n",
      "1    0.510949\n",
      "0    0.489051\n",
      "Name: is_correct_pred11, dtype: float64\n",
      "---------\n",
      "Prediction column:pred12_rf_best_rule_52 , is_correct_column: is_correct_pred12\n",
      "1    40\n",
      "0    37\n",
      "Name: is_correct_pred12, dtype: int64\n",
      "1    0.519481\n",
      "0    0.480519\n",
      "Name: is_correct_pred12, dtype: float64\n",
      "---------\n",
      "Prediction column:pred13_rf_best_rule_53 , is_correct_column: is_correct_pred13\n",
      "0    29\n",
      "1    20\n",
      "Name: is_correct_pred13, dtype: int64\n",
      "0    0.591837\n",
      "1    0.408163\n",
      "Name: is_correct_pred13, dtype: float64\n",
      "---------\n",
      "Prediction column:pred14_rf_best_rule_54 , is_correct_column: is_correct_pred14\n",
      "0    21\n",
      "1    13\n",
      "Name: is_correct_pred14, dtype: int64\n",
      "0    0.617647\n",
      "1    0.382353\n",
      "Name: is_correct_pred14, dtype: float64\n",
      "---------\n",
      "Prediction column:pred15_rf_best_rule_56 , is_correct_column: is_correct_pred15\n",
      "0    5\n",
      "1    5\n",
      "Name: is_correct_pred15, dtype: int64\n",
      "0    0.5\n",
      "1    0.5\n",
      "Name: is_correct_pred15, dtype: float64\n",
      "---------\n",
      "Prediction column:pred16_rf_best_rule_57 , is_correct_column: is_correct_pred16\n",
      "1    2\n",
      "0    1\n",
      "Name: is_correct_pred16, dtype: int64\n",
      "1    0.666667\n",
      "0    0.333333\n",
      "Name: is_correct_pred16, dtype: float64\n",
      "---------\n",
      "Prediction column:pred17_rf_best_rule_58 , is_correct_column: is_correct_pred17\n",
      "1    2\n",
      "Name: is_correct_pred17, dtype: int64\n",
      "1    1.0\n",
      "Name: is_correct_pred17, dtype: float64\n",
      "---------\n",
      "Prediction column:pred18_rf_best_rule_59 , is_correct_column: is_correct_pred18\n",
      "1    2\n",
      "Name: is_correct_pred18, dtype: int64\n",
      "1    1.0\n",
      "Name: is_correct_pred18, dtype: float64\n",
      "---------\n"
     ]
    }
   ],
   "source": [
    "PREDICTIONS, IS_CORRECT = get_predictions_correctness(df = new_df, to_predict = to_predict)"
   ]
  },
  {
   "cell_type": "code",
   "execution_count": 1356,
   "metadata": {
    "id": "cVPexcpfkOW-"
   },
   "outputs": [],
   "source": [
    "# TODO HA4 Q1: run prediction correctness for 'is_positive_growth_5d_future' (should be lower)"
   ]
  },
  {
   "cell_type": "code",
   "execution_count": 1357,
   "metadata": {
    "colab": {
     "base_uri": "https://localhost:8080/",
     "height": 444
    },
    "id": "bEsG68yfkn3B",
    "outputId": "67e6b70d-b83d-4898-97d7-2ffa185cc8c8"
   },
   "outputs": [
    {
     "data": {
      "text/html": [
       "<div>\n",
       "<style scoped>\n",
       "    .dataframe tbody tr th:only-of-type {\n",
       "        vertical-align: middle;\n",
       "    }\n",
       "\n",
       "    .dataframe tbody tr th {\n",
       "        vertical-align: top;\n",
       "    }\n",
       "\n",
       "    .dataframe thead th {\n",
       "        text-align: right;\n",
       "    }\n",
       "</style>\n",
       "<table border=\"1\" class=\"dataframe\">\n",
       "  <thead>\n",
       "    <tr style=\"text-align: right;\">\n",
       "      <th></th>\n",
       "      <th>pred0_manual_cci</th>\n",
       "      <th>pred1_manual_prev_g1</th>\n",
       "      <th>pred2_manual_prev_g1_and_snp</th>\n",
       "      <th>pred3_manual_gdp_and_fastd</th>\n",
       "      <th>pred4_manual_gdp_and_wti30d</th>\n",
       "      <th>pred5_clf_10</th>\n",
       "      <th>pred6_clf_best</th>\n",
       "      <th>pred7_clf_best_rule_66</th>\n",
       "      <th>pred8_clf_best_rule_78</th>\n",
       "      <th>pred9_rf_best_rule_55</th>\n",
       "      <th>...</th>\n",
       "      <th>is_correct_pred10</th>\n",
       "      <th>is_correct_pred11</th>\n",
       "      <th>is_correct_pred12</th>\n",
       "      <th>is_correct_pred13</th>\n",
       "      <th>is_correct_pred14</th>\n",
       "      <th>is_correct_pred15</th>\n",
       "      <th>is_correct_pred16</th>\n",
       "      <th>is_correct_pred17</th>\n",
       "      <th>is_correct_pred18</th>\n",
       "      <th>is_strong_positive_growth_5d_future</th>\n",
       "    </tr>\n",
       "  </thead>\n",
       "  <tbody>\n",
       "    <tr>\n",
       "      <th>3490</th>\n",
       "      <td>0</td>\n",
       "      <td>0</td>\n",
       "      <td>0</td>\n",
       "      <td>0</td>\n",
       "      <td>0</td>\n",
       "      <td>False</td>\n",
       "      <td>False</td>\n",
       "      <td>0</td>\n",
       "      <td>0</td>\n",
       "      <td>0</td>\n",
       "      <td>...</td>\n",
       "      <td>1</td>\n",
       "      <td>1</td>\n",
       "      <td>1</td>\n",
       "      <td>1</td>\n",
       "      <td>1</td>\n",
       "      <td>1</td>\n",
       "      <td>1</td>\n",
       "      <td>1</td>\n",
       "      <td>1</td>\n",
       "      <td>False</td>\n",
       "    </tr>\n",
       "    <tr>\n",
       "      <th>3491</th>\n",
       "      <td>0</td>\n",
       "      <td>0</td>\n",
       "      <td>0</td>\n",
       "      <td>0</td>\n",
       "      <td>0</td>\n",
       "      <td>False</td>\n",
       "      <td>False</td>\n",
       "      <td>0</td>\n",
       "      <td>0</td>\n",
       "      <td>0</td>\n",
       "      <td>...</td>\n",
       "      <td>1</td>\n",
       "      <td>1</td>\n",
       "      <td>1</td>\n",
       "      <td>1</td>\n",
       "      <td>1</td>\n",
       "      <td>1</td>\n",
       "      <td>1</td>\n",
       "      <td>1</td>\n",
       "      <td>1</td>\n",
       "      <td>False</td>\n",
       "    </tr>\n",
       "    <tr>\n",
       "      <th>3492</th>\n",
       "      <td>0</td>\n",
       "      <td>1</td>\n",
       "      <td>1</td>\n",
       "      <td>0</td>\n",
       "      <td>0</td>\n",
       "      <td>False</td>\n",
       "      <td>False</td>\n",
       "      <td>0</td>\n",
       "      <td>0</td>\n",
       "      <td>0</td>\n",
       "      <td>...</td>\n",
       "      <td>1</td>\n",
       "      <td>1</td>\n",
       "      <td>1</td>\n",
       "      <td>1</td>\n",
       "      <td>1</td>\n",
       "      <td>1</td>\n",
       "      <td>1</td>\n",
       "      <td>1</td>\n",
       "      <td>1</td>\n",
       "      <td>False</td>\n",
       "    </tr>\n",
       "    <tr>\n",
       "      <th>3493</th>\n",
       "      <td>0</td>\n",
       "      <td>0</td>\n",
       "      <td>0</td>\n",
       "      <td>0</td>\n",
       "      <td>0</td>\n",
       "      <td>False</td>\n",
       "      <td>False</td>\n",
       "      <td>0</td>\n",
       "      <td>0</td>\n",
       "      <td>0</td>\n",
       "      <td>...</td>\n",
       "      <td>1</td>\n",
       "      <td>1</td>\n",
       "      <td>1</td>\n",
       "      <td>1</td>\n",
       "      <td>1</td>\n",
       "      <td>1</td>\n",
       "      <td>1</td>\n",
       "      <td>1</td>\n",
       "      <td>1</td>\n",
       "      <td>False</td>\n",
       "    </tr>\n",
       "    <tr>\n",
       "      <th>3494</th>\n",
       "      <td>0</td>\n",
       "      <td>1</td>\n",
       "      <td>1</td>\n",
       "      <td>0</td>\n",
       "      <td>0</td>\n",
       "      <td>False</td>\n",
       "      <td>False</td>\n",
       "      <td>0</td>\n",
       "      <td>0</td>\n",
       "      <td>0</td>\n",
       "      <td>...</td>\n",
       "      <td>1</td>\n",
       "      <td>1</td>\n",
       "      <td>1</td>\n",
       "      <td>1</td>\n",
       "      <td>1</td>\n",
       "      <td>1</td>\n",
       "      <td>1</td>\n",
       "      <td>1</td>\n",
       "      <td>1</td>\n",
       "      <td>False</td>\n",
       "    </tr>\n",
       "    <tr>\n",
       "      <th>...</th>\n",
       "      <td>...</td>\n",
       "      <td>...</td>\n",
       "      <td>...</td>\n",
       "      <td>...</td>\n",
       "      <td>...</td>\n",
       "      <td>...</td>\n",
       "      <td>...</td>\n",
       "      <td>...</td>\n",
       "      <td>...</td>\n",
       "      <td>...</td>\n",
       "      <td>...</td>\n",
       "      <td>...</td>\n",
       "      <td>...</td>\n",
       "      <td>...</td>\n",
       "      <td>...</td>\n",
       "      <td>...</td>\n",
       "      <td>...</td>\n",
       "      <td>...</td>\n",
       "      <td>...</td>\n",
       "      <td>...</td>\n",
       "      <td>...</td>\n",
       "    </tr>\n",
       "    <tr>\n",
       "      <th>5422</th>\n",
       "      <td>0</td>\n",
       "      <td>0</td>\n",
       "      <td>0</td>\n",
       "      <td>1</td>\n",
       "      <td>0</td>\n",
       "      <td>False</td>\n",
       "      <td>False</td>\n",
       "      <td>0</td>\n",
       "      <td>0</td>\n",
       "      <td>0</td>\n",
       "      <td>...</td>\n",
       "      <td>1</td>\n",
       "      <td>1</td>\n",
       "      <td>1</td>\n",
       "      <td>1</td>\n",
       "      <td>1</td>\n",
       "      <td>1</td>\n",
       "      <td>1</td>\n",
       "      <td>1</td>\n",
       "      <td>1</td>\n",
       "      <td>False</td>\n",
       "    </tr>\n",
       "    <tr>\n",
       "      <th>5423</th>\n",
       "      <td>0</td>\n",
       "      <td>1</td>\n",
       "      <td>1</td>\n",
       "      <td>1</td>\n",
       "      <td>0</td>\n",
       "      <td>True</td>\n",
       "      <td>True</td>\n",
       "      <td>1</td>\n",
       "      <td>1</td>\n",
       "      <td>0</td>\n",
       "      <td>...</td>\n",
       "      <td>1</td>\n",
       "      <td>1</td>\n",
       "      <td>1</td>\n",
       "      <td>1</td>\n",
       "      <td>1</td>\n",
       "      <td>1</td>\n",
       "      <td>1</td>\n",
       "      <td>1</td>\n",
       "      <td>1</td>\n",
       "      <td>False</td>\n",
       "    </tr>\n",
       "    <tr>\n",
       "      <th>5424</th>\n",
       "      <td>0</td>\n",
       "      <td>0</td>\n",
       "      <td>0</td>\n",
       "      <td>1</td>\n",
       "      <td>0</td>\n",
       "      <td>True</td>\n",
       "      <td>True</td>\n",
       "      <td>1</td>\n",
       "      <td>1</td>\n",
       "      <td>0</td>\n",
       "      <td>...</td>\n",
       "      <td>1</td>\n",
       "      <td>1</td>\n",
       "      <td>1</td>\n",
       "      <td>1</td>\n",
       "      <td>1</td>\n",
       "      <td>1</td>\n",
       "      <td>1</td>\n",
       "      <td>1</td>\n",
       "      <td>1</td>\n",
       "      <td>False</td>\n",
       "    </tr>\n",
       "    <tr>\n",
       "      <th>5425</th>\n",
       "      <td>0</td>\n",
       "      <td>0</td>\n",
       "      <td>0</td>\n",
       "      <td>1</td>\n",
       "      <td>0</td>\n",
       "      <td>False</td>\n",
       "      <td>False</td>\n",
       "      <td>0</td>\n",
       "      <td>0</td>\n",
       "      <td>0</td>\n",
       "      <td>...</td>\n",
       "      <td>1</td>\n",
       "      <td>1</td>\n",
       "      <td>1</td>\n",
       "      <td>1</td>\n",
       "      <td>1</td>\n",
       "      <td>1</td>\n",
       "      <td>1</td>\n",
       "      <td>1</td>\n",
       "      <td>1</td>\n",
       "      <td>False</td>\n",
       "    </tr>\n",
       "    <tr>\n",
       "      <th>5426</th>\n",
       "      <td>0</td>\n",
       "      <td>0</td>\n",
       "      <td>0</td>\n",
       "      <td>1</td>\n",
       "      <td>0</td>\n",
       "      <td>False</td>\n",
       "      <td>False</td>\n",
       "      <td>0</td>\n",
       "      <td>0</td>\n",
       "      <td>0</td>\n",
       "      <td>...</td>\n",
       "      <td>1</td>\n",
       "      <td>1</td>\n",
       "      <td>1</td>\n",
       "      <td>1</td>\n",
       "      <td>1</td>\n",
       "      <td>1</td>\n",
       "      <td>1</td>\n",
       "      <td>1</td>\n",
       "      <td>1</td>\n",
       "      <td>False</td>\n",
       "    </tr>\n",
       "  </tbody>\n",
       "</table>\n",
       "<p>182675 rows × 39 columns</p>\n",
       "</div>"
      ],
      "text/plain": [
       "      pred0_manual_cci  pred1_manual_prev_g1  pred2_manual_prev_g1_and_snp  \\\n",
       "3490                 0                     0                             0   \n",
       "3491                 0                     0                             0   \n",
       "3492                 0                     1                             1   \n",
       "3493                 0                     0                             0   \n",
       "3494                 0                     1                             1   \n",
       "...                ...                   ...                           ...   \n",
       "5422                 0                     0                             0   \n",
       "5423                 0                     1                             1   \n",
       "5424                 0                     0                             0   \n",
       "5425                 0                     0                             0   \n",
       "5426                 0                     0                             0   \n",
       "\n",
       "      pred3_manual_gdp_and_fastd  pred4_manual_gdp_and_wti30d  pred5_clf_10  \\\n",
       "3490                           0                            0         False   \n",
       "3491                           0                            0         False   \n",
       "3492                           0                            0         False   \n",
       "3493                           0                            0         False   \n",
       "3494                           0                            0         False   \n",
       "...                          ...                          ...           ...   \n",
       "5422                           1                            0         False   \n",
       "5423                           1                            0          True   \n",
       "5424                           1                            0          True   \n",
       "5425                           1                            0         False   \n",
       "5426                           1                            0         False   \n",
       "\n",
       "      pred6_clf_best  pred7_clf_best_rule_66  pred8_clf_best_rule_78  \\\n",
       "3490           False                       0                       0   \n",
       "3491           False                       0                       0   \n",
       "3492           False                       0                       0   \n",
       "3493           False                       0                       0   \n",
       "3494           False                       0                       0   \n",
       "...              ...                     ...                     ...   \n",
       "5422           False                       0                       0   \n",
       "5423            True                       1                       1   \n",
       "5424            True                       1                       1   \n",
       "5425           False                       0                       0   \n",
       "5426           False                       0                       0   \n",
       "\n",
       "      pred9_rf_best_rule_55  ...  is_correct_pred10  is_correct_pred11  \\\n",
       "3490                      0  ...                  1                  1   \n",
       "3491                      0  ...                  1                  1   \n",
       "3492                      0  ...                  1                  1   \n",
       "3493                      0  ...                  1                  1   \n",
       "3494                      0  ...                  1                  1   \n",
       "...                     ...  ...                ...                ...   \n",
       "5422                      0  ...                  1                  1   \n",
       "5423                      0  ...                  1                  1   \n",
       "5424                      0  ...                  1                  1   \n",
       "5425                      0  ...                  1                  1   \n",
       "5426                      0  ...                  1                  1   \n",
       "\n",
       "      is_correct_pred12  is_correct_pred13  is_correct_pred14  \\\n",
       "3490                  1                  1                  1   \n",
       "3491                  1                  1                  1   \n",
       "3492                  1                  1                  1   \n",
       "3493                  1                  1                  1   \n",
       "3494                  1                  1                  1   \n",
       "...                 ...                ...                ...   \n",
       "5422                  1                  1                  1   \n",
       "5423                  1                  1                  1   \n",
       "5424                  1                  1                  1   \n",
       "5425                  1                  1                  1   \n",
       "5426                  1                  1                  1   \n",
       "\n",
       "      is_correct_pred15  is_correct_pred16  is_correct_pred17  \\\n",
       "3490                  1                  1                  1   \n",
       "3491                  1                  1                  1   \n",
       "3492                  1                  1                  1   \n",
       "3493                  1                  1                  1   \n",
       "3494                  1                  1                  1   \n",
       "...                 ...                ...                ...   \n",
       "5422                  1                  1                  1   \n",
       "5423                  1                  1                  1   \n",
       "5424                  1                  1                  1   \n",
       "5425                  1                  1                  1   \n",
       "5426                  1                  1                  1   \n",
       "\n",
       "      is_correct_pred18  is_strong_positive_growth_5d_future  \n",
       "3490                  1                                False  \n",
       "3491                  1                                False  \n",
       "3492                  1                                False  \n",
       "3493                  1                                False  \n",
       "3494                  1                                False  \n",
       "...                 ...                                  ...  \n",
       "5422                  1                                False  \n",
       "5423                  1                                False  \n",
       "5424                  1                                False  \n",
       "5425                  1                                False  \n",
       "5426                  1                                False  \n",
       "\n",
       "[182675 rows x 39 columns]"
      ]
     },
     "execution_count": 1357,
     "metadata": {},
     "output_type": "execute_result"
    }
   ],
   "source": [
    "new_df[PREDICTIONS+IS_CORRECT+[to_predict]]"
   ]
  },
  {
   "cell_type": "markdown",
   "metadata": {
    "id": "6Tu1COw6molo"
   },
   "source": [
    "## 1.2) Decision Tree Classifier"
   ]
  },
  {
   "cell_type": "markdown",
   "metadata": {
    "id": "jZ8TBnZUmsJ_"
   },
   "source": [
    "### 1.2.1) Defining Functions to clean_df(), fit_decision_tree(), predict_decision_tree()\n",
    "* here we discuss only the Decision Tree Classifier for binary predictions (and not the Regressor)"
   ]
  },
  {
   "cell_type": "code",
   "execution_count": 1358,
   "metadata": {
    "id": "l8Uy1lFdm0R3"
   },
   "outputs": [],
   "source": [
    "# Estimation/fit function (using dataframe of features X and what to predict y) --> optimising total accuracy\n",
    "# max_depth is hyperParameter\n",
    "def fit_decision_tree(X, y, max_depth=20):\n",
    "# Initialize the Decision Tree Classifier\n",
    "  clf = DecisionTreeClassifier(max_depth=max_depth,\n",
    "                               random_state=42)\n",
    "\n",
    "  # Fit the classifier to the training data\n",
    "  clf.fit(X, y)\n",
    "  return clf, X.columns"
   ]
  },
  {
   "cell_type": "code",
   "execution_count": 1359,
   "metadata": {
    "colab": {
     "base_uri": "https://localhost:8080/"
    },
    "id": "a96QEniNT35b",
    "outputId": "91b20d0c-ef47-4377-ecdf-a8ac10535999"
   },
   "outputs": [
    {
     "name": "stdout",
     "output_type": "stream",
     "text": [
      "CPU times: total: 32.3 s\n",
      "Wall time: 40 s\n"
     ]
    }
   ],
   "source": [
    "%%time\n",
    "clf_10, train_columns = fit_decision_tree(X=X_train_valid,\n",
    "                           y=y_train_valid,\n",
    "                           max_depth=10)"
   ]
  },
  {
   "cell_type": "code",
   "execution_count": 1360,
   "metadata": {
    "id": "K0qzwSYcT5YM"
   },
   "outputs": [],
   "source": [
    "# predict on a full dataset\n",
    "y_pred_all = clf_10.predict(X_all)"
   ]
  },
  {
   "cell_type": "code",
   "execution_count": 1361,
   "metadata": {
    "id": "lKBzCaXcT6OL"
   },
   "outputs": [],
   "source": [
    "# defining a new prediction vector is easy now, as the dimensions will match\n",
    "new_df['pred5_clf_10'] = y_pred_all"
   ]
  },
  {
   "cell_type": "code",
   "execution_count": 1362,
   "metadata": {
    "colab": {
     "base_uri": "https://localhost:8080/"
    },
    "id": "8qNAlgbnT_f1",
    "outputId": "c5f1726c-7035-48eb-feca-a8469a59d4fe"
   },
   "outputs": [
    {
     "name": "stdout",
     "output_type": "stream",
     "text": [
      "Prediction columns founded: ['pred0_manual_cci', 'pred1_manual_prev_g1', 'pred2_manual_prev_g1_and_snp', 'pred3_manual_gdp_and_fastd', 'pred4_manual_gdp_and_wti30d', 'pred5_clf_10', 'pred6_clf_best', 'pred7_clf_best_rule_66', 'pred8_clf_best_rule_78', 'pred9_rf_best_rule_55', 'pred10_rf_best_rule_60', 'pred11_rf_best_rule_51', 'pred12_rf_best_rule_52', 'pred13_rf_best_rule_53', 'pred14_rf_best_rule_54', 'pred15_rf_best_rule_56', 'pred16_rf_best_rule_57', 'pred17_rf_best_rule_58', 'pred18_rf_best_rule_59']\n",
      "Created columns is_correct: ['is_correct_pred0', 'is_correct_pred1', 'is_correct_pred2', 'is_correct_pred3', 'is_correct_pred4', 'is_correct_pred5', 'is_correct_pred6', 'is_correct_pred7', 'is_correct_pred8', 'is_correct_pred9', 'is_correct_pred10', 'is_correct_pred11', 'is_correct_pred12', 'is_correct_pred13', 'is_correct_pred14', 'is_correct_pred15', 'is_correct_pred16', 'is_correct_pred17', 'is_correct_pred18']\n",
      "Precision on TEST set for each prediction:\n",
      "Prediction column:pred0_manual_cci , is_correct_column: is_correct_pred0\n",
      "0    566\n",
      "1    233\n",
      "Name: is_correct_pred0, dtype: int64\n",
      "0    0.708385\n",
      "1    0.291615\n",
      "Name: is_correct_pred0, dtype: float64\n",
      "---------\n",
      "Prediction column:pred1_manual_prev_g1 , is_correct_column: is_correct_pred1\n",
      "0    10790\n",
      "1     4811\n",
      "Name: is_correct_pred1, dtype: int64\n",
      "0    0.691622\n",
      "1    0.308378\n",
      "Name: is_correct_pred1, dtype: float64\n",
      "---------\n",
      "Prediction column:pred2_manual_prev_g1_and_snp , is_correct_column: is_correct_pred2\n",
      "0    7272\n",
      "1    3183\n",
      "Name: is_correct_pred2, dtype: int64\n",
      "0    0.695552\n",
      "1    0.304448\n",
      "Name: is_correct_pred2, dtype: float64\n",
      "---------\n",
      "Prediction column:pred3_manual_gdp_and_fastd , is_correct_column: is_correct_pred3\n",
      "0    20416\n",
      "1     9406\n",
      "Name: is_correct_pred3, dtype: int64\n",
      "0    0.684595\n",
      "1    0.315405\n",
      "Name: is_correct_pred3, dtype: float64\n",
      "---------\n",
      "Prediction column:pred4_manual_gdp_and_wti30d , is_correct_column: is_correct_pred4\n",
      "Series([], Name: is_correct_pred4, dtype: int64)\n",
      "Series([], Name: is_correct_pred4, dtype: float64)\n",
      "---------\n",
      "Prediction column:pred5_clf_10 , is_correct_column: is_correct_pred5\n",
      "0    2410\n",
      "1    1016\n",
      "Name: is_correct_pred5, dtype: int64\n",
      "0    0.703444\n",
      "1    0.296556\n",
      "Name: is_correct_pred5, dtype: float64\n",
      "---------\n",
      "Prediction column:pred6_clf_best , is_correct_column: is_correct_pred6\n",
      "0    5806\n",
      "1    2791\n",
      "Name: is_correct_pred6, dtype: int64\n",
      "0    0.675352\n",
      "1    0.324648\n",
      "Name: is_correct_pred6, dtype: float64\n",
      "---------\n",
      "Prediction column:pred7_clf_best_rule_66 , is_correct_column: is_correct_pred7\n",
      "0    5124\n",
      "1    2553\n",
      "Name: is_correct_pred7, dtype: int64\n",
      "0    0.667448\n",
      "1    0.332552\n",
      "Name: is_correct_pred7, dtype: float64\n",
      "---------\n",
      "Prediction column:pred8_clf_best_rule_78 , is_correct_column: is_correct_pred8\n",
      "0    4259\n",
      "1    1824\n",
      "Name: is_correct_pred8, dtype: int64\n",
      "0    0.700148\n",
      "1    0.299852\n",
      "Name: is_correct_pred8, dtype: float64\n",
      "---------\n",
      "Prediction column:pred9_rf_best_rule_55 , is_correct_column: is_correct_pred9\n",
      "0    9\n",
      "1    7\n",
      "Name: is_correct_pred9, dtype: int64\n",
      "0    0.5625\n",
      "1    0.4375\n",
      "Name: is_correct_pred9, dtype: float64\n",
      "---------\n",
      "Prediction column:pred10_rf_best_rule_60 , is_correct_column: is_correct_pred10\n",
      "Series([], Name: is_correct_pred10, dtype: int64)\n",
      "Series([], Name: is_correct_pred10, dtype: float64)\n",
      "---------\n",
      "Prediction column:pred11_rf_best_rule_51 , is_correct_column: is_correct_pred11\n",
      "1    70\n",
      "0    67\n",
      "Name: is_correct_pred11, dtype: int64\n",
      "1    0.510949\n",
      "0    0.489051\n",
      "Name: is_correct_pred11, dtype: float64\n",
      "---------\n",
      "Prediction column:pred12_rf_best_rule_52 , is_correct_column: is_correct_pred12\n",
      "1    40\n",
      "0    37\n",
      "Name: is_correct_pred12, dtype: int64\n",
      "1    0.519481\n",
      "0    0.480519\n",
      "Name: is_correct_pred12, dtype: float64\n",
      "---------\n",
      "Prediction column:pred13_rf_best_rule_53 , is_correct_column: is_correct_pred13\n",
      "0    29\n",
      "1    20\n",
      "Name: is_correct_pred13, dtype: int64\n",
      "0    0.591837\n",
      "1    0.408163\n",
      "Name: is_correct_pred13, dtype: float64\n",
      "---------\n",
      "Prediction column:pred14_rf_best_rule_54 , is_correct_column: is_correct_pred14\n",
      "0    21\n",
      "1    13\n",
      "Name: is_correct_pred14, dtype: int64\n",
      "0    0.617647\n",
      "1    0.382353\n",
      "Name: is_correct_pred14, dtype: float64\n",
      "---------\n",
      "Prediction column:pred15_rf_best_rule_56 , is_correct_column: is_correct_pred15\n",
      "0    5\n",
      "1    5\n",
      "Name: is_correct_pred15, dtype: int64\n",
      "0    0.5\n",
      "1    0.5\n",
      "Name: is_correct_pred15, dtype: float64\n",
      "---------\n",
      "Prediction column:pred16_rf_best_rule_57 , is_correct_column: is_correct_pred16\n",
      "1    2\n",
      "0    1\n",
      "Name: is_correct_pred16, dtype: int64\n",
      "1    0.666667\n",
      "0    0.333333\n",
      "Name: is_correct_pred16, dtype: float64\n",
      "---------\n",
      "Prediction column:pred17_rf_best_rule_58 , is_correct_column: is_correct_pred17\n",
      "1    2\n",
      "Name: is_correct_pred17, dtype: int64\n",
      "1    1.0\n",
      "Name: is_correct_pred17, dtype: float64\n",
      "---------\n",
      "Prediction column:pred18_rf_best_rule_59 , is_correct_column: is_correct_pred18\n",
      "1    2\n",
      "Name: is_correct_pred18, dtype: int64\n",
      "1    1.0\n",
      "Name: is_correct_pred18, dtype: float64\n",
      "---------\n"
     ]
    }
   ],
   "source": [
    "# new prediction is added --> need to recalculate the correctness\n",
    "PREDICTIONS, IS_CORRECT = get_predictions_correctness(df = new_df, to_predict=to_predict)"
   ]
  },
  {
   "cell_type": "markdown",
   "metadata": {
    "id": "_bkIObxfUKbg"
   },
   "source": [
    "## 1.2.3 Hyperparams tuning for a Decision Tree Classifier"
   ]
  },
  {
   "cell_type": "code",
   "execution_count": 1363,
   "metadata": {
    "id": "Y436uzqFUOP8"
   },
   "outputs": [],
   "source": [
    "# visualisation: decision tree for a few levels (max_depth variable)\n",
    "from sklearn.tree import plot_tree\n",
    "import matplotlib.pyplot as plt\n",
    "\n",
    "# https://stackoverflow.com/questions/20156951/how-do-i-find-which-attributes-my-tree-splits-on-when-using-scikit-learn\n",
    "from sklearn.tree import export_text"
   ]
  },
  {
   "cell_type": "code",
   "execution_count": 1364,
   "metadata": {
    "id": "Mp2WfkxZghUl"
   },
   "outputs": [],
   "source": [
    "# %%time\n",
    "# # hyper params tuning for a Decision Tree\n",
    "\n",
    "# precision_by_depth = {}\n",
    "# best_precision = 0\n",
    "# best_depth = 0\n",
    "\n",
    "# for depth in range(1,21):\n",
    "#   print(f'Working with a tree of a max depth= {depth}')\n",
    "#   # fitting the tree on X_train, y_train\n",
    "#   clf,train_columns = fit_decision_tree(X=X_train_valid,\n",
    "#                            y=y_train_valid,\n",
    "#                            max_depth=depth) #applying custom hyperparam\n",
    "#   # getting the predictions for TEST and accuracy score\n",
    "#   y_pred_valid = clf.predict(X_valid)\n",
    "#   precision_valid = precision_score(y_valid, y_pred_valid)\n",
    "#   y_pred_test = clf.predict(X_test)\n",
    "#   precision_test = precision_score(y_test, y_pred_test)\n",
    "#   print(f'  Precision on test is {precision_test}, (precision on valid is {precision_valid} - tend to overfit)')\n",
    "#   # saving to the dict\n",
    "#   precision_by_depth[depth] = round(precision_test,4)\n",
    "#   # updating the best precision\n",
    "#   if precision_test >= best_precision:\n",
    "#     best_precision = round(precision_test,4)\n",
    "#     best_depth = depth\n",
    "#   # plot tree - long\n",
    "#   # plt.figure(figsize=(20,10))  # Set the size of the figure\n",
    "#   # plot_tree(clf,\n",
    "#   #           filled=True,\n",
    "#   #           feature_names=train_columns,\n",
    "#   #           class_names=['Negative', 'Positive'],\n",
    "#   #           max_depth=2)\n",
    "#   # plt.show()\n",
    "#   # plot tree - short\n",
    "#   tree_rules = export_text(clf, feature_names=list(X_train), max_depth=3)\n",
    "#   print(tree_rules)\n",
    "#   print('------------------------------')\n",
    "\n",
    "# print(f'All precisions by depth: {precision_by_depth}')\n",
    "# print(f'The best precision is {best_precision} and the best depth is {best_depth} ')"
   ]
  },
  {
   "cell_type": "code",
   "execution_count": 1365,
   "metadata": {
    "id": "2jLsfPPhgjwD"
   },
   "outputs": [],
   "source": [
    "# UNCOMMENT TO RUN SEE THE RESULTS\n",
    "# Results of Hyper parameters tuning for a Decision Tree\n",
    "# print(precision_by_depth)"
   ]
  },
  {
   "cell_type": "code",
   "execution_count": 1366,
   "metadata": {
    "id": "vK92UZPrstQh"
   },
   "outputs": [],
   "source": [
    "# pre-calculated results of Hyperparameter tuning: full dataset (300 features) and is_positive_growth_5d\n",
    "precision_by_depth = {1: 0.5552, 2: 0.5553, 3: 0.5552, 4: 0.5552, 5: 0.5555, 6: 0.5712, 7: 0.5684, 8: 0.5684, 9: 0.57, 10: 0.5653, 11: 0.567, 12: 0.5719, 13: 0.5707, 14: 0.5845, 15: 0.5864, 16: 0.5721, 17: 0.5767, 18: 0.5682, 19: 0.5638, 20: 0.573}\n",
    "best_depth = 15\n",
    "best_precision = 0.5864"
   ]
  },
  {
   "cell_type": "code",
   "execution_count": 1367,
   "metadata": {
    "colab": {
     "base_uri": "https://localhost:8080/"
    },
    "id": "IBYKRALThb8P",
    "outputId": "af44eddb-8645-45ce-d406-102e9d86cd8e"
   },
   "outputs": [
    {
     "name": "stdout",
     "output_type": "stream",
     "text": [
      "Best precision and depth = 15, precision (on test)=0.5864\n"
     ]
    }
   ],
   "source": [
    "print(f'Best precision and depth = {best_depth}, precision (on test)={best_precision}')"
   ]
  },
  {
   "cell_type": "code",
   "execution_count": 1368,
   "metadata": {
    "id": "hbGV6LjthP3u"
   },
   "outputs": [],
   "source": [
    "# TODO HA4 Q1: compare precision_by_depth with below? Any improvements? What's the optimal hyperparams?"
   ]
  },
  {
   "cell_type": "code",
   "execution_count": 1369,
   "metadata": {
    "id": "OS3b4V-AhRa8"
   },
   "outputs": [],
   "source": [
    "# TODO HA4 Q2: compare precision_by_depth with below? Any improvements? What's the optimal hyperparams?"
   ]
  },
  {
   "cell_type": "code",
   "execution_count": 1370,
   "metadata": {
    "colab": {
     "base_uri": "https://localhost:8080/",
     "height": 542
    },
    "id": "AYbzd0uQg_W9",
    "outputId": "71b12632-3f2d-484a-b95a-74ab569a5b05"
   },
   "outputs": [
    {
     "data": {
      "application/vnd.plotly.v1+json": {
       "config": {
        "plotlyServerURL": "https://plot.ly"
       },
       "data": [
        {
         "alignmentgroup": "True",
         "hovertemplate": "Max Depth=%{x}<br>Precision Score=%{text}<extra></extra>",
         "legendgroup": "",
         "marker": {
          "color": "#636efa",
          "pattern": {
           "shape": ""
          }
         },
         "name": "",
         "offsetgroup": "",
         "orientation": "v",
         "showlegend": false,
         "text": [
          55.52,
          55.53,
          55.52,
          55.52,
          55.55,
          57.120000000000005,
          56.84,
          56.84,
          56.99999999999999,
          56.53,
          56.699999999999996,
          57.19,
          57.07,
          58.45,
          58.64,
          57.21000000000001,
          57.67,
          56.82000000000001,
          56.379999999999995,
          57.3
         ],
         "textposition": "outside",
         "texttemplate": "%{text:.2f}%",
         "type": "bar",
         "x": [
          1,
          2,
          3,
          4,
          5,
          6,
          7,
          8,
          9,
          10,
          11,
          12,
          13,
          14,
          15,
          16,
          17,
          18,
          19,
          20
         ],
         "xaxis": "x",
         "y": [
          55.52,
          55.53,
          55.52,
          55.52,
          55.55,
          57.120000000000005,
          56.84,
          56.84,
          56.99999999999999,
          56.53,
          56.699999999999996,
          57.19,
          57.07,
          58.45,
          58.64,
          57.21000000000001,
          57.67,
          56.82000000000001,
          56.379999999999995,
          57.3
         ],
         "yaxis": "y"
        }
       ],
       "layout": {
        "autosize": true,
        "barmode": "relative",
        "legend": {
         "tracegroupgap": 0
        },
        "margin": {
         "t": 60
        },
        "template": {
         "data": {
          "bar": [
           {
            "error_x": {
             "color": "#2a3f5f"
            },
            "error_y": {
             "color": "#2a3f5f"
            },
            "marker": {
             "line": {
              "color": "#E5ECF6",
              "width": 0.5
             },
             "pattern": {
              "fillmode": "overlay",
              "size": 10,
              "solidity": 0.2
             }
            },
            "type": "bar"
           }
          ],
          "barpolar": [
           {
            "marker": {
             "line": {
              "color": "#E5ECF6",
              "width": 0.5
             },
             "pattern": {
              "fillmode": "overlay",
              "size": 10,
              "solidity": 0.2
             }
            },
            "type": "barpolar"
           }
          ],
          "carpet": [
           {
            "aaxis": {
             "endlinecolor": "#2a3f5f",
             "gridcolor": "white",
             "linecolor": "white",
             "minorgridcolor": "white",
             "startlinecolor": "#2a3f5f"
            },
            "baxis": {
             "endlinecolor": "#2a3f5f",
             "gridcolor": "white",
             "linecolor": "white",
             "minorgridcolor": "white",
             "startlinecolor": "#2a3f5f"
            },
            "type": "carpet"
           }
          ],
          "choropleth": [
           {
            "colorbar": {
             "outlinewidth": 0,
             "ticks": ""
            },
            "type": "choropleth"
           }
          ],
          "contour": [
           {
            "colorbar": {
             "outlinewidth": 0,
             "ticks": ""
            },
            "colorscale": [
             [
              0,
              "#0d0887"
             ],
             [
              0.1111111111111111,
              "#46039f"
             ],
             [
              0.2222222222222222,
              "#7201a8"
             ],
             [
              0.3333333333333333,
              "#9c179e"
             ],
             [
              0.4444444444444444,
              "#bd3786"
             ],
             [
              0.5555555555555556,
              "#d8576b"
             ],
             [
              0.6666666666666666,
              "#ed7953"
             ],
             [
              0.7777777777777778,
              "#fb9f3a"
             ],
             [
              0.8888888888888888,
              "#fdca26"
             ],
             [
              1,
              "#f0f921"
             ]
            ],
            "type": "contour"
           }
          ],
          "contourcarpet": [
           {
            "colorbar": {
             "outlinewidth": 0,
             "ticks": ""
            },
            "type": "contourcarpet"
           }
          ],
          "heatmap": [
           {
            "colorbar": {
             "outlinewidth": 0,
             "ticks": ""
            },
            "colorscale": [
             [
              0,
              "#0d0887"
             ],
             [
              0.1111111111111111,
              "#46039f"
             ],
             [
              0.2222222222222222,
              "#7201a8"
             ],
             [
              0.3333333333333333,
              "#9c179e"
             ],
             [
              0.4444444444444444,
              "#bd3786"
             ],
             [
              0.5555555555555556,
              "#d8576b"
             ],
             [
              0.6666666666666666,
              "#ed7953"
             ],
             [
              0.7777777777777778,
              "#fb9f3a"
             ],
             [
              0.8888888888888888,
              "#fdca26"
             ],
             [
              1,
              "#f0f921"
             ]
            ],
            "type": "heatmap"
           }
          ],
          "heatmapgl": [
           {
            "colorbar": {
             "outlinewidth": 0,
             "ticks": ""
            },
            "colorscale": [
             [
              0,
              "#0d0887"
             ],
             [
              0.1111111111111111,
              "#46039f"
             ],
             [
              0.2222222222222222,
              "#7201a8"
             ],
             [
              0.3333333333333333,
              "#9c179e"
             ],
             [
              0.4444444444444444,
              "#bd3786"
             ],
             [
              0.5555555555555556,
              "#d8576b"
             ],
             [
              0.6666666666666666,
              "#ed7953"
             ],
             [
              0.7777777777777778,
              "#fb9f3a"
             ],
             [
              0.8888888888888888,
              "#fdca26"
             ],
             [
              1,
              "#f0f921"
             ]
            ],
            "type": "heatmapgl"
           }
          ],
          "histogram": [
           {
            "marker": {
             "pattern": {
              "fillmode": "overlay",
              "size": 10,
              "solidity": 0.2
             }
            },
            "type": "histogram"
           }
          ],
          "histogram2d": [
           {
            "colorbar": {
             "outlinewidth": 0,
             "ticks": ""
            },
            "colorscale": [
             [
              0,
              "#0d0887"
             ],
             [
              0.1111111111111111,
              "#46039f"
             ],
             [
              0.2222222222222222,
              "#7201a8"
             ],
             [
              0.3333333333333333,
              "#9c179e"
             ],
             [
              0.4444444444444444,
              "#bd3786"
             ],
             [
              0.5555555555555556,
              "#d8576b"
             ],
             [
              0.6666666666666666,
              "#ed7953"
             ],
             [
              0.7777777777777778,
              "#fb9f3a"
             ],
             [
              0.8888888888888888,
              "#fdca26"
             ],
             [
              1,
              "#f0f921"
             ]
            ],
            "type": "histogram2d"
           }
          ],
          "histogram2dcontour": [
           {
            "colorbar": {
             "outlinewidth": 0,
             "ticks": ""
            },
            "colorscale": [
             [
              0,
              "#0d0887"
             ],
             [
              0.1111111111111111,
              "#46039f"
             ],
             [
              0.2222222222222222,
              "#7201a8"
             ],
             [
              0.3333333333333333,
              "#9c179e"
             ],
             [
              0.4444444444444444,
              "#bd3786"
             ],
             [
              0.5555555555555556,
              "#d8576b"
             ],
             [
              0.6666666666666666,
              "#ed7953"
             ],
             [
              0.7777777777777778,
              "#fb9f3a"
             ],
             [
              0.8888888888888888,
              "#fdca26"
             ],
             [
              1,
              "#f0f921"
             ]
            ],
            "type": "histogram2dcontour"
           }
          ],
          "mesh3d": [
           {
            "colorbar": {
             "outlinewidth": 0,
             "ticks": ""
            },
            "type": "mesh3d"
           }
          ],
          "parcoords": [
           {
            "line": {
             "colorbar": {
              "outlinewidth": 0,
              "ticks": ""
             }
            },
            "type": "parcoords"
           }
          ],
          "pie": [
           {
            "automargin": true,
            "type": "pie"
           }
          ],
          "scatter": [
           {
            "fillpattern": {
             "fillmode": "overlay",
             "size": 10,
             "solidity": 0.2
            },
            "type": "scatter"
           }
          ],
          "scatter3d": [
           {
            "line": {
             "colorbar": {
              "outlinewidth": 0,
              "ticks": ""
             }
            },
            "marker": {
             "colorbar": {
              "outlinewidth": 0,
              "ticks": ""
             }
            },
            "type": "scatter3d"
           }
          ],
          "scattercarpet": [
           {
            "marker": {
             "colorbar": {
              "outlinewidth": 0,
              "ticks": ""
             }
            },
            "type": "scattercarpet"
           }
          ],
          "scattergeo": [
           {
            "marker": {
             "colorbar": {
              "outlinewidth": 0,
              "ticks": ""
             }
            },
            "type": "scattergeo"
           }
          ],
          "scattergl": [
           {
            "marker": {
             "colorbar": {
              "outlinewidth": 0,
              "ticks": ""
             }
            },
            "type": "scattergl"
           }
          ],
          "scattermapbox": [
           {
            "marker": {
             "colorbar": {
              "outlinewidth": 0,
              "ticks": ""
             }
            },
            "type": "scattermapbox"
           }
          ],
          "scatterpolar": [
           {
            "marker": {
             "colorbar": {
              "outlinewidth": 0,
              "ticks": ""
             }
            },
            "type": "scatterpolar"
           }
          ],
          "scatterpolargl": [
           {
            "marker": {
             "colorbar": {
              "outlinewidth": 0,
              "ticks": ""
             }
            },
            "type": "scatterpolargl"
           }
          ],
          "scatterternary": [
           {
            "marker": {
             "colorbar": {
              "outlinewidth": 0,
              "ticks": ""
             }
            },
            "type": "scatterternary"
           }
          ],
          "surface": [
           {
            "colorbar": {
             "outlinewidth": 0,
             "ticks": ""
            },
            "colorscale": [
             [
              0,
              "#0d0887"
             ],
             [
              0.1111111111111111,
              "#46039f"
             ],
             [
              0.2222222222222222,
              "#7201a8"
             ],
             [
              0.3333333333333333,
              "#9c179e"
             ],
             [
              0.4444444444444444,
              "#bd3786"
             ],
             [
              0.5555555555555556,
              "#d8576b"
             ],
             [
              0.6666666666666666,
              "#ed7953"
             ],
             [
              0.7777777777777778,
              "#fb9f3a"
             ],
             [
              0.8888888888888888,
              "#fdca26"
             ],
             [
              1,
              "#f0f921"
             ]
            ],
            "type": "surface"
           }
          ],
          "table": [
           {
            "cells": {
             "fill": {
              "color": "#EBF0F8"
             },
             "line": {
              "color": "white"
             }
            },
            "header": {
             "fill": {
              "color": "#C8D4E3"
             },
             "line": {
              "color": "white"
             }
            },
            "type": "table"
           }
          ]
         },
         "layout": {
          "annotationdefaults": {
           "arrowcolor": "#2a3f5f",
           "arrowhead": 0,
           "arrowwidth": 1
          },
          "autotypenumbers": "strict",
          "coloraxis": {
           "colorbar": {
            "outlinewidth": 0,
            "ticks": ""
           }
          },
          "colorscale": {
           "diverging": [
            [
             0,
             "#8e0152"
            ],
            [
             0.1,
             "#c51b7d"
            ],
            [
             0.2,
             "#de77ae"
            ],
            [
             0.3,
             "#f1b6da"
            ],
            [
             0.4,
             "#fde0ef"
            ],
            [
             0.5,
             "#f7f7f7"
            ],
            [
             0.6,
             "#e6f5d0"
            ],
            [
             0.7,
             "#b8e186"
            ],
            [
             0.8,
             "#7fbc41"
            ],
            [
             0.9,
             "#4d9221"
            ],
            [
             1,
             "#276419"
            ]
           ],
           "sequential": [
            [
             0,
             "#0d0887"
            ],
            [
             0.1111111111111111,
             "#46039f"
            ],
            [
             0.2222222222222222,
             "#7201a8"
            ],
            [
             0.3333333333333333,
             "#9c179e"
            ],
            [
             0.4444444444444444,
             "#bd3786"
            ],
            [
             0.5555555555555556,
             "#d8576b"
            ],
            [
             0.6666666666666666,
             "#ed7953"
            ],
            [
             0.7777777777777778,
             "#fb9f3a"
            ],
            [
             0.8888888888888888,
             "#fdca26"
            ],
            [
             1,
             "#f0f921"
            ]
           ],
           "sequentialminus": [
            [
             0,
             "#0d0887"
            ],
            [
             0.1111111111111111,
             "#46039f"
            ],
            [
             0.2222222222222222,
             "#7201a8"
            ],
            [
             0.3333333333333333,
             "#9c179e"
            ],
            [
             0.4444444444444444,
             "#bd3786"
            ],
            [
             0.5555555555555556,
             "#d8576b"
            ],
            [
             0.6666666666666666,
             "#ed7953"
            ],
            [
             0.7777777777777778,
             "#fb9f3a"
            ],
            [
             0.8888888888888888,
             "#fdca26"
            ],
            [
             1,
             "#f0f921"
            ]
           ]
          },
          "colorway": [
           "#636efa",
           "#EF553B",
           "#00cc96",
           "#ab63fa",
           "#FFA15A",
           "#19d3f3",
           "#FF6692",
           "#B6E880",
           "#FF97FF",
           "#FECB52"
          ],
          "font": {
           "color": "#2a3f5f"
          },
          "geo": {
           "bgcolor": "white",
           "lakecolor": "white",
           "landcolor": "#E5ECF6",
           "showlakes": true,
           "showland": true,
           "subunitcolor": "white"
          },
          "hoverlabel": {
           "align": "left"
          },
          "hovermode": "closest",
          "mapbox": {
           "style": "light"
          },
          "paper_bgcolor": "white",
          "plot_bgcolor": "#E5ECF6",
          "polar": {
           "angularaxis": {
            "gridcolor": "white",
            "linecolor": "white",
            "ticks": ""
           },
           "bgcolor": "#E5ECF6",
           "radialaxis": {
            "gridcolor": "white",
            "linecolor": "white",
            "ticks": ""
           }
          },
          "scene": {
           "xaxis": {
            "backgroundcolor": "#E5ECF6",
            "gridcolor": "white",
            "gridwidth": 2,
            "linecolor": "white",
            "showbackground": true,
            "ticks": "",
            "zerolinecolor": "white"
           },
           "yaxis": {
            "backgroundcolor": "#E5ECF6",
            "gridcolor": "white",
            "gridwidth": 2,
            "linecolor": "white",
            "showbackground": true,
            "ticks": "",
            "zerolinecolor": "white"
           },
           "zaxis": {
            "backgroundcolor": "#E5ECF6",
            "gridcolor": "white",
            "gridwidth": 2,
            "linecolor": "white",
            "showbackground": true,
            "ticks": "",
            "zerolinecolor": "white"
           }
          },
          "shapedefaults": {
           "line": {
            "color": "#2a3f5f"
           }
          },
          "ternary": {
           "aaxis": {
            "gridcolor": "white",
            "linecolor": "white",
            "ticks": ""
           },
           "baxis": {
            "gridcolor": "white",
            "linecolor": "white",
            "ticks": ""
           },
           "bgcolor": "#E5ECF6",
           "caxis": {
            "gridcolor": "white",
            "linecolor": "white",
            "ticks": ""
           }
          },
          "title": {
           "x": 0.05
          },
          "xaxis": {
           "automargin": true,
           "gridcolor": "white",
           "linecolor": "white",
           "ticks": "",
           "title": {
            "standoff": 15
           },
           "zerolinecolor": "white",
           "zerolinewidth": 2
          },
          "yaxis": {
           "automargin": true,
           "gridcolor": "white",
           "linecolor": "white",
           "ticks": "",
           "title": {
            "standoff": 15
           },
           "zerolinecolor": "white",
           "zerolinewidth": 2
          }
         }
        },
        "title": {
         "text": "Precision Score vs. Max Depth for a Decision Tree",
         "x": 0.5,
         "xanchor": "center"
        },
        "xaxis": {
         "anchor": "y",
         "autorange": true,
         "domain": [
          0,
          1
         ],
         "range": [
          0.5,
          20.5
         ],
         "title": {
          "text": "Max Depth"
         },
         "type": "linear"
        },
        "yaxis": {
         "anchor": "x",
         "domain": [
          0,
          1
         ],
         "range": [
          54,
          60
         ],
         "title": {
          "text": "Precision Score"
         },
         "type": "linear"
        }
       }
      },
      "image/png": "[encoded data removed]",
      "text/html": [
       "<div>                            <div id=\"cb727545-3458-4de2-bca7-849c93fba9b5\" class=\"plotly-graph-div\" style=\"height:525px; width:100%;\"></div>            <script type=\"text/javascript\">                require([\"plotly\"], function(Plotly) {                    window.PLOTLYENV=window.PLOTLYENV || {};                                    if (document.getElementById(\"cb727545-3458-4de2-bca7-849c93fba9b5\")) {                    Plotly.newPlot(                        \"cb727545-3458-4de2-bca7-849c93fba9b5\",                        [{\"alignmentgroup\":\"True\",\"hovertemplate\":\"Max Depth=%{x}\\u003cbr\\u003ePrecision Score=%{text}\\u003cextra\\u003e\\u003c\\u002fextra\\u003e\",\"legendgroup\":\"\",\"marker\":{\"color\":\"#636efa\",\"pattern\":{\"shape\":\"\"}},\"name\":\"\",\"offsetgroup\":\"\",\"orientation\":\"v\",\"showlegend\":false,\"text\":[55.52,55.53,55.52,55.52,55.55,57.120000000000005,56.84,56.84,56.99999999999999,56.53,56.699999999999996,57.19,57.07,58.45,58.64,57.21000000000001,57.67,56.82000000000001,56.379999999999995,57.3],\"textposition\":\"outside\",\"x\":[1,2,3,4,5,6,7,8,9,10,11,12,13,14,15,16,17,18,19,20],\"xaxis\":\"x\",\"y\":[55.52,55.53,55.52,55.52,55.55,57.120000000000005,56.84,56.84,56.99999999999999,56.53,56.699999999999996,57.19,57.07,58.45,58.64,57.21000000000001,57.67,56.82000000000001,56.379999999999995,57.3],\"yaxis\":\"y\",\"type\":\"bar\",\"texttemplate\":\"%{text:.2f}%\"}],                        {\"template\":{\"data\":{\"histogram2dcontour\":[{\"type\":\"histogram2dcontour\",\"colorbar\":{\"outlinewidth\":0,\"ticks\":\"\"},\"colorscale\":[[0.0,\"#0d0887\"],[0.1111111111111111,\"#46039f\"],[0.2222222222222222,\"#7201a8\"],[0.3333333333333333,\"#9c179e\"],[0.4444444444444444,\"#bd3786\"],[0.5555555555555556,\"#d8576b\"],[0.6666666666666666,\"#ed7953\"],[0.7777777777777778,\"#fb9f3a\"],[0.8888888888888888,\"#fdca26\"],[1.0,\"#f0f921\"]]}],\"choropleth\":[{\"type\":\"choropleth\",\"colorbar\":{\"outlinewidth\":0,\"ticks\":\"\"}}],\"histogram2d\":[{\"type\":\"histogram2d\",\"colorbar\":{\"outlinewidth\":0,\"ticks\":\"\"},\"colorscale\":[[0.0,\"#0d0887\"],[0.1111111111111111,\"#46039f\"],[0.2222222222222222,\"#7201a8\"],[0.3333333333333333,\"#9c179e\"],[0.4444444444444444,\"#bd3786\"],[0.5555555555555556,\"#d8576b\"],[0.6666666666666666,\"#ed7953\"],[0.7777777777777778,\"#fb9f3a\"],[0.8888888888888888,\"#fdca26\"],[1.0,\"#f0f921\"]]}],\"heatmap\":[{\"type\":\"heatmap\",\"colorbar\":{\"outlinewidth\":0,\"ticks\":\"\"},\"colorscale\":[[0.0,\"#0d0887\"],[0.1111111111111111,\"#46039f\"],[0.2222222222222222,\"#7201a8\"],[0.3333333333333333,\"#9c179e\"],[0.4444444444444444,\"#bd3786\"],[0.5555555555555556,\"#d8576b\"],[0.6666666666666666,\"#ed7953\"],[0.7777777777777778,\"#fb9f3a\"],[0.8888888888888888,\"#fdca26\"],[1.0,\"#f0f921\"]]}],\"heatmapgl\":[{\"type\":\"heatmapgl\",\"colorbar\":{\"outlinewidth\":0,\"ticks\":\"\"},\"colorscale\":[[0.0,\"#0d0887\"],[0.1111111111111111,\"#46039f\"],[0.2222222222222222,\"#7201a8\"],[0.3333333333333333,\"#9c179e\"],[0.4444444444444444,\"#bd3786\"],[0.5555555555555556,\"#d8576b\"],[0.6666666666666666,\"#ed7953\"],[0.7777777777777778,\"#fb9f3a\"],[0.8888888888888888,\"#fdca26\"],[1.0,\"#f0f921\"]]}],\"contourcarpet\":[{\"type\":\"contourcarpet\",\"colorbar\":{\"outlinewidth\":0,\"ticks\":\"\"}}],\"contour\":[{\"type\":\"contour\",\"colorbar\":{\"outlinewidth\":0,\"ticks\":\"\"},\"colorscale\":[[0.0,\"#0d0887\"],[0.1111111111111111,\"#46039f\"],[0.2222222222222222,\"#7201a8\"],[0.3333333333333333,\"#9c179e\"],[0.4444444444444444,\"#bd3786\"],[0.5555555555555556,\"#d8576b\"],[0.6666666666666666,\"#ed7953\"],[0.7777777777777778,\"#fb9f3a\"],[0.8888888888888888,\"#fdca26\"],[1.0,\"#f0f921\"]]}],\"surface\":[{\"type\":\"surface\",\"colorbar\":{\"outlinewidth\":0,\"ticks\":\"\"},\"colorscale\":[[0.0,\"#0d0887\"],[0.1111111111111111,\"#46039f\"],[0.2222222222222222,\"#7201a8\"],[0.3333333333333333,\"#9c179e\"],[0.4444444444444444,\"#bd3786\"],[0.5555555555555556,\"#d8576b\"],[0.6666666666666666,\"#ed7953\"],[0.7777777777777778,\"#fb9f3a\"],[0.8888888888888888,\"#fdca26\"],[1.0,\"#f0f921\"]]}],\"mesh3d\":[{\"type\":\"mesh3d\",\"colorbar\":{\"outlinewidth\":0,\"ticks\":\"\"}}],\"scatter\":[{\"fillpattern\":{\"fillmode\":\"overlay\",\"size\":10,\"solidity\":0.2},\"type\":\"scatter\"}],\"parcoords\":[{\"type\":\"parcoords\",\"line\":{\"colorbar\":{\"outlinewidth\":0,\"ticks\":\"\"}}}],\"scatterpolargl\":[{\"type\":\"scatterpolargl\",\"marker\":{\"colorbar\":{\"outlinewidth\":0,\"ticks\":\"\"}}}],\"bar\":[{\"error_x\":{\"color\":\"#2a3f5f\"},\"error_y\":{\"color\":\"#2a3f5f\"},\"marker\":{\"line\":{\"color\":\"#E5ECF6\",\"width\":0.5},\"pattern\":{\"fillmode\":\"overlay\",\"size\":10,\"solidity\":0.2}},\"type\":\"bar\"}],\"scattergeo\":[{\"type\":\"scattergeo\",\"marker\":{\"colorbar\":{\"outlinewidth\":0,\"ticks\":\"\"}}}],\"scatterpolar\":[{\"type\":\"scatterpolar\",\"marker\":{\"colorbar\":{\"outlinewidth\":0,\"ticks\":\"\"}}}],\"histogram\":[{\"marker\":{\"pattern\":{\"fillmode\":\"overlay\",\"size\":10,\"solidity\":0.2}},\"type\":\"histogram\"}],\"scattergl\":[{\"type\":\"scattergl\",\"marker\":{\"colorbar\":{\"outlinewidth\":0,\"ticks\":\"\"}}}],\"scatter3d\":[{\"type\":\"scatter3d\",\"line\":{\"colorbar\":{\"outlinewidth\":0,\"ticks\":\"\"}},\"marker\":{\"colorbar\":{\"outlinewidth\":0,\"ticks\":\"\"}}}],\"scattermapbox\":[{\"type\":\"scattermapbox\",\"marker\":{\"colorbar\":{\"outlinewidth\":0,\"ticks\":\"\"}}}],\"scatterternary\":[{\"type\":\"scatterternary\",\"marker\":{\"colorbar\":{\"outlinewidth\":0,\"ticks\":\"\"}}}],\"scattercarpet\":[{\"type\":\"scattercarpet\",\"marker\":{\"colorbar\":{\"outlinewidth\":0,\"ticks\":\"\"}}}],\"carpet\":[{\"aaxis\":{\"endlinecolor\":\"#2a3f5f\",\"gridcolor\":\"white\",\"linecolor\":\"white\",\"minorgridcolor\":\"white\",\"startlinecolor\":\"#2a3f5f\"},\"baxis\":{\"endlinecolor\":\"#2a3f5f\",\"gridcolor\":\"white\",\"linecolor\":\"white\",\"minorgridcolor\":\"white\",\"startlinecolor\":\"#2a3f5f\"},\"type\":\"carpet\"}],\"table\":[{\"cells\":{\"fill\":{\"color\":\"#EBF0F8\"},\"line\":{\"color\":\"white\"}},\"header\":{\"fill\":{\"color\":\"#C8D4E3\"},\"line\":{\"color\":\"white\"}},\"type\":\"table\"}],\"barpolar\":[{\"marker\":{\"line\":{\"color\":\"#E5ECF6\",\"width\":0.5},\"pattern\":{\"fillmode\":\"overlay\",\"size\":10,\"solidity\":0.2}},\"type\":\"barpolar\"}],\"pie\":[{\"automargin\":true,\"type\":\"pie\"}]},\"layout\":{\"autotypenumbers\":\"strict\",\"colorway\":[\"#636efa\",\"#EF553B\",\"#00cc96\",\"#ab63fa\",\"#FFA15A\",\"#19d3f3\",\"#FF6692\",\"#B6E880\",\"#FF97FF\",\"#FECB52\"],\"font\":{\"color\":\"#2a3f5f\"},\"hovermode\":\"closest\",\"hoverlabel\":{\"align\":\"left\"},\"paper_bgcolor\":\"white\",\"plot_bgcolor\":\"#E5ECF6\",\"polar\":{\"bgcolor\":\"#E5ECF6\",\"angularaxis\":{\"gridcolor\":\"white\",\"linecolor\":\"white\",\"ticks\":\"\"},\"radialaxis\":{\"gridcolor\":\"white\",\"linecolor\":\"white\",\"ticks\":\"\"}},\"ternary\":{\"bgcolor\":\"#E5ECF6\",\"aaxis\":{\"gridcolor\":\"white\",\"linecolor\":\"white\",\"ticks\":\"\"},\"baxis\":{\"gridcolor\":\"white\",\"linecolor\":\"white\",\"ticks\":\"\"},\"caxis\":{\"gridcolor\":\"white\",\"linecolor\":\"white\",\"ticks\":\"\"}},\"coloraxis\":{\"colorbar\":{\"outlinewidth\":0,\"ticks\":\"\"}},\"colorscale\":{\"sequential\":[[0.0,\"#0d0887\"],[0.1111111111111111,\"#46039f\"],[0.2222222222222222,\"#7201a8\"],[0.3333333333333333,\"#9c179e\"],[0.4444444444444444,\"#bd3786\"],[0.5555555555555556,\"#d8576b\"],[0.6666666666666666,\"#ed7953\"],[0.7777777777777778,\"#fb9f3a\"],[0.8888888888888888,\"#fdca26\"],[1.0,\"#f0f921\"]],\"sequentialminus\":[[0.0,\"#0d0887\"],[0.1111111111111111,\"#46039f\"],[0.2222222222222222,\"#7201a8\"],[0.3333333333333333,\"#9c179e\"],[0.4444444444444444,\"#bd3786\"],[0.5555555555555556,\"#d8576b\"],[0.6666666666666666,\"#ed7953\"],[0.7777777777777778,\"#fb9f3a\"],[0.8888888888888888,\"#fdca26\"],[1.0,\"#f0f921\"]],\"diverging\":[[0,\"#8e0152\"],[0.1,\"#c51b7d\"],[0.2,\"#de77ae\"],[0.3,\"#f1b6da\"],[0.4,\"#fde0ef\"],[0.5,\"#f7f7f7\"],[0.6,\"#e6f5d0\"],[0.7,\"#b8e186\"],[0.8,\"#7fbc41\"],[0.9,\"#4d9221\"],[1,\"#276419\"]]},\"xaxis\":{\"gridcolor\":\"white\",\"linecolor\":\"white\",\"ticks\":\"\",\"title\":{\"standoff\":15},\"zerolinecolor\":\"white\",\"automargin\":true,\"zerolinewidth\":2},\"yaxis\":{\"gridcolor\":\"white\",\"linecolor\":\"white\",\"ticks\":\"\",\"title\":{\"standoff\":15},\"zerolinecolor\":\"white\",\"automargin\":true,\"zerolinewidth\":2},\"scene\":{\"xaxis\":{\"backgroundcolor\":\"#E5ECF6\",\"gridcolor\":\"white\",\"linecolor\":\"white\",\"showbackground\":true,\"ticks\":\"\",\"zerolinecolor\":\"white\",\"gridwidth\":2},\"yaxis\":{\"backgroundcolor\":\"#E5ECF6\",\"gridcolor\":\"white\",\"linecolor\":\"white\",\"showbackground\":true,\"ticks\":\"\",\"zerolinecolor\":\"white\",\"gridwidth\":2},\"zaxis\":{\"backgroundcolor\":\"#E5ECF6\",\"gridcolor\":\"white\",\"linecolor\":\"white\",\"showbackground\":true,\"ticks\":\"\",\"zerolinecolor\":\"white\",\"gridwidth\":2}},\"shapedefaults\":{\"line\":{\"color\":\"#2a3f5f\"}},\"annotationdefaults\":{\"arrowcolor\":\"#2a3f5f\",\"arrowhead\":0,\"arrowwidth\":1},\"geo\":{\"bgcolor\":\"white\",\"landcolor\":\"#E5ECF6\",\"subunitcolor\":\"white\",\"showland\":true,\"showlakes\":true,\"lakecolor\":\"white\"},\"title\":{\"x\":0.05},\"mapbox\":{\"style\":\"light\"}}},\"xaxis\":{\"anchor\":\"y\",\"domain\":[0.0,1.0],\"title\":{\"text\":\"Max Depth\"}},\"yaxis\":{\"anchor\":\"x\",\"domain\":[0.0,1.0],\"title\":{\"text\":\"Precision Score\"},\"range\":[54,60]},\"legend\":{\"tracegroupgap\":0},\"margin\":{\"t\":60},\"barmode\":\"relative\",\"title\":{\"text\":\"Precision Score vs. Max Depth for a Decision Tree\",\"x\":0.5,\"xanchor\":\"center\"}},                        {\"responsive\": true}                    ).then(function(){\n",
       "                            \n",
       "var gd = document.getElementById('cb727545-3458-4de2-bca7-849c93fba9b5');\n",
       "var x = new MutationObserver(function (mutations, observer) {{\n",
       "        var display = window.getComputedStyle(gd).display;\n",
       "        if (!display || display === 'none') {{\n",
       "            console.log([gd, 'removed!']);\n",
       "            Plotly.purge(gd);\n",
       "            observer.disconnect();\n",
       "        }}\n",
       "}});\n",
       "\n",
       "// Listen for the removal of the full notebook cells\n",
       "var notebookContainer = gd.closest('#notebook-container');\n",
       "if (notebookContainer) {{\n",
       "    x.observe(notebookContainer, {childList: true});\n",
       "}}\n",
       "\n",
       "// Listen for the clearing of the current output cell\n",
       "var outputEl = gd.closest('.output');\n",
       "if (outputEl) {{\n",
       "    x.observe(outputEl, {childList: true});\n",
       "}}\n",
       "\n",
       "                        })                };                });            </script>        </div>"
      ]
     },
     "metadata": {},
     "output_type": "display_data"
    }
   ],
   "source": [
    "# Convert the dictionary to a DataFrame\n",
    "df = pd.DataFrame(list(precision_by_depth.items()), columns=['max_depth', 'precision_score'])\n",
    "df.loc[:,'precision_score'] = df.precision_score*100.0 # need for % visualisation\n",
    "\n",
    "# Create the bar chart using Plotly Express\n",
    "fig = px.bar(df,\n",
    "             x='max_depth',\n",
    "             y='precision_score',\n",
    "            #  title='Precision Score vs. Max Depth for a Decision Tree',\n",
    "             labels={'max_depth': 'Max Depth', 'precision_score': 'Precision Score'},\n",
    "             range_y=[54, 60],\n",
    "             text='precision_score')\n",
    "\n",
    "# Update the text format to display as percentages\n",
    "fig.update_traces(texttemplate='%{text:.2f}%', textposition='outside')\n",
    "\n",
    "# Center the title\n",
    "fig.update_layout(title={'text': 'Precision Score vs. Max Depth for a Decision Tree', 'x': 0.5, 'xanchor': 'center'})\n",
    "\n",
    "\n",
    "# Show the figure\n",
    "fig.show()"
   ]
  },
  {
   "cell_type": "code",
   "execution_count": 1371,
   "metadata": {
    "colab": {
     "base_uri": "https://localhost:8080/"
    },
    "id": "f1OnBZJLtHkI",
    "outputId": "996c929d-7832-4fea-cd19-68326d15d808"
   },
   "outputs": [
    {
     "name": "stdout",
     "output_type": "stream",
     "text": [
      "CPU times: total: 46.4 s\n",
      "Wall time: 1min 34s\n"
     ]
    }
   ],
   "source": [
    "%%time\n",
    "clf_best,train_columns = fit_decision_tree(X=X_train_valid,\n",
    "                           y=y_train_valid,\n",
    "                           max_depth=best_depth)"
   ]
  },
  {
   "cell_type": "code",
   "execution_count": 1372,
   "metadata": {
    "colab": {
     "base_uri": "https://localhost:8080/"
    },
    "id": "o2-2CS-ptOLM",
    "outputId": "47244c68-2e76-4554-924c-1bcf5c7375c0"
   },
   "outputs": [
    {
     "name": "stdout",
     "output_type": "stream",
     "text": [
      "Number of nodes: 7963\n",
      "Number of leaves: 3982\n"
     ]
    }
   ],
   "source": [
    "# For a DecisionTreeClassifier in scikit-learn, the concept of trainable parameters differs from that of neural networks.\n",
    "# In decision trees, the parameters are the structure of the tree itself (nodes and splits) rather than weights.\n",
    "# However, you can still get a sense of the model's complexity by looking at the number of nodes and leaves.\n",
    "\n",
    "# Here's how you can get this information for your trained DecisionTreeClassifier (referred to as clf_best):\n",
    "\n",
    "# Get the number of nodes and leaves in the tree\n",
    "n_nodes = clf_best.tree_.node_count\n",
    "n_leaves = clf_best.get_n_leaves()\n",
    "\n",
    "print(f\"Number of nodes: {n_nodes}\")\n",
    "print(f\"Number of leaves: {n_leaves}\")"
   ]
  },
  {
   "cell_type": "code",
   "execution_count": 1373,
   "metadata": {
    "colab": {
     "base_uri": "https://localhost:8080/",
     "height": 75
    },
    "id": "KIRNFnQFtPwf",
    "outputId": "bfcf461f-6bb1-4d02-cb75-d3436b9925e8"
   },
   "outputs": [
    {
     "data": {
      "text/html": [
       "<style>#sk-container-id-31 {color: black;}#sk-container-id-31 pre{padding: 0;}#sk-container-id-31 div.sk-toggleable {background-color: white;}#sk-container-id-31 label.sk-toggleable__label {cursor: pointer;display: block;width: 100%;margin-bottom: 0;padding: 0.3em;box-sizing: border-box;text-align: center;}#sk-container-id-31 label.sk-toggleable__label-arrow:before {content: \"▸\";float: left;margin-right: 0.25em;color: #696969;}#sk-container-id-31 label.sk-toggleable__label-arrow:hover:before {color: black;}#sk-container-id-31 div.sk-estimator:hover label.sk-toggleable__label-arrow:before {color: black;}#sk-container-id-31 div.sk-toggleable__content {max-height: 0;max-width: 0;overflow: hidden;text-align: left;background-color: #f0f8ff;}#sk-container-id-31 div.sk-toggleable__content pre {margin: 0.2em;color: black;border-radius: 0.25em;background-color: #f0f8ff;}#sk-container-id-31 input.sk-toggleable__control:checked~div.sk-toggleable__content {max-height: 200px;max-width: 100%;overflow: auto;}#sk-container-id-31 input.sk-toggleable__control:checked~label.sk-toggleable__label-arrow:before {content: \"▾\";}#sk-container-id-31 div.sk-estimator input.sk-toggleable__control:checked~label.sk-toggleable__label {background-color: #d4ebff;}#sk-container-id-31 div.sk-label input.sk-toggleable__control:checked~label.sk-toggleable__label {background-color: #d4ebff;}#sk-container-id-31 input.sk-hidden--visually {border: 0;clip: rect(1px 1px 1px 1px);clip: rect(1px, 1px, 1px, 1px);height: 1px;margin: -1px;overflow: hidden;padding: 0;position: absolute;width: 1px;}#sk-container-id-31 div.sk-estimator {font-family: monospace;background-color: #f0f8ff;border: 1px dotted black;border-radius: 0.25em;box-sizing: border-box;margin-bottom: 0.5em;}#sk-container-id-31 div.sk-estimator:hover {background-color: #d4ebff;}#sk-container-id-31 div.sk-parallel-item::after {content: \"\";width: 100%;border-bottom: 1px solid gray;flex-grow: 1;}#sk-container-id-31 div.sk-label:hover label.sk-toggleable__label {background-color: #d4ebff;}#sk-container-id-31 div.sk-serial::before {content: \"\";position: absolute;border-left: 1px solid gray;box-sizing: border-box;top: 0;bottom: 0;left: 50%;z-index: 0;}#sk-container-id-31 div.sk-serial {display: flex;flex-direction: column;align-items: center;background-color: white;padding-right: 0.2em;padding-left: 0.2em;position: relative;}#sk-container-id-31 div.sk-item {position: relative;z-index: 1;}#sk-container-id-31 div.sk-parallel {display: flex;align-items: stretch;justify-content: center;background-color: white;position: relative;}#sk-container-id-31 div.sk-item::before, #sk-container-id-31 div.sk-parallel-item::before {content: \"\";position: absolute;border-left: 1px solid gray;box-sizing: border-box;top: 0;bottom: 0;left: 50%;z-index: -1;}#sk-container-id-31 div.sk-parallel-item {display: flex;flex-direction: column;z-index: 1;position: relative;background-color: white;}#sk-container-id-31 div.sk-parallel-item:first-child::after {align-self: flex-end;width: 50%;}#sk-container-id-31 div.sk-parallel-item:last-child::after {align-self: flex-start;width: 50%;}#sk-container-id-31 div.sk-parallel-item:only-child::after {width: 0;}#sk-container-id-31 div.sk-dashed-wrapped {border: 1px dashed gray;margin: 0 0.4em 0.5em 0.4em;box-sizing: border-box;padding-bottom: 0.4em;background-color: white;}#sk-container-id-31 div.sk-label label {font-family: monospace;font-weight: bold;display: inline-block;line-height: 1.2em;}#sk-container-id-31 div.sk-label-container {text-align: center;}#sk-container-id-31 div.sk-container {/* jupyter's `normalize.less` sets `[hidden] { display: none; }` but bootstrap.min.css set `[hidden] { display: none !important; }` so we also need the `!important` here to be able to override the default hidden behavior on the sphinx rendered scikit-learn.org. See: https://github.com/scikit-learn/scikit-learn/issues/21755 */display: inline-block !important;position: relative;}#sk-container-id-31 div.sk-text-repr-fallback {display: none;}</style><div id=\"sk-container-id-31\" class=\"sk-top-container\"><div class=\"sk-text-repr-fallback\"><pre>DecisionTreeClassifier(max_depth=15, random_state=42)</pre><b>In a Jupyter environment, please rerun this cell to show the HTML representation or trust the notebook. <br />On GitHub, the HTML representation is unable to render, please try loading this page with nbviewer.org.</b></div><div class=\"sk-container\" hidden><div class=\"sk-item\"><div class=\"sk-estimator sk-toggleable\"><input class=\"sk-toggleable__control sk-hidden--visually\" id=\"sk-estimator-id-31\" type=\"checkbox\" checked><label for=\"sk-estimator-id-31\" class=\"sk-toggleable__label sk-toggleable__label-arrow\">DecisionTreeClassifier</label><div class=\"sk-toggleable__content\"><pre>DecisionTreeClassifier(max_depth=15, random_state=42)</pre></div></div></div></div></div>"
      ],
      "text/plain": [
       "DecisionTreeClassifier(max_depth=15, random_state=42)"
      ]
     },
     "execution_count": 1373,
     "metadata": {},
     "output_type": "execute_result"
    }
   ],
   "source": [
    "clf_best"
   ]
  },
  {
   "cell_type": "code",
   "execution_count": 1374,
   "metadata": {
    "id": "4su6awSjtQ5W"
   },
   "outputs": [],
   "source": [
    "# predict on a full dataset\n",
    "y_pred_clf_best = clf_best.predict(X_all)"
   ]
  },
  {
   "cell_type": "code",
   "execution_count": 1375,
   "metadata": {
    "id": "1ZOQqQ0itR9o"
   },
   "outputs": [],
   "source": [
    "# defining a new prediction vector is easy now, as the dimensions will match\n",
    "new_df['pred6_clf_best'] = y_pred_clf_best"
   ]
  },
  {
   "cell_type": "code",
   "execution_count": 1376,
   "metadata": {
    "colab": {
     "base_uri": "https://localhost:8080/"
    },
    "id": "5XxNt_9HtTlk",
    "outputId": "a8828b3a-68bb-40e5-969c-8291b8a758ce"
   },
   "outputs": [
    {
     "name": "stdout",
     "output_type": "stream",
     "text": [
      "Prediction columns founded: ['pred0_manual_cci', 'pred1_manual_prev_g1', 'pred2_manual_prev_g1_and_snp', 'pred3_manual_gdp_and_fastd', 'pred4_manual_gdp_and_wti30d', 'pred5_clf_10', 'pred6_clf_best', 'pred7_clf_best_rule_66', 'pred8_clf_best_rule_78', 'pred9_rf_best_rule_55', 'pred10_rf_best_rule_60', 'pred11_rf_best_rule_51', 'pred12_rf_best_rule_52', 'pred13_rf_best_rule_53', 'pred14_rf_best_rule_54', 'pred15_rf_best_rule_56', 'pred16_rf_best_rule_57', 'pred17_rf_best_rule_58', 'pred18_rf_best_rule_59']\n",
      "Created columns is_correct: ['is_correct_pred0', 'is_correct_pred1', 'is_correct_pred2', 'is_correct_pred3', 'is_correct_pred4', 'is_correct_pred5', 'is_correct_pred6', 'is_correct_pred7', 'is_correct_pred8', 'is_correct_pred9', 'is_correct_pred10', 'is_correct_pred11', 'is_correct_pred12', 'is_correct_pred13', 'is_correct_pred14', 'is_correct_pred15', 'is_correct_pred16', 'is_correct_pred17', 'is_correct_pred18']\n",
      "Precision on TEST set for each prediction:\n",
      "Prediction column:pred0_manual_cci , is_correct_column: is_correct_pred0\n",
      "0    566\n",
      "1    233\n",
      "Name: is_correct_pred0, dtype: int64\n",
      "0    0.708385\n",
      "1    0.291615\n",
      "Name: is_correct_pred0, dtype: float64\n",
      "---------\n",
      "Prediction column:pred1_manual_prev_g1 , is_correct_column: is_correct_pred1\n",
      "0    10790\n",
      "1     4811\n",
      "Name: is_correct_pred1, dtype: int64\n",
      "0    0.691622\n",
      "1    0.308378\n",
      "Name: is_correct_pred1, dtype: float64\n",
      "---------\n",
      "Prediction column:pred2_manual_prev_g1_and_snp , is_correct_column: is_correct_pred2\n",
      "0    7272\n",
      "1    3183\n",
      "Name: is_correct_pred2, dtype: int64\n",
      "0    0.695552\n",
      "1    0.304448\n",
      "Name: is_correct_pred2, dtype: float64\n",
      "---------\n",
      "Prediction column:pred3_manual_gdp_and_fastd , is_correct_column: is_correct_pred3\n",
      "0    20416\n",
      "1     9406\n",
      "Name: is_correct_pred3, dtype: int64\n",
      "0    0.684595\n",
      "1    0.315405\n",
      "Name: is_correct_pred3, dtype: float64\n",
      "---------\n",
      "Prediction column:pred4_manual_gdp_and_wti30d , is_correct_column: is_correct_pred4\n",
      "Series([], Name: is_correct_pred4, dtype: int64)\n",
      "Series([], Name: is_correct_pred4, dtype: float64)\n",
      "---------\n",
      "Prediction column:pred5_clf_10 , is_correct_column: is_correct_pred5\n",
      "0    2410\n",
      "1    1016\n",
      "Name: is_correct_pred5, dtype: int64\n",
      "0    0.703444\n",
      "1    0.296556\n",
      "Name: is_correct_pred5, dtype: float64\n",
      "---------\n",
      "Prediction column:pred6_clf_best , is_correct_column: is_correct_pred6\n",
      "0    5239\n",
      "1    2320\n",
      "Name: is_correct_pred6, dtype: int64\n",
      "0    0.693081\n",
      "1    0.306919\n",
      "Name: is_correct_pred6, dtype: float64\n",
      "---------\n",
      "Prediction column:pred7_clf_best_rule_66 , is_correct_column: is_correct_pred7\n",
      "0    5124\n",
      "1    2553\n",
      "Name: is_correct_pred7, dtype: int64\n",
      "0    0.667448\n",
      "1    0.332552\n",
      "Name: is_correct_pred7, dtype: float64\n",
      "---------\n",
      "Prediction column:pred8_clf_best_rule_78 , is_correct_column: is_correct_pred8\n",
      "0    4259\n",
      "1    1824\n",
      "Name: is_correct_pred8, dtype: int64\n",
      "0    0.700148\n",
      "1    0.299852\n",
      "Name: is_correct_pred8, dtype: float64\n",
      "---------\n",
      "Prediction column:pred9_rf_best_rule_55 , is_correct_column: is_correct_pred9\n",
      "0    9\n",
      "1    7\n",
      "Name: is_correct_pred9, dtype: int64\n",
      "0    0.5625\n",
      "1    0.4375\n",
      "Name: is_correct_pred9, dtype: float64\n",
      "---------\n",
      "Prediction column:pred10_rf_best_rule_60 , is_correct_column: is_correct_pred10\n",
      "Series([], Name: is_correct_pred10, dtype: int64)\n",
      "Series([], Name: is_correct_pred10, dtype: float64)\n",
      "---------\n",
      "Prediction column:pred11_rf_best_rule_51 , is_correct_column: is_correct_pred11\n",
      "1    70\n",
      "0    67\n",
      "Name: is_correct_pred11, dtype: int64\n",
      "1    0.510949\n",
      "0    0.489051\n",
      "Name: is_correct_pred11, dtype: float64\n",
      "---------\n",
      "Prediction column:pred12_rf_best_rule_52 , is_correct_column: is_correct_pred12\n",
      "1    40\n",
      "0    37\n",
      "Name: is_correct_pred12, dtype: int64\n",
      "1    0.519481\n",
      "0    0.480519\n",
      "Name: is_correct_pred12, dtype: float64\n",
      "---------\n",
      "Prediction column:pred13_rf_best_rule_53 , is_correct_column: is_correct_pred13\n",
      "0    29\n",
      "1    20\n",
      "Name: is_correct_pred13, dtype: int64\n",
      "0    0.591837\n",
      "1    0.408163\n",
      "Name: is_correct_pred13, dtype: float64\n",
      "---------\n",
      "Prediction column:pred14_rf_best_rule_54 , is_correct_column: is_correct_pred14\n",
      "0    21\n",
      "1    13\n",
      "Name: is_correct_pred14, dtype: int64\n",
      "0    0.617647\n",
      "1    0.382353\n",
      "Name: is_correct_pred14, dtype: float64\n",
      "---------\n",
      "Prediction column:pred15_rf_best_rule_56 , is_correct_column: is_correct_pred15\n",
      "0    5\n",
      "1    5\n",
      "Name: is_correct_pred15, dtype: int64\n",
      "0    0.5\n",
      "1    0.5\n",
      "Name: is_correct_pred15, dtype: float64\n",
      "---------\n",
      "Prediction column:pred16_rf_best_rule_57 , is_correct_column: is_correct_pred16\n",
      "1    2\n",
      "0    1\n",
      "Name: is_correct_pred16, dtype: int64\n",
      "1    0.666667\n",
      "0    0.333333\n",
      "Name: is_correct_pred16, dtype: float64\n",
      "---------\n",
      "Prediction column:pred17_rf_best_rule_58 , is_correct_column: is_correct_pred17\n",
      "1    2\n",
      "Name: is_correct_pred17, dtype: int64\n",
      "1    1.0\n",
      "Name: is_correct_pred17, dtype: float64\n",
      "---------\n",
      "Prediction column:pred18_rf_best_rule_59 , is_correct_column: is_correct_pred18\n",
      "1    2\n",
      "Name: is_correct_pred18, dtype: int64\n",
      "1    1.0\n",
      "Name: is_correct_pred18, dtype: float64\n",
      "---------\n"
     ]
    }
   ],
   "source": [
    "# new prediction is added --> need to recalculate the correctness\n",
    "PREDICTIONS, IS_CORRECT = get_predictions_correctness(df = new_df, to_predict=to_predict)"
   ]
  },
  {
   "cell_type": "markdown",
   "metadata": {
    "id": "g9oeczqgpHHY"
   },
   "source": [
    "## 1.3) Random Forest\n",
    "https://scikit-learn.org/stable/modules/ensemble.html#random-forests-and-other-randomized-tree-ensembles"
   ]
  },
  {
   "cell_type": "code",
   "execution_count": 1377,
   "metadata": {
    "id": "KPBgCdfopFlC"
   },
   "outputs": [],
   "source": [
    "# (ALMOST 3 HOURS) UNCOMMENT BELOW TO RUN HYPERPARAMs optimisation again\n",
    "# The best precision is 0.5778 and the best depth is 20\n",
    "# CPU times: user 2h 48min 27s, sys: 31.9 s, total: 2h 48min 59s\n",
    "# Wall time: 1h 39min 44s"
   ]
  },
  {
   "cell_type": "code",
   "execution_count": 1378,
   "metadata": {
    "id": "XmvVElr3pWLG"
   },
   "outputs": [],
   "source": [
    "# %%time\n",
    "# # hyper params tuning\n",
    "\n",
    "# precision_matrix = {}\n",
    "# best_precision = 0\n",
    "# best_depth = 0\n",
    "# best_estimators = 1\n",
    "\n",
    "# for depth in [15, 16, 17, 18, 19, 20]:\n",
    "#   for estimators in [50,100,200,500]:\n",
    "#     print(f'Working with HyperParams: depth = {depth}, estimators = {estimators}')\n",
    "\n",
    "#     # Start timing\n",
    "#     start_time = time.time()\n",
    "#     # fitting the tree on X_train, y_train\n",
    "#     rf = RandomForestClassifier(n_estimators = estimators,\n",
    "#                                 max_depth = depth,\n",
    "#                                 random_state = 42,\n",
    "#                                 n_jobs = -1)\n",
    "\n",
    "#     rf = rf.fit(X_train_valid, y_train_valid)\n",
    "\n",
    "#     # getting the predictions for TEST and accuracy score\n",
    "#     y_pred_valid = rf.predict(X_valid)\n",
    "#     precision_valid = precision_score(y_valid, y_pred_valid)\n",
    "#     y_pred_test = rf.predict(X_test)\n",
    "#     precision_test = precision_score(y_test, y_pred_test)\n",
    "#     print(f'  Precision on test is {precision_test}, (precision on valid is {precision_valid} - tend to overfit)')\n",
    "\n",
    "#     # saving to the dict\n",
    "#     precision_matrix[depth, estimators] = round(precision_test,4)\n",
    "\n",
    "#     # Measure elapsed time\n",
    "#     elapsed_time = time.time() - start_time\n",
    "#     print(f'Time for training: {elapsed_time:.2f} seconds, or {elapsed_time/60:.2f} minutes')\n",
    "\n",
    "#     # updating the best precision\n",
    "#     if precision_test >= best_precision:\n",
    "#       best_precision = round(precision_test,4)\n",
    "#       best_depth = depth\n",
    "#       best_estimators = estimators\n",
    "#       print(f'New best precision found for depth={depth}, estimators = {estimators}')\n",
    "\n",
    "#     print('------------------------------')\n",
    "\n",
    "# print(f'Matrix of precisions: {precision_matrix}')\n",
    "# print(f'The best precision is {best_precision} and the best depth is {best_depth} ')"
   ]
  },
  {
   "cell_type": "code",
   "execution_count": 1379,
   "metadata": {
    "id": "3p7fWd63pXtw"
   },
   "outputs": [],
   "source": [
    "# print(precision_matrix)"
   ]
  },
  {
   "cell_type": "code",
   "execution_count": 1380,
   "metadata": {
    "id": "xh_ZPrYopZAy"
   },
   "outputs": [],
   "source": [
    "# pre-calculated best precision matrix (max_depth, n_estimators) for Random Forest for a full dataset (300 features) and is_positive_future_growth_5d\n",
    "best_precision_matrix_random_forest = {(15, 50): 0.5664, (15, 100): 0.565, (15, 200): 0.5711, (15, 500): 0.5741, (16, 50): 0.5703, (16, 100): 0.5679, (16, 200): 0.5728, (16, 500): 0.5739, (17, 50): 0.569, (17, 100): 0.569, (17, 200): 0.5734, (17, 500): 0.5709, (18, 50): 0.5641, (18, 100): 0.5636, (18, 200): 0.5704, (18, 500): 0.5678, (19, 50): 0.5634, (19, 100): 0.5623, (19, 200): 0.5683, (19, 500): 0.568, (20, 50): 0.561, (20, 100): 0.5655, (20, 200): 0.5744, (20, 500): 0.5778}\n"
   ]
  },
  {
   "cell_type": "code",
   "execution_count": 1381,
   "metadata": {
    "colab": {
     "base_uri": "https://localhost:8080/",
     "height": 542
    },
    "id": "_mLg4zDypoB4",
    "outputId": "96d48908-52ec-4f38-9dcd-cde1c453ed5e"
   },
   "outputs": [
    {
     "data": {
      "application/vnd.plotly.v1+json": {
       "config": {
        "plotlyServerURL": "https://plot.ly"
       },
       "data": [
        {
         "hovertemplate": "Number of Estimators=50<br>Max Depth=%{x}<br>Precision Score=%{y}<extra></extra>",
         "legendgroup": "50",
         "line": {
          "color": "#636efa",
          "dash": "solid"
         },
         "marker": {
          "symbol": "circle"
         },
         "mode": "lines",
         "name": "50",
         "orientation": "v",
         "showlegend": true,
         "type": "scatter",
         "x": [
          15,
          16,
          17,
          18,
          19,
          20
         ],
         "xaxis": "x",
         "y": [
          0.5664,
          0.5703,
          0.569,
          0.5641,
          0.5634,
          0.561
         ],
         "yaxis": "y"
        },
        {
         "hovertemplate": "Number of Estimators=100<br>Max Depth=%{x}<br>Precision Score=%{y}<extra></extra>",
         "legendgroup": "100",
         "line": {
          "color": "#EF553B",
          "dash": "solid"
         },
         "marker": {
          "symbol": "circle"
         },
         "mode": "lines",
         "name": "100",
         "orientation": "v",
         "showlegend": true,
         "type": "scatter",
         "x": [
          15,
          16,
          17,
          18,
          19,
          20
         ],
         "xaxis": "x",
         "y": [
          0.565,
          0.5679,
          0.569,
          0.5636,
          0.5623,
          0.5655
         ],
         "yaxis": "y"
        },
        {
         "hovertemplate": "Number of Estimators=200<br>Max Depth=%{x}<br>Precision Score=%{y}<extra></extra>",
         "legendgroup": "200",
         "line": {
          "color": "#00cc96",
          "dash": "solid"
         },
         "marker": {
          "symbol": "circle"
         },
         "mode": "lines",
         "name": "200",
         "orientation": "v",
         "showlegend": true,
         "type": "scatter",
         "x": [
          15,
          16,
          17,
          18,
          19,
          20
         ],
         "xaxis": "x",
         "y": [
          0.5711,
          0.5728,
          0.5734,
          0.5704,
          0.5683,
          0.5744
         ],
         "yaxis": "y"
        },
        {
         "hovertemplate": "Number of Estimators=500<br>Max Depth=%{x}<br>Precision Score=%{y}<extra></extra>",
         "legendgroup": "500",
         "line": {
          "color": "#ab63fa",
          "dash": "solid"
         },
         "marker": {
          "symbol": "circle"
         },
         "mode": "lines",
         "name": "500",
         "orientation": "v",
         "showlegend": true,
         "type": "scatter",
         "x": [
          15,
          16,
          17,
          18,
          19,
          20
         ],
         "xaxis": "x",
         "y": [
          0.5741,
          0.5739,
          0.5709,
          0.5678,
          0.568,
          0.5778
         ],
         "yaxis": "y"
        }
       ],
       "layout": {
        "autosize": true,
        "legend": {
         "title": {
          "text": "Number of Estimators"
         },
         "tracegroupgap": 0
        },
        "template": {
         "data": {
          "bar": [
           {
            "error_x": {
             "color": "#2a3f5f"
            },
            "error_y": {
             "color": "#2a3f5f"
            },
            "marker": {
             "line": {
              "color": "#E5ECF6",
              "width": 0.5
             },
             "pattern": {
              "fillmode": "overlay",
              "size": 10,
              "solidity": 0.2
             }
            },
            "type": "bar"
           }
          ],
          "barpolar": [
           {
            "marker": {
             "line": {
              "color": "#E5ECF6",
              "width": 0.5
             },
             "pattern": {
              "fillmode": "overlay",
              "size": 10,
              "solidity": 0.2
             }
            },
            "type": "barpolar"
           }
          ],
          "carpet": [
           {
            "aaxis": {
             "endlinecolor": "#2a3f5f",
             "gridcolor": "white",
             "linecolor": "white",
             "minorgridcolor": "white",
             "startlinecolor": "#2a3f5f"
            },
            "baxis": {
             "endlinecolor": "#2a3f5f",
             "gridcolor": "white",
             "linecolor": "white",
             "minorgridcolor": "white",
             "startlinecolor": "#2a3f5f"
            },
            "type": "carpet"
           }
          ],
          "choropleth": [
           {
            "colorbar": {
             "outlinewidth": 0,
             "ticks": ""
            },
            "type": "choropleth"
           }
          ],
          "contour": [
           {
            "colorbar": {
             "outlinewidth": 0,
             "ticks": ""
            },
            "colorscale": [
             [
              0,
              "#0d0887"
             ],
             [
              0.1111111111111111,
              "#46039f"
             ],
             [
              0.2222222222222222,
              "#7201a8"
             ],
             [
              0.3333333333333333,
              "#9c179e"
             ],
             [
              0.4444444444444444,
              "#bd3786"
             ],
             [
              0.5555555555555556,
              "#d8576b"
             ],
             [
              0.6666666666666666,
              "#ed7953"
             ],
             [
              0.7777777777777778,
              "#fb9f3a"
             ],
             [
              0.8888888888888888,
              "#fdca26"
             ],
             [
              1,
              "#f0f921"
             ]
            ],
            "type": "contour"
           }
          ],
          "contourcarpet": [
           {
            "colorbar": {
             "outlinewidth": 0,
             "ticks": ""
            },
            "type": "contourcarpet"
           }
          ],
          "heatmap": [
           {
            "colorbar": {
             "outlinewidth": 0,
             "ticks": ""
            },
            "colorscale": [
             [
              0,
              "#0d0887"
             ],
             [
              0.1111111111111111,
              "#46039f"
             ],
             [
              0.2222222222222222,
              "#7201a8"
             ],
             [
              0.3333333333333333,
              "#9c179e"
             ],
             [
              0.4444444444444444,
              "#bd3786"
             ],
             [
              0.5555555555555556,
              "#d8576b"
             ],
             [
              0.6666666666666666,
              "#ed7953"
             ],
             [
              0.7777777777777778,
              "#fb9f3a"
             ],
             [
              0.8888888888888888,
              "#fdca26"
             ],
             [
              1,
              "#f0f921"
             ]
            ],
            "type": "heatmap"
           }
          ],
          "heatmapgl": [
           {
            "colorbar": {
             "outlinewidth": 0,
             "ticks": ""
            },
            "colorscale": [
             [
              0,
              "#0d0887"
             ],
             [
              0.1111111111111111,
              "#46039f"
             ],
             [
              0.2222222222222222,
              "#7201a8"
             ],
             [
              0.3333333333333333,
              "#9c179e"
             ],
             [
              0.4444444444444444,
              "#bd3786"
             ],
             [
              0.5555555555555556,
              "#d8576b"
             ],
             [
              0.6666666666666666,
              "#ed7953"
             ],
             [
              0.7777777777777778,
              "#fb9f3a"
             ],
             [
              0.8888888888888888,
              "#fdca26"
             ],
             [
              1,
              "#f0f921"
             ]
            ],
            "type": "heatmapgl"
           }
          ],
          "histogram": [
           {
            "marker": {
             "pattern": {
              "fillmode": "overlay",
              "size": 10,
              "solidity": 0.2
             }
            },
            "type": "histogram"
           }
          ],
          "histogram2d": [
           {
            "colorbar": {
             "outlinewidth": 0,
             "ticks": ""
            },
            "colorscale": [
             [
              0,
              "#0d0887"
             ],
             [
              0.1111111111111111,
              "#46039f"
             ],
             [
              0.2222222222222222,
              "#7201a8"
             ],
             [
              0.3333333333333333,
              "#9c179e"
             ],
             [
              0.4444444444444444,
              "#bd3786"
             ],
             [
              0.5555555555555556,
              "#d8576b"
             ],
             [
              0.6666666666666666,
              "#ed7953"
             ],
             [
              0.7777777777777778,
              "#fb9f3a"
             ],
             [
              0.8888888888888888,
              "#fdca26"
             ],
             [
              1,
              "#f0f921"
             ]
            ],
            "type": "histogram2d"
           }
          ],
          "histogram2dcontour": [
           {
            "colorbar": {
             "outlinewidth": 0,
             "ticks": ""
            },
            "colorscale": [
             [
              0,
              "#0d0887"
             ],
             [
              0.1111111111111111,
              "#46039f"
             ],
             [
              0.2222222222222222,
              "#7201a8"
             ],
             [
              0.3333333333333333,
              "#9c179e"
             ],
             [
              0.4444444444444444,
              "#bd3786"
             ],
             [
              0.5555555555555556,
              "#d8576b"
             ],
             [
              0.6666666666666666,
              "#ed7953"
             ],
             [
              0.7777777777777778,
              "#fb9f3a"
             ],
             [
              0.8888888888888888,
              "#fdca26"
             ],
             [
              1,
              "#f0f921"
             ]
            ],
            "type": "histogram2dcontour"
           }
          ],
          "mesh3d": [
           {
            "colorbar": {
             "outlinewidth": 0,
             "ticks": ""
            },
            "type": "mesh3d"
           }
          ],
          "parcoords": [
           {
            "line": {
             "colorbar": {
              "outlinewidth": 0,
              "ticks": ""
             }
            },
            "type": "parcoords"
           }
          ],
          "pie": [
           {
            "automargin": true,
            "type": "pie"
           }
          ],
          "scatter": [
           {
            "fillpattern": {
             "fillmode": "overlay",
             "size": 10,
             "solidity": 0.2
            },
            "type": "scatter"
           }
          ],
          "scatter3d": [
           {
            "line": {
             "colorbar": {
              "outlinewidth": 0,
              "ticks": ""
             }
            },
            "marker": {
             "colorbar": {
              "outlinewidth": 0,
              "ticks": ""
             }
            },
            "type": "scatter3d"
           }
          ],
          "scattercarpet": [
           {
            "marker": {
             "colorbar": {
              "outlinewidth": 0,
              "ticks": ""
             }
            },
            "type": "scattercarpet"
           }
          ],
          "scattergeo": [
           {
            "marker": {
             "colorbar": {
              "outlinewidth": 0,
              "ticks": ""
             }
            },
            "type": "scattergeo"
           }
          ],
          "scattergl": [
           {
            "marker": {
             "colorbar": {
              "outlinewidth": 0,
              "ticks": ""
             }
            },
            "type": "scattergl"
           }
          ],
          "scattermapbox": [
           {
            "marker": {
             "colorbar": {
              "outlinewidth": 0,
              "ticks": ""
             }
            },
            "type": "scattermapbox"
           }
          ],
          "scatterpolar": [
           {
            "marker": {
             "colorbar": {
              "outlinewidth": 0,
              "ticks": ""
             }
            },
            "type": "scatterpolar"
           }
          ],
          "scatterpolargl": [
           {
            "marker": {
             "colorbar": {
              "outlinewidth": 0,
              "ticks": ""
             }
            },
            "type": "scatterpolargl"
           }
          ],
          "scatterternary": [
           {
            "marker": {
             "colorbar": {
              "outlinewidth": 0,
              "ticks": ""
             }
            },
            "type": "scatterternary"
           }
          ],
          "surface": [
           {
            "colorbar": {
             "outlinewidth": 0,
             "ticks": ""
            },
            "colorscale": [
             [
              0,
              "#0d0887"
             ],
             [
              0.1111111111111111,
              "#46039f"
             ],
             [
              0.2222222222222222,
              "#7201a8"
             ],
             [
              0.3333333333333333,
              "#9c179e"
             ],
             [
              0.4444444444444444,
              "#bd3786"
             ],
             [
              0.5555555555555556,
              "#d8576b"
             ],
             [
              0.6666666666666666,
              "#ed7953"
             ],
             [
              0.7777777777777778,
              "#fb9f3a"
             ],
             [
              0.8888888888888888,
              "#fdca26"
             ],
             [
              1,
              "#f0f921"
             ]
            ],
            "type": "surface"
           }
          ],
          "table": [
           {
            "cells": {
             "fill": {
              "color": "#EBF0F8"
             },
             "line": {
              "color": "white"
             }
            },
            "header": {
             "fill": {
              "color": "#C8D4E3"
             },
             "line": {
              "color": "white"
             }
            },
            "type": "table"
           }
          ]
         },
         "layout": {
          "annotationdefaults": {
           "arrowcolor": "#2a3f5f",
           "arrowhead": 0,
           "arrowwidth": 1
          },
          "autotypenumbers": "strict",
          "coloraxis": {
           "colorbar": {
            "outlinewidth": 0,
            "ticks": ""
           }
          },
          "colorscale": {
           "diverging": [
            [
             0,
             "#8e0152"
            ],
            [
             0.1,
             "#c51b7d"
            ],
            [
             0.2,
             "#de77ae"
            ],
            [
             0.3,
             "#f1b6da"
            ],
            [
             0.4,
             "#fde0ef"
            ],
            [
             0.5,
             "#f7f7f7"
            ],
            [
             0.6,
             "#e6f5d0"
            ],
            [
             0.7,
             "#b8e186"
            ],
            [
             0.8,
             "#7fbc41"
            ],
            [
             0.9,
             "#4d9221"
            ],
            [
             1,
             "#276419"
            ]
           ],
           "sequential": [
            [
             0,
             "#0d0887"
            ],
            [
             0.1111111111111111,
             "#46039f"
            ],
            [
             0.2222222222222222,
             "#7201a8"
            ],
            [
             0.3333333333333333,
             "#9c179e"
            ],
            [
             0.4444444444444444,
             "#bd3786"
            ],
            [
             0.5555555555555556,
             "#d8576b"
            ],
            [
             0.6666666666666666,
             "#ed7953"
            ],
            [
             0.7777777777777778,
             "#fb9f3a"
            ],
            [
             0.8888888888888888,
             "#fdca26"
            ],
            [
             1,
             "#f0f921"
            ]
           ],
           "sequentialminus": [
            [
             0,
             "#0d0887"
            ],
            [
             0.1111111111111111,
             "#46039f"
            ],
            [
             0.2222222222222222,
             "#7201a8"
            ],
            [
             0.3333333333333333,
             "#9c179e"
            ],
            [
             0.4444444444444444,
             "#bd3786"
            ],
            [
             0.5555555555555556,
             "#d8576b"
            ],
            [
             0.6666666666666666,
             "#ed7953"
            ],
            [
             0.7777777777777778,
             "#fb9f3a"
            ],
            [
             0.8888888888888888,
             "#fdca26"
            ],
            [
             1,
             "#f0f921"
            ]
           ]
          },
          "colorway": [
           "#636efa",
           "#EF553B",
           "#00cc96",
           "#ab63fa",
           "#FFA15A",
           "#19d3f3",
           "#FF6692",
           "#B6E880",
           "#FF97FF",
           "#FECB52"
          ],
          "font": {
           "color": "#2a3f5f"
          },
          "geo": {
           "bgcolor": "white",
           "lakecolor": "white",
           "landcolor": "#E5ECF6",
           "showlakes": true,
           "showland": true,
           "subunitcolor": "white"
          },
          "hoverlabel": {
           "align": "left"
          },
          "hovermode": "closest",
          "mapbox": {
           "style": "light"
          },
          "paper_bgcolor": "white",
          "plot_bgcolor": "#E5ECF6",
          "polar": {
           "angularaxis": {
            "gridcolor": "white",
            "linecolor": "white",
            "ticks": ""
           },
           "bgcolor": "#E5ECF6",
           "radialaxis": {
            "gridcolor": "white",
            "linecolor": "white",
            "ticks": ""
           }
          },
          "scene": {
           "xaxis": {
            "backgroundcolor": "#E5ECF6",
            "gridcolor": "white",
            "gridwidth": 2,
            "linecolor": "white",
            "showbackground": true,
            "ticks": "",
            "zerolinecolor": "white"
           },
           "yaxis": {
            "backgroundcolor": "#E5ECF6",
            "gridcolor": "white",
            "gridwidth": 2,
            "linecolor": "white",
            "showbackground": true,
            "ticks": "",
            "zerolinecolor": "white"
           },
           "zaxis": {
            "backgroundcolor": "#E5ECF6",
            "gridcolor": "white",
            "gridwidth": 2,
            "linecolor": "white",
            "showbackground": true,
            "ticks": "",
            "zerolinecolor": "white"
           }
          },
          "shapedefaults": {
           "line": {
            "color": "#2a3f5f"
           }
          },
          "ternary": {
           "aaxis": {
            "gridcolor": "white",
            "linecolor": "white",
            "ticks": ""
           },
           "baxis": {
            "gridcolor": "white",
            "linecolor": "white",
            "ticks": ""
           },
           "bgcolor": "#E5ECF6",
           "caxis": {
            "gridcolor": "white",
            "linecolor": "white",
            "ticks": ""
           }
          },
          "title": {
           "x": 0.05
          },
          "xaxis": {
           "automargin": true,
           "gridcolor": "white",
           "linecolor": "white",
           "ticks": "",
           "title": {
            "standoff": 15
           },
           "zerolinecolor": "white",
           "zerolinewidth": 2
          },
          "yaxis": {
           "automargin": true,
           "gridcolor": "white",
           "linecolor": "white",
           "ticks": "",
           "title": {
            "standoff": 15
           },
           "zerolinecolor": "white",
           "zerolinewidth": 2
          }
         }
        },
        "title": {
         "text": "Random Forest Models: Precision Score vs. Max Depth for Different Number of Estimators"
        },
        "xaxis": {
         "anchor": "y",
         "domain": [
          0,
          1
         ],
         "range": [
          15,
          20
         ],
         "title": {
          "text": "Max Depth"
         },
         "type": "linear"
        },
        "yaxis": {
         "anchor": "x",
         "autorange": true,
         "domain": [
          0,
          1
         ],
         "range": [
          0.5600666666666667,
          0.5787333333333333
         ],
         "title": {
          "text": "Precision Score"
         },
         "type": "linear"
        }
       }
      },
      "image/png": "[encoded data removed]",
      "text/html": [
       "<div>                            <div id=\"2aae5e14-d77e-4eb6-a484-4c3cf534fc43\" class=\"plotly-graph-div\" style=\"height:525px; width:100%;\"></div>            <script type=\"text/javascript\">                require([\"plotly\"], function(Plotly) {                    window.PLOTLYENV=window.PLOTLYENV || {};                                    if (document.getElementById(\"2aae5e14-d77e-4eb6-a484-4c3cf534fc43\")) {                    Plotly.newPlot(                        \"2aae5e14-d77e-4eb6-a484-4c3cf534fc43\",                        [{\"hovertemplate\":\"Number of Estimators=50\\u003cbr\\u003eMax Depth=%{x}\\u003cbr\\u003ePrecision Score=%{y}\\u003cextra\\u003e\\u003c\\u002fextra\\u003e\",\"legendgroup\":\"50\",\"line\":{\"color\":\"#636efa\",\"dash\":\"solid\"},\"marker\":{\"symbol\":\"circle\"},\"mode\":\"lines\",\"name\":\"50\",\"orientation\":\"v\",\"showlegend\":true,\"x\":[15,16,17,18,19,20],\"xaxis\":\"x\",\"y\":[0.5664,0.5703,0.569,0.5641,0.5634,0.561],\"yaxis\":\"y\",\"type\":\"scatter\"},{\"hovertemplate\":\"Number of Estimators=100\\u003cbr\\u003eMax Depth=%{x}\\u003cbr\\u003ePrecision Score=%{y}\\u003cextra\\u003e\\u003c\\u002fextra\\u003e\",\"legendgroup\":\"100\",\"line\":{\"color\":\"#EF553B\",\"dash\":\"solid\"},\"marker\":{\"symbol\":\"circle\"},\"mode\":\"lines\",\"name\":\"100\",\"orientation\":\"v\",\"showlegend\":true,\"x\":[15,16,17,18,19,20],\"xaxis\":\"x\",\"y\":[0.565,0.5679,0.569,0.5636,0.5623,0.5655],\"yaxis\":\"y\",\"type\":\"scatter\"},{\"hovertemplate\":\"Number of Estimators=200\\u003cbr\\u003eMax Depth=%{x}\\u003cbr\\u003ePrecision Score=%{y}\\u003cextra\\u003e\\u003c\\u002fextra\\u003e\",\"legendgroup\":\"200\",\"line\":{\"color\":\"#00cc96\",\"dash\":\"solid\"},\"marker\":{\"symbol\":\"circle\"},\"mode\":\"lines\",\"name\":\"200\",\"orientation\":\"v\",\"showlegend\":true,\"x\":[15,16,17,18,19,20],\"xaxis\":\"x\",\"y\":[0.5711,0.5728,0.5734,0.5704,0.5683,0.5744],\"yaxis\":\"y\",\"type\":\"scatter\"},{\"hovertemplate\":\"Number of Estimators=500\\u003cbr\\u003eMax Depth=%{x}\\u003cbr\\u003ePrecision Score=%{y}\\u003cextra\\u003e\\u003c\\u002fextra\\u003e\",\"legendgroup\":\"500\",\"line\":{\"color\":\"#ab63fa\",\"dash\":\"solid\"},\"marker\":{\"symbol\":\"circle\"},\"mode\":\"lines\",\"name\":\"500\",\"orientation\":\"v\",\"showlegend\":true,\"x\":[15,16,17,18,19,20],\"xaxis\":\"x\",\"y\":[0.5741,0.5739,0.5709,0.5678,0.568,0.5778],\"yaxis\":\"y\",\"type\":\"scatter\"}],                        {\"template\":{\"data\":{\"histogram2dcontour\":[{\"type\":\"histogram2dcontour\",\"colorbar\":{\"outlinewidth\":0,\"ticks\":\"\"},\"colorscale\":[[0.0,\"#0d0887\"],[0.1111111111111111,\"#46039f\"],[0.2222222222222222,\"#7201a8\"],[0.3333333333333333,\"#9c179e\"],[0.4444444444444444,\"#bd3786\"],[0.5555555555555556,\"#d8576b\"],[0.6666666666666666,\"#ed7953\"],[0.7777777777777778,\"#fb9f3a\"],[0.8888888888888888,\"#fdca26\"],[1.0,\"#f0f921\"]]}],\"choropleth\":[{\"type\":\"choropleth\",\"colorbar\":{\"outlinewidth\":0,\"ticks\":\"\"}}],\"histogram2d\":[{\"type\":\"histogram2d\",\"colorbar\":{\"outlinewidth\":0,\"ticks\":\"\"},\"colorscale\":[[0.0,\"#0d0887\"],[0.1111111111111111,\"#46039f\"],[0.2222222222222222,\"#7201a8\"],[0.3333333333333333,\"#9c179e\"],[0.4444444444444444,\"#bd3786\"],[0.5555555555555556,\"#d8576b\"],[0.6666666666666666,\"#ed7953\"],[0.7777777777777778,\"#fb9f3a\"],[0.8888888888888888,\"#fdca26\"],[1.0,\"#f0f921\"]]}],\"heatmap\":[{\"type\":\"heatmap\",\"colorbar\":{\"outlinewidth\":0,\"ticks\":\"\"},\"colorscale\":[[0.0,\"#0d0887\"],[0.1111111111111111,\"#46039f\"],[0.2222222222222222,\"#7201a8\"],[0.3333333333333333,\"#9c179e\"],[0.4444444444444444,\"#bd3786\"],[0.5555555555555556,\"#d8576b\"],[0.6666666666666666,\"#ed7953\"],[0.7777777777777778,\"#fb9f3a\"],[0.8888888888888888,\"#fdca26\"],[1.0,\"#f0f921\"]]}],\"heatmapgl\":[{\"type\":\"heatmapgl\",\"colorbar\":{\"outlinewidth\":0,\"ticks\":\"\"},\"colorscale\":[[0.0,\"#0d0887\"],[0.1111111111111111,\"#46039f\"],[0.2222222222222222,\"#7201a8\"],[0.3333333333333333,\"#9c179e\"],[0.4444444444444444,\"#bd3786\"],[0.5555555555555556,\"#d8576b\"],[0.6666666666666666,\"#ed7953\"],[0.7777777777777778,\"#fb9f3a\"],[0.8888888888888888,\"#fdca26\"],[1.0,\"#f0f921\"]]}],\"contourcarpet\":[{\"type\":\"contourcarpet\",\"colorbar\":{\"outlinewidth\":0,\"ticks\":\"\"}}],\"contour\":[{\"type\":\"contour\",\"colorbar\":{\"outlinewidth\":0,\"ticks\":\"\"},\"colorscale\":[[0.0,\"#0d0887\"],[0.1111111111111111,\"#46039f\"],[0.2222222222222222,\"#7201a8\"],[0.3333333333333333,\"#9c179e\"],[0.4444444444444444,\"#bd3786\"],[0.5555555555555556,\"#d8576b\"],[0.6666666666666666,\"#ed7953\"],[0.7777777777777778,\"#fb9f3a\"],[0.8888888888888888,\"#fdca26\"],[1.0,\"#f0f921\"]]}],\"surface\":[{\"type\":\"surface\",\"colorbar\":{\"outlinewidth\":0,\"ticks\":\"\"},\"colorscale\":[[0.0,\"#0d0887\"],[0.1111111111111111,\"#46039f\"],[0.2222222222222222,\"#7201a8\"],[0.3333333333333333,\"#9c179e\"],[0.4444444444444444,\"#bd3786\"],[0.5555555555555556,\"#d8576b\"],[0.6666666666666666,\"#ed7953\"],[0.7777777777777778,\"#fb9f3a\"],[0.8888888888888888,\"#fdca26\"],[1.0,\"#f0f921\"]]}],\"mesh3d\":[{\"type\":\"mesh3d\",\"colorbar\":{\"outlinewidth\":0,\"ticks\":\"\"}}],\"scatter\":[{\"fillpattern\":{\"fillmode\":\"overlay\",\"size\":10,\"solidity\":0.2},\"type\":\"scatter\"}],\"parcoords\":[{\"type\":\"parcoords\",\"line\":{\"colorbar\":{\"outlinewidth\":0,\"ticks\":\"\"}}}],\"scatterpolargl\":[{\"type\":\"scatterpolargl\",\"marker\":{\"colorbar\":{\"outlinewidth\":0,\"ticks\":\"\"}}}],\"bar\":[{\"error_x\":{\"color\":\"#2a3f5f\"},\"error_y\":{\"color\":\"#2a3f5f\"},\"marker\":{\"line\":{\"color\":\"#E5ECF6\",\"width\":0.5},\"pattern\":{\"fillmode\":\"overlay\",\"size\":10,\"solidity\":0.2}},\"type\":\"bar\"}],\"scattergeo\":[{\"type\":\"scattergeo\",\"marker\":{\"colorbar\":{\"outlinewidth\":0,\"ticks\":\"\"}}}],\"scatterpolar\":[{\"type\":\"scatterpolar\",\"marker\":{\"colorbar\":{\"outlinewidth\":0,\"ticks\":\"\"}}}],\"histogram\":[{\"marker\":{\"pattern\":{\"fillmode\":\"overlay\",\"size\":10,\"solidity\":0.2}},\"type\":\"histogram\"}],\"scattergl\":[{\"type\":\"scattergl\",\"marker\":{\"colorbar\":{\"outlinewidth\":0,\"ticks\":\"\"}}}],\"scatter3d\":[{\"type\":\"scatter3d\",\"line\":{\"colorbar\":{\"outlinewidth\":0,\"ticks\":\"\"}},\"marker\":{\"colorbar\":{\"outlinewidth\":0,\"ticks\":\"\"}}}],\"scattermapbox\":[{\"type\":\"scattermapbox\",\"marker\":{\"colorbar\":{\"outlinewidth\":0,\"ticks\":\"\"}}}],\"scatterternary\":[{\"type\":\"scatterternary\",\"marker\":{\"colorbar\":{\"outlinewidth\":0,\"ticks\":\"\"}}}],\"scattercarpet\":[{\"type\":\"scattercarpet\",\"marker\":{\"colorbar\":{\"outlinewidth\":0,\"ticks\":\"\"}}}],\"carpet\":[{\"aaxis\":{\"endlinecolor\":\"#2a3f5f\",\"gridcolor\":\"white\",\"linecolor\":\"white\",\"minorgridcolor\":\"white\",\"startlinecolor\":\"#2a3f5f\"},\"baxis\":{\"endlinecolor\":\"#2a3f5f\",\"gridcolor\":\"white\",\"linecolor\":\"white\",\"minorgridcolor\":\"white\",\"startlinecolor\":\"#2a3f5f\"},\"type\":\"carpet\"}],\"table\":[{\"cells\":{\"fill\":{\"color\":\"#EBF0F8\"},\"line\":{\"color\":\"white\"}},\"header\":{\"fill\":{\"color\":\"#C8D4E3\"},\"line\":{\"color\":\"white\"}},\"type\":\"table\"}],\"barpolar\":[{\"marker\":{\"line\":{\"color\":\"#E5ECF6\",\"width\":0.5},\"pattern\":{\"fillmode\":\"overlay\",\"size\":10,\"solidity\":0.2}},\"type\":\"barpolar\"}],\"pie\":[{\"automargin\":true,\"type\":\"pie\"}]},\"layout\":{\"autotypenumbers\":\"strict\",\"colorway\":[\"#636efa\",\"#EF553B\",\"#00cc96\",\"#ab63fa\",\"#FFA15A\",\"#19d3f3\",\"#FF6692\",\"#B6E880\",\"#FF97FF\",\"#FECB52\"],\"font\":{\"color\":\"#2a3f5f\"},\"hovermode\":\"closest\",\"hoverlabel\":{\"align\":\"left\"},\"paper_bgcolor\":\"white\",\"plot_bgcolor\":\"#E5ECF6\",\"polar\":{\"bgcolor\":\"#E5ECF6\",\"angularaxis\":{\"gridcolor\":\"white\",\"linecolor\":\"white\",\"ticks\":\"\"},\"radialaxis\":{\"gridcolor\":\"white\",\"linecolor\":\"white\",\"ticks\":\"\"}},\"ternary\":{\"bgcolor\":\"#E5ECF6\",\"aaxis\":{\"gridcolor\":\"white\",\"linecolor\":\"white\",\"ticks\":\"\"},\"baxis\":{\"gridcolor\":\"white\",\"linecolor\":\"white\",\"ticks\":\"\"},\"caxis\":{\"gridcolor\":\"white\",\"linecolor\":\"white\",\"ticks\":\"\"}},\"coloraxis\":{\"colorbar\":{\"outlinewidth\":0,\"ticks\":\"\"}},\"colorscale\":{\"sequential\":[[0.0,\"#0d0887\"],[0.1111111111111111,\"#46039f\"],[0.2222222222222222,\"#7201a8\"],[0.3333333333333333,\"#9c179e\"],[0.4444444444444444,\"#bd3786\"],[0.5555555555555556,\"#d8576b\"],[0.6666666666666666,\"#ed7953\"],[0.7777777777777778,\"#fb9f3a\"],[0.8888888888888888,\"#fdca26\"],[1.0,\"#f0f921\"]],\"sequentialminus\":[[0.0,\"#0d0887\"],[0.1111111111111111,\"#46039f\"],[0.2222222222222222,\"#7201a8\"],[0.3333333333333333,\"#9c179e\"],[0.4444444444444444,\"#bd3786\"],[0.5555555555555556,\"#d8576b\"],[0.6666666666666666,\"#ed7953\"],[0.7777777777777778,\"#fb9f3a\"],[0.8888888888888888,\"#fdca26\"],[1.0,\"#f0f921\"]],\"diverging\":[[0,\"#8e0152\"],[0.1,\"#c51b7d\"],[0.2,\"#de77ae\"],[0.3,\"#f1b6da\"],[0.4,\"#fde0ef\"],[0.5,\"#f7f7f7\"],[0.6,\"#e6f5d0\"],[0.7,\"#b8e186\"],[0.8,\"#7fbc41\"],[0.9,\"#4d9221\"],[1,\"#276419\"]]},\"xaxis\":{\"gridcolor\":\"white\",\"linecolor\":\"white\",\"ticks\":\"\",\"title\":{\"standoff\":15},\"zerolinecolor\":\"white\",\"automargin\":true,\"zerolinewidth\":2},\"yaxis\":{\"gridcolor\":\"white\",\"linecolor\":\"white\",\"ticks\":\"\",\"title\":{\"standoff\":15},\"zerolinecolor\":\"white\",\"automargin\":true,\"zerolinewidth\":2},\"scene\":{\"xaxis\":{\"backgroundcolor\":\"#E5ECF6\",\"gridcolor\":\"white\",\"linecolor\":\"white\",\"showbackground\":true,\"ticks\":\"\",\"zerolinecolor\":\"white\",\"gridwidth\":2},\"yaxis\":{\"backgroundcolor\":\"#E5ECF6\",\"gridcolor\":\"white\",\"linecolor\":\"white\",\"showbackground\":true,\"ticks\":\"\",\"zerolinecolor\":\"white\",\"gridwidth\":2},\"zaxis\":{\"backgroundcolor\":\"#E5ECF6\",\"gridcolor\":\"white\",\"linecolor\":\"white\",\"showbackground\":true,\"ticks\":\"\",\"zerolinecolor\":\"white\",\"gridwidth\":2}},\"shapedefaults\":{\"line\":{\"color\":\"#2a3f5f\"}},\"annotationdefaults\":{\"arrowcolor\":\"#2a3f5f\",\"arrowhead\":0,\"arrowwidth\":1},\"geo\":{\"bgcolor\":\"white\",\"landcolor\":\"#E5ECF6\",\"subunitcolor\":\"white\",\"showland\":true,\"showlakes\":true,\"lakecolor\":\"white\"},\"title\":{\"x\":0.05},\"mapbox\":{\"style\":\"light\"}}},\"xaxis\":{\"anchor\":\"y\",\"domain\":[0.0,1.0],\"title\":{\"text\":\"Max Depth\"},\"range\":[15,20]},\"yaxis\":{\"anchor\":\"x\",\"domain\":[0.0,1.0],\"title\":{\"text\":\"Precision Score\"}},\"legend\":{\"title\":{\"text\":\"Number of Estimators\"},\"tracegroupgap\":0},\"title\":{\"text\":\"Random Forest Models: Precision Score vs. Max Depth for Different Number of Estimators\"}},                        {\"responsive\": true}                    ).then(function(){\n",
       "                            \n",
       "var gd = document.getElementById('2aae5e14-d77e-4eb6-a484-4c3cf534fc43');\n",
       "var x = new MutationObserver(function (mutations, observer) {{\n",
       "        var display = window.getComputedStyle(gd).display;\n",
       "        if (!display || display === 'none') {{\n",
       "            console.log([gd, 'removed!']);\n",
       "            Plotly.purge(gd);\n",
       "            observer.disconnect();\n",
       "        }}\n",
       "}});\n",
       "\n",
       "// Listen for the removal of the full notebook cells\n",
       "var notebookContainer = gd.closest('#notebook-container');\n",
       "if (notebookContainer) {{\n",
       "    x.observe(notebookContainer, {childList: true});\n",
       "}}\n",
       "\n",
       "// Listen for the clearing of the current output cell\n",
       "var outputEl = gd.closest('.output');\n",
       "if (outputEl) {{\n",
       "    x.observe(outputEl, {childList: true});\n",
       "}}\n",
       "\n",
       "                        })                };                });            </script>        </div>"
      ]
     },
     "metadata": {},
     "output_type": "display_data"
    }
   ],
   "source": [
    "\n",
    "# Convert data to DataFrame\n",
    "df = pd.DataFrame.from_dict(best_precision_matrix_random_forest, orient='index', columns=['precision_score']).reset_index()\n",
    "\n",
    "# Rename the columns for clarity\n",
    "df.columns = ['max_depth_and_metric', 'precision_score']\n",
    "\n",
    "# Separate the tuple into two columns\n",
    "df[['max_depth', 'n_estimators']] = pd.DataFrame(df['max_depth_and_metric'].tolist(), index=df.index)\n",
    "\n",
    "# Drop the combined column\n",
    "df = df.drop(columns=['max_depth_and_metric'])\n",
    "\n",
    "# Create line plot using Plotly Express\n",
    "fig = px.line(df, x='max_depth', y='precision_score', color='n_estimators',\n",
    "              labels={'max_depth': 'Max Depth', 'precision_score': 'Precision Score', 'n_estimators': 'Number of Estimators'},\n",
    "              title='Random Forest Models: Precision Score vs. Max Depth for Different Number of Estimators')\n",
    "\n",
    "# Adjust x-axis range\n",
    "fig.update_xaxes(range=[15, 20])\n",
    "\n",
    "# Show the figure\n",
    "fig.show()"
   ]
  },
  {
   "cell_type": "code",
   "execution_count": 1382,
   "metadata": {
    "colab": {
     "base_uri": "https://localhost:8080/"
    },
    "id": "f89wTM0wpoNP",
    "outputId": "24dd0661-dd02-4b20-8014-e3c40ec871b6"
   },
   "outputs": [
    {
     "name": "stdout",
     "output_type": "stream",
     "text": [
      "CPU times: total: 21min 35s\n",
      "Wall time: 2min 25s\n"
     ]
    }
   ],
   "source": [
    "%%time\n",
    "\n",
    "# Suboptimal Predictor with less (than optimal) Estimators (200) and lower Max_Depth (17)\n",
    "# several minutes to compute (6 min)\n",
    "\n",
    "rf_best = RandomForestClassifier(n_estimators = 200,\n",
    "                                 max_depth = 17,\n",
    "                                 random_state = 42,\n",
    "                                 n_jobs = -1)\n",
    "\n",
    "rf_best = rf_best.fit(X_train_valid, y_train_valid)"
   ]
  },
  {
   "cell_type": "markdown",
   "metadata": {
    "id": "9f87ZB8Jp5Ri"
   },
   "source": [
    "## 1.4 Logistic Regression\n",
    "\n",
    "https://scikit-learn.org/stable/modules/generated/sklearn.linear_model.LogisticRegression.html\n",
    "\n",
    "There can be many reasons when Logistic Regression does not converge: https://forecastegy.com/posts/how-to-solve-logistic-regression-not-converging-in-scikit-learn/"
   ]
  },
  {
   "cell_type": "code",
   "execution_count": 1383,
   "metadata": {
    "id": "nGTYxIpvqFm2"
   },
   "outputs": [],
   "source": [
    "# precision_matrix = {}\n",
    "# best_precision = 0\n",
    "# best_C = 0\n",
    "# best_iter = 0\n",
    "\n",
    "# for c in [1, 0.1, 0.01]:\n",
    "#   for iter in [50, 100, 200]:\n",
    "#     print(f'Working with HyperParams: C = {c} (positive float, smaller = stronger regularization), max_iter={iter}')\n",
    "#     # fitting the tree on X_train, y_train\n",
    "#       # hyperParam C should be between 0 and 1\n",
    "#     lr = LogisticRegression(C=c,\n",
    "#                             random_state=42,\n",
    "#                             max_iter=iter,\n",
    "#                             solver='sag',\n",
    "#                             n_jobs=-1)\n",
    "\n",
    "#     lr = lr.fit(X_train_valid, y_train_valid)\n",
    "\n",
    "#     # getting the predictions for TEST and accuracy score\n",
    "#     y_pred_valid = lr.predict(X_valid)\n",
    "#     precision_valid = precision_score(y_valid, y_pred_valid)\n",
    "#     y_pred_test = lr.predict(X_test)\n",
    "#     precision_test = precision_score(y_test, y_pred_test)\n",
    "#     print(f'  Precision on test is {precision_test}, (precision on valid is {precision_valid} - tend to overfit)')\n",
    "#     # saving to the dict\n",
    "#     precision_matrix[(c,iter)] = round(precision_test,4)\n",
    "#     # updating the best precision\n",
    "#     if precision_test >= best_precision:\n",
    "#       best_precision = round(precision_test,4)\n",
    "#       best_C = c\n",
    "#       best_iter = iter\n",
    "#       print(f'New best precision found for C={c}')\n",
    "#       print('------------------------------')\n",
    "\n",
    "# print(f'Matrix of precisions: {precision_matrix}')\n",
    "# print(f'The best precision is {best_precision} and the best C is {best_C}, best max_iter = {best_iter}  ')"
   ]
  },
  {
   "cell_type": "code",
   "execution_count": 1384,
   "metadata": {
    "id": "6Ld4QIPXqGa-"
   },
   "outputs": [],
   "source": [
    "# UNCOMMENT TO SEE THE RESULTS OF THE RUN\n",
    "# print(precision_matrix)"
   ]
  },
  {
   "cell_type": "code",
   "execution_count": 1385,
   "metadata": {
    "id": "QxSsyYWGqHSr"
   },
   "outputs": [],
   "source": [
    "# Params on C, iter\n",
    "best_precision_matrix_logistic_regression = {(1, 50): 0.5551, (1, 100): 0.555, (1, 200): 0.555, (0.1, 50): 0.5551, (0.1, 100): 0.555, (0.1, 200): 0.555, (0.01, 50): 0.5551, (0.01, 100): 0.555, (0.01, 200): 0.555}\n"
   ]
  },
  {
   "cell_type": "code",
   "execution_count": 1386,
   "metadata": {
    "colab": {
     "base_uri": "https://localhost:8080/"
    },
    "id": "I8S8HmAQqIgB",
    "outputId": "b6097237-6de6-4ffa-a679-be00089d90f7"
   },
   "outputs": [
    {
     "data": {
      "text/plain": [
       "((1, 50), 0.5551)"
      ]
     },
     "execution_count": 1386,
     "metadata": {},
     "output_type": "execute_result"
    }
   ],
   "source": [
    "list(best_precision_matrix_logistic_regression.items())[0]"
   ]
  },
  {
   "cell_type": "code",
   "execution_count": 1387,
   "metadata": {
    "colab": {
     "base_uri": "https://localhost:8080/",
     "height": 542
    },
    "id": "G35N2HI2qK3-",
    "outputId": "3567edd0-1724-4488-bf93-c419eea993dd"
   },
   "outputs": [
    {
     "data": {
      "application/vnd.plotly.v1+json": {
       "config": {
        "plotlyServerURL": "https://plot.ly"
       },
       "data": [
        {
         "alignmentgroup": "True",
         "hovertemplate": "Combination=%{x}<br>Precision=%{text}<extra></extra>",
         "legendgroup": "",
         "marker": {
          "color": "#636efa",
          "pattern": {
           "shape": ""
          }
         },
         "name": "",
         "offsetgroup": "",
         "orientation": "v",
         "showlegend": false,
         "text": [
          55.510000000000005,
          55.50000000000001,
          55.50000000000001,
          55.510000000000005,
          55.50000000000001,
          55.50000000000001,
          55.510000000000005,
          55.50000000000001,
          55.50000000000001
         ],
         "textfont": {
          "color": "white"
         },
         "textposition": "inside",
         "texttemplate": "%{text:.2f}%",
         "type": "bar",
         "x": [
          "C=1, max_iter=50",
          "C=1, max_iter=100",
          "C=1, max_iter=200",
          "C=0.1, max_iter=50",
          "C=0.1, max_iter=100",
          "C=0.1, max_iter=200",
          "C=0.01, max_iter=50",
          "C=0.01, max_iter=100",
          "C=0.01, max_iter=200"
         ],
         "xaxis": "x",
         "y": [
          55.510000000000005,
          55.50000000000001,
          55.50000000000001,
          55.510000000000005,
          55.50000000000001,
          55.50000000000001,
          55.510000000000005,
          55.50000000000001,
          55.50000000000001
         ],
         "yaxis": "y"
        }
       ],
       "layout": {
        "autosize": true,
        "barmode": "relative",
        "legend": {
         "tracegroupgap": 0
        },
        "margin": {
         "t": 60
        },
        "template": {
         "data": {
          "bar": [
           {
            "error_x": {
             "color": "#2a3f5f"
            },
            "error_y": {
             "color": "#2a3f5f"
            },
            "marker": {
             "line": {
              "color": "#E5ECF6",
              "width": 0.5
             },
             "pattern": {
              "fillmode": "overlay",
              "size": 10,
              "solidity": 0.2
             }
            },
            "type": "bar"
           }
          ],
          "barpolar": [
           {
            "marker": {
             "line": {
              "color": "#E5ECF6",
              "width": 0.5
             },
             "pattern": {
              "fillmode": "overlay",
              "size": 10,
              "solidity": 0.2
             }
            },
            "type": "barpolar"
           }
          ],
          "carpet": [
           {
            "aaxis": {
             "endlinecolor": "#2a3f5f",
             "gridcolor": "white",
             "linecolor": "white",
             "minorgridcolor": "white",
             "startlinecolor": "#2a3f5f"
            },
            "baxis": {
             "endlinecolor": "#2a3f5f",
             "gridcolor": "white",
             "linecolor": "white",
             "minorgridcolor": "white",
             "startlinecolor": "#2a3f5f"
            },
            "type": "carpet"
           }
          ],
          "choropleth": [
           {
            "colorbar": {
             "outlinewidth": 0,
             "ticks": ""
            },
            "type": "choropleth"
           }
          ],
          "contour": [
           {
            "colorbar": {
             "outlinewidth": 0,
             "ticks": ""
            },
            "colorscale": [
             [
              0,
              "#0d0887"
             ],
             [
              0.1111111111111111,
              "#46039f"
             ],
             [
              0.2222222222222222,
              "#7201a8"
             ],
             [
              0.3333333333333333,
              "#9c179e"
             ],
             [
              0.4444444444444444,
              "#bd3786"
             ],
             [
              0.5555555555555556,
              "#d8576b"
             ],
             [
              0.6666666666666666,
              "#ed7953"
             ],
             [
              0.7777777777777778,
              "#fb9f3a"
             ],
             [
              0.8888888888888888,
              "#fdca26"
             ],
             [
              1,
              "#f0f921"
             ]
            ],
            "type": "contour"
           }
          ],
          "contourcarpet": [
           {
            "colorbar": {
             "outlinewidth": 0,
             "ticks": ""
            },
            "type": "contourcarpet"
           }
          ],
          "heatmap": [
           {
            "colorbar": {
             "outlinewidth": 0,
             "ticks": ""
            },
            "colorscale": [
             [
              0,
              "#0d0887"
             ],
             [
              0.1111111111111111,
              "#46039f"
             ],
             [
              0.2222222222222222,
              "#7201a8"
             ],
             [
              0.3333333333333333,
              "#9c179e"
             ],
             [
              0.4444444444444444,
              "#bd3786"
             ],
             [
              0.5555555555555556,
              "#d8576b"
             ],
             [
              0.6666666666666666,
              "#ed7953"
             ],
             [
              0.7777777777777778,
              "#fb9f3a"
             ],
             [
              0.8888888888888888,
              "#fdca26"
             ],
             [
              1,
              "#f0f921"
             ]
            ],
            "type": "heatmap"
           }
          ],
          "heatmapgl": [
           {
            "colorbar": {
             "outlinewidth": 0,
             "ticks": ""
            },
            "colorscale": [
             [
              0,
              "#0d0887"
             ],
             [
              0.1111111111111111,
              "#46039f"
             ],
             [
              0.2222222222222222,
              "#7201a8"
             ],
             [
              0.3333333333333333,
              "#9c179e"
             ],
             [
              0.4444444444444444,
              "#bd3786"
             ],
             [
              0.5555555555555556,
              "#d8576b"
             ],
             [
              0.6666666666666666,
              "#ed7953"
             ],
             [
              0.7777777777777778,
              "#fb9f3a"
             ],
             [
              0.8888888888888888,
              "#fdca26"
             ],
             [
              1,
              "#f0f921"
             ]
            ],
            "type": "heatmapgl"
           }
          ],
          "histogram": [
           {
            "marker": {
             "pattern": {
              "fillmode": "overlay",
              "size": 10,
              "solidity": 0.2
             }
            },
            "type": "histogram"
           }
          ],
          "histogram2d": [
           {
            "colorbar": {
             "outlinewidth": 0,
             "ticks": ""
            },
            "colorscale": [
             [
              0,
              "#0d0887"
             ],
             [
              0.1111111111111111,
              "#46039f"
             ],
             [
              0.2222222222222222,
              "#7201a8"
             ],
             [
              0.3333333333333333,
              "#9c179e"
             ],
             [
              0.4444444444444444,
              "#bd3786"
             ],
             [
              0.5555555555555556,
              "#d8576b"
             ],
             [
              0.6666666666666666,
              "#ed7953"
             ],
             [
              0.7777777777777778,
              "#fb9f3a"
             ],
             [
              0.8888888888888888,
              "#fdca26"
             ],
             [
              1,
              "#f0f921"
             ]
            ],
            "type": "histogram2d"
           }
          ],
          "histogram2dcontour": [
           {
            "colorbar": {
             "outlinewidth": 0,
             "ticks": ""
            },
            "colorscale": [
             [
              0,
              "#0d0887"
             ],
             [
              0.1111111111111111,
              "#46039f"
             ],
             [
              0.2222222222222222,
              "#7201a8"
             ],
             [
              0.3333333333333333,
              "#9c179e"
             ],
             [
              0.4444444444444444,
              "#bd3786"
             ],
             [
              0.5555555555555556,
              "#d8576b"
             ],
             [
              0.6666666666666666,
              "#ed7953"
             ],
             [
              0.7777777777777778,
              "#fb9f3a"
             ],
             [
              0.8888888888888888,
              "#fdca26"
             ],
             [
              1,
              "#f0f921"
             ]
            ],
            "type": "histogram2dcontour"
           }
          ],
          "mesh3d": [
           {
            "colorbar": {
             "outlinewidth": 0,
             "ticks": ""
            },
            "type": "mesh3d"
           }
          ],
          "parcoords": [
           {
            "line": {
             "colorbar": {
              "outlinewidth": 0,
              "ticks": ""
             }
            },
            "type": "parcoords"
           }
          ],
          "pie": [
           {
            "automargin": true,
            "type": "pie"
           }
          ],
          "scatter": [
           {
            "fillpattern": {
             "fillmode": "overlay",
             "size": 10,
             "solidity": 0.2
            },
            "type": "scatter"
           }
          ],
          "scatter3d": [
           {
            "line": {
             "colorbar": {
              "outlinewidth": 0,
              "ticks": ""
             }
            },
            "marker": {
             "colorbar": {
              "outlinewidth": 0,
              "ticks": ""
             }
            },
            "type": "scatter3d"
           }
          ],
          "scattercarpet": [
           {
            "marker": {
             "colorbar": {
              "outlinewidth": 0,
              "ticks": ""
             }
            },
            "type": "scattercarpet"
           }
          ],
          "scattergeo": [
           {
            "marker": {
             "colorbar": {
              "outlinewidth": 0,
              "ticks": ""
             }
            },
            "type": "scattergeo"
           }
          ],
          "scattergl": [
           {
            "marker": {
             "colorbar": {
              "outlinewidth": 0,
              "ticks": ""
             }
            },
            "type": "scattergl"
           }
          ],
          "scattermapbox": [
           {
            "marker": {
             "colorbar": {
              "outlinewidth": 0,
              "ticks": ""
             }
            },
            "type": "scattermapbox"
           }
          ],
          "scatterpolar": [
           {
            "marker": {
             "colorbar": {
              "outlinewidth": 0,
              "ticks": ""
             }
            },
            "type": "scatterpolar"
           }
          ],
          "scatterpolargl": [
           {
            "marker": {
             "colorbar": {
              "outlinewidth": 0,
              "ticks": ""
             }
            },
            "type": "scatterpolargl"
           }
          ],
          "scatterternary": [
           {
            "marker": {
             "colorbar": {
              "outlinewidth": 0,
              "ticks": ""
             }
            },
            "type": "scatterternary"
           }
          ],
          "surface": [
           {
            "colorbar": {
             "outlinewidth": 0,
             "ticks": ""
            },
            "colorscale": [
             [
              0,
              "#0d0887"
             ],
             [
              0.1111111111111111,
              "#46039f"
             ],
             [
              0.2222222222222222,
              "#7201a8"
             ],
             [
              0.3333333333333333,
              "#9c179e"
             ],
             [
              0.4444444444444444,
              "#bd3786"
             ],
             [
              0.5555555555555556,
              "#d8576b"
             ],
             [
              0.6666666666666666,
              "#ed7953"
             ],
             [
              0.7777777777777778,
              "#fb9f3a"
             ],
             [
              0.8888888888888888,
              "#fdca26"
             ],
             [
              1,
              "#f0f921"
             ]
            ],
            "type": "surface"
           }
          ],
          "table": [
           {
            "cells": {
             "fill": {
              "color": "#EBF0F8"
             },
             "line": {
              "color": "white"
             }
            },
            "header": {
             "fill": {
              "color": "#C8D4E3"
             },
             "line": {
              "color": "white"
             }
            },
            "type": "table"
           }
          ]
         },
         "layout": {
          "annotationdefaults": {
           "arrowcolor": "#2a3f5f",
           "arrowhead": 0,
           "arrowwidth": 1
          },
          "autotypenumbers": "strict",
          "coloraxis": {
           "colorbar": {
            "outlinewidth": 0,
            "ticks": ""
           }
          },
          "colorscale": {
           "diverging": [
            [
             0,
             "#8e0152"
            ],
            [
             0.1,
             "#c51b7d"
            ],
            [
             0.2,
             "#de77ae"
            ],
            [
             0.3,
             "#f1b6da"
            ],
            [
             0.4,
             "#fde0ef"
            ],
            [
             0.5,
             "#f7f7f7"
            ],
            [
             0.6,
             "#e6f5d0"
            ],
            [
             0.7,
             "#b8e186"
            ],
            [
             0.8,
             "#7fbc41"
            ],
            [
             0.9,
             "#4d9221"
            ],
            [
             1,
             "#276419"
            ]
           ],
           "sequential": [
            [
             0,
             "#0d0887"
            ],
            [
             0.1111111111111111,
             "#46039f"
            ],
            [
             0.2222222222222222,
             "#7201a8"
            ],
            [
             0.3333333333333333,
             "#9c179e"
            ],
            [
             0.4444444444444444,
             "#bd3786"
            ],
            [
             0.5555555555555556,
             "#d8576b"
            ],
            [
             0.6666666666666666,
             "#ed7953"
            ],
            [
             0.7777777777777778,
             "#fb9f3a"
            ],
            [
             0.8888888888888888,
             "#fdca26"
            ],
            [
             1,
             "#f0f921"
            ]
           ],
           "sequentialminus": [
            [
             0,
             "#0d0887"
            ],
            [
             0.1111111111111111,
             "#46039f"
            ],
            [
             0.2222222222222222,
             "#7201a8"
            ],
            [
             0.3333333333333333,
             "#9c179e"
            ],
            [
             0.4444444444444444,
             "#bd3786"
            ],
            [
             0.5555555555555556,
             "#d8576b"
            ],
            [
             0.6666666666666666,
             "#ed7953"
            ],
            [
             0.7777777777777778,
             "#fb9f3a"
            ],
            [
             0.8888888888888888,
             "#fdca26"
            ],
            [
             1,
             "#f0f921"
            ]
           ]
          },
          "colorway": [
           "#636efa",
           "#EF553B",
           "#00cc96",
           "#ab63fa",
           "#FFA15A",
           "#19d3f3",
           "#FF6692",
           "#B6E880",
           "#FF97FF",
           "#FECB52"
          ],
          "font": {
           "color": "#2a3f5f"
          },
          "geo": {
           "bgcolor": "white",
           "lakecolor": "white",
           "landcolor": "#E5ECF6",
           "showlakes": true,
           "showland": true,
           "subunitcolor": "white"
          },
          "hoverlabel": {
           "align": "left"
          },
          "hovermode": "closest",
          "mapbox": {
           "style": "light"
          },
          "paper_bgcolor": "white",
          "plot_bgcolor": "#E5ECF6",
          "polar": {
           "angularaxis": {
            "gridcolor": "white",
            "linecolor": "white",
            "ticks": ""
           },
           "bgcolor": "#E5ECF6",
           "radialaxis": {
            "gridcolor": "white",
            "linecolor": "white",
            "ticks": ""
           }
          },
          "scene": {
           "xaxis": {
            "backgroundcolor": "#E5ECF6",
            "gridcolor": "white",
            "gridwidth": 2,
            "linecolor": "white",
            "showbackground": true,
            "ticks": "",
            "zerolinecolor": "white"
           },
           "yaxis": {
            "backgroundcolor": "#E5ECF6",
            "gridcolor": "white",
            "gridwidth": 2,
            "linecolor": "white",
            "showbackground": true,
            "ticks": "",
            "zerolinecolor": "white"
           },
           "zaxis": {
            "backgroundcolor": "#E5ECF6",
            "gridcolor": "white",
            "gridwidth": 2,
            "linecolor": "white",
            "showbackground": true,
            "ticks": "",
            "zerolinecolor": "white"
           }
          },
          "shapedefaults": {
           "line": {
            "color": "#2a3f5f"
           }
          },
          "ternary": {
           "aaxis": {
            "gridcolor": "white",
            "linecolor": "white",
            "ticks": ""
           },
           "baxis": {
            "gridcolor": "white",
            "linecolor": "white",
            "ticks": ""
           },
           "bgcolor": "#E5ECF6",
           "caxis": {
            "gridcolor": "white",
            "linecolor": "white",
            "ticks": ""
           }
          },
          "title": {
           "x": 0.05
          },
          "xaxis": {
           "automargin": true,
           "gridcolor": "white",
           "linecolor": "white",
           "ticks": "",
           "title": {
            "standoff": 15
           },
           "zerolinecolor": "white",
           "zerolinewidth": 2
          },
          "yaxis": {
           "automargin": true,
           "gridcolor": "white",
           "linecolor": "white",
           "ticks": "",
           "title": {
            "standoff": 15
           },
           "zerolinecolor": "white",
           "zerolinewidth": 2
          }
         }
        },
        "title": {
         "text": "Precision Scores for Various Logistic Regression Hyperparameter Combinations",
         "x": 0.5,
         "xanchor": "center",
         "y": 0.95,
         "yanchor": "top"
        },
        "xaxis": {
         "anchor": "y",
         "autorange": true,
         "domain": [
          0,
          1
         ],
         "range": [
          -0.5,
          8.5
         ],
         "tickangle": -45,
         "title": {
          "text": "Hyperparams combinations of <C, Max Iterations>"
         },
         "type": "category"
        },
        "yaxis": {
         "anchor": "x",
         "autorange": true,
         "domain": [
          0,
          1
         ],
         "range": [
          0,
          58.43157894736843
         ],
         "title": {
          "text": "Precision Score"
         },
         "type": "linear"
        }
       }
      },
      "image/png": "[encoded data removed]",
      "text/html": [
       "<div>                            <div id=\"3b66e045-7669-42bb-9343-a00aae70ebd1\" class=\"plotly-graph-div\" style=\"height:525px; width:100%;\"></div>            <script type=\"text/javascript\">                require([\"plotly\"], function(Plotly) {                    window.PLOTLYENV=window.PLOTLYENV || {};                                    if (document.getElementById(\"3b66e045-7669-42bb-9343-a00aae70ebd1\")) {                    Plotly.newPlot(                        \"3b66e045-7669-42bb-9343-a00aae70ebd1\",                        [{\"alignmentgroup\":\"True\",\"hovertemplate\":\"Combination=%{x}\\u003cbr\\u003ePrecision=%{text}\\u003cextra\\u003e\\u003c\\u002fextra\\u003e\",\"legendgroup\":\"\",\"marker\":{\"color\":\"#636efa\",\"pattern\":{\"shape\":\"\"}},\"name\":\"\",\"offsetgroup\":\"\",\"orientation\":\"v\",\"showlegend\":false,\"text\":[55.510000000000005,55.50000000000001,55.50000000000001,55.510000000000005,55.50000000000001,55.50000000000001,55.510000000000005,55.50000000000001,55.50000000000001],\"textposition\":\"inside\",\"x\":[\"C=1, max_iter=50\",\"C=1, max_iter=100\",\"C=1, max_iter=200\",\"C=0.1, max_iter=50\",\"C=0.1, max_iter=100\",\"C=0.1, max_iter=200\",\"C=0.01, max_iter=50\",\"C=0.01, max_iter=100\",\"C=0.01, max_iter=200\"],\"xaxis\":\"x\",\"y\":[55.510000000000005,55.50000000000001,55.50000000000001,55.510000000000005,55.50000000000001,55.50000000000001,55.510000000000005,55.50000000000001,55.50000000000001],\"yaxis\":\"y\",\"type\":\"bar\",\"textfont\":{\"color\":\"white\"},\"texttemplate\":\"%{text:.2f}%\"}],                        {\"template\":{\"data\":{\"histogram2dcontour\":[{\"type\":\"histogram2dcontour\",\"colorbar\":{\"outlinewidth\":0,\"ticks\":\"\"},\"colorscale\":[[0.0,\"#0d0887\"],[0.1111111111111111,\"#46039f\"],[0.2222222222222222,\"#7201a8\"],[0.3333333333333333,\"#9c179e\"],[0.4444444444444444,\"#bd3786\"],[0.5555555555555556,\"#d8576b\"],[0.6666666666666666,\"#ed7953\"],[0.7777777777777778,\"#fb9f3a\"],[0.8888888888888888,\"#fdca26\"],[1.0,\"#f0f921\"]]}],\"choropleth\":[{\"type\":\"choropleth\",\"colorbar\":{\"outlinewidth\":0,\"ticks\":\"\"}}],\"histogram2d\":[{\"type\":\"histogram2d\",\"colorbar\":{\"outlinewidth\":0,\"ticks\":\"\"},\"colorscale\":[[0.0,\"#0d0887\"],[0.1111111111111111,\"#46039f\"],[0.2222222222222222,\"#7201a8\"],[0.3333333333333333,\"#9c179e\"],[0.4444444444444444,\"#bd3786\"],[0.5555555555555556,\"#d8576b\"],[0.6666666666666666,\"#ed7953\"],[0.7777777777777778,\"#fb9f3a\"],[0.8888888888888888,\"#fdca26\"],[1.0,\"#f0f921\"]]}],\"heatmap\":[{\"type\":\"heatmap\",\"colorbar\":{\"outlinewidth\":0,\"ticks\":\"\"},\"colorscale\":[[0.0,\"#0d0887\"],[0.1111111111111111,\"#46039f\"],[0.2222222222222222,\"#7201a8\"],[0.3333333333333333,\"#9c179e\"],[0.4444444444444444,\"#bd3786\"],[0.5555555555555556,\"#d8576b\"],[0.6666666666666666,\"#ed7953\"],[0.7777777777777778,\"#fb9f3a\"],[0.8888888888888888,\"#fdca26\"],[1.0,\"#f0f921\"]]}],\"heatmapgl\":[{\"type\":\"heatmapgl\",\"colorbar\":{\"outlinewidth\":0,\"ticks\":\"\"},\"colorscale\":[[0.0,\"#0d0887\"],[0.1111111111111111,\"#46039f\"],[0.2222222222222222,\"#7201a8\"],[0.3333333333333333,\"#9c179e\"],[0.4444444444444444,\"#bd3786\"],[0.5555555555555556,\"#d8576b\"],[0.6666666666666666,\"#ed7953\"],[0.7777777777777778,\"#fb9f3a\"],[0.8888888888888888,\"#fdca26\"],[1.0,\"#f0f921\"]]}],\"contourcarpet\":[{\"type\":\"contourcarpet\",\"colorbar\":{\"outlinewidth\":0,\"ticks\":\"\"}}],\"contour\":[{\"type\":\"contour\",\"colorbar\":{\"outlinewidth\":0,\"ticks\":\"\"},\"colorscale\":[[0.0,\"#0d0887\"],[0.1111111111111111,\"#46039f\"],[0.2222222222222222,\"#7201a8\"],[0.3333333333333333,\"#9c179e\"],[0.4444444444444444,\"#bd3786\"],[0.5555555555555556,\"#d8576b\"],[0.6666666666666666,\"#ed7953\"],[0.7777777777777778,\"#fb9f3a\"],[0.8888888888888888,\"#fdca26\"],[1.0,\"#f0f921\"]]}],\"surface\":[{\"type\":\"surface\",\"colorbar\":{\"outlinewidth\":0,\"ticks\":\"\"},\"colorscale\":[[0.0,\"#0d0887\"],[0.1111111111111111,\"#46039f\"],[0.2222222222222222,\"#7201a8\"],[0.3333333333333333,\"#9c179e\"],[0.4444444444444444,\"#bd3786\"],[0.5555555555555556,\"#d8576b\"],[0.6666666666666666,\"#ed7953\"],[0.7777777777777778,\"#fb9f3a\"],[0.8888888888888888,\"#fdca26\"],[1.0,\"#f0f921\"]]}],\"mesh3d\":[{\"type\":\"mesh3d\",\"colorbar\":{\"outlinewidth\":0,\"ticks\":\"\"}}],\"scatter\":[{\"fillpattern\":{\"fillmode\":\"overlay\",\"size\":10,\"solidity\":0.2},\"type\":\"scatter\"}],\"parcoords\":[{\"type\":\"parcoords\",\"line\":{\"colorbar\":{\"outlinewidth\":0,\"ticks\":\"\"}}}],\"scatterpolargl\":[{\"type\":\"scatterpolargl\",\"marker\":{\"colorbar\":{\"outlinewidth\":0,\"ticks\":\"\"}}}],\"bar\":[{\"error_x\":{\"color\":\"#2a3f5f\"},\"error_y\":{\"color\":\"#2a3f5f\"},\"marker\":{\"line\":{\"color\":\"#E5ECF6\",\"width\":0.5},\"pattern\":{\"fillmode\":\"overlay\",\"size\":10,\"solidity\":0.2}},\"type\":\"bar\"}],\"scattergeo\":[{\"type\":\"scattergeo\",\"marker\":{\"colorbar\":{\"outlinewidth\":0,\"ticks\":\"\"}}}],\"scatterpolar\":[{\"type\":\"scatterpolar\",\"marker\":{\"colorbar\":{\"outlinewidth\":0,\"ticks\":\"\"}}}],\"histogram\":[{\"marker\":{\"pattern\":{\"fillmode\":\"overlay\",\"size\":10,\"solidity\":0.2}},\"type\":\"histogram\"}],\"scattergl\":[{\"type\":\"scattergl\",\"marker\":{\"colorbar\":{\"outlinewidth\":0,\"ticks\":\"\"}}}],\"scatter3d\":[{\"type\":\"scatter3d\",\"line\":{\"colorbar\":{\"outlinewidth\":0,\"ticks\":\"\"}},\"marker\":{\"colorbar\":{\"outlinewidth\":0,\"ticks\":\"\"}}}],\"scattermapbox\":[{\"type\":\"scattermapbox\",\"marker\":{\"colorbar\":{\"outlinewidth\":0,\"ticks\":\"\"}}}],\"scatterternary\":[{\"type\":\"scatterternary\",\"marker\":{\"colorbar\":{\"outlinewidth\":0,\"ticks\":\"\"}}}],\"scattercarpet\":[{\"type\":\"scattercarpet\",\"marker\":{\"colorbar\":{\"outlinewidth\":0,\"ticks\":\"\"}}}],\"carpet\":[{\"aaxis\":{\"endlinecolor\":\"#2a3f5f\",\"gridcolor\":\"white\",\"linecolor\":\"white\",\"minorgridcolor\":\"white\",\"startlinecolor\":\"#2a3f5f\"},\"baxis\":{\"endlinecolor\":\"#2a3f5f\",\"gridcolor\":\"white\",\"linecolor\":\"white\",\"minorgridcolor\":\"white\",\"startlinecolor\":\"#2a3f5f\"},\"type\":\"carpet\"}],\"table\":[{\"cells\":{\"fill\":{\"color\":\"#EBF0F8\"},\"line\":{\"color\":\"white\"}},\"header\":{\"fill\":{\"color\":\"#C8D4E3\"},\"line\":{\"color\":\"white\"}},\"type\":\"table\"}],\"barpolar\":[{\"marker\":{\"line\":{\"color\":\"#E5ECF6\",\"width\":0.5},\"pattern\":{\"fillmode\":\"overlay\",\"size\":10,\"solidity\":0.2}},\"type\":\"barpolar\"}],\"pie\":[{\"automargin\":true,\"type\":\"pie\"}]},\"layout\":{\"autotypenumbers\":\"strict\",\"colorway\":[\"#636efa\",\"#EF553B\",\"#00cc96\",\"#ab63fa\",\"#FFA15A\",\"#19d3f3\",\"#FF6692\",\"#B6E880\",\"#FF97FF\",\"#FECB52\"],\"font\":{\"color\":\"#2a3f5f\"},\"hovermode\":\"closest\",\"hoverlabel\":{\"align\":\"left\"},\"paper_bgcolor\":\"white\",\"plot_bgcolor\":\"#E5ECF6\",\"polar\":{\"bgcolor\":\"#E5ECF6\",\"angularaxis\":{\"gridcolor\":\"white\",\"linecolor\":\"white\",\"ticks\":\"\"},\"radialaxis\":{\"gridcolor\":\"white\",\"linecolor\":\"white\",\"ticks\":\"\"}},\"ternary\":{\"bgcolor\":\"#E5ECF6\",\"aaxis\":{\"gridcolor\":\"white\",\"linecolor\":\"white\",\"ticks\":\"\"},\"baxis\":{\"gridcolor\":\"white\",\"linecolor\":\"white\",\"ticks\":\"\"},\"caxis\":{\"gridcolor\":\"white\",\"linecolor\":\"white\",\"ticks\":\"\"}},\"coloraxis\":{\"colorbar\":{\"outlinewidth\":0,\"ticks\":\"\"}},\"colorscale\":{\"sequential\":[[0.0,\"#0d0887\"],[0.1111111111111111,\"#46039f\"],[0.2222222222222222,\"#7201a8\"],[0.3333333333333333,\"#9c179e\"],[0.4444444444444444,\"#bd3786\"],[0.5555555555555556,\"#d8576b\"],[0.6666666666666666,\"#ed7953\"],[0.7777777777777778,\"#fb9f3a\"],[0.8888888888888888,\"#fdca26\"],[1.0,\"#f0f921\"]],\"sequentialminus\":[[0.0,\"#0d0887\"],[0.1111111111111111,\"#46039f\"],[0.2222222222222222,\"#7201a8\"],[0.3333333333333333,\"#9c179e\"],[0.4444444444444444,\"#bd3786\"],[0.5555555555555556,\"#d8576b\"],[0.6666666666666666,\"#ed7953\"],[0.7777777777777778,\"#fb9f3a\"],[0.8888888888888888,\"#fdca26\"],[1.0,\"#f0f921\"]],\"diverging\":[[0,\"#8e0152\"],[0.1,\"#c51b7d\"],[0.2,\"#de77ae\"],[0.3,\"#f1b6da\"],[0.4,\"#fde0ef\"],[0.5,\"#f7f7f7\"],[0.6,\"#e6f5d0\"],[0.7,\"#b8e186\"],[0.8,\"#7fbc41\"],[0.9,\"#4d9221\"],[1,\"#276419\"]]},\"xaxis\":{\"gridcolor\":\"white\",\"linecolor\":\"white\",\"ticks\":\"\",\"title\":{\"standoff\":15},\"zerolinecolor\":\"white\",\"automargin\":true,\"zerolinewidth\":2},\"yaxis\":{\"gridcolor\":\"white\",\"linecolor\":\"white\",\"ticks\":\"\",\"title\":{\"standoff\":15},\"zerolinecolor\":\"white\",\"automargin\":true,\"zerolinewidth\":2},\"scene\":{\"xaxis\":{\"backgroundcolor\":\"#E5ECF6\",\"gridcolor\":\"white\",\"linecolor\":\"white\",\"showbackground\":true,\"ticks\":\"\",\"zerolinecolor\":\"white\",\"gridwidth\":2},\"yaxis\":{\"backgroundcolor\":\"#E5ECF6\",\"gridcolor\":\"white\",\"linecolor\":\"white\",\"showbackground\":true,\"ticks\":\"\",\"zerolinecolor\":\"white\",\"gridwidth\":2},\"zaxis\":{\"backgroundcolor\":\"#E5ECF6\",\"gridcolor\":\"white\",\"linecolor\":\"white\",\"showbackground\":true,\"ticks\":\"\",\"zerolinecolor\":\"white\",\"gridwidth\":2}},\"shapedefaults\":{\"line\":{\"color\":\"#2a3f5f\"}},\"annotationdefaults\":{\"arrowcolor\":\"#2a3f5f\",\"arrowhead\":0,\"arrowwidth\":1},\"geo\":{\"bgcolor\":\"white\",\"landcolor\":\"#E5ECF6\",\"subunitcolor\":\"white\",\"showland\":true,\"showlakes\":true,\"lakecolor\":\"white\"},\"title\":{\"x\":0.05},\"mapbox\":{\"style\":\"light\"}}},\"xaxis\":{\"anchor\":\"y\",\"domain\":[0.0,1.0],\"title\":{\"text\":\"Hyperparams combinations of \\u003cC, Max Iterations\\u003e\"},\"tickangle\":-45},\"yaxis\":{\"anchor\":\"x\",\"domain\":[0.0,1.0],\"title\":{\"text\":\"Precision Score\"}},\"legend\":{\"tracegroupgap\":0},\"margin\":{\"t\":60},\"barmode\":\"relative\",\"title\":{\"text\":\"Precision Scores for Various Logistic Regression Hyperparameter Combinations\",\"y\":0.95,\"x\":0.5,\"xanchor\":\"center\",\"yanchor\":\"top\"}},                        {\"responsive\": true}                    ).then(function(){\n",
       "                            \n",
       "var gd = document.getElementById('3b66e045-7669-42bb-9343-a00aae70ebd1');\n",
       "var x = new MutationObserver(function (mutations, observer) {{\n",
       "        var display = window.getComputedStyle(gd).display;\n",
       "        if (!display || display === 'none') {{\n",
       "            console.log([gd, 'removed!']);\n",
       "            Plotly.purge(gd);\n",
       "            observer.disconnect();\n",
       "        }}\n",
       "}});\n",
       "\n",
       "// Listen for the removal of the full notebook cells\n",
       "var notebookContainer = gd.closest('#notebook-container');\n",
       "if (notebookContainer) {{\n",
       "    x.observe(notebookContainer, {childList: true});\n",
       "}}\n",
       "\n",
       "// Listen for the clearing of the current output cell\n",
       "var outputEl = gd.closest('.output');\n",
       "if (outputEl) {{\n",
       "    x.observe(outputEl, {childList: true});\n",
       "}}\n",
       "\n",
       "                        })                };                });            </script>        </div>"
      ]
     },
     "metadata": {},
     "output_type": "display_data"
    }
   ],
   "source": [
    "# Visualise precision scores\n",
    "\n",
    "# Prepare the data\n",
    "rows = []\n",
    "for key, value in list(best_precision_matrix_logistic_regression.items()):\n",
    "    C, max_iter = key\n",
    "    combination_label = f'C={C}, max_iter={max_iter}'\n",
    "    rows.append({'Combination': combination_label, 'Precision': value})\n",
    "\n",
    "df = pd.DataFrame(rows)\n",
    "df.loc[:,'Precision'] = df.Precision*100.0 # need for % visualisation\n",
    "\n",
    "# Create the bar chart\n",
    "fig = px.bar(df,\n",
    "             x='Combination',\n",
    "             y='Precision',\n",
    "             text='Precision'\n",
    "             )\n",
    "\n",
    "# Customize the layout for better readability\n",
    "fig.update_layout(\n",
    "    xaxis_title='Hyperparams combinations of <C, Max Iterations>',\n",
    "    yaxis_title='Precision Score',\n",
    "    xaxis_tickangle=-45,\n",
    "    title={\n",
    "        'text': 'Precision Scores for Various Logistic Regression Hyperparameter Combinations',\n",
    "        'y':0.95,\n",
    "        'x':0.5,\n",
    "        'xanchor': 'center',\n",
    "        'yanchor': 'top'\n",
    "    }\n",
    ")\n",
    "\n",
    "\n",
    "# Update the text position\n",
    "fig.update_traces(texttemplate='%{text:.2f}%',\n",
    "                  textposition='inside',\n",
    "                  textfont_color='white')\n",
    "\n",
    "# Show the figure\n",
    "fig.show()"
   ]
  },
  {
   "cell_type": "markdown",
   "metadata": {
    "id": "_Uu1B9NuqP8w"
   },
   "source": [
    "## 1.5) ADVANCED: Deep Neural Network (DNN) and hyperparams tuning\n",
    "* Tutorial from Tensorflow.org\n",
    "* TowardsDataScience Hyperparameter Optimization with Keras\n",
    "* Machine Learning Mastery tutorial with Keras Deep Learning"
   ]
  },
  {
   "cell_type": "code",
   "execution_count": 1388,
   "metadata": {
    "colab": {
     "base_uri": "https://localhost:8080/"
    },
    "id": "o_ng0r45qepY",
    "outputId": "41a0d929-f2e1-4c37-8466-0fd7f3723478"
   },
   "outputs": [
    {
     "name": "stdout",
     "output_type": "stream",
     "text": [
      "1024\n"
     ]
    }
   ],
   "source": [
    "# https://towardsdatascience.com/hyperparameter-optimization-with-keras-b82e6364ca53\n",
    "\n",
    "\n",
    "# Extended params set\n",
    "\n",
    "# p = {'lr': [0.01, 0.03,0.1, 0.3,1,3,10],\n",
    "#      'first_neuron': [0,16,32,64,128,256],\n",
    "#      'second_neuron':[0,16,32,64,128,256],\n",
    "#      'first_dropout':[0,0.2,0.3],\n",
    "#      'second_dropout':[0,0.2,0.3],\n",
    "#      'activation_first':['relu','sigmoid','linear'],\n",
    "#      'activation_second':['relu','sigmoid','linear'],\n",
    "#     #  'activation_first':('relu','elu','tanh','sigmoid','linear','softplus','selu', 'softsign','exponential'),\n",
    "#     #  'activation_second':('relu','elu','tanh','sigmoid','linear','softplus','selu', 'softsign','exponential'),\n",
    "#     #  'batch_size':(2,30,10),\n",
    "#     #  'loss': ('mse','mae'),\n",
    "#     #  'epochs':[150],\n",
    "#     #  'shape': ['brick','long_funnel'],\n",
    "#      'optimizer':['adam', 'nadam', 'rmaprop','sgd'],\n",
    "#     #  'losses': [logcosh, binary_crossentropy],\n",
    "#     #  'last_activation':[sigmoid]\n",
    "#      }\n",
    "\n",
    "\n",
    "# Reduced params set and available options\n",
    "p = {'lr': [0.1],\n",
    "     'first_neuron': [12,24,32,48,96, 128, 196, 256],\n",
    "     'second_neuron':[12,24,32,48,96, 128, 196, 256],\n",
    "     'first_dropout':[0.1],\n",
    "     'second_dropout':[0.1],\n",
    "     'activation_first':['relu','sigmoid','softplus','tanh'],\n",
    "     'activation_second':['relu'],\n",
    "    #  'activation_first':('relu','elu','tanh','sigmoid','linear','softplus','selu', 'softsign','exponential'),\n",
    "    #  'activation_second':('relu','elu','tanh','sigmoid','linear','softplus','selu', 'softsign','exponential'),\n",
    "    #  'batch_size':(2,30,10),\n",
    "    #  'loss': ('mse','mae'),\n",
    "    #  'epochs':[150],\n",
    "    #  'shape': ['brick','long_funnel'],\n",
    "     'optimizer':['adam','nadam','sgd','rmaprop'],\n",
    "    #  'losses': [logcosh, binary_crossentropy],\n",
    "    #  'last_activation':[sigmoid]\n",
    "     }\n",
    "\n",
    "\n",
    "# Number of models to run and write to SHEETS:\n",
    "count_models=0\n",
    "\n",
    "nn_params = {}\n",
    "\n",
    "for lr in p['lr']:\n",
    "  for first_neuron in p['first_neuron']:\n",
    "    for second_neuron in p['second_neuron']:\n",
    "      for first_dropout in p['first_dropout']:\n",
    "        for second_dropout in p['second_dropout']:\n",
    "          for activation_first in p['activation_first']:\n",
    "            for activation_second in p['activation_second']:\n",
    "              for optimizer in p['optimizer']:\n",
    "                # print(lr,first_neuron,second_neuron,first_dropout,second_dropout,activation_first,activation_second,optimizer,sep='/')\n",
    "                count_models=count_models+1\n",
    "                nn_params['learning_rate'] = lr\n",
    "                nn_params['first_layer_neurons'] = first_neuron\n",
    "                nn_params['first_layer_dropout'] = first_dropout\n",
    "                nn_params['second_layer_neurons'] = second_neuron\n",
    "                nn_params['second_layer_dropout'] = second_dropout\n",
    "                nn_params['activation_first_layer'] = activation_first\n",
    "                nn_params['activation_second_layer'] = activation_second\n",
    "                nn_params['optimizer'] = optimizer\n",
    "                # features count as an input shape\n",
    "                nn_params['input_shape'] = len(X_train.keys())\n",
    "\n",
    "# Current set of models to try\n",
    "print(count_models)"
   ]
  },
  {
   "cell_type": "code",
   "execution_count": 1389,
   "metadata": {
    "colab": {
     "base_uri": "https://localhost:8080/"
    },
    "id": "MnDNkOFdqhLM",
    "outputId": "645b93b7-3077-4be6-8fae-9827e06e8f43"
   },
   "outputs": [
    {
     "data": {
      "text/plain": [
       "{'learning_rate': 0.1,\n",
       " 'first_layer_neurons': 256,\n",
       " 'first_layer_dropout': 0.1,\n",
       " 'second_layer_neurons': 256,\n",
       " 'second_layer_dropout': 0.1,\n",
       " 'activation_first_layer': 'tanh',\n",
       " 'activation_second_layer': 'relu',\n",
       " 'optimizer': 'rmaprop',\n",
       " 'input_shape': 299}"
      ]
     },
     "execution_count": 1389,
     "metadata": {},
     "output_type": "execute_result"
    }
   ],
   "source": [
    "nn_params"
   ]
  },
  {
   "cell_type": "code",
   "execution_count": 1390,
   "metadata": {
    "id": "T_vTvZ36qiK-"
   },
   "outputs": [],
   "source": [
    "import tensorflow as tf\n",
    "import keras\n",
    "from keras import layers\n",
    "# from keras.models import Sequential\n",
    "# from keras.layers import Dense, Input, Dropout, Activation"
   ]
  },
  {
   "cell_type": "code",
   "execution_count": 1391,
   "metadata": {
    "id": "Qcgwn-d7qjhr"
   },
   "outputs": [],
   "source": [
    "# building one Neural Network when Parameters are known:\n",
    "import datetime\n",
    "\n",
    "# len(rez_train.keys())\n",
    "def build_model(nn_params):\n",
    "  # lr, first_neuron, second_neuron, first_dropout, second_dropout, activation_first, activation_second, optimizer\n",
    "  model = keras.Sequential([\n",
    "  layers.Dense(nn_params['first_layer_neurons'],\n",
    "               activation=nn_params['activation_first_layer'],\n",
    "               input_shape=[nn_params['input_shape']]),\n",
    "  layers.Dropout(nn_params['first_layer_dropout']),\n",
    "  layers.Dense(nn_params['second_layer_neurons'],\n",
    "               activation=nn_params['activation_second_layer']),\n",
    "  layers.Dropout(nn_params['second_layer_dropout']),\n",
    "  layers.Dense(1, activation='sigmoid') # sigmoid is important for a Neural Network\n",
    "  ])\n",
    "\n",
    "  if optimizer == 'adam':\n",
    "    opt = keras.optimizers.Adam(lr)\n",
    "  elif optimizer == 'nadam':\n",
    "    opt = keras.optimizers.Nadam(lr)\n",
    "  elif optimizer == 'rmsprop':\n",
    "    opt = keras.optimizers.RMSprop(lr)\n",
    "  elif optimizer == 'sgd':\n",
    "    opt = keras.optimizers.SGD(lr)\n",
    "  else:\n",
    "    opt = keras.optimizers.Adagrad(lr)\n",
    "  model.compile(loss='binary_crossentropy', # mae/rmse for the Regression,\n",
    "                optimizer=opt,\n",
    "                metrics=['accuracy',keras.metrics.Precision()]) # or use [keras.metrics.Precision()] for a binary model : https://keras.io/api/metrics/classification_metrics/#precision-class\n",
    "  return model"
   ]
  },
  {
   "cell_type": "code",
   "execution_count": 1392,
   "metadata": {
    "colab": {
     "base_uri": "https://localhost:8080/"
    },
    "id": "YdTmqT9Nqk5J",
    "outputId": "91059c6d-28d4-494e-d600-cfcac4b01892"
   },
   "outputs": [
    {
     "data": {
      "text/plain": [
       "{'learning_rate': 0.1,\n",
       " 'first_layer_neurons': 256,\n",
       " 'first_layer_dropout': 0.1,\n",
       " 'second_layer_neurons': 256,\n",
       " 'second_layer_dropout': 0.1,\n",
       " 'activation_first_layer': 'tanh',\n",
       " 'activation_second_layer': 'relu',\n",
       " 'optimizer': 'rmaprop',\n",
       " 'input_shape': 299}"
      ]
     },
     "execution_count": 1392,
     "metadata": {},
     "output_type": "execute_result"
    }
   ],
   "source": [
    "nn_params"
   ]
  },
  {
   "cell_type": "code",
   "execution_count": 1393,
   "metadata": {
    "colab": {
     "base_uri": "https://localhost:8080/"
    },
    "id": "pRros7SSql87",
    "outputId": "8afe1b29-1463-4eb9-994b-6a8a5d00b9a4"
   },
   "outputs": [
    {
     "name": "stderr",
     "output_type": "stream",
     "text": [
      "C:\\Users\\nisith.singh\\Miniconda3\\envs\\mlopspy310\\lib\\site-packages\\keras\\src\\layers\\core\\dense.py:87: UserWarning:\n",
      "\n",
      "Do not pass an `input_shape`/`input_dim` argument to a layer. When using Sequential models, prefer using an `Input(shape)` object as the first layer in the model instead.\n",
      "\n"
     ]
    },
    {
     "data": {
      "text/html": [
       "<pre style=\"white-space:pre;overflow-x:auto;line-height:normal;font-family:Menlo,'DejaVu Sans Mono',consolas,'Courier New',monospace\"><span style=\"font-weight: bold\">Model: \"sequential_9\"</span>\n",
       "</pre>\n"
      ],
      "text/plain": [
       "\u001b[1mModel: \"sequential_9\"\u001b[0m\n"
      ]
     },
     "metadata": {},
     "output_type": "display_data"
    },
    {
     "data": {
      "text/html": [
       "<pre style=\"white-space:pre;overflow-x:auto;line-height:normal;font-family:Menlo,'DejaVu Sans Mono',consolas,'Courier New',monospace\">┏━━━━━━━━━━━━━━━━━━━━━━━━━━━━━━━━━━━━━━┳━━━━━━━━━━━━━━━━━━━━━━━━━━━━━┳━━━━━━━━━━━━━━━━━┓\n",
       "┃<span style=\"font-weight: bold\"> Layer (type)                         </span>┃<span style=\"font-weight: bold\"> Output Shape                </span>┃<span style=\"font-weight: bold\">         Param # </span>┃\n",
       "┡━━━━━━━━━━━━━━━━━━━━━━━━━━━━━━━━━━━━━━╇━━━━━━━━━━━━━━━━━━━━━━━━━━━━━╇━━━━━━━━━━━━━━━━━┩\n",
       "│ dense_27 (<span style=\"color: #0087ff; text-decoration-color: #0087ff\">Dense</span>)                     │ (<span style=\"color: #00d7ff; text-decoration-color: #00d7ff\">None</span>, <span style=\"color: #00af00; text-decoration-color: #00af00\">256</span>)                 │          <span style=\"color: #00af00; text-decoration-color: #00af00\">76,800</span> │\n",
       "├──────────────────────────────────────┼─────────────────────────────┼─────────────────┤\n",
       "│ dropout_18 (<span style=\"color: #0087ff; text-decoration-color: #0087ff\">Dropout</span>)                 │ (<span style=\"color: #00d7ff; text-decoration-color: #00d7ff\">None</span>, <span style=\"color: #00af00; text-decoration-color: #00af00\">256</span>)                 │               <span style=\"color: #00af00; text-decoration-color: #00af00\">0</span> │\n",
       "├──────────────────────────────────────┼─────────────────────────────┼─────────────────┤\n",
       "│ dense_28 (<span style=\"color: #0087ff; text-decoration-color: #0087ff\">Dense</span>)                     │ (<span style=\"color: #00d7ff; text-decoration-color: #00d7ff\">None</span>, <span style=\"color: #00af00; text-decoration-color: #00af00\">256</span>)                 │          <span style=\"color: #00af00; text-decoration-color: #00af00\">65,792</span> │\n",
       "├──────────────────────────────────────┼─────────────────────────────┼─────────────────┤\n",
       "│ dropout_19 (<span style=\"color: #0087ff; text-decoration-color: #0087ff\">Dropout</span>)                 │ (<span style=\"color: #00d7ff; text-decoration-color: #00d7ff\">None</span>, <span style=\"color: #00af00; text-decoration-color: #00af00\">256</span>)                 │               <span style=\"color: #00af00; text-decoration-color: #00af00\">0</span> │\n",
       "├──────────────────────────────────────┼─────────────────────────────┼─────────────────┤\n",
       "│ dense_29 (<span style=\"color: #0087ff; text-decoration-color: #0087ff\">Dense</span>)                     │ (<span style=\"color: #00d7ff; text-decoration-color: #00d7ff\">None</span>, <span style=\"color: #00af00; text-decoration-color: #00af00\">1</span>)                   │             <span style=\"color: #00af00; text-decoration-color: #00af00\">257</span> │\n",
       "└──────────────────────────────────────┴─────────────────────────────┴─────────────────┘\n",
       "</pre>\n"
      ],
      "text/plain": [
       "┏━━━━━━━━━━━━━━━━━━━━━━━━━━━━━━━━━━━━━━┳━━━━━━━━━━━━━━━━━━━━━━━━━━━━━┳━━━━━━━━━━━━━━━━━┓\n",
       "┃\u001b[1m \u001b[0m\u001b[1mLayer (type)                        \u001b[0m\u001b[1m \u001b[0m┃\u001b[1m \u001b[0m\u001b[1mOutput Shape               \u001b[0m\u001b[1m \u001b[0m┃\u001b[1m \u001b[0m\u001b[1m        Param #\u001b[0m\u001b[1m \u001b[0m┃\n",
       "┡━━━━━━━━━━━━━━━━━━━━━━━━━━━━━━━━━━━━━━╇━━━━━━━━━━━━━━━━━━━━━━━━━━━━━╇━━━━━━━━━━━━━━━━━┩\n",
       "│ dense_27 (\u001b[38;5;33mDense\u001b[0m)                     │ (\u001b[38;5;45mNone\u001b[0m, \u001b[38;5;34m256\u001b[0m)                 │          \u001b[38;5;34m76,800\u001b[0m │\n",
       "├──────────────────────────────────────┼─────────────────────────────┼─────────────────┤\n",
       "│ dropout_18 (\u001b[38;5;33mDropout\u001b[0m)                 │ (\u001b[38;5;45mNone\u001b[0m, \u001b[38;5;34m256\u001b[0m)                 │               \u001b[38;5;34m0\u001b[0m │\n",
       "├──────────────────────────────────────┼─────────────────────────────┼─────────────────┤\n",
       "│ dense_28 (\u001b[38;5;33mDense\u001b[0m)                     │ (\u001b[38;5;45mNone\u001b[0m, \u001b[38;5;34m256\u001b[0m)                 │          \u001b[38;5;34m65,792\u001b[0m │\n",
       "├──────────────────────────────────────┼─────────────────────────────┼─────────────────┤\n",
       "│ dropout_19 (\u001b[38;5;33mDropout\u001b[0m)                 │ (\u001b[38;5;45mNone\u001b[0m, \u001b[38;5;34m256\u001b[0m)                 │               \u001b[38;5;34m0\u001b[0m │\n",
       "├──────────────────────────────────────┼─────────────────────────────┼─────────────────┤\n",
       "│ dense_29 (\u001b[38;5;33mDense\u001b[0m)                     │ (\u001b[38;5;45mNone\u001b[0m, \u001b[38;5;34m1\u001b[0m)                   │             \u001b[38;5;34m257\u001b[0m │\n",
       "└──────────────────────────────────────┴─────────────────────────────┴─────────────────┘\n"
      ]
     },
     "metadata": {},
     "output_type": "display_data"
    },
    {
     "data": {
      "text/html": [
       "<pre style=\"white-space:pre;overflow-x:auto;line-height:normal;font-family:Menlo,'DejaVu Sans Mono',consolas,'Courier New',monospace\"><span style=\"font-weight: bold\"> Total params: </span><span style=\"color: #00af00; text-decoration-color: #00af00\">142,849</span> (558.00 KB)\n",
       "</pre>\n"
      ],
      "text/plain": [
       "\u001b[1m Total params: \u001b[0m\u001b[38;5;34m142,849\u001b[0m (558.00 KB)\n"
      ]
     },
     "metadata": {},
     "output_type": "display_data"
    },
    {
     "data": {
      "text/html": [
       "<pre style=\"white-space:pre;overflow-x:auto;line-height:normal;font-family:Menlo,'DejaVu Sans Mono',consolas,'Courier New',monospace\"><span style=\"font-weight: bold\"> Trainable params: </span><span style=\"color: #00af00; text-decoration-color: #00af00\">142,849</span> (558.00 KB)\n",
       "</pre>\n"
      ],
      "text/plain": [
       "\u001b[1m Trainable params: \u001b[0m\u001b[38;5;34m142,849\u001b[0m (558.00 KB)\n"
      ]
     },
     "metadata": {},
     "output_type": "display_data"
    },
    {
     "data": {
      "text/html": [
       "<pre style=\"white-space:pre;overflow-x:auto;line-height:normal;font-family:Menlo,'DejaVu Sans Mono',consolas,'Courier New',monospace\"><span style=\"font-weight: bold\"> Non-trainable params: </span><span style=\"color: #00af00; text-decoration-color: #00af00\">0</span> (0.00 B)\n",
       "</pre>\n"
      ],
      "text/plain": [
       "\u001b[1m Non-trainable params: \u001b[0m\u001b[38;5;34m0\u001b[0m (0.00 B)\n"
      ]
     },
     "metadata": {},
     "output_type": "display_data"
    }
   ],
   "source": [
    "model = build_model(nn_params)\n",
    "model.summary()\n",
    "# model.get_config()"
   ]
  },
  {
   "cell_type": "code",
   "execution_count": 1394,
   "metadata": {
    "colab": {
     "base_uri": "https://localhost:8080/"
    },
    "id": "pC6y2KKgqnHo",
    "outputId": "b51c6f18-89a4-432f-ce56-b99069a75fe3"
   },
   "outputs": [
    {
     "data": {
      "text/plain": [
       "142849"
      ]
     },
     "execution_count": 1394,
     "metadata": {},
     "output_type": "execute_result"
    }
   ],
   "source": [
    "# trainable params in the model with max params (largest hidden layers size)\n",
    "model.count_params()"
   ]
  },
  {
   "cell_type": "code",
   "execution_count": 1395,
   "metadata": {
    "id": "rW4aYXsqqoAt"
   },
   "outputs": [],
   "source": [
    "# Display training progress by printing a single dot for each completed epoch\n",
    "class PrintDot(keras.callbacks.Callback):\n",
    "  def on_epoch_end(self, epoch, logs):\n",
    "    if epoch % 100 == 0: print()\n",
    "    print('.', end='')"
   ]
  },
  {
   "cell_type": "code",
   "execution_count": 1396,
   "metadata": {
    "id": "YONjXMNqqqPr"
   },
   "outputs": [],
   "source": [
    "# read tutorial about Binary Classification with Neural Network\n",
    "# https://machinelearningmastery.com/binary-classification-tutorial-with-the-keras-deep-learning-library/\n",
    "# https://www.tensorflow.org/api_docs/python/tf/keras/Model#fit\n",
    "\n",
    "\n",
    "# HYPER_PARAMS_SPACE = PARAMS space\n",
    "# WHEN MAX_MODELS>0: return after MAX_MODELS checked\n",
    "# MAX_EPOCHS: how many epochs (periods when model weights are updated) do we need?\n",
    "def train_neural_network_with_hyperparams(HYPER_PARAMS_SPACE, MAX_MODELS=0, MAX_EPOCHS=250, EARLY_STOPPING_PATIENCE=20):\n",
    "\n",
    "  # The patience parameter is the amount of epochs to check for improvement\n",
    "  early_stop = keras.callbacks.EarlyStopping(monitor='val_accuracy',  # we want accuracy to improve every single iteration (or at least in several iterations (EARLY STOPPING PARAM))\n",
    "                                             patience = EARLY_STOPPING_PATIENCE)\n",
    "  nn_params = {} # current hyperParams settings\n",
    "  cur = 0 # models trained\n",
    "\n",
    "  # best stats\n",
    "  best_accuracy = 0\n",
    "  best_model = None\n",
    "  best_history = None\n",
    "\n",
    "  for lr in HYPER_PARAMS_SPACE['lr']:\n",
    "    for first_dropout in HYPER_PARAMS_SPACE['first_dropout']:\n",
    "      for second_dropout in HYPER_PARAMS_SPACE['second_dropout']:\n",
    "        for activation_first in HYPER_PARAMS_SPACE['activation_first']:\n",
    "          for activation_second in HYPER_PARAMS_SPACE['activation_second']:\n",
    "            for optimizer in HYPER_PARAMS_SPACE['optimizer']:\n",
    "              for first_neuron in HYPER_PARAMS_SPACE['first_neuron']:\n",
    "                for second_neuron in HYPER_PARAMS_SPACE['second_neuron']:\n",
    "                  cur = cur+1\n",
    "\n",
    "                  nn_params['learning_rate'] = lr\n",
    "                  nn_params['first_layer_neurons'] = first_neuron\n",
    "                  nn_params['first_layer_dropout'] = first_dropout\n",
    "                  nn_params['second_layer_neurons'] = second_neuron\n",
    "                  nn_params['second_layer_dropout'] = second_dropout\n",
    "                  nn_params['activation_first_layer'] = activation_first\n",
    "                  nn_params['activation_second_layer'] = activation_second\n",
    "                  nn_params['optimizer'] = optimizer\n",
    "\n",
    "                  # features count as an input shape\n",
    "                  nn_params['input_shape'] = len(X_train.keys())\n",
    "\n",
    "                  print(f'Using HyperParams:{nn_params}')\n",
    "\n",
    "                  model = build_model(nn_params)\n",
    "                  # model.summary()\n",
    "\n",
    "                  frame = pd.DataFrame(data=[cur,lr,first_neuron,second_neuron,first_dropout,second_dropout, activation_first, activation_second, optimizer])\n",
    "\n",
    "                  print(f\"Training model {cur} with trainable params {model.count_params()} :\")\n",
    "                  t_start = datetime.datetime.now()\n",
    "                  history = model.fit(\n",
    "                                        X_train_valid,\n",
    "                                        y_train_valid,\n",
    "                                        epochs=MAX_EPOCHS,\n",
    "                                        validation_data = (X_test, y_test),\n",
    "                                        verbose=1, #change to 0 if you don't want to see the progress\n",
    "                                        callbacks=[early_stop,PrintDot()])\n",
    "\n",
    "                  t_diff = datetime.datetime.now() - t_start\n",
    "                  frame = pd.DataFrame(data=[t_diff.seconds,\n",
    "                                          len(history.epoch),\n",
    "                                          history.history['val_accuracy'][0], # start of learning\n",
    "                                          history.history['val_accuracy'][len(history.epoch)-1], # end of learning\n",
    "                                          #  history.history['val_precision_2'][0], # start of learning\n",
    "                                          #  history.history['val_precision_2'][len(history.epoch)-1], # end of learning\n",
    "                                          ])\n",
    "\n",
    "                  if history.history['val_accuracy'][len(history.epoch)-1]> best_accuracy:\n",
    "                    best_accuracy = history.history['val_accuracy'][len(history.epoch)-1]\n",
    "                    best_model = model\n",
    "                    best_history = history\n",
    "\n",
    "                  # early stopping of hyper params loop\n",
    "                  if MAX_MODELS>0 and cur>=MAX_MODELS:\n",
    "                    return best_model, best_history.history\n",
    "\n",
    "                  print('==============================================================')\n",
    "\n",
    "  return best_model, best_history.history #full hyper params search on all models"
   ]
  },
  {
   "cell_type": "code",
   "execution_count": 1397,
   "metadata": {
    "id": "cR88teMWqrvW"
   },
   "outputs": [],
   "source": [
    "# returns best_model (trained) and best_history (history of train operations)\n",
    "# best_model, best_history = train_neural_network_with_hyperparams(HYPER_PARAMS_SPACE=p,\n",
    "#                                                                  MAX_MODELS=2, #not more than 2 models\n",
    "#                                                                  MAX_EPOCHS=250,\n",
    "#                                                                  EARLY_STOPPING_PATIENCE=10\n",
    "#                                                                  )"
   ]
  },
  {
   "cell_type": "code",
   "execution_count": 1398,
   "metadata": {
    "id": "h8rGL_i1qsiW"
   },
   "outputs": [],
   "source": [
    "# UNCOMMENT WHEN RUN AGAIN\n",
    "\n",
    "# best_history_nn = best_history\n",
    "# best_model_nn = best_model"
   ]
  },
  {
   "cell_type": "code",
   "execution_count": 1399,
   "metadata": {
    "id": "BZtsvUUUqtST"
   },
   "outputs": [],
   "source": [
    "# best_model_nn.summary()"
   ]
  },
  {
   "cell_type": "code",
   "execution_count": 1400,
   "metadata": {
    "id": "sXAQ011hh7RP"
   },
   "outputs": [],
   "source": [
    "best_history_nn = {'loss': [208422.703125,\n",
    "  1121.272705078125,\n",
    "  539.65283203125,\n",
    "  707.9421997070312,\n",
    "  516.6778564453125,\n",
    "  163.7510528564453,\n",
    "  317.2767333984375,\n",
    "  299.3223571777344,\n",
    "  140.26547241210938,\n",
    "  164.22906494140625,\n",
    "  185.18524169921875,\n",
    "  104.50323486328125,\n",
    "  297.9610290527344,\n",
    "  132.68116760253906],\n",
    " 'accuracy': [0.5328173637390137,\n",
    "  0.5412310361862183,\n",
    "  0.5411459803581238,\n",
    "  0.5417086482048035,\n",
    "  0.5411655902862549,\n",
    "  0.5414665937423706,\n",
    "  0.5418198704719543,\n",
    "  0.5419376492500305,\n",
    "  0.5415254831314087,\n",
    "  0.542022705078125,\n",
    "  0.5419507026672363,\n",
    "  0.5421208143234253,\n",
    "  0.5416563153266907,\n",
    "  0.5420292615890503],\n",
    " 'precision_10': [0.5425137281417847,\n",
    "  0.5425809025764465,\n",
    "  0.5422842502593994,\n",
    "  0.5425357818603516,\n",
    "  0.5421506762504578,\n",
    "  0.542284369468689,\n",
    "  0.5424314737319946,\n",
    "  0.5424544215202332,\n",
    "  0.5424001812934875,\n",
    "  0.5425055027008057,\n",
    "  0.5423765778541565,\n",
    "  0.5424331426620483,\n",
    "  0.5422753691673279,\n",
    "  0.5424132943153381],\n",
    " 'val_loss': [153.67572021484375,\n",
    "  76.75631713867188,\n",
    "  8.787810325622559,\n",
    "  235.6031951904297,\n",
    "  1.5380141735076904,\n",
    "  3.1010591983795166,\n",
    "  1.5755723714828491,\n",
    "  4.07314920425415,\n",
    "  3.5311925411224365,\n",
    "  3.421612501144409,\n",
    "  0.8826513886451721,\n",
    "  0.7503688335418701,\n",
    "  0.7252967953681946,\n",
    "  4.258550643920898],\n",
    " 'val_accuracy': [0.5481243133544922,\n",
    "  0.5551979541778564,\n",
    "  0.5557343363761902,\n",
    "  0.5558684468269348,\n",
    "  0.5551308989524841,\n",
    "  0.5551979541778564,\n",
    "  0.555030345916748,\n",
    "  0.5552650094032288,\n",
    "  0.5551979541778564,\n",
    "  0.5554661750793457,\n",
    "  0.5554661750793457,\n",
    "  0.5558013916015625,\n",
    "  0.5555667281150818,\n",
    "  0.5554326176643372],\n",
    " 'val_precision_10': [0.5546182990074158,\n",
    "  0.5551979541778564,\n",
    "  0.5555108189582825,\n",
    "  0.5561125874519348,\n",
    "  0.5552088618278503,\n",
    "  0.5553352236747742,\n",
    "  0.5553311705589294,\n",
    "  0.5552389025688171,\n",
    "  0.5551979541778564,\n",
    "  0.5555592775344849,\n",
    "  0.5555219054222107,\n",
    "  0.5555480718612671,\n",
    "  0.5554065108299255,\n",
    "  0.5553468465805054]}\n"
   ]
  },
  {
   "cell_type": "code",
   "execution_count": 1401,
   "metadata": {
    "colab": {
     "base_uri": "https://localhost:8080/"
    },
    "id": "9ITSYcHPqxwY",
    "outputId": "16627a34-e0b4-44a1-fcc9-4511b3462182"
   },
   "outputs": [
    {
     "data": {
      "text/plain": [
       "(152846, 299)"
      ]
     },
     "execution_count": 1401,
     "metadata": {},
     "output_type": "execute_result"
    }
   ],
   "source": [
    "X_train_valid.shape"
   ]
  },
  {
   "cell_type": "code",
   "execution_count": 1402,
   "metadata": {
    "colab": {
     "base_uri": "https://localhost:8080/",
     "height": 0
    },
    "id": "2TCVoKpIqyqt",
    "outputId": "06f3b862-50bb-4ddb-a34a-6c7bf8113a54"
   },
   "outputs": [
    {
     "data": {
      "image/png": "[encoded data removed]",
      "text/plain": [
       "<Figure size 1000x600 with 1 Axes>"
      ]
     },
     "metadata": {},
     "output_type": "display_data"
    }
   ],
   "source": [
    "# Learning visualisation for the Deep Neural Network (DNN)\n",
    "# The model is not actually training, as the precision and accuracy score are not improving on TRAIN/TEST with more Epochs\n",
    "\n",
    "# Plotting accuracy\n",
    "plt.figure(figsize=(10, 6))\n",
    "plt.plot(best_history_nn['precision_10'], label='Training Precision')\n",
    "plt.plot(best_history_nn['val_precision_10'], label='Test Precision')\n",
    "plt.xlabel('Epoch')\n",
    "plt.ylabel('Precision')\n",
    "plt.title('Training vs. Test Precision')\n",
    "plt.legend()\n",
    "plt.grid(True)\n",
    "plt.show()"
   ]
  },
  {
   "cell_type": "markdown",
   "metadata": {
    "id": "ieYKsFvYsK_S"
   },
   "source": [
    "# 2) Different Decision rules to improve precision (varying threshold)\n",
    "\n",
    "best model1 (clf_best): Decision Tree (max_depth=15)\n",
    "best model2 (rf_best): Random Forest (n_estimators=200, max_depth=17)"
   ]
  },
  {
   "cell_type": "markdown",
   "metadata": {
    "id": "BUAkDF7ivcmF"
   },
   "source": [
    "## 2.1. Predicting probabilities (predict_proba), getting the distribution for probabilities, and new decision rules"
   ]
  },
  {
   "cell_type": "code",
   "execution_count": 1403,
   "metadata": {},
   "outputs": [
    {
     "data": {
      "text/html": [
       "<style>#sk-container-id-32 {color: black;}#sk-container-id-32 pre{padding: 0;}#sk-container-id-32 div.sk-toggleable {background-color: white;}#sk-container-id-32 label.sk-toggleable__label {cursor: pointer;display: block;width: 100%;margin-bottom: 0;padding: 0.3em;box-sizing: border-box;text-align: center;}#sk-container-id-32 label.sk-toggleable__label-arrow:before {content: \"▸\";float: left;margin-right: 0.25em;color: #696969;}#sk-container-id-32 label.sk-toggleable__label-arrow:hover:before {color: black;}#sk-container-id-32 div.sk-estimator:hover label.sk-toggleable__label-arrow:before {color: black;}#sk-container-id-32 div.sk-toggleable__content {max-height: 0;max-width: 0;overflow: hidden;text-align: left;background-color: #f0f8ff;}#sk-container-id-32 div.sk-toggleable__content pre {margin: 0.2em;color: black;border-radius: 0.25em;background-color: #f0f8ff;}#sk-container-id-32 input.sk-toggleable__control:checked~div.sk-toggleable__content {max-height: 200px;max-width: 100%;overflow: auto;}#sk-container-id-32 input.sk-toggleable__control:checked~label.sk-toggleable__label-arrow:before {content: \"▾\";}#sk-container-id-32 div.sk-estimator input.sk-toggleable__control:checked~label.sk-toggleable__label {background-color: #d4ebff;}#sk-container-id-32 div.sk-label input.sk-toggleable__control:checked~label.sk-toggleable__label {background-color: #d4ebff;}#sk-container-id-32 input.sk-hidden--visually {border: 0;clip: rect(1px 1px 1px 1px);clip: rect(1px, 1px, 1px, 1px);height: 1px;margin: -1px;overflow: hidden;padding: 0;position: absolute;width: 1px;}#sk-container-id-32 div.sk-estimator {font-family: monospace;background-color: #f0f8ff;border: 1px dotted black;border-radius: 0.25em;box-sizing: border-box;margin-bottom: 0.5em;}#sk-container-id-32 div.sk-estimator:hover {background-color: #d4ebff;}#sk-container-id-32 div.sk-parallel-item::after {content: \"\";width: 100%;border-bottom: 1px solid gray;flex-grow: 1;}#sk-container-id-32 div.sk-label:hover label.sk-toggleable__label {background-color: #d4ebff;}#sk-container-id-32 div.sk-serial::before {content: \"\";position: absolute;border-left: 1px solid gray;box-sizing: border-box;top: 0;bottom: 0;left: 50%;z-index: 0;}#sk-container-id-32 div.sk-serial {display: flex;flex-direction: column;align-items: center;background-color: white;padding-right: 0.2em;padding-left: 0.2em;position: relative;}#sk-container-id-32 div.sk-item {position: relative;z-index: 1;}#sk-container-id-32 div.sk-parallel {display: flex;align-items: stretch;justify-content: center;background-color: white;position: relative;}#sk-container-id-32 div.sk-item::before, #sk-container-id-32 div.sk-parallel-item::before {content: \"\";position: absolute;border-left: 1px solid gray;box-sizing: border-box;top: 0;bottom: 0;left: 50%;z-index: -1;}#sk-container-id-32 div.sk-parallel-item {display: flex;flex-direction: column;z-index: 1;position: relative;background-color: white;}#sk-container-id-32 div.sk-parallel-item:first-child::after {align-self: flex-end;width: 50%;}#sk-container-id-32 div.sk-parallel-item:last-child::after {align-self: flex-start;width: 50%;}#sk-container-id-32 div.sk-parallel-item:only-child::after {width: 0;}#sk-container-id-32 div.sk-dashed-wrapped {border: 1px dashed gray;margin: 0 0.4em 0.5em 0.4em;box-sizing: border-box;padding-bottom: 0.4em;background-color: white;}#sk-container-id-32 div.sk-label label {font-family: monospace;font-weight: bold;display: inline-block;line-height: 1.2em;}#sk-container-id-32 div.sk-label-container {text-align: center;}#sk-container-id-32 div.sk-container {/* jupyter's `normalize.less` sets `[hidden] { display: none; }` but bootstrap.min.css set `[hidden] { display: none !important; }` so we also need the `!important` here to be able to override the default hidden behavior on the sphinx rendered scikit-learn.org. See: https://github.com/scikit-learn/scikit-learn/issues/21755 */display: inline-block !important;position: relative;}#sk-container-id-32 div.sk-text-repr-fallback {display: none;}</style><div id=\"sk-container-id-32\" class=\"sk-top-container\"><div class=\"sk-text-repr-fallback\"><pre>DecisionTreeClassifier(max_depth=15, random_state=42)</pre><b>In a Jupyter environment, please rerun this cell to show the HTML representation or trust the notebook. <br />On GitHub, the HTML representation is unable to render, please try loading this page with nbviewer.org.</b></div><div class=\"sk-container\" hidden><div class=\"sk-item\"><div class=\"sk-estimator sk-toggleable\"><input class=\"sk-toggleable__control sk-hidden--visually\" id=\"sk-estimator-id-32\" type=\"checkbox\" checked><label for=\"sk-estimator-id-32\" class=\"sk-toggleable__label sk-toggleable__label-arrow\">DecisionTreeClassifier</label><div class=\"sk-toggleable__content\"><pre>DecisionTreeClassifier(max_depth=15, random_state=42)</pre></div></div></div></div></div>"
      ],
      "text/plain": [
       "DecisionTreeClassifier(max_depth=15, random_state=42)"
      ]
     },
     "execution_count": 1403,
     "metadata": {},
     "output_type": "execute_result"
    }
   ],
   "source": [
    "clf_best"
   ]
  },
  {
   "cell_type": "code",
   "execution_count": 1404,
   "metadata": {
    "id": "NtXS-v-vsUdf"
   },
   "outputs": [],
   "source": [
    "# y_pred_test = best_lr.predict_proba(X_test)\n",
    "\n",
    "# predicting probability instead of a lable\n",
    "\n",
    "y_pred_test = clf_best.predict_proba(X_test)\n",
    "y_pred_test_class1 = [k[1] for k in y_pred_test] # k[1] is the second element in the list of Class predictions"
   ]
  },
  {
   "cell_type": "code",
   "execution_count": 1405,
   "metadata": {
    "colab": {
     "base_uri": "https://localhost:8080/"
    },
    "id": "AEEgbWi4u8uq",
    "outputId": "3cc97da9-6f31-42ad-ab68-1f3e6ad543ca"
   },
   "outputs": [
    {
     "data": {
      "text/plain": [
       "array([[0.62857143, 0.37142857],\n",
       "       [0.8342246 , 0.1657754 ],\n",
       "       [0.8342246 , 0.1657754 ],\n",
       "       ...,\n",
       "       [0.775     , 0.225     ],\n",
       "       [0.51851852, 0.48148148],\n",
       "       [0.77981651, 0.22018349]])"
      ]
     },
     "execution_count": 1405,
     "metadata": {},
     "output_type": "execute_result"
    }
   ],
   "source": [
    "# example prediction of probabilities\n",
    "y_pred_test"
   ]
  },
  {
   "cell_type": "code",
   "execution_count": 1406,
   "metadata": {
    "colab": {
     "base_uri": "https://localhost:8080/",
     "height": 206
    },
    "id": "mgqzi2Xzu87W",
    "outputId": "f24d96cb-ac36-4ef5-f695-d5d91e65e8c2"
   },
   "outputs": [
    {
     "data": {
      "text/html": [
       "<div>\n",
       "<style scoped>\n",
       "    .dataframe tbody tr th:only-of-type {\n",
       "        vertical-align: middle;\n",
       "    }\n",
       "\n",
       "    .dataframe tbody tr th {\n",
       "        vertical-align: top;\n",
       "    }\n",
       "\n",
       "    .dataframe thead th {\n",
       "        text-align: right;\n",
       "    }\n",
       "</style>\n",
       "<table border=\"1\" class=\"dataframe\">\n",
       "  <thead>\n",
       "    <tr style=\"text-align: right;\">\n",
       "      <th></th>\n",
       "      <th>Class1_probability</th>\n",
       "    </tr>\n",
       "  </thead>\n",
       "  <tbody>\n",
       "    <tr>\n",
       "      <th>0</th>\n",
       "      <td>0.371429</td>\n",
       "    </tr>\n",
       "    <tr>\n",
       "      <th>1</th>\n",
       "      <td>0.165775</td>\n",
       "    </tr>\n",
       "    <tr>\n",
       "      <th>2</th>\n",
       "      <td>0.165775</td>\n",
       "    </tr>\n",
       "    <tr>\n",
       "      <th>3</th>\n",
       "      <td>0.101124</td>\n",
       "    </tr>\n",
       "    <tr>\n",
       "      <th>4</th>\n",
       "      <td>0.011811</td>\n",
       "    </tr>\n",
       "  </tbody>\n",
       "</table>\n",
       "</div>"
      ],
      "text/plain": [
       "   Class1_probability\n",
       "0            0.371429\n",
       "1            0.165775\n",
       "2            0.165775\n",
       "3            0.101124\n",
       "4            0.011811"
      ]
     },
     "execution_count": 1406,
     "metadata": {},
     "output_type": "execute_result"
    }
   ],
   "source": [
    "y_pred_test_class1_df = pd.DataFrame(y_pred_test_class1, columns=['Class1_probability'])\n",
    "y_pred_test_class1_df.head()"
   ]
  },
  {
   "cell_type": "code",
   "execution_count": 1407,
   "metadata": {
    "colab": {
     "base_uri": "https://localhost:8080/",
     "height": 81
    },
    "id": "SFQ-uUt9u_Y-",
    "outputId": "6c91e256-65af-40a3-e9fe-df87f5395393"
   },
   "outputs": [
    {
     "data": {
      "text/html": [
       "<div>\n",
       "<style scoped>\n",
       "    .dataframe tbody tr th:only-of-type {\n",
       "        vertical-align: middle;\n",
       "    }\n",
       "\n",
       "    .dataframe tbody tr th {\n",
       "        vertical-align: top;\n",
       "    }\n",
       "\n",
       "    .dataframe thead th {\n",
       "        text-align: right;\n",
       "    }\n",
       "</style>\n",
       "<table border=\"1\" class=\"dataframe\">\n",
       "  <thead>\n",
       "    <tr style=\"text-align: right;\">\n",
       "      <th></th>\n",
       "      <th>count</th>\n",
       "      <th>mean</th>\n",
       "      <th>std</th>\n",
       "      <th>min</th>\n",
       "      <th>25%</th>\n",
       "      <th>50%</th>\n",
       "      <th>75%</th>\n",
       "      <th>max</th>\n",
       "    </tr>\n",
       "  </thead>\n",
       "  <tbody>\n",
       "    <tr>\n",
       "      <th>Class1_probability</th>\n",
       "      <td>29829.0</td>\n",
       "      <td>0.344422</td>\n",
       "      <td>0.338427</td>\n",
       "      <td>0.0</td>\n",
       "      <td>0.07855</td>\n",
       "      <td>0.218254</td>\n",
       "      <td>0.525</td>\n",
       "      <td>1.0</td>\n",
       "    </tr>\n",
       "  </tbody>\n",
       "</table>\n",
       "</div>"
      ],
      "text/plain": [
       "                      count      mean       std  min      25%       50%  \\\n",
       "Class1_probability  29829.0  0.344422  0.338427  0.0  0.07855  0.218254   \n",
       "\n",
       "                      75%  max  \n",
       "Class1_probability  0.525  1.0  "
      ]
     },
     "execution_count": 1407,
     "metadata": {},
     "output_type": "execute_result"
    }
   ],
   "source": [
    "# Mean prediction is 0.52, median is 0.58, 75% quantile is 0.75\n",
    "y_pred_test_class1_df.describe().T"
   ]
  },
  {
   "cell_type": "code",
   "execution_count": 1408,
   "metadata": {
    "colab": {
     "base_uri": "https://localhost:8080/"
    },
    "id": "KGEnXnpBvAx_",
    "outputId": "1033ffee-ea11-4c21-8962-05fb1f5a0d76"
   },
   "outputs": [
    {
     "data": {
      "text/plain": [
       "0.3153642428509169"
      ]
     },
     "execution_count": 1408,
     "metadata": {},
     "output_type": "execute_result"
    }
   ],
   "source": [
    "# Unconditional probability of a positive growth is 55.5%\n",
    "y_test.sum()/y_test.count()"
   ]
  },
  {
   "cell_type": "code",
   "execution_count": 1409,
   "metadata": {},
   "outputs": [
    {
     "data": {
      "text/plain": [
       "0    0.344422\n",
       "dtype: float64"
      ]
     },
     "execution_count": 1409,
     "metadata": {},
     "output_type": "execute_result"
    }
   ],
   "source": [
    "#NS added\n",
    "pd.Series(y_pred_test_class1).sum()/pd.Series(y_test.count())"
   ]
  },
  {
   "cell_type": "code",
   "execution_count": 1410,
   "metadata": {
    "colab": {
     "base_uri": "https://localhost:8080/",
     "height": 452
    },
    "id": "myxaNMxTvFXw",
    "outputId": "9da3d1ab-f479-4c78-9ada-4922ff164f86"
   },
   "outputs": [
    {
     "data": {
      "image/png": "[encoded data removed]",
      "text/plain": [
       "<Figure size 640x480 with 1 Axes>"
      ]
     },
     "metadata": {},
     "output_type": "display_data"
    }
   ],
   "source": [
    "sns.histplot(y_pred_test_class1)\n",
    "\n",
    "# Add a title\n",
    "plt.title('The distribution of predictions for the current best model (Decision Tree with max_depth=15)')\n",
    "\n",
    "# Show the plot\n",
    "plt.show()"
   ]
  },
  {
   "cell_type": "code",
   "execution_count": 1411,
   "metadata": {
    "id": "jNaoTiABvIfJ"
   },
   "outputs": [],
   "source": [
    "# tpr (True Positive Rate) vs. fpr (False Positive Rate) dataframe\n",
    "# tp = True Positive\n",
    "# tn = True Negative\n",
    "# fp = False Positive\n",
    "# fn = False Negative\n",
    "# Decision Rule :  \"y_pred>= Threshold\" for Class \"1\"\n",
    "\n",
    "# when only_even=True --> we'll have a step ==0.02 and leave only even records\n",
    "\n",
    "def tpr_fpr_dataframe(y_true, y_pred, only_even=False):\n",
    "    scores = []\n",
    "\n",
    "    if only_even==False:\n",
    "      thresholds = np.linspace(0, 1, 101) #[0, 0.01, 0.02, ...0.99,1.0]\n",
    "    else:\n",
    "      thresholds = np.linspace(0, 1, 51) #[0, 0.02, 0.04,  ...0.98,1.0]\n",
    "\n",
    "    for t in thresholds:\n",
    "\n",
    "        actual_positive = (y_true == 1)\n",
    "        actual_negative = (y_true == 0)\n",
    "\n",
    "        predict_positive = (y_pred >= t)\n",
    "        predict_negative = (y_pred < t)\n",
    "\n",
    "        tp = (predict_positive & actual_positive).sum()\n",
    "        tn = (predict_negative & actual_negative).sum()\n",
    "\n",
    "        fp = (predict_positive & actual_negative).sum()\n",
    "        fn = (predict_negative & actual_positive).sum()\n",
    "\n",
    "        if tp + fp > 0:\n",
    "          precision = tp / (tp + fp)\n",
    "\n",
    "        if tp + fn > 0:\n",
    "          recall = tp / (tp + fn)\n",
    "\n",
    "        if precision+recall > 0:\n",
    "          f1_score = 2*precision*recall / (precision+recall)\n",
    "\n",
    "        accuracy = (tp+tn) / (tp+tn+fp+fn)\n",
    "\n",
    "        scores.append((t, tp, fp, fn, tn, precision, recall, accuracy, f1_score))\n",
    "\n",
    "    columns = ['threshold', 'tp', 'fp', 'fn', 'tn','precision','recall', 'accuracy','f1_score']\n",
    "    df_scores = pd.DataFrame(scores, columns=columns)\n",
    "\n",
    "    df_scores['tpr'] = df_scores.tp / (df_scores.tp + df_scores.fn)\n",
    "    df_scores['fpr'] = df_scores.fp / (df_scores.fp + df_scores.tn)\n",
    "\n",
    "    return df_scores\n"
   ]
  },
  {
   "cell_type": "code",
   "execution_count": 1412,
   "metadata": {
    "id": "AM8QESf9vKZL"
   },
   "outputs": [],
   "source": [
    "df_scores = tpr_fpr_dataframe(y_test,\n",
    "                              y_pred_test_class1,\n",
    "                              only_even=True)"
   ]
  },
  {
   "cell_type": "code",
   "execution_count": 1413,
   "metadata": {
    "colab": {
     "base_uri": "https://localhost:8080/",
     "height": 1000
    },
    "id": "qoQqV2yhvME7",
    "outputId": "30f8f5c3-12a3-43a7-8ead-379f07d1d635"
   },
   "outputs": [
    {
     "data": {
      "text/html": [
       "<div>\n",
       "<style scoped>\n",
       "    .dataframe tbody tr th:only-of-type {\n",
       "        vertical-align: middle;\n",
       "    }\n",
       "\n",
       "    .dataframe tbody tr th {\n",
       "        vertical-align: top;\n",
       "    }\n",
       "\n",
       "    .dataframe thead th {\n",
       "        text-align: right;\n",
       "    }\n",
       "</style>\n",
       "<table border=\"1\" class=\"dataframe\">\n",
       "  <thead>\n",
       "    <tr style=\"text-align: right;\">\n",
       "      <th></th>\n",
       "      <th>threshold</th>\n",
       "      <th>tp</th>\n",
       "      <th>fp</th>\n",
       "      <th>fn</th>\n",
       "      <th>tn</th>\n",
       "      <th>precision</th>\n",
       "      <th>recall</th>\n",
       "      <th>accuracy</th>\n",
       "      <th>f1_score</th>\n",
       "      <th>tpr</th>\n",
       "      <th>fpr</th>\n",
       "    </tr>\n",
       "  </thead>\n",
       "  <tbody>\n",
       "    <tr>\n",
       "      <th>0</th>\n",
       "      <td>0.00</td>\n",
       "      <td>9407</td>\n",
       "      <td>20422</td>\n",
       "      <td>0</td>\n",
       "      <td>0</td>\n",
       "      <td>0.315364</td>\n",
       "      <td>1.000000</td>\n",
       "      <td>0.315364</td>\n",
       "      <td>0.479509</td>\n",
       "      <td>1.000000</td>\n",
       "      <td>1.000000</td>\n",
       "    </tr>\n",
       "    <tr>\n",
       "      <th>1</th>\n",
       "      <td>0.02</td>\n",
       "      <td>7821</td>\n",
       "      <td>16704</td>\n",
       "      <td>1586</td>\n",
       "      <td>3718</td>\n",
       "      <td>0.318899</td>\n",
       "      <td>0.831402</td>\n",
       "      <td>0.386838</td>\n",
       "      <td>0.460981</td>\n",
       "      <td>0.831402</td>\n",
       "      <td>0.817941</td>\n",
       "    </tr>\n",
       "    <tr>\n",
       "      <th>2</th>\n",
       "      <td>0.04</td>\n",
       "      <td>7630</td>\n",
       "      <td>16308</td>\n",
       "      <td>1777</td>\n",
       "      <td>4114</td>\n",
       "      <td>0.318740</td>\n",
       "      <td>0.811098</td>\n",
       "      <td>0.393711</td>\n",
       "      <td>0.457640</td>\n",
       "      <td>0.811098</td>\n",
       "      <td>0.798551</td>\n",
       "    </tr>\n",
       "    <tr>\n",
       "      <th>3</th>\n",
       "      <td>0.06</td>\n",
       "      <td>7305</td>\n",
       "      <td>15608</td>\n",
       "      <td>2102</td>\n",
       "      <td>4814</td>\n",
       "      <td>0.318815</td>\n",
       "      <td>0.776549</td>\n",
       "      <td>0.406282</td>\n",
       "      <td>0.452042</td>\n",
       "      <td>0.776549</td>\n",
       "      <td>0.764274</td>\n",
       "    </tr>\n",
       "    <tr>\n",
       "      <th>4</th>\n",
       "      <td>0.08</td>\n",
       "      <td>7165</td>\n",
       "      <td>15197</td>\n",
       "      <td>2242</td>\n",
       "      <td>5225</td>\n",
       "      <td>0.320410</td>\n",
       "      <td>0.761667</td>\n",
       "      <td>0.415368</td>\n",
       "      <td>0.451069</td>\n",
       "      <td>0.761667</td>\n",
       "      <td>0.744148</td>\n",
       "    </tr>\n",
       "    <tr>\n",
       "      <th>5</th>\n",
       "      <td>0.10</td>\n",
       "      <td>6900</td>\n",
       "      <td>14509</td>\n",
       "      <td>2507</td>\n",
       "      <td>5913</td>\n",
       "      <td>0.322294</td>\n",
       "      <td>0.733496</td>\n",
       "      <td>0.429548</td>\n",
       "      <td>0.447819</td>\n",
       "      <td>0.733496</td>\n",
       "      <td>0.710459</td>\n",
       "    </tr>\n",
       "    <tr>\n",
       "      <th>6</th>\n",
       "      <td>0.12</td>\n",
       "      <td>6568</td>\n",
       "      <td>13892</td>\n",
       "      <td>2839</td>\n",
       "      <td>6530</td>\n",
       "      <td>0.321017</td>\n",
       "      <td>0.698203</td>\n",
       "      <td>0.439103</td>\n",
       "      <td>0.439817</td>\n",
       "      <td>0.698203</td>\n",
       "      <td>0.680247</td>\n",
       "    </tr>\n",
       "    <tr>\n",
       "      <th>7</th>\n",
       "      <td>0.14</td>\n",
       "      <td>6434</td>\n",
       "      <td>13689</td>\n",
       "      <td>2973</td>\n",
       "      <td>6733</td>\n",
       "      <td>0.319734</td>\n",
       "      <td>0.683959</td>\n",
       "      <td>0.441416</td>\n",
       "      <td>0.435760</td>\n",
       "      <td>0.683959</td>\n",
       "      <td>0.670307</td>\n",
       "    </tr>\n",
       "    <tr>\n",
       "      <th>8</th>\n",
       "      <td>0.16</td>\n",
       "      <td>5959</td>\n",
       "      <td>12279</td>\n",
       "      <td>3448</td>\n",
       "      <td>8143</td>\n",
       "      <td>0.326735</td>\n",
       "      <td>0.633464</td>\n",
       "      <td>0.472761</td>\n",
       "      <td>0.431109</td>\n",
       "      <td>0.633464</td>\n",
       "      <td>0.601263</td>\n",
       "    </tr>\n",
       "    <tr>\n",
       "      <th>9</th>\n",
       "      <td>0.18</td>\n",
       "      <td>5754</td>\n",
       "      <td>11942</td>\n",
       "      <td>3653</td>\n",
       "      <td>8480</td>\n",
       "      <td>0.325158</td>\n",
       "      <td>0.611672</td>\n",
       "      <td>0.477187</td>\n",
       "      <td>0.424602</td>\n",
       "      <td>0.611672</td>\n",
       "      <td>0.584762</td>\n",
       "    </tr>\n",
       "    <tr>\n",
       "      <th>10</th>\n",
       "      <td>0.20</td>\n",
       "      <td>5206</td>\n",
       "      <td>10647</td>\n",
       "      <td>4201</td>\n",
       "      <td>9775</td>\n",
       "      <td>0.328392</td>\n",
       "      <td>0.553418</td>\n",
       "      <td>0.502229</td>\n",
       "      <td>0.412193</td>\n",
       "      <td>0.553418</td>\n",
       "      <td>0.521350</td>\n",
       "    </tr>\n",
       "    <tr>\n",
       "      <th>11</th>\n",
       "      <td>0.22</td>\n",
       "      <td>4897</td>\n",
       "      <td>9993</td>\n",
       "      <td>4510</td>\n",
       "      <td>10429</td>\n",
       "      <td>0.328878</td>\n",
       "      <td>0.520570</td>\n",
       "      <td>0.513795</td>\n",
       "      <td>0.403095</td>\n",
       "      <td>0.520570</td>\n",
       "      <td>0.489325</td>\n",
       "    </tr>\n",
       "    <tr>\n",
       "      <th>12</th>\n",
       "      <td>0.24</td>\n",
       "      <td>4746</td>\n",
       "      <td>9569</td>\n",
       "      <td>4661</td>\n",
       "      <td>10853</td>\n",
       "      <td>0.331540</td>\n",
       "      <td>0.504518</td>\n",
       "      <td>0.522947</td>\n",
       "      <td>0.400135</td>\n",
       "      <td>0.504518</td>\n",
       "      <td>0.468563</td>\n",
       "    </tr>\n",
       "    <tr>\n",
       "      <th>13</th>\n",
       "      <td>0.26</td>\n",
       "      <td>4532</td>\n",
       "      <td>9059</td>\n",
       "      <td>4875</td>\n",
       "      <td>11363</td>\n",
       "      <td>0.333456</td>\n",
       "      <td>0.481769</td>\n",
       "      <td>0.532871</td>\n",
       "      <td>0.394121</td>\n",
       "      <td>0.481769</td>\n",
       "      <td>0.443590</td>\n",
       "    </tr>\n",
       "    <tr>\n",
       "      <th>14</th>\n",
       "      <td>0.28</td>\n",
       "      <td>4227</td>\n",
       "      <td>8358</td>\n",
       "      <td>5180</td>\n",
       "      <td>12064</td>\n",
       "      <td>0.335876</td>\n",
       "      <td>0.449346</td>\n",
       "      <td>0.546146</td>\n",
       "      <td>0.384413</td>\n",
       "      <td>0.449346</td>\n",
       "      <td>0.409265</td>\n",
       "    </tr>\n",
       "    <tr>\n",
       "      <th>15</th>\n",
       "      <td>0.30</td>\n",
       "      <td>3732</td>\n",
       "      <td>7586</td>\n",
       "      <td>5675</td>\n",
       "      <td>12836</td>\n",
       "      <td>0.329740</td>\n",
       "      <td>0.396726</td>\n",
       "      <td>0.555433</td>\n",
       "      <td>0.360145</td>\n",
       "      <td>0.396726</td>\n",
       "      <td>0.371462</td>\n",
       "    </tr>\n",
       "    <tr>\n",
       "      <th>16</th>\n",
       "      <td>0.32</td>\n",
       "      <td>3553</td>\n",
       "      <td>7195</td>\n",
       "      <td>5854</td>\n",
       "      <td>13227</td>\n",
       "      <td>0.330573</td>\n",
       "      <td>0.377697</td>\n",
       "      <td>0.562540</td>\n",
       "      <td>0.352568</td>\n",
       "      <td>0.377697</td>\n",
       "      <td>0.352316</td>\n",
       "    </tr>\n",
       "    <tr>\n",
       "      <th>17</th>\n",
       "      <td>0.34</td>\n",
       "      <td>3486</td>\n",
       "      <td>7071</td>\n",
       "      <td>5921</td>\n",
       "      <td>13351</td>\n",
       "      <td>0.330207</td>\n",
       "      <td>0.370575</td>\n",
       "      <td>0.564451</td>\n",
       "      <td>0.349229</td>\n",
       "      <td>0.370575</td>\n",
       "      <td>0.346244</td>\n",
       "    </tr>\n",
       "    <tr>\n",
       "      <th>18</th>\n",
       "      <td>0.36</td>\n",
       "      <td>3349</td>\n",
       "      <td>6859</td>\n",
       "      <td>6058</td>\n",
       "      <td>13563</td>\n",
       "      <td>0.328076</td>\n",
       "      <td>0.356011</td>\n",
       "      <td>0.566965</td>\n",
       "      <td>0.341473</td>\n",
       "      <td>0.356011</td>\n",
       "      <td>0.335863</td>\n",
       "    </tr>\n",
       "    <tr>\n",
       "      <th>19</th>\n",
       "      <td>0.38</td>\n",
       "      <td>3075</td>\n",
       "      <td>6300</td>\n",
       "      <td>6332</td>\n",
       "      <td>14122</td>\n",
       "      <td>0.328000</td>\n",
       "      <td>0.326884</td>\n",
       "      <td>0.576519</td>\n",
       "      <td>0.327441</td>\n",
       "      <td>0.326884</td>\n",
       "      <td>0.308491</td>\n",
       "    </tr>\n",
       "    <tr>\n",
       "      <th>20</th>\n",
       "      <td>0.40</td>\n",
       "      <td>2967</td>\n",
       "      <td>6120</td>\n",
       "      <td>6440</td>\n",
       "      <td>14302</td>\n",
       "      <td>0.326510</td>\n",
       "      <td>0.315403</td>\n",
       "      <td>0.578933</td>\n",
       "      <td>0.320861</td>\n",
       "      <td>0.315403</td>\n",
       "      <td>0.299677</td>\n",
       "    </tr>\n",
       "    <tr>\n",
       "      <th>21</th>\n",
       "      <td>0.42</td>\n",
       "      <td>2876</td>\n",
       "      <td>5910</td>\n",
       "      <td>6531</td>\n",
       "      <td>14512</td>\n",
       "      <td>0.327339</td>\n",
       "      <td>0.305730</td>\n",
       "      <td>0.582923</td>\n",
       "      <td>0.316166</td>\n",
       "      <td>0.305730</td>\n",
       "      <td>0.289394</td>\n",
       "    </tr>\n",
       "    <tr>\n",
       "      <th>22</th>\n",
       "      <td>0.44</td>\n",
       "      <td>2797</td>\n",
       "      <td>5789</td>\n",
       "      <td>6610</td>\n",
       "      <td>14633</td>\n",
       "      <td>0.325763</td>\n",
       "      <td>0.297332</td>\n",
       "      <td>0.584331</td>\n",
       "      <td>0.310899</td>\n",
       "      <td>0.297332</td>\n",
       "      <td>0.283469</td>\n",
       "    </tr>\n",
       "    <tr>\n",
       "      <th>23</th>\n",
       "      <td>0.46</td>\n",
       "      <td>2784</td>\n",
       "      <td>5759</td>\n",
       "      <td>6623</td>\n",
       "      <td>14663</td>\n",
       "      <td>0.325881</td>\n",
       "      <td>0.295950</td>\n",
       "      <td>0.584901</td>\n",
       "      <td>0.310195</td>\n",
       "      <td>0.295950</td>\n",
       "      <td>0.282000</td>\n",
       "    </tr>\n",
       "    <tr>\n",
       "      <th>24</th>\n",
       "      <td>0.48</td>\n",
       "      <td>2404</td>\n",
       "      <td>5387</td>\n",
       "      <td>7003</td>\n",
       "      <td>15035</td>\n",
       "      <td>0.308561</td>\n",
       "      <td>0.255554</td>\n",
       "      <td>0.584632</td>\n",
       "      <td>0.279567</td>\n",
       "      <td>0.255554</td>\n",
       "      <td>0.263784</td>\n",
       "    </tr>\n",
       "    <tr>\n",
       "      <th>25</th>\n",
       "      <td>0.50</td>\n",
       "      <td>2327</td>\n",
       "      <td>5255</td>\n",
       "      <td>7080</td>\n",
       "      <td>15167</td>\n",
       "      <td>0.306911</td>\n",
       "      <td>0.247369</td>\n",
       "      <td>0.586476</td>\n",
       "      <td>0.273942</td>\n",
       "      <td>0.247369</td>\n",
       "      <td>0.257321</td>\n",
       "    </tr>\n",
       "    <tr>\n",
       "      <th>26</th>\n",
       "      <td>0.52</td>\n",
       "      <td>2315</td>\n",
       "      <td>5228</td>\n",
       "      <td>7092</td>\n",
       "      <td>15194</td>\n",
       "      <td>0.306907</td>\n",
       "      <td>0.246093</td>\n",
       "      <td>0.586979</td>\n",
       "      <td>0.273156</td>\n",
       "      <td>0.246093</td>\n",
       "      <td>0.255998</td>\n",
       "    </tr>\n",
       "    <tr>\n",
       "      <th>27</th>\n",
       "      <td>0.54</td>\n",
       "      <td>2289</td>\n",
       "      <td>5141</td>\n",
       "      <td>7118</td>\n",
       "      <td>15281</td>\n",
       "      <td>0.308075</td>\n",
       "      <td>0.243329</td>\n",
       "      <td>0.589024</td>\n",
       "      <td>0.271901</td>\n",
       "      <td>0.243329</td>\n",
       "      <td>0.251738</td>\n",
       "    </tr>\n",
       "    <tr>\n",
       "      <th>28</th>\n",
       "      <td>0.56</td>\n",
       "      <td>2275</td>\n",
       "      <td>5108</td>\n",
       "      <td>7132</td>\n",
       "      <td>15314</td>\n",
       "      <td>0.308140</td>\n",
       "      <td>0.241841</td>\n",
       "      <td>0.589661</td>\n",
       "      <td>0.270995</td>\n",
       "      <td>0.241841</td>\n",
       "      <td>0.250122</td>\n",
       "    </tr>\n",
       "    <tr>\n",
       "      <th>29</th>\n",
       "      <td>0.58</td>\n",
       "      <td>2141</td>\n",
       "      <td>4806</td>\n",
       "      <td>7266</td>\n",
       "      <td>15616</td>\n",
       "      <td>0.308191</td>\n",
       "      <td>0.227596</td>\n",
       "      <td>0.595293</td>\n",
       "      <td>0.261832</td>\n",
       "      <td>0.227596</td>\n",
       "      <td>0.235334</td>\n",
       "    </tr>\n",
       "    <tr>\n",
       "      <th>30</th>\n",
       "      <td>0.60</td>\n",
       "      <td>2127</td>\n",
       "      <td>4733</td>\n",
       "      <td>7280</td>\n",
       "      <td>15689</td>\n",
       "      <td>0.310058</td>\n",
       "      <td>0.226108</td>\n",
       "      <td>0.597271</td>\n",
       "      <td>0.261511</td>\n",
       "      <td>0.226108</td>\n",
       "      <td>0.231760</td>\n",
       "    </tr>\n",
       "    <tr>\n",
       "      <th>31</th>\n",
       "      <td>0.62</td>\n",
       "      <td>2090</td>\n",
       "      <td>4565</td>\n",
       "      <td>7317</td>\n",
       "      <td>15857</td>\n",
       "      <td>0.314050</td>\n",
       "      <td>0.222175</td>\n",
       "      <td>0.601663</td>\n",
       "      <td>0.260242</td>\n",
       "      <td>0.222175</td>\n",
       "      <td>0.223533</td>\n",
       "    </tr>\n",
       "    <tr>\n",
       "      <th>32</th>\n",
       "      <td>0.64</td>\n",
       "      <td>2077</td>\n",
       "      <td>4537</td>\n",
       "      <td>7330</td>\n",
       "      <td>15885</td>\n",
       "      <td>0.314031</td>\n",
       "      <td>0.220793</td>\n",
       "      <td>0.602166</td>\n",
       "      <td>0.259285</td>\n",
       "      <td>0.220793</td>\n",
       "      <td>0.222162</td>\n",
       "    </tr>\n",
       "    <tr>\n",
       "      <th>33</th>\n",
       "      <td>0.66</td>\n",
       "      <td>2031</td>\n",
       "      <td>4416</td>\n",
       "      <td>7376</td>\n",
       "      <td>16006</td>\n",
       "      <td>0.315030</td>\n",
       "      <td>0.215903</td>\n",
       "      <td>0.604680</td>\n",
       "      <td>0.256213</td>\n",
       "      <td>0.215903</td>\n",
       "      <td>0.216237</td>\n",
       "    </tr>\n",
       "    <tr>\n",
       "      <th>34</th>\n",
       "      <td>0.68</td>\n",
       "      <td>1948</td>\n",
       "      <td>4228</td>\n",
       "      <td>7459</td>\n",
       "      <td>16194</td>\n",
       "      <td>0.315415</td>\n",
       "      <td>0.207080</td>\n",
       "      <td>0.608200</td>\n",
       "      <td>0.250016</td>\n",
       "      <td>0.207080</td>\n",
       "      <td>0.207032</td>\n",
       "    </tr>\n",
       "    <tr>\n",
       "      <th>35</th>\n",
       "      <td>0.70</td>\n",
       "      <td>1922</td>\n",
       "      <td>4144</td>\n",
       "      <td>7485</td>\n",
       "      <td>16278</td>\n",
       "      <td>0.316848</td>\n",
       "      <td>0.204316</td>\n",
       "      <td>0.610144</td>\n",
       "      <td>0.248433</td>\n",
       "      <td>0.204316</td>\n",
       "      <td>0.202918</td>\n",
       "    </tr>\n",
       "    <tr>\n",
       "      <th>36</th>\n",
       "      <td>0.72</td>\n",
       "      <td>1914</td>\n",
       "      <td>4127</td>\n",
       "      <td>7493</td>\n",
       "      <td>16295</td>\n",
       "      <td>0.316835</td>\n",
       "      <td>0.203466</td>\n",
       "      <td>0.610446</td>\n",
       "      <td>0.247799</td>\n",
       "      <td>0.203466</td>\n",
       "      <td>0.202086</td>\n",
       "    </tr>\n",
       "    <tr>\n",
       "      <th>37</th>\n",
       "      <td>0.74</td>\n",
       "      <td>1881</td>\n",
       "      <td>4107</td>\n",
       "      <td>7526</td>\n",
       "      <td>16315</td>\n",
       "      <td>0.314128</td>\n",
       "      <td>0.199957</td>\n",
       "      <td>0.610010</td>\n",
       "      <td>0.244365</td>\n",
       "      <td>0.199957</td>\n",
       "      <td>0.201107</td>\n",
       "    </tr>\n",
       "    <tr>\n",
       "      <th>38</th>\n",
       "      <td>0.76</td>\n",
       "      <td>1593</td>\n",
       "      <td>3721</td>\n",
       "      <td>7814</td>\n",
       "      <td>16701</td>\n",
       "      <td>0.299774</td>\n",
       "      <td>0.169342</td>\n",
       "      <td>0.613296</td>\n",
       "      <td>0.216426</td>\n",
       "      <td>0.169342</td>\n",
       "      <td>0.182205</td>\n",
       "    </tr>\n",
       "    <tr>\n",
       "      <th>39</th>\n",
       "      <td>0.78</td>\n",
       "      <td>1520</td>\n",
       "      <td>3664</td>\n",
       "      <td>7887</td>\n",
       "      <td>16758</td>\n",
       "      <td>0.293210</td>\n",
       "      <td>0.161582</td>\n",
       "      <td>0.612759</td>\n",
       "      <td>0.208348</td>\n",
       "      <td>0.161582</td>\n",
       "      <td>0.179414</td>\n",
       "    </tr>\n",
       "    <tr>\n",
       "      <th>40</th>\n",
       "      <td>0.80</td>\n",
       "      <td>1499</td>\n",
       "      <td>3595</td>\n",
       "      <td>7908</td>\n",
       "      <td>16827</td>\n",
       "      <td>0.294268</td>\n",
       "      <td>0.159349</td>\n",
       "      <td>0.614369</td>\n",
       "      <td>0.206744</td>\n",
       "      <td>0.159349</td>\n",
       "      <td>0.176036</td>\n",
       "    </tr>\n",
       "    <tr>\n",
       "      <th>41</th>\n",
       "      <td>0.82</td>\n",
       "      <td>1454</td>\n",
       "      <td>3444</td>\n",
       "      <td>7953</td>\n",
       "      <td>16978</td>\n",
       "      <td>0.296856</td>\n",
       "      <td>0.154566</td>\n",
       "      <td>0.617922</td>\n",
       "      <td>0.203286</td>\n",
       "      <td>0.154566</td>\n",
       "      <td>0.168642</td>\n",
       "    </tr>\n",
       "    <tr>\n",
       "      <th>42</th>\n",
       "      <td>0.84</td>\n",
       "      <td>1362</td>\n",
       "      <td>3297</td>\n",
       "      <td>8045</td>\n",
       "      <td>17125</td>\n",
       "      <td>0.292337</td>\n",
       "      <td>0.144786</td>\n",
       "      <td>0.619766</td>\n",
       "      <td>0.193658</td>\n",
       "      <td>0.144786</td>\n",
       "      <td>0.161444</td>\n",
       "    </tr>\n",
       "    <tr>\n",
       "      <th>43</th>\n",
       "      <td>0.86</td>\n",
       "      <td>1344</td>\n",
       "      <td>3207</td>\n",
       "      <td>8063</td>\n",
       "      <td>17215</td>\n",
       "      <td>0.295320</td>\n",
       "      <td>0.142872</td>\n",
       "      <td>0.622180</td>\n",
       "      <td>0.192578</td>\n",
       "      <td>0.142872</td>\n",
       "      <td>0.157037</td>\n",
       "    </tr>\n",
       "    <tr>\n",
       "      <th>44</th>\n",
       "      <td>0.88</td>\n",
       "      <td>1324</td>\n",
       "      <td>3150</td>\n",
       "      <td>8083</td>\n",
       "      <td>17272</td>\n",
       "      <td>0.295932</td>\n",
       "      <td>0.140746</td>\n",
       "      <td>0.623420</td>\n",
       "      <td>0.190764</td>\n",
       "      <td>0.140746</td>\n",
       "      <td>0.154245</td>\n",
       "    </tr>\n",
       "    <tr>\n",
       "      <th>45</th>\n",
       "      <td>0.90</td>\n",
       "      <td>1307</td>\n",
       "      <td>3143</td>\n",
       "      <td>8100</td>\n",
       "      <td>17279</td>\n",
       "      <td>0.293708</td>\n",
       "      <td>0.138939</td>\n",
       "      <td>0.623085</td>\n",
       "      <td>0.188641</td>\n",
       "      <td>0.138939</td>\n",
       "      <td>0.153903</td>\n",
       "    </tr>\n",
       "    <tr>\n",
       "      <th>46</th>\n",
       "      <td>0.92</td>\n",
       "      <td>1303</td>\n",
       "      <td>3122</td>\n",
       "      <td>8104</td>\n",
       "      <td>17300</td>\n",
       "      <td>0.294463</td>\n",
       "      <td>0.138514</td>\n",
       "      <td>0.623655</td>\n",
       "      <td>0.188404</td>\n",
       "      <td>0.138514</td>\n",
       "      <td>0.152874</td>\n",
       "    </tr>\n",
       "    <tr>\n",
       "      <th>47</th>\n",
       "      <td>0.94</td>\n",
       "      <td>1175</td>\n",
       "      <td>2854</td>\n",
       "      <td>8232</td>\n",
       "      <td>17568</td>\n",
       "      <td>0.291636</td>\n",
       "      <td>0.124907</td>\n",
       "      <td>0.628348</td>\n",
       "      <td>0.174903</td>\n",
       "      <td>0.124907</td>\n",
       "      <td>0.139751</td>\n",
       "    </tr>\n",
       "    <tr>\n",
       "      <th>48</th>\n",
       "      <td>0.96</td>\n",
       "      <td>1105</td>\n",
       "      <td>2759</td>\n",
       "      <td>8302</td>\n",
       "      <td>17663</td>\n",
       "      <td>0.285973</td>\n",
       "      <td>0.117466</td>\n",
       "      <td>0.629186</td>\n",
       "      <td>0.166529</td>\n",
       "      <td>0.117466</td>\n",
       "      <td>0.135099</td>\n",
       "    </tr>\n",
       "    <tr>\n",
       "      <th>49</th>\n",
       "      <td>0.98</td>\n",
       "      <td>942</td>\n",
       "      <td>2531</td>\n",
       "      <td>8465</td>\n",
       "      <td>17891</td>\n",
       "      <td>0.271235</td>\n",
       "      <td>0.100138</td>\n",
       "      <td>0.631365</td>\n",
       "      <td>0.146273</td>\n",
       "      <td>0.100138</td>\n",
       "      <td>0.123935</td>\n",
       "    </tr>\n",
       "    <tr>\n",
       "      <th>50</th>\n",
       "      <td>1.00</td>\n",
       "      <td>934</td>\n",
       "      <td>2526</td>\n",
       "      <td>8473</td>\n",
       "      <td>17896</td>\n",
       "      <td>0.269942</td>\n",
       "      <td>0.099288</td>\n",
       "      <td>0.631265</td>\n",
       "      <td>0.145178</td>\n",
       "      <td>0.099288</td>\n",
       "      <td>0.123690</td>\n",
       "    </tr>\n",
       "  </tbody>\n",
       "</table>\n",
       "</div>"
      ],
      "text/plain": [
       "    threshold    tp     fp    fn     tn  precision    recall  accuracy  \\\n",
       "0        0.00  9407  20422     0      0   0.315364  1.000000  0.315364   \n",
       "1        0.02  7821  16704  1586   3718   0.318899  0.831402  0.386838   \n",
       "2        0.04  7630  16308  1777   4114   0.318740  0.811098  0.393711   \n",
       "3        0.06  7305  15608  2102   4814   0.318815  0.776549  0.406282   \n",
       "4        0.08  7165  15197  2242   5225   0.320410  0.761667  0.415368   \n",
       "5        0.10  6900  14509  2507   5913   0.322294  0.733496  0.429548   \n",
       "6        0.12  6568  13892  2839   6530   0.321017  0.698203  0.439103   \n",
       "7        0.14  6434  13689  2973   6733   0.319734  0.683959  0.441416   \n",
       "8        0.16  5959  12279  3448   8143   0.326735  0.633464  0.472761   \n",
       "9        0.18  5754  11942  3653   8480   0.325158  0.611672  0.477187   \n",
       "10       0.20  5206  10647  4201   9775   0.328392  0.553418  0.502229   \n",
       "11       0.22  4897   9993  4510  10429   0.328878  0.520570  0.513795   \n",
       "12       0.24  4746   9569  4661  10853   0.331540  0.504518  0.522947   \n",
       "13       0.26  4532   9059  4875  11363   0.333456  0.481769  0.532871   \n",
       "14       0.28  4227   8358  5180  12064   0.335876  0.449346  0.546146   \n",
       "15       0.30  3732   7586  5675  12836   0.329740  0.396726  0.555433   \n",
       "16       0.32  3553   7195  5854  13227   0.330573  0.377697  0.562540   \n",
       "17       0.34  3486   7071  5921  13351   0.330207  0.370575  0.564451   \n",
       "18       0.36  3349   6859  6058  13563   0.328076  0.356011  0.566965   \n",
       "19       0.38  3075   6300  6332  14122   0.328000  0.326884  0.576519   \n",
       "20       0.40  2967   6120  6440  14302   0.326510  0.315403  0.578933   \n",
       "21       0.42  2876   5910  6531  14512   0.327339  0.305730  0.582923   \n",
       "22       0.44  2797   5789  6610  14633   0.325763  0.297332  0.584331   \n",
       "23       0.46  2784   5759  6623  14663   0.325881  0.295950  0.584901   \n",
       "24       0.48  2404   5387  7003  15035   0.308561  0.255554  0.584632   \n",
       "25       0.50  2327   5255  7080  15167   0.306911  0.247369  0.586476   \n",
       "26       0.52  2315   5228  7092  15194   0.306907  0.246093  0.586979   \n",
       "27       0.54  2289   5141  7118  15281   0.308075  0.243329  0.589024   \n",
       "28       0.56  2275   5108  7132  15314   0.308140  0.241841  0.589661   \n",
       "29       0.58  2141   4806  7266  15616   0.308191  0.227596  0.595293   \n",
       "30       0.60  2127   4733  7280  15689   0.310058  0.226108  0.597271   \n",
       "31       0.62  2090   4565  7317  15857   0.314050  0.222175  0.601663   \n",
       "32       0.64  2077   4537  7330  15885   0.314031  0.220793  0.602166   \n",
       "33       0.66  2031   4416  7376  16006   0.315030  0.215903  0.604680   \n",
       "34       0.68  1948   4228  7459  16194   0.315415  0.207080  0.608200   \n",
       "35       0.70  1922   4144  7485  16278   0.316848  0.204316  0.610144   \n",
       "36       0.72  1914   4127  7493  16295   0.316835  0.203466  0.610446   \n",
       "37       0.74  1881   4107  7526  16315   0.314128  0.199957  0.610010   \n",
       "38       0.76  1593   3721  7814  16701   0.299774  0.169342  0.613296   \n",
       "39       0.78  1520   3664  7887  16758   0.293210  0.161582  0.612759   \n",
       "40       0.80  1499   3595  7908  16827   0.294268  0.159349  0.614369   \n",
       "41       0.82  1454   3444  7953  16978   0.296856  0.154566  0.617922   \n",
       "42       0.84  1362   3297  8045  17125   0.292337  0.144786  0.619766   \n",
       "43       0.86  1344   3207  8063  17215   0.295320  0.142872  0.622180   \n",
       "44       0.88  1324   3150  8083  17272   0.295932  0.140746  0.623420   \n",
       "45       0.90  1307   3143  8100  17279   0.293708  0.138939  0.623085   \n",
       "46       0.92  1303   3122  8104  17300   0.294463  0.138514  0.623655   \n",
       "47       0.94  1175   2854  8232  17568   0.291636  0.124907  0.628348   \n",
       "48       0.96  1105   2759  8302  17663   0.285973  0.117466  0.629186   \n",
       "49       0.98   942   2531  8465  17891   0.271235  0.100138  0.631365   \n",
       "50       1.00   934   2526  8473  17896   0.269942  0.099288  0.631265   \n",
       "\n",
       "    f1_score       tpr       fpr  \n",
       "0   0.479509  1.000000  1.000000  \n",
       "1   0.460981  0.831402  0.817941  \n",
       "2   0.457640  0.811098  0.798551  \n",
       "3   0.452042  0.776549  0.764274  \n",
       "4   0.451069  0.761667  0.744148  \n",
       "5   0.447819  0.733496  0.710459  \n",
       "6   0.439817  0.698203  0.680247  \n",
       "7   0.435760  0.683959  0.670307  \n",
       "8   0.431109  0.633464  0.601263  \n",
       "9   0.424602  0.611672  0.584762  \n",
       "10  0.412193  0.553418  0.521350  \n",
       "11  0.403095  0.520570  0.489325  \n",
       "12  0.400135  0.504518  0.468563  \n",
       "13  0.394121  0.481769  0.443590  \n",
       "14  0.384413  0.449346  0.409265  \n",
       "15  0.360145  0.396726  0.371462  \n",
       "16  0.352568  0.377697  0.352316  \n",
       "17  0.349229  0.370575  0.346244  \n",
       "18  0.341473  0.356011  0.335863  \n",
       "19  0.327441  0.326884  0.308491  \n",
       "20  0.320861  0.315403  0.299677  \n",
       "21  0.316166  0.305730  0.289394  \n",
       "22  0.310899  0.297332  0.283469  \n",
       "23  0.310195  0.295950  0.282000  \n",
       "24  0.279567  0.255554  0.263784  \n",
       "25  0.273942  0.247369  0.257321  \n",
       "26  0.273156  0.246093  0.255998  \n",
       "27  0.271901  0.243329  0.251738  \n",
       "28  0.270995  0.241841  0.250122  \n",
       "29  0.261832  0.227596  0.235334  \n",
       "30  0.261511  0.226108  0.231760  \n",
       "31  0.260242  0.222175  0.223533  \n",
       "32  0.259285  0.220793  0.222162  \n",
       "33  0.256213  0.215903  0.216237  \n",
       "34  0.250016  0.207080  0.207032  \n",
       "35  0.248433  0.204316  0.202918  \n",
       "36  0.247799  0.203466  0.202086  \n",
       "37  0.244365  0.199957  0.201107  \n",
       "38  0.216426  0.169342  0.182205  \n",
       "39  0.208348  0.161582  0.179414  \n",
       "40  0.206744  0.159349  0.176036  \n",
       "41  0.203286  0.154566  0.168642  \n",
       "42  0.193658  0.144786  0.161444  \n",
       "43  0.192578  0.142872  0.157037  \n",
       "44  0.190764  0.140746  0.154245  \n",
       "45  0.188641  0.138939  0.153903  \n",
       "46  0.188404  0.138514  0.152874  \n",
       "47  0.174903  0.124907  0.139751  \n",
       "48  0.166529  0.117466  0.135099  \n",
       "49  0.146273  0.100138  0.123935  \n",
       "50  0.145178  0.099288  0.123690  "
      ]
     },
     "execution_count": 1413,
     "metadata": {},
     "output_type": "execute_result"
    }
   ],
   "source": [
    "# full df_scores\n",
    "df_scores"
   ]
  },
  {
   "cell_type": "code",
   "execution_count": 1414,
   "metadata": {
    "colab": {
     "base_uri": "https://localhost:8080/",
     "height": 551
    },
    "id": "sfhNxo4UvPn7",
    "outputId": "6573be98-403e-4530-e332-6938c555a67e"
   },
   "outputs": [
    {
     "data": {
      "text/html": [
       "<div>\n",
       "<style scoped>\n",
       "    .dataframe tbody tr th:only-of-type {\n",
       "        vertical-align: middle;\n",
       "    }\n",
       "\n",
       "    .dataframe tbody tr th {\n",
       "        vertical-align: top;\n",
       "    }\n",
       "\n",
       "    .dataframe thead th {\n",
       "        text-align: right;\n",
       "    }\n",
       "</style>\n",
       "<table border=\"1\" class=\"dataframe\">\n",
       "  <thead>\n",
       "    <tr style=\"text-align: right;\">\n",
       "      <th></th>\n",
       "      <th>threshold</th>\n",
       "      <th>tp</th>\n",
       "      <th>fp</th>\n",
       "      <th>fn</th>\n",
       "      <th>tn</th>\n",
       "      <th>precision</th>\n",
       "      <th>recall</th>\n",
       "      <th>accuracy</th>\n",
       "      <th>f1_score</th>\n",
       "      <th>tpr</th>\n",
       "      <th>fpr</th>\n",
       "    </tr>\n",
       "  </thead>\n",
       "  <tbody>\n",
       "    <tr>\n",
       "      <th>25</th>\n",
       "      <td>0.50</td>\n",
       "      <td>2327</td>\n",
       "      <td>5255</td>\n",
       "      <td>7080</td>\n",
       "      <td>15167</td>\n",
       "      <td>0.306911</td>\n",
       "      <td>0.247369</td>\n",
       "      <td>0.586476</td>\n",
       "      <td>0.273942</td>\n",
       "      <td>0.247369</td>\n",
       "      <td>0.257321</td>\n",
       "    </tr>\n",
       "    <tr>\n",
       "      <th>26</th>\n",
       "      <td>0.52</td>\n",
       "      <td>2315</td>\n",
       "      <td>5228</td>\n",
       "      <td>7092</td>\n",
       "      <td>15194</td>\n",
       "      <td>0.306907</td>\n",
       "      <td>0.246093</td>\n",
       "      <td>0.586979</td>\n",
       "      <td>0.273156</td>\n",
       "      <td>0.246093</td>\n",
       "      <td>0.255998</td>\n",
       "    </tr>\n",
       "    <tr>\n",
       "      <th>27</th>\n",
       "      <td>0.54</td>\n",
       "      <td>2289</td>\n",
       "      <td>5141</td>\n",
       "      <td>7118</td>\n",
       "      <td>15281</td>\n",
       "      <td>0.308075</td>\n",
       "      <td>0.243329</td>\n",
       "      <td>0.589024</td>\n",
       "      <td>0.271901</td>\n",
       "      <td>0.243329</td>\n",
       "      <td>0.251738</td>\n",
       "    </tr>\n",
       "    <tr>\n",
       "      <th>28</th>\n",
       "      <td>0.56</td>\n",
       "      <td>2275</td>\n",
       "      <td>5108</td>\n",
       "      <td>7132</td>\n",
       "      <td>15314</td>\n",
       "      <td>0.308140</td>\n",
       "      <td>0.241841</td>\n",
       "      <td>0.589661</td>\n",
       "      <td>0.270995</td>\n",
       "      <td>0.241841</td>\n",
       "      <td>0.250122</td>\n",
       "    </tr>\n",
       "    <tr>\n",
       "      <th>29</th>\n",
       "      <td>0.58</td>\n",
       "      <td>2141</td>\n",
       "      <td>4806</td>\n",
       "      <td>7266</td>\n",
       "      <td>15616</td>\n",
       "      <td>0.308191</td>\n",
       "      <td>0.227596</td>\n",
       "      <td>0.595293</td>\n",
       "      <td>0.261832</td>\n",
       "      <td>0.227596</td>\n",
       "      <td>0.235334</td>\n",
       "    </tr>\n",
       "    <tr>\n",
       "      <th>30</th>\n",
       "      <td>0.60</td>\n",
       "      <td>2127</td>\n",
       "      <td>4733</td>\n",
       "      <td>7280</td>\n",
       "      <td>15689</td>\n",
       "      <td>0.310058</td>\n",
       "      <td>0.226108</td>\n",
       "      <td>0.597271</td>\n",
       "      <td>0.261511</td>\n",
       "      <td>0.226108</td>\n",
       "      <td>0.231760</td>\n",
       "    </tr>\n",
       "    <tr>\n",
       "      <th>31</th>\n",
       "      <td>0.62</td>\n",
       "      <td>2090</td>\n",
       "      <td>4565</td>\n",
       "      <td>7317</td>\n",
       "      <td>15857</td>\n",
       "      <td>0.314050</td>\n",
       "      <td>0.222175</td>\n",
       "      <td>0.601663</td>\n",
       "      <td>0.260242</td>\n",
       "      <td>0.222175</td>\n",
       "      <td>0.223533</td>\n",
       "    </tr>\n",
       "    <tr>\n",
       "      <th>32</th>\n",
       "      <td>0.64</td>\n",
       "      <td>2077</td>\n",
       "      <td>4537</td>\n",
       "      <td>7330</td>\n",
       "      <td>15885</td>\n",
       "      <td>0.314031</td>\n",
       "      <td>0.220793</td>\n",
       "      <td>0.602166</td>\n",
       "      <td>0.259285</td>\n",
       "      <td>0.220793</td>\n",
       "      <td>0.222162</td>\n",
       "    </tr>\n",
       "    <tr>\n",
       "      <th>33</th>\n",
       "      <td>0.66</td>\n",
       "      <td>2031</td>\n",
       "      <td>4416</td>\n",
       "      <td>7376</td>\n",
       "      <td>16006</td>\n",
       "      <td>0.315030</td>\n",
       "      <td>0.215903</td>\n",
       "      <td>0.604680</td>\n",
       "      <td>0.256213</td>\n",
       "      <td>0.215903</td>\n",
       "      <td>0.216237</td>\n",
       "    </tr>\n",
       "    <tr>\n",
       "      <th>34</th>\n",
       "      <td>0.68</td>\n",
       "      <td>1948</td>\n",
       "      <td>4228</td>\n",
       "      <td>7459</td>\n",
       "      <td>16194</td>\n",
       "      <td>0.315415</td>\n",
       "      <td>0.207080</td>\n",
       "      <td>0.608200</td>\n",
       "      <td>0.250016</td>\n",
       "      <td>0.207080</td>\n",
       "      <td>0.207032</td>\n",
       "    </tr>\n",
       "    <tr>\n",
       "      <th>35</th>\n",
       "      <td>0.70</td>\n",
       "      <td>1922</td>\n",
       "      <td>4144</td>\n",
       "      <td>7485</td>\n",
       "      <td>16278</td>\n",
       "      <td>0.316848</td>\n",
       "      <td>0.204316</td>\n",
       "      <td>0.610144</td>\n",
       "      <td>0.248433</td>\n",
       "      <td>0.204316</td>\n",
       "      <td>0.202918</td>\n",
       "    </tr>\n",
       "    <tr>\n",
       "      <th>36</th>\n",
       "      <td>0.72</td>\n",
       "      <td>1914</td>\n",
       "      <td>4127</td>\n",
       "      <td>7493</td>\n",
       "      <td>16295</td>\n",
       "      <td>0.316835</td>\n",
       "      <td>0.203466</td>\n",
       "      <td>0.610446</td>\n",
       "      <td>0.247799</td>\n",
       "      <td>0.203466</td>\n",
       "      <td>0.202086</td>\n",
       "    </tr>\n",
       "    <tr>\n",
       "      <th>37</th>\n",
       "      <td>0.74</td>\n",
       "      <td>1881</td>\n",
       "      <td>4107</td>\n",
       "      <td>7526</td>\n",
       "      <td>16315</td>\n",
       "      <td>0.314128</td>\n",
       "      <td>0.199957</td>\n",
       "      <td>0.610010</td>\n",
       "      <td>0.244365</td>\n",
       "      <td>0.199957</td>\n",
       "      <td>0.201107</td>\n",
       "    </tr>\n",
       "    <tr>\n",
       "      <th>38</th>\n",
       "      <td>0.76</td>\n",
       "      <td>1593</td>\n",
       "      <td>3721</td>\n",
       "      <td>7814</td>\n",
       "      <td>16701</td>\n",
       "      <td>0.299774</td>\n",
       "      <td>0.169342</td>\n",
       "      <td>0.613296</td>\n",
       "      <td>0.216426</td>\n",
       "      <td>0.169342</td>\n",
       "      <td>0.182205</td>\n",
       "    </tr>\n",
       "    <tr>\n",
       "      <th>39</th>\n",
       "      <td>0.78</td>\n",
       "      <td>1520</td>\n",
       "      <td>3664</td>\n",
       "      <td>7887</td>\n",
       "      <td>16758</td>\n",
       "      <td>0.293210</td>\n",
       "      <td>0.161582</td>\n",
       "      <td>0.612759</td>\n",
       "      <td>0.208348</td>\n",
       "      <td>0.161582</td>\n",
       "      <td>0.179414</td>\n",
       "    </tr>\n",
       "    <tr>\n",
       "      <th>40</th>\n",
       "      <td>0.80</td>\n",
       "      <td>1499</td>\n",
       "      <td>3595</td>\n",
       "      <td>7908</td>\n",
       "      <td>16827</td>\n",
       "      <td>0.294268</td>\n",
       "      <td>0.159349</td>\n",
       "      <td>0.614369</td>\n",
       "      <td>0.206744</td>\n",
       "      <td>0.159349</td>\n",
       "      <td>0.176036</td>\n",
       "    </tr>\n",
       "  </tbody>\n",
       "</table>\n",
       "</div>"
      ],
      "text/plain": [
       "    threshold    tp    fp    fn     tn  precision    recall  accuracy  \\\n",
       "25       0.50  2327  5255  7080  15167   0.306911  0.247369  0.586476   \n",
       "26       0.52  2315  5228  7092  15194   0.306907  0.246093  0.586979   \n",
       "27       0.54  2289  5141  7118  15281   0.308075  0.243329  0.589024   \n",
       "28       0.56  2275  5108  7132  15314   0.308140  0.241841  0.589661   \n",
       "29       0.58  2141  4806  7266  15616   0.308191  0.227596  0.595293   \n",
       "30       0.60  2127  4733  7280  15689   0.310058  0.226108  0.597271   \n",
       "31       0.62  2090  4565  7317  15857   0.314050  0.222175  0.601663   \n",
       "32       0.64  2077  4537  7330  15885   0.314031  0.220793  0.602166   \n",
       "33       0.66  2031  4416  7376  16006   0.315030  0.215903  0.604680   \n",
       "34       0.68  1948  4228  7459  16194   0.315415  0.207080  0.608200   \n",
       "35       0.70  1922  4144  7485  16278   0.316848  0.204316  0.610144   \n",
       "36       0.72  1914  4127  7493  16295   0.316835  0.203466  0.610446   \n",
       "37       0.74  1881  4107  7526  16315   0.314128  0.199957  0.610010   \n",
       "38       0.76  1593  3721  7814  16701   0.299774  0.169342  0.613296   \n",
       "39       0.78  1520  3664  7887  16758   0.293210  0.161582  0.612759   \n",
       "40       0.80  1499  3595  7908  16827   0.294268  0.159349  0.614369   \n",
       "\n",
       "    f1_score       tpr       fpr  \n",
       "25  0.273942  0.247369  0.257321  \n",
       "26  0.273156  0.246093  0.255998  \n",
       "27  0.271901  0.243329  0.251738  \n",
       "28  0.270995  0.241841  0.250122  \n",
       "29  0.261832  0.227596  0.235334  \n",
       "30  0.261511  0.226108  0.231760  \n",
       "31  0.260242  0.222175  0.223533  \n",
       "32  0.259285  0.220793  0.222162  \n",
       "33  0.256213  0.215903  0.216237  \n",
       "34  0.250016  0.207080  0.207032  \n",
       "35  0.248433  0.204316  0.202918  \n",
       "36  0.247799  0.203466  0.202086  \n",
       "37  0.244365  0.199957  0.201107  \n",
       "38  0.216426  0.169342  0.182205  \n",
       "39  0.208348  0.161582  0.179414  \n",
       "40  0.206744  0.159349  0.176036  "
      ]
     },
     "execution_count": 1414,
     "metadata": {},
     "output_type": "execute_result"
    }
   ],
   "source": [
    "df_scores[(df_scores.threshold>=0.5) & (df_scores.threshold<=0.8)]"
   ]
  },
  {
   "cell_type": "code",
   "execution_count": 1415,
   "metadata": {
    "colab": {
     "base_uri": "https://localhost:8080/",
     "height": 489
    },
    "id": "B2AqOTxvvRV0",
    "outputId": "e9a062b6-6399-4641-c394-0d60e615d3fa"
   },
   "outputs": [
    {
     "data": {
      "text/plain": [
       "<Axes: title={'center': 'Precision vs. Recall for the Best Model (Decision Tree with max_depth=15)'}, xlabel='threshold'>"
      ]
     },
     "execution_count": 1415,
     "metadata": {},
     "output_type": "execute_result"
    },
    {
     "data": {
      "image/png": "[encoded data removed]",
      "text/plain": [
       "<Figure size 640x480 with 1 Axes>"
      ]
     },
     "metadata": {},
     "output_type": "display_data"
    }
   ],
   "source": [
    "# Try to find high Precision score points\n",
    "\n",
    "df_scores.plot.line(x='threshold',\n",
    "                    y=['precision','recall', 'f1_score'],\n",
    "                    title = 'Precision vs. Recall for the Best Model (Decision Tree with max_depth=15)')"
   ]
  },
  {
   "cell_type": "markdown",
   "metadata": {
    "id": "D6VPJZNVvguL"
   },
   "source": [
    "## 2.2) [Code Snippet 6] Defining new columns with Predictions in new_df: pred7..pred10\n",
    "* pred7 and pred8 are 2 decision rules for the Decision Tree (best model with max_depth=15)\n",
    "* pred9 and pred10 are 2 decision rules for the Random Forest (second best model)"
   ]
  },
  {
   "cell_type": "code",
   "execution_count": 1416,
   "metadata": {
    "id": "dVg7GsUvviGS"
   },
   "outputs": [],
   "source": [
    "# adding Decision Tree predictors (clf_best) to the dataset for 2 new rules: Threshold = 0.66 and 0.78\n",
    "\n",
    "\n",
    "y_pred_all = clf_best.predict_proba(X_all)\n",
    "y_pred_all_class1 = [k[1] for k in y_pred_all] #list of predictions for class \"1\"\n",
    "y_pred_all_class1_array = np.array(y_pred_all_class1) # (Numpy Array) np.array of predictions for class \"1\" , converted from a list\n",
    "\n",
    "# defining a new prediction vector is easy now, as the dimensions will match\n",
    "new_df['proba_pred7'] = y_pred_all_class1_array\n",
    "new_df['pred7_clf_best_rule_66'] = (y_pred_all_class1_array >= 0.66).astype(int)\n",
    "\n",
    "new_df['proba_pred8'] = y_pred_all_class1_array\n",
    "new_df['pred8_clf_best_rule_78'] = (y_pred_all_class1_array >= 0.78).astype(int)"
   ]
  },
  {
   "cell_type": "code",
   "execution_count": 1417,
   "metadata": {
    "colab": {
     "base_uri": "https://localhost:8080/",
     "height": 92
    },
    "id": "lAoMQvpOvkXa",
    "outputId": "5b8ccbab-059c-42c8-eede-a92e2e19392b"
   },
   "outputs": [
    {
     "data": {
      "text/html": [
       "<style>#sk-container-id-33 {color: black;}#sk-container-id-33 pre{padding: 0;}#sk-container-id-33 div.sk-toggleable {background-color: white;}#sk-container-id-33 label.sk-toggleable__label {cursor: pointer;display: block;width: 100%;margin-bottom: 0;padding: 0.3em;box-sizing: border-box;text-align: center;}#sk-container-id-33 label.sk-toggleable__label-arrow:before {content: \"▸\";float: left;margin-right: 0.25em;color: #696969;}#sk-container-id-33 label.sk-toggleable__label-arrow:hover:before {color: black;}#sk-container-id-33 div.sk-estimator:hover label.sk-toggleable__label-arrow:before {color: black;}#sk-container-id-33 div.sk-toggleable__content {max-height: 0;max-width: 0;overflow: hidden;text-align: left;background-color: #f0f8ff;}#sk-container-id-33 div.sk-toggleable__content pre {margin: 0.2em;color: black;border-radius: 0.25em;background-color: #f0f8ff;}#sk-container-id-33 input.sk-toggleable__control:checked~div.sk-toggleable__content {max-height: 200px;max-width: 100%;overflow: auto;}#sk-container-id-33 input.sk-toggleable__control:checked~label.sk-toggleable__label-arrow:before {content: \"▾\";}#sk-container-id-33 div.sk-estimator input.sk-toggleable__control:checked~label.sk-toggleable__label {background-color: #d4ebff;}#sk-container-id-33 div.sk-label input.sk-toggleable__control:checked~label.sk-toggleable__label {background-color: #d4ebff;}#sk-container-id-33 input.sk-hidden--visually {border: 0;clip: rect(1px 1px 1px 1px);clip: rect(1px, 1px, 1px, 1px);height: 1px;margin: -1px;overflow: hidden;padding: 0;position: absolute;width: 1px;}#sk-container-id-33 div.sk-estimator {font-family: monospace;background-color: #f0f8ff;border: 1px dotted black;border-radius: 0.25em;box-sizing: border-box;margin-bottom: 0.5em;}#sk-container-id-33 div.sk-estimator:hover {background-color: #d4ebff;}#sk-container-id-33 div.sk-parallel-item::after {content: \"\";width: 100%;border-bottom: 1px solid gray;flex-grow: 1;}#sk-container-id-33 div.sk-label:hover label.sk-toggleable__label {background-color: #d4ebff;}#sk-container-id-33 div.sk-serial::before {content: \"\";position: absolute;border-left: 1px solid gray;box-sizing: border-box;top: 0;bottom: 0;left: 50%;z-index: 0;}#sk-container-id-33 div.sk-serial {display: flex;flex-direction: column;align-items: center;background-color: white;padding-right: 0.2em;padding-left: 0.2em;position: relative;}#sk-container-id-33 div.sk-item {position: relative;z-index: 1;}#sk-container-id-33 div.sk-parallel {display: flex;align-items: stretch;justify-content: center;background-color: white;position: relative;}#sk-container-id-33 div.sk-item::before, #sk-container-id-33 div.sk-parallel-item::before {content: \"\";position: absolute;border-left: 1px solid gray;box-sizing: border-box;top: 0;bottom: 0;left: 50%;z-index: -1;}#sk-container-id-33 div.sk-parallel-item {display: flex;flex-direction: column;z-index: 1;position: relative;background-color: white;}#sk-container-id-33 div.sk-parallel-item:first-child::after {align-self: flex-end;width: 50%;}#sk-container-id-33 div.sk-parallel-item:last-child::after {align-self: flex-start;width: 50%;}#sk-container-id-33 div.sk-parallel-item:only-child::after {width: 0;}#sk-container-id-33 div.sk-dashed-wrapped {border: 1px dashed gray;margin: 0 0.4em 0.5em 0.4em;box-sizing: border-box;padding-bottom: 0.4em;background-color: white;}#sk-container-id-33 div.sk-label label {font-family: monospace;font-weight: bold;display: inline-block;line-height: 1.2em;}#sk-container-id-33 div.sk-label-container {text-align: center;}#sk-container-id-33 div.sk-container {/* jupyter's `normalize.less` sets `[hidden] { display: none; }` but bootstrap.min.css set `[hidden] { display: none !important; }` so we also need the `!important` here to be able to override the default hidden behavior on the sphinx rendered scikit-learn.org. See: https://github.com/scikit-learn/scikit-learn/issues/21755 */display: inline-block !important;position: relative;}#sk-container-id-33 div.sk-text-repr-fallback {display: none;}</style><div id=\"sk-container-id-33\" class=\"sk-top-container\"><div class=\"sk-text-repr-fallback\"><pre>RandomForestClassifier(max_depth=17, n_estimators=200, n_jobs=-1,\n",
       "                       random_state=42)</pre><b>In a Jupyter environment, please rerun this cell to show the HTML representation or trust the notebook. <br />On GitHub, the HTML representation is unable to render, please try loading this page with nbviewer.org.</b></div><div class=\"sk-container\" hidden><div class=\"sk-item\"><div class=\"sk-estimator sk-toggleable\"><input class=\"sk-toggleable__control sk-hidden--visually\" id=\"sk-estimator-id-33\" type=\"checkbox\" checked><label for=\"sk-estimator-id-33\" class=\"sk-toggleable__label sk-toggleable__label-arrow\">RandomForestClassifier</label><div class=\"sk-toggleable__content\"><pre>RandomForestClassifier(max_depth=17, n_estimators=200, n_jobs=-1,\n",
       "                       random_state=42)</pre></div></div></div></div></div>"
      ],
      "text/plain": [
       "RandomForestClassifier(max_depth=17, n_estimators=200, n_jobs=-1,\n",
       "                       random_state=42)"
      ]
     },
     "execution_count": 1417,
     "metadata": {},
     "output_type": "execute_result"
    }
   ],
   "source": [
    "# adding Random Forest predictors (rf_best)\n",
    "rf_best"
   ]
  },
  {
   "cell_type": "code",
   "execution_count": 1418,
   "metadata": {
    "id": "ydpMazLKvl8a"
   },
   "outputs": [],
   "source": [
    "# adding Random Forest predictors (rf_best) to the dataset for 2 new rules: Threshold = 0.66 and 0.78\n",
    "\n",
    "y_pred_all = rf_best.predict_proba(X_all)\n",
    "y_pred_all_class1 = [k[1] for k in y_pred_all] #list of predictions for class \"1\"\n",
    "y_pred_all_class1_array = np.array(y_pred_all_class1) # (Numpy Array) np.array of predictions for class \"1\" , converted from a list\n",
    "\n",
    "# defining a new prediction vector is easy now, as the dimensions will match\n",
    "new_df['proba_pred9'] = y_pred_all_class1_array\n",
    "new_df['pred9_rf_best_rule_55'] = (y_pred_all_class1_array >= 0.55).astype(int)\n",
    "\n",
    "new_df['proba_pred10'] = y_pred_all_class1_array\n",
    "new_df['pred10_rf_best_rule_60'] = (y_pred_all_class1_array >= 0.6).astype(int)\n",
    "\n",
    "# TODO HA4 Q1: define new predictor for thresholds 0.51..0.54, 0.56..0.59\n",
    "new_df['proba_pred11'] = y_pred_all_class1_array\n",
    "new_df['pred11_rf_best_rule_51'] = (y_pred_all_class1_array >= 0.51).astype(int)\n",
    "\n",
    "new_df['proba_pred12'] = y_pred_all_class1_array\n",
    "new_df['pred12_rf_best_rule_52'] = (y_pred_all_class1_array >= 0.52).astype(int)\n",
    "\n",
    "new_df['proba_pred13'] = y_pred_all_class1_array\n",
    "new_df['pred13_rf_best_rule_53'] = (y_pred_all_class1_array >= 0.53).astype(int)\n",
    "\n",
    "new_df['proba_pred14'] = y_pred_all_class1_array\n",
    "new_df['pred14_rf_best_rule_54'] = (y_pred_all_class1_array >= 0.54).astype(int)\n",
    "\n",
    "new_df['proba_pred15'] = y_pred_all_class1_array\n",
    "new_df['pred15_rf_best_rule_56'] = (y_pred_all_class1_array >= 0.56).astype(int)\n",
    "\n",
    "new_df['proba_pred16'] = y_pred_all_class1_array\n",
    "new_df['pred16_rf_best_rule_57'] = (y_pred_all_class1_array >= 0.57).astype(int)\n",
    "\n",
    "new_df['proba_pred17'] = y_pred_all_class1_array\n",
    "new_df['pred17_rf_best_rule_58'] = (y_pred_all_class1_array >= 0.58).astype(int)\n",
    "\n",
    "new_df['proba_pred18'] = y_pred_all_class1_array\n",
    "new_df['pred18_rf_best_rule_59'] = (y_pred_all_class1_array >= 0.59).astype(int)"
   ]
  },
  {
   "cell_type": "code",
   "execution_count": 1419,
   "metadata": {},
   "outputs": [
    {
     "data": {
      "text/plain": [
       "0"
      ]
     },
     "execution_count": 1419,
     "metadata": {},
     "output_type": "execute_result"
    }
   ],
   "source": [
    "new_df[(new_df.split=='test')&(new_df.pred10_rf_best_rule_60==1)].pred10_rf_best_rule_60.sum()"
   ]
  },
  {
   "cell_type": "code",
   "execution_count": 1420,
   "metadata": {
    "colab": {
     "base_uri": "https://localhost:8080/"
    },
    "id": "bIHOswKLvtgX",
    "outputId": "59da6791-e316-47cc-a1df-3f6641513a9c"
   },
   "outputs": [
    {
     "data": {
      "text/plain": [
       "['pred0_manual_cci',\n",
       " 'pred1_manual_prev_g1',\n",
       " 'pred2_manual_prev_g1_and_snp',\n",
       " 'pred3_manual_gdp_and_fastd',\n",
       " 'pred4_manual_gdp_and_wti30d',\n",
       " 'pred5_clf_10',\n",
       " 'pred6_clf_best',\n",
       " 'pred7_clf_best_rule_66',\n",
       " 'pred8_clf_best_rule_78',\n",
       " 'pred9_rf_best_rule_55',\n",
       " 'pred10_rf_best_rule_60',\n",
       " 'pred11_rf_best_rule_51',\n",
       " 'pred12_rf_best_rule_52',\n",
       " 'pred13_rf_best_rule_53',\n",
       " 'pred14_rf_best_rule_54',\n",
       " 'pred15_rf_best_rule_56',\n",
       " 'pred16_rf_best_rule_57',\n",
       " 'pred17_rf_best_rule_58',\n",
       " 'pred18_rf_best_rule_59']"
      ]
     },
     "execution_count": 1420,
     "metadata": {},
     "output_type": "execute_result"
    }
   ],
   "source": [
    "PREDICTIONS"
   ]
  },
  {
   "cell_type": "code",
   "execution_count": 1421,
   "metadata": {
    "colab": {
     "base_uri": "https://localhost:8080/",
     "height": 447
    },
    "id": "El-wNvA-wIES",
    "outputId": "4285bc5f-fb26-4a40-d5f0-dfd6b06170dd"
   },
   "outputs": [
    {
     "data": {
      "text/plain": [
       "<Axes: >"
      ]
     },
     "execution_count": 1421,
     "metadata": {},
     "output_type": "execute_result"
    },
    {
     "data": {
      "image/png": "[encoded data removed]",
      "text/plain": [
       "<Figure size 640x480 with 1 Axes>"
      ]
     },
     "metadata": {},
     "output_type": "display_data"
    }
   ],
   "source": [
    "# When did it predict to trade for the \"rare\" prediction pred10? (only 2%)\n",
    "new_df[(new_df.split=='test')&(new_df.pred10_rf_best_rule_60==1)].Date.hist()"
   ]
  },
  {
   "cell_type": "code",
   "execution_count": 1422,
   "metadata": {
    "colab": {
     "base_uri": "https://localhost:8080/",
     "height": 461
    },
    "id": "X0L97yBswJyy",
    "outputId": "3350a996-1931-475b-8c30-27e65725829d"
   },
   "outputs": [
    {
     "data": {
      "text/html": [
       "<div>\n",
       "<style scoped>\n",
       "    .dataframe tbody tr th:only-of-type {\n",
       "        vertical-align: middle;\n",
       "    }\n",
       "\n",
       "    .dataframe tbody tr th {\n",
       "        vertical-align: top;\n",
       "    }\n",
       "\n",
       "    .dataframe thead th {\n",
       "        text-align: right;\n",
       "    }\n",
       "</style>\n",
       "<table border=\"1\" class=\"dataframe\">\n",
       "  <thead>\n",
       "    <tr style=\"text-align: right;\">\n",
       "      <th></th>\n",
       "      <th>Open</th>\n",
       "      <th>High</th>\n",
       "      <th>Low</th>\n",
       "      <th>Close</th>\n",
       "      <th>Adj Close_x</th>\n",
       "      <th>Volume</th>\n",
       "      <th>Ticker</th>\n",
       "      <th>Year</th>\n",
       "      <th>Month</th>\n",
       "      <th>Weekday</th>\n",
       "      <th>...</th>\n",
       "      <th>sim1_net_rev_pred15</th>\n",
       "      <th>sim1_gross_rev_pred16</th>\n",
       "      <th>sim1_fees_pred16</th>\n",
       "      <th>sim1_net_rev_pred16</th>\n",
       "      <th>sim1_gross_rev_pred17</th>\n",
       "      <th>sim1_fees_pred17</th>\n",
       "      <th>sim1_net_rev_pred17</th>\n",
       "      <th>sim1_gross_rev_pred18</th>\n",
       "      <th>sim1_fees_pred18</th>\n",
       "      <th>sim1_net_rev_pred18</th>\n",
       "    </tr>\n",
       "  </thead>\n",
       "  <tbody>\n",
       "  </tbody>\n",
       "</table>\n",
       "<p>0 rows × 428 columns</p>\n",
       "</div>"
      ],
      "text/plain": [
       "Empty DataFrame\n",
       "Columns: [Open, High, Low, Close, Adj Close_x, Volume, Ticker, Year, Month, Weekday, Date, growth_1d, growth_3d, growth_7d, growth_30d, growth_90d, growth_365d, growth_future_5d, SMA10, SMA20, growing_moving_average, high_minus_low_relative, volatility, is_positive_growth_5d_future, ticker_type, index_x, adx, adxr, apo, aroon_1, aroon_2, aroonosc, bop, cci, cmo, dx, macd, macdsignal, macdhist, macd_ext, macdsignal_ext, macdhist_ext, macd_fix, macdsignal_fix, macdhist_fix, mfi, minus_di, mom, plus_di, dm, ppo, roc, rocp, rocr, rocr100, rsi, slowk, slowd, fastk, fastd, fastk_rsi, fastd_rsi, trix, ultosc, willr, index_y, ad, adosc, obv, atr, natr, ht_dcperiod, ht_dcphase, ht_phasor_inphase, ht_phasor_quadrature, ht_sine_sine, ht_sine_leadsine, ht_trendmod, avgprice, medprice, typprice, wclprice, index, cdl2crows, cdl3blackrows, cdl3inside, cdl3linestrike, cdl3outside, cdl3starsinsouth, cdl3whitesoldiers, cdlabandonedbaby, cdladvancedblock, cdlbelthold, cdlbreakaway, cdlclosingmarubozu, cdlconcealbabyswall, cdlcounterattack, cdldarkcloudcover, cdldoji, cdldojistar, ...]\n",
       "Index: []\n",
       "\n",
       "[0 rows x 428 columns]"
      ]
     },
     "execution_count": 1422,
     "metadata": {},
     "output_type": "execute_result"
    }
   ],
   "source": [
    "new_df[(new_df.split=='test')&(new_df.pred10_rf_best_rule_60==1)].sort_values(by='Date')"
   ]
  },
  {
   "cell_type": "code",
   "execution_count": 1423,
   "metadata": {
    "id": "zYvdmmoZwNMH"
   },
   "outputs": [],
   "source": [
    "# Pred 10: How many positive prediction per day (out of 33 stocks possible)\n",
    "pred10_daily_positive_count = pd.DataFrame(new_df[(new_df.split=='test')&(new_df.pred10_rf_best_rule_60==1)].groupby('Date')['pred10_rf_best_rule_60'].count())"
   ]
  },
  {
   "cell_type": "code",
   "execution_count": 1424,
   "metadata": {
    "id": "L7eXCFrOwQhH"
   },
   "outputs": [],
   "source": [
    "# Pred 9: How many positive prediction per day (out of 33 stocks possible)\n",
    "pred9_daily_positive_count = pd.DataFrame(new_df[(new_df.split=='test')&(new_df.pred9_rf_best_rule_55==1)].groupby('Date')['pred9_rf_best_rule_55'].count())"
   ]
  },
  {
   "cell_type": "code",
   "execution_count": 1425,
   "metadata": {
    "colab": {
     "base_uri": "https://localhost:8080/"
    },
    "id": "2c4D26pAwRO_",
    "outputId": "24182939-e641-4ac6-de82-fd9fed83a65e"
   },
   "outputs": [
    {
     "data": {
      "text/plain": [
       "947"
      ]
     },
     "execution_count": 1425,
     "metadata": {},
     "output_type": "execute_result"
    }
   ],
   "source": [
    "# Unique trading days on Test (4 years)\n",
    "new_df[(new_df.split=='test')].Date.nunique()"
   ]
  },
  {
   "cell_type": "code",
   "execution_count": 1426,
   "metadata": {
    "colab": {
     "base_uri": "https://localhost:8080/",
     "height": 455
    },
    "id": "eeHr2gizwT0-",
    "outputId": "855884df-ac6c-46ee-91e2-ac10d207383c"
   },
   "outputs": [
    {
     "data": {
      "text/html": [
       "<div>\n",
       "<style scoped>\n",
       "    .dataframe tbody tr th:only-of-type {\n",
       "        vertical-align: middle;\n",
       "    }\n",
       "\n",
       "    .dataframe tbody tr th {\n",
       "        vertical-align: top;\n",
       "    }\n",
       "\n",
       "    .dataframe thead th {\n",
       "        text-align: right;\n",
       "    }\n",
       "</style>\n",
       "<table border=\"1\" class=\"dataframe\">\n",
       "  <thead>\n",
       "    <tr style=\"text-align: right;\">\n",
       "      <th></th>\n",
       "      <th>pred10_rf_best_rule_60</th>\n",
       "    </tr>\n",
       "    <tr>\n",
       "      <th>Date</th>\n",
       "      <th></th>\n",
       "    </tr>\n",
       "  </thead>\n",
       "  <tbody>\n",
       "  </tbody>\n",
       "</table>\n",
       "</div>"
      ],
      "text/plain": [
       "Empty DataFrame\n",
       "Columns: [pred10_rf_best_rule_60]\n",
       "Index: []"
      ]
     },
     "execution_count": 1426,
     "metadata": {},
     "output_type": "execute_result"
    }
   ],
   "source": [
    "pred10_daily_positive_count"
   ]
  },
  {
   "cell_type": "code",
   "execution_count": 1427,
   "metadata": {
    "colab": {
     "base_uri": "https://localhost:8080/",
     "height": 469
    },
    "id": "iAz6x5yZwWf3",
    "outputId": "13aeb0da-cf69-4271-d5b5-8204185ccef7"
   },
   "outputs": [
    {
     "data": {
      "text/plain": [
       "array([[<Axes: title={'center': 'pred10_rf_best_rule_60'}>]], dtype=object)"
      ]
     },
     "execution_count": 1427,
     "metadata": {},
     "output_type": "execute_result"
    },
    {
     "data": {
      "image/png": "[encoded data removed]",
      "text/plain": [
       "<Figure size 640x480 with 1 Axes>"
      ]
     },
     "metadata": {},
     "output_type": "display_data"
    }
   ],
   "source": [
    "pred10_daily_positive_count.hist()"
   ]
  },
  {
   "cell_type": "code",
   "execution_count": 1428,
   "metadata": {
    "colab": {
     "base_uri": "https://localhost:8080/",
     "height": 81
    },
    "id": "U0bSUS-YwXlv",
    "outputId": "eede1fcf-6fca-40e7-adb2-c55fb6f891e6"
   },
   "outputs": [
    {
     "data": {
      "text/html": [
       "<div>\n",
       "<style scoped>\n",
       "    .dataframe tbody tr th:only-of-type {\n",
       "        vertical-align: middle;\n",
       "    }\n",
       "\n",
       "    .dataframe tbody tr th {\n",
       "        vertical-align: top;\n",
       "    }\n",
       "\n",
       "    .dataframe thead th {\n",
       "        text-align: right;\n",
       "    }\n",
       "</style>\n",
       "<table border=\"1\" class=\"dataframe\">\n",
       "  <thead>\n",
       "    <tr style=\"text-align: right;\">\n",
       "      <th></th>\n",
       "      <th>count</th>\n",
       "      <th>mean</th>\n",
       "      <th>std</th>\n",
       "      <th>min</th>\n",
       "      <th>25%</th>\n",
       "      <th>50%</th>\n",
       "      <th>75%</th>\n",
       "      <th>max</th>\n",
       "    </tr>\n",
       "  </thead>\n",
       "  <tbody>\n",
       "    <tr>\n",
       "      <th>pred10_rf_best_rule_60</th>\n",
       "      <td>0.0</td>\n",
       "      <td>NaN</td>\n",
       "      <td>NaN</td>\n",
       "      <td>NaN</td>\n",
       "      <td>NaN</td>\n",
       "      <td>NaN</td>\n",
       "      <td>NaN</td>\n",
       "      <td>NaN</td>\n",
       "    </tr>\n",
       "  </tbody>\n",
       "</table>\n",
       "</div>"
      ],
      "text/plain": [
       "                        count  mean  std  min  25%  50%  75%  max\n",
       "pred10_rf_best_rule_60    0.0   NaN  NaN  NaN  NaN  NaN  NaN  NaN"
      ]
     },
     "execution_count": 1428,
     "metadata": {},
     "output_type": "execute_result"
    }
   ],
   "source": [
    "# 75% cases we have not more than 6 bets of $100\n",
    "pred10_daily_positive_count.describe().T"
   ]
  },
  {
   "cell_type": "code",
   "execution_count": 1429,
   "metadata": {
    "colab": {
     "base_uri": "https://localhost:8080/",
     "height": 469
    },
    "id": "QHhGAzWVwY1g",
    "outputId": "c16caa25-7f76-4265-ab89-9895c88fa85b"
   },
   "outputs": [
    {
     "data": {
      "text/plain": [
       "array([[<Axes: title={'center': 'pred9_rf_best_rule_55'}>]], dtype=object)"
      ]
     },
     "execution_count": 1429,
     "metadata": {},
     "output_type": "execute_result"
    },
    {
     "data": {
      "image/png": "[encoded data removed]",
      "text/plain": [
       "<Figure size 640x480 with 1 Axes>"
      ]
     },
     "metadata": {},
     "output_type": "display_data"
    }
   ],
   "source": [
    "pred9_daily_positive_count.hist()"
   ]
  },
  {
   "cell_type": "code",
   "execution_count": 1430,
   "metadata": {
    "colab": {
     "base_uri": "https://localhost:8080/",
     "height": 81
    },
    "id": "FPetBORKwag2",
    "outputId": "75498166-2ed2-496f-a996-d2898d0830a0"
   },
   "outputs": [
    {
     "data": {
      "text/html": [
       "<div>\n",
       "<style scoped>\n",
       "    .dataframe tbody tr th:only-of-type {\n",
       "        vertical-align: middle;\n",
       "    }\n",
       "\n",
       "    .dataframe tbody tr th {\n",
       "        vertical-align: top;\n",
       "    }\n",
       "\n",
       "    .dataframe thead th {\n",
       "        text-align: right;\n",
       "    }\n",
       "</style>\n",
       "<table border=\"1\" class=\"dataframe\">\n",
       "  <thead>\n",
       "    <tr style=\"text-align: right;\">\n",
       "      <th></th>\n",
       "      <th>count</th>\n",
       "      <th>mean</th>\n",
       "      <th>std</th>\n",
       "      <th>min</th>\n",
       "      <th>25%</th>\n",
       "      <th>50%</th>\n",
       "      <th>75%</th>\n",
       "      <th>max</th>\n",
       "    </tr>\n",
       "  </thead>\n",
       "  <tbody>\n",
       "    <tr>\n",
       "      <th>pred9_rf_best_rule_55</th>\n",
       "      <td>9.0</td>\n",
       "      <td>1.222222</td>\n",
       "      <td>0.440959</td>\n",
       "      <td>1.0</td>\n",
       "      <td>1.0</td>\n",
       "      <td>1.0</td>\n",
       "      <td>1.0</td>\n",
       "      <td>2.0</td>\n",
       "    </tr>\n",
       "  </tbody>\n",
       "</table>\n",
       "</div>"
      ],
      "text/plain": [
       "                       count      mean       std  min  25%  50%  75%  max\n",
       "pred9_rf_best_rule_55    9.0  1.222222  0.440959  1.0  1.0  1.0  1.0  2.0"
      ]
     },
     "execution_count": 1430,
     "metadata": {},
     "output_type": "execute_result"
    }
   ],
   "source": [
    "pred9_daily_positive_count.describe().T"
   ]
  },
  {
   "cell_type": "code",
   "execution_count": null,
   "metadata": {},
   "outputs": [],
   "source": []
  },
  {
   "cell_type": "markdown",
   "metadata": {
    "id": "TnGtBxbywdYi"
   },
   "source": [
    "## 2.3) Agg. stats on ALL predictions"
   ]
  },
  {
   "cell_type": "code",
   "execution_count": 1431,
   "metadata": {
    "colab": {
     "base_uri": "https://localhost:8080/"
    },
    "id": "YDToGIp9wfcI",
    "outputId": "c5f15d09-3a2f-4295-d06e-e3990e5c366b"
   },
   "outputs": [
    {
     "name": "stdout",
     "output_type": "stream",
     "text": [
      "Prediction columns founded: ['pred0_manual_cci', 'pred1_manual_prev_g1', 'pred2_manual_prev_g1_and_snp', 'pred3_manual_gdp_and_fastd', 'pred4_manual_gdp_and_wti30d', 'pred5_clf_10', 'pred6_clf_best', 'pred7_clf_best_rule_66', 'pred8_clf_best_rule_78', 'pred9_rf_best_rule_55', 'pred10_rf_best_rule_60', 'pred11_rf_best_rule_51', 'pred12_rf_best_rule_52', 'pred13_rf_best_rule_53', 'pred14_rf_best_rule_54', 'pred15_rf_best_rule_56', 'pred16_rf_best_rule_57', 'pred17_rf_best_rule_58', 'pred18_rf_best_rule_59']\n",
      "Created columns is_correct: ['is_correct_pred0', 'is_correct_pred1', 'is_correct_pred2', 'is_correct_pred3', 'is_correct_pred4', 'is_correct_pred5', 'is_correct_pred6', 'is_correct_pred7', 'is_correct_pred8', 'is_correct_pred9', 'is_correct_pred10', 'is_correct_pred11', 'is_correct_pred12', 'is_correct_pred13', 'is_correct_pred14', 'is_correct_pred15', 'is_correct_pred16', 'is_correct_pred17', 'is_correct_pred18']\n",
      "Precision on TEST set for each prediction:\n",
      "Prediction column:pred0_manual_cci , is_correct_column: is_correct_pred0\n",
      "0    566\n",
      "1    233\n",
      "Name: is_correct_pred0, dtype: int64\n",
      "0    0.708385\n",
      "1    0.291615\n",
      "Name: is_correct_pred0, dtype: float64\n",
      "---------\n",
      "Prediction column:pred1_manual_prev_g1 , is_correct_column: is_correct_pred1\n",
      "0    10790\n",
      "1     4811\n",
      "Name: is_correct_pred1, dtype: int64\n",
      "0    0.691622\n",
      "1    0.308378\n",
      "Name: is_correct_pred1, dtype: float64\n",
      "---------\n",
      "Prediction column:pred2_manual_prev_g1_and_snp , is_correct_column: is_correct_pred2\n",
      "0    7272\n",
      "1    3183\n",
      "Name: is_correct_pred2, dtype: int64\n",
      "0    0.695552\n",
      "1    0.304448\n",
      "Name: is_correct_pred2, dtype: float64\n",
      "---------\n",
      "Prediction column:pred3_manual_gdp_and_fastd , is_correct_column: is_correct_pred3\n",
      "0    20416\n",
      "1     9406\n",
      "Name: is_correct_pred3, dtype: int64\n",
      "0    0.684595\n",
      "1    0.315405\n",
      "Name: is_correct_pred3, dtype: float64\n",
      "---------\n",
      "Prediction column:pred4_manual_gdp_and_wti30d , is_correct_column: is_correct_pred4\n",
      "Series([], Name: is_correct_pred4, dtype: int64)\n",
      "Series([], Name: is_correct_pred4, dtype: float64)\n",
      "---------\n",
      "Prediction column:pred5_clf_10 , is_correct_column: is_correct_pred5\n",
      "0    2410\n",
      "1    1016\n",
      "Name: is_correct_pred5, dtype: int64\n",
      "0    0.703444\n",
      "1    0.296556\n",
      "Name: is_correct_pred5, dtype: float64\n",
      "---------\n",
      "Prediction column:pred6_clf_best , is_correct_column: is_correct_pred6\n",
      "0    5239\n",
      "1    2320\n",
      "Name: is_correct_pred6, dtype: int64\n",
      "0    0.693081\n",
      "1    0.306919\n",
      "Name: is_correct_pred6, dtype: float64\n",
      "---------\n",
      "Prediction column:pred7_clf_best_rule_66 , is_correct_column: is_correct_pred7\n",
      "0    4416\n",
      "1    2031\n",
      "Name: is_correct_pred7, dtype: int64\n",
      "0    0.68497\n",
      "1    0.31503\n",
      "Name: is_correct_pred7, dtype: float64\n",
      "---------\n",
      "Prediction column:pred8_clf_best_rule_78 , is_correct_column: is_correct_pred8\n",
      "0    3664\n",
      "1    1520\n",
      "Name: is_correct_pred8, dtype: int64\n",
      "0    0.70679\n",
      "1    0.29321\n",
      "Name: is_correct_pred8, dtype: float64\n",
      "---------\n",
      "Prediction column:pred9_rf_best_rule_55 , is_correct_column: is_correct_pred9\n",
      "0    6\n",
      "1    5\n",
      "Name: is_correct_pred9, dtype: int64\n",
      "0    0.545455\n",
      "1    0.454545\n",
      "Name: is_correct_pred9, dtype: float64\n",
      "---------\n",
      "Prediction column:pred10_rf_best_rule_60 , is_correct_column: is_correct_pred10\n",
      "Series([], Name: is_correct_pred10, dtype: int64)\n",
      "Series([], Name: is_correct_pred10, dtype: float64)\n",
      "---------\n",
      "Prediction column:pred11_rf_best_rule_51 , is_correct_column: is_correct_pred11\n",
      "0    52\n",
      "1    38\n",
      "Name: is_correct_pred11, dtype: int64\n",
      "0    0.577778\n",
      "1    0.422222\n",
      "Name: is_correct_pred11, dtype: float64\n",
      "---------\n",
      "Prediction column:pred12_rf_best_rule_52 , is_correct_column: is_correct_pred12\n",
      "0    32\n",
      "1    27\n",
      "Name: is_correct_pred12, dtype: int64\n",
      "0    0.542373\n",
      "1    0.457627\n",
      "Name: is_correct_pred12, dtype: float64\n",
      "---------\n",
      "Prediction column:pred13_rf_best_rule_53 , is_correct_column: is_correct_pred13\n",
      "0    17\n",
      "1    14\n",
      "Name: is_correct_pred13, dtype: int64\n",
      "0    0.548387\n",
      "1    0.451613\n",
      "Name: is_correct_pred13, dtype: float64\n",
      "---------\n",
      "Prediction column:pred14_rf_best_rule_54 , is_correct_column: is_correct_pred14\n",
      "1    10\n",
      "0     8\n",
      "Name: is_correct_pred14, dtype: int64\n",
      "1    0.555556\n",
      "0    0.444444\n",
      "Name: is_correct_pred14, dtype: float64\n",
      "---------\n",
      "Prediction column:pred15_rf_best_rule_56 , is_correct_column: is_correct_pred15\n",
      "1    1\n",
      "0    1\n",
      "Name: is_correct_pred15, dtype: int64\n",
      "1    0.5\n",
      "0    0.5\n",
      "Name: is_correct_pred15, dtype: float64\n",
      "---------\n",
      "Prediction column:pred16_rf_best_rule_57 , is_correct_column: is_correct_pred16\n",
      "0    1\n",
      "Name: is_correct_pred16, dtype: int64\n",
      "0    1.0\n",
      "Name: is_correct_pred16, dtype: float64\n",
      "---------\n",
      "Prediction column:pred17_rf_best_rule_58 , is_correct_column: is_correct_pred17\n",
      "0    1\n",
      "Name: is_correct_pred17, dtype: int64\n",
      "0    1.0\n",
      "Name: is_correct_pred17, dtype: float64\n",
      "---------\n",
      "Prediction column:pred18_rf_best_rule_59 , is_correct_column: is_correct_pred18\n",
      "0    1\n",
      "Name: is_correct_pred18, dtype: int64\n",
      "0    1.0\n",
      "Name: is_correct_pred18, dtype: float64\n",
      "---------\n"
     ]
    }
   ],
   "source": [
    "# let's review the Predictions:\n",
    "PREDICTIONS, IS_CORRECT = get_predictions_correctness(new_df, to_predict=to_predict)\n"
   ]
  },
  {
   "cell_type": "code",
   "execution_count": 1432,
   "metadata": {
    "colab": {
     "base_uri": "https://localhost:8080/"
    },
    "id": "LRGWY8M6wmHG",
    "outputId": "b798abbb-00b5-4992-9a5d-ac95dc7f5a95"
   },
   "outputs": [
    {
     "name": "stdout",
     "output_type": "stream",
     "text": [
      "10\n",
      "10\n"
     ]
    }
   ],
   "source": [
    "# Extract number from the prediction column\n",
    "\n",
    "# Example string\n",
    "example_string = \"pred10_rf_best_rule_60\"\n",
    "\n",
    "# Split the string by '_'\n",
    "parts = example_string.split('_')\n",
    "\n",
    "# Extract the part with 'pred' and remove the 'pred' prefix\n",
    "pred_number = parts[0].replace('pred', '')\n",
    "\n",
    "# Print the result\n",
    "print(pred_number)\n",
    "\n",
    "# Print in one line\n",
    "print(int(example_string.split('_')[0].replace('pred', '')))\n"
   ]
  },
  {
   "cell_type": "code",
   "execution_count": 1433,
   "metadata": {
    "colab": {
     "base_uri": "https://localhost:8080/"
    },
    "id": "dmEs3BPOwr9U",
    "outputId": "69bfa627-1391-4815-c1b5-1f6278095d93"
   },
   "outputs": [
    {
     "data": {
      "text/plain": [
       "['pred0_manual_cci',\n",
       " 'pred1_manual_prev_g1',\n",
       " 'pred2_manual_prev_g1_and_snp',\n",
       " 'pred3_manual_gdp_and_fastd',\n",
       " 'pred4_manual_gdp_and_wti30d',\n",
       " 'pred5_clf_10',\n",
       " 'pred6_clf_best',\n",
       " 'pred7_clf_best_rule_66',\n",
       " 'pred8_clf_best_rule_78',\n",
       " 'pred9_rf_best_rule_55',\n",
       " 'pred10_rf_best_rule_60',\n",
       " 'pred11_rf_best_rule_51',\n",
       " 'pred12_rf_best_rule_52',\n",
       " 'pred13_rf_best_rule_53',\n",
       " 'pred14_rf_best_rule_54',\n",
       " 'pred15_rf_best_rule_56',\n",
       " 'pred16_rf_best_rule_57',\n",
       " 'pred17_rf_best_rule_58',\n",
       " 'pred18_rf_best_rule_59']"
      ]
     },
     "execution_count": 1433,
     "metadata": {},
     "output_type": "execute_result"
    }
   ],
   "source": [
    "# all predictions\n",
    "PREDICTIONS"
   ]
  },
  {
   "cell_type": "code",
   "execution_count": 1434,
   "metadata": {
    "colab": {
     "base_uri": "https://localhost:8080/"
    },
    "id": "5i_COKBdwtG1",
    "outputId": "8c7f6ff0-a167-4bd8-bfdb-aaa4b76e9c6b"
   },
   "outputs": [
    {
     "data": {
      "text/plain": [
       "['pred5_clf_10',\n",
       " 'pred6_clf_best',\n",
       " 'pred7_clf_best_rule_66',\n",
       " 'pred8_clf_best_rule_78',\n",
       " 'pred9_rf_best_rule_55',\n",
       " 'pred10_rf_best_rule_60',\n",
       " 'pred11_rf_best_rule_51',\n",
       " 'pred12_rf_best_rule_52',\n",
       " 'pred13_rf_best_rule_53',\n",
       " 'pred14_rf_best_rule_54',\n",
       " 'pred15_rf_best_rule_56',\n",
       " 'pred16_rf_best_rule_57',\n",
       " 'pred17_rf_best_rule_58',\n",
       " 'pred18_rf_best_rule_59']"
      ]
     },
     "execution_count": 1434,
     "metadata": {},
     "output_type": "execute_result"
    }
   ],
   "source": [
    "# all predictions on MODELS (not-manual predictions)\n",
    "PREDICTIONS_ON_MODELS = [p for p in PREDICTIONS if int(p.split('_')[0].replace('pred', ''))>=5]\n",
    "PREDICTIONS_ON_MODELS"
   ]
  },
  {
   "cell_type": "code",
   "execution_count": 1435,
   "metadata": {
    "colab": {
     "base_uri": "https://localhost:8080/"
    },
    "id": "Tlh5ID5wwuWF",
    "outputId": "e402aa6b-dd69-4a8a-e2fb-f521fba2fe7d"
   },
   "outputs": [
    {
     "data": {
      "text/plain": [
       "['is_correct_pred5',\n",
       " 'is_correct_pred6',\n",
       " 'is_correct_pred7',\n",
       " 'is_correct_pred8',\n",
       " 'is_correct_pred9',\n",
       " 'is_correct_pred10',\n",
       " 'is_correct_pred11',\n",
       " 'is_correct_pred12',\n",
       " 'is_correct_pred13',\n",
       " 'is_correct_pred14',\n",
       " 'is_correct_pred15',\n",
       " 'is_correct_pred16',\n",
       " 'is_correct_pred17',\n",
       " 'is_correct_pred18']"
      ]
     },
     "execution_count": 1435,
     "metadata": {},
     "output_type": "execute_result"
    }
   ],
   "source": [
    "# all predictions on Models - correctness\n",
    "IS_CORRECT_ON_MODELS = [p for p in IS_CORRECT if int(p.replace('is_correct_pred', ''))>=5]\n",
    "IS_CORRECT_ON_MODELS"
   ]
  },
  {
   "cell_type": "code",
   "execution_count": 1436,
   "metadata": {
    "colab": {
     "base_uri": "https://localhost:8080/",
     "height": 614
    },
    "id": "zWBef7FWwvTz",
    "outputId": "a69b72b4-74b8-4d53-f76c-60b065786f66"
   },
   "outputs": [
    {
     "data": {
      "text/html": [
       "<div>\n",
       "<style scoped>\n",
       "    .dataframe tbody tr th:only-of-type {\n",
       "        vertical-align: middle;\n",
       "    }\n",
       "\n",
       "    .dataframe tbody tr th {\n",
       "        vertical-align: top;\n",
       "    }\n",
       "\n",
       "    .dataframe thead th {\n",
       "        text-align: right;\n",
       "    }\n",
       "</style>\n",
       "<table border=\"1\" class=\"dataframe\">\n",
       "  <thead>\n",
       "    <tr style=\"text-align: right;\">\n",
       "      <th></th>\n",
       "      <th>split</th>\n",
       "      <th>test</th>\n",
       "      <th>train</th>\n",
       "      <th>validation</th>\n",
       "    </tr>\n",
       "  </thead>\n",
       "  <tbody>\n",
       "    <tr>\n",
       "      <th rowspan=\"3\" valign=\"top\">pred5_clf_10</th>\n",
       "      <th>count</th>\n",
       "      <td>29829.000000</td>\n",
       "      <td>123458.000000</td>\n",
       "      <td>29388.000000</td>\n",
       "    </tr>\n",
       "    <tr>\n",
       "      <th>sum</th>\n",
       "      <td>3426.000000</td>\n",
       "      <td>11898.000000</td>\n",
       "      <td>1763.000000</td>\n",
       "    </tr>\n",
       "    <tr>\n",
       "      <th>mean</th>\n",
       "      <td>0.114855</td>\n",
       "      <td>0.096373</td>\n",
       "      <td>0.059990</td>\n",
       "    </tr>\n",
       "    <tr>\n",
       "      <th rowspan=\"3\" valign=\"top\">pred6_clf_best</th>\n",
       "      <th>count</th>\n",
       "      <td>29829.000000</td>\n",
       "      <td>123458.000000</td>\n",
       "      <td>29388.000000</td>\n",
       "    </tr>\n",
       "    <tr>\n",
       "      <th>sum</th>\n",
       "      <td>7559.000000</td>\n",
       "      <td>23789.000000</td>\n",
       "      <td>4988.000000</td>\n",
       "    </tr>\n",
       "    <tr>\n",
       "      <th>mean</th>\n",
       "      <td>0.253411</td>\n",
       "      <td>0.192689</td>\n",
       "      <td>0.169729</td>\n",
       "    </tr>\n",
       "    <tr>\n",
       "      <th rowspan=\"3\" valign=\"top\">pred7_clf_best_rule_66</th>\n",
       "      <th>count</th>\n",
       "      <td>29829.000000</td>\n",
       "      <td>123458.000000</td>\n",
       "      <td>29388.000000</td>\n",
       "    </tr>\n",
       "    <tr>\n",
       "      <th>sum</th>\n",
       "      <td>6447.000000</td>\n",
       "      <td>19239.000000</td>\n",
       "      <td>3939.000000</td>\n",
       "    </tr>\n",
       "    <tr>\n",
       "      <th>mean</th>\n",
       "      <td>0.216132</td>\n",
       "      <td>0.155834</td>\n",
       "      <td>0.134034</td>\n",
       "    </tr>\n",
       "    <tr>\n",
       "      <th rowspan=\"3\" valign=\"top\">pred8_clf_best_rule_78</th>\n",
       "      <th>count</th>\n",
       "      <td>29829.000000</td>\n",
       "      <td>123458.000000</td>\n",
       "      <td>29388.000000</td>\n",
       "    </tr>\n",
       "    <tr>\n",
       "      <th>sum</th>\n",
       "      <td>5184.000000</td>\n",
       "      <td>15182.000000</td>\n",
       "      <td>3124.000000</td>\n",
       "    </tr>\n",
       "    <tr>\n",
       "      <th>mean</th>\n",
       "      <td>0.173791</td>\n",
       "      <td>0.122973</td>\n",
       "      <td>0.106302</td>\n",
       "    </tr>\n",
       "    <tr>\n",
       "      <th rowspan=\"3\" valign=\"top\">pred9_rf_best_rule_55</th>\n",
       "      <th>count</th>\n",
       "      <td>29829.000000</td>\n",
       "      <td>123458.000000</td>\n",
       "      <td>29388.000000</td>\n",
       "    </tr>\n",
       "    <tr>\n",
       "      <th>sum</th>\n",
       "      <td>11.000000</td>\n",
       "      <td>16660.000000</td>\n",
       "      <td>2678.000000</td>\n",
       "    </tr>\n",
       "    <tr>\n",
       "      <th>mean</th>\n",
       "      <td>0.000369</td>\n",
       "      <td>0.134945</td>\n",
       "      <td>0.091126</td>\n",
       "    </tr>\n",
       "    <tr>\n",
       "      <th rowspan=\"3\" valign=\"top\">pred10_rf_best_rule_60</th>\n",
       "      <th>count</th>\n",
       "      <td>29829.000000</td>\n",
       "      <td>123458.000000</td>\n",
       "      <td>29388.000000</td>\n",
       "    </tr>\n",
       "    <tr>\n",
       "      <th>sum</th>\n",
       "      <td>0.000000</td>\n",
       "      <td>12029.000000</td>\n",
       "      <td>1903.000000</td>\n",
       "    </tr>\n",
       "    <tr>\n",
       "      <th>mean</th>\n",
       "      <td>0.000000</td>\n",
       "      <td>0.097434</td>\n",
       "      <td>0.064754</td>\n",
       "    </tr>\n",
       "    <tr>\n",
       "      <th rowspan=\"3\" valign=\"top\">pred11_rf_best_rule_51</th>\n",
       "      <th>count</th>\n",
       "      <td>29829.000000</td>\n",
       "      <td>123458.000000</td>\n",
       "      <td>29388.000000</td>\n",
       "    </tr>\n",
       "    <tr>\n",
       "      <th>sum</th>\n",
       "      <td>90.000000</td>\n",
       "      <td>20815.000000</td>\n",
       "      <td>3470.000000</td>\n",
       "    </tr>\n",
       "    <tr>\n",
       "      <th>mean</th>\n",
       "      <td>0.003017</td>\n",
       "      <td>0.168600</td>\n",
       "      <td>0.118075</td>\n",
       "    </tr>\n",
       "    <tr>\n",
       "      <th rowspan=\"3\" valign=\"top\">pred12_rf_best_rule_52</th>\n",
       "      <th>count</th>\n",
       "      <td>29829.000000</td>\n",
       "      <td>123458.000000</td>\n",
       "      <td>29388.000000</td>\n",
       "    </tr>\n",
       "    <tr>\n",
       "      <th>sum</th>\n",
       "      <td>59.000000</td>\n",
       "      <td>19757.000000</td>\n",
       "      <td>3237.000000</td>\n",
       "    </tr>\n",
       "    <tr>\n",
       "      <th>mean</th>\n",
       "      <td>0.001978</td>\n",
       "      <td>0.160030</td>\n",
       "      <td>0.110147</td>\n",
       "    </tr>\n",
       "    <tr>\n",
       "      <th rowspan=\"3\" valign=\"top\">pred13_rf_best_rule_53</th>\n",
       "      <th>count</th>\n",
       "      <td>29829.000000</td>\n",
       "      <td>123458.000000</td>\n",
       "      <td>29388.000000</td>\n",
       "    </tr>\n",
       "    <tr>\n",
       "      <th>sum</th>\n",
       "      <td>31.000000</td>\n",
       "      <td>18717.000000</td>\n",
       "      <td>3005.000000</td>\n",
       "    </tr>\n",
       "    <tr>\n",
       "      <th>mean</th>\n",
       "      <td>0.001039</td>\n",
       "      <td>0.151606</td>\n",
       "      <td>0.102253</td>\n",
       "    </tr>\n",
       "    <tr>\n",
       "      <th rowspan=\"3\" valign=\"top\">pred14_rf_best_rule_54</th>\n",
       "      <th>count</th>\n",
       "      <td>29829.000000</td>\n",
       "      <td>123458.000000</td>\n",
       "      <td>29388.000000</td>\n",
       "    </tr>\n",
       "    <tr>\n",
       "      <th>sum</th>\n",
       "      <td>18.000000</td>\n",
       "      <td>17703.000000</td>\n",
       "      <td>2838.000000</td>\n",
       "    </tr>\n",
       "    <tr>\n",
       "      <th>mean</th>\n",
       "      <td>0.000603</td>\n",
       "      <td>0.143393</td>\n",
       "      <td>0.096570</td>\n",
       "    </tr>\n",
       "    <tr>\n",
       "      <th rowspan=\"3\" valign=\"top\">pred15_rf_best_rule_56</th>\n",
       "      <th>count</th>\n",
       "      <td>29829.000000</td>\n",
       "      <td>123458.000000</td>\n",
       "      <td>29388.000000</td>\n",
       "    </tr>\n",
       "    <tr>\n",
       "      <th>sum</th>\n",
       "      <td>2.000000</td>\n",
       "      <td>15651.000000</td>\n",
       "      <td>2482.000000</td>\n",
       "    </tr>\n",
       "    <tr>\n",
       "      <th>mean</th>\n",
       "      <td>0.000067</td>\n",
       "      <td>0.126772</td>\n",
       "      <td>0.084456</td>\n",
       "    </tr>\n",
       "    <tr>\n",
       "      <th rowspan=\"3\" valign=\"top\">pred16_rf_best_rule_57</th>\n",
       "      <th>count</th>\n",
       "      <td>29829.000000</td>\n",
       "      <td>123458.000000</td>\n",
       "      <td>29388.000000</td>\n",
       "    </tr>\n",
       "    <tr>\n",
       "      <th>sum</th>\n",
       "      <td>1.000000</td>\n",
       "      <td>14720.000000</td>\n",
       "      <td>2313.000000</td>\n",
       "    </tr>\n",
       "    <tr>\n",
       "      <th>mean</th>\n",
       "      <td>0.000034</td>\n",
       "      <td>0.119231</td>\n",
       "      <td>0.078706</td>\n",
       "    </tr>\n",
       "    <tr>\n",
       "      <th rowspan=\"3\" valign=\"top\">pred17_rf_best_rule_58</th>\n",
       "      <th>count</th>\n",
       "      <td>29829.000000</td>\n",
       "      <td>123458.000000</td>\n",
       "      <td>29388.000000</td>\n",
       "    </tr>\n",
       "    <tr>\n",
       "      <th>sum</th>\n",
       "      <td>1.000000</td>\n",
       "      <td>13813.000000</td>\n",
       "      <td>2180.000000</td>\n",
       "    </tr>\n",
       "    <tr>\n",
       "      <th>mean</th>\n",
       "      <td>0.000034</td>\n",
       "      <td>0.111884</td>\n",
       "      <td>0.074180</td>\n",
       "    </tr>\n",
       "    <tr>\n",
       "      <th rowspan=\"3\" valign=\"top\">pred18_rf_best_rule_59</th>\n",
       "      <th>count</th>\n",
       "      <td>29829.000000</td>\n",
       "      <td>123458.000000</td>\n",
       "      <td>29388.000000</td>\n",
       "    </tr>\n",
       "    <tr>\n",
       "      <th>sum</th>\n",
       "      <td>1.000000</td>\n",
       "      <td>12897.000000</td>\n",
       "      <td>2035.000000</td>\n",
       "    </tr>\n",
       "    <tr>\n",
       "      <th>mean</th>\n",
       "      <td>0.000034</td>\n",
       "      <td>0.104465</td>\n",
       "      <td>0.069246</td>\n",
       "    </tr>\n",
       "  </tbody>\n",
       "</table>\n",
       "</div>"
      ],
      "text/plain": [
       "split                                 test          train    validation\n",
       "pred5_clf_10           count  29829.000000  123458.000000  29388.000000\n",
       "                       sum     3426.000000   11898.000000   1763.000000\n",
       "                       mean       0.114855       0.096373      0.059990\n",
       "pred6_clf_best         count  29829.000000  123458.000000  29388.000000\n",
       "                       sum     7559.000000   23789.000000   4988.000000\n",
       "                       mean       0.253411       0.192689      0.169729\n",
       "pred7_clf_best_rule_66 count  29829.000000  123458.000000  29388.000000\n",
       "                       sum     6447.000000   19239.000000   3939.000000\n",
       "                       mean       0.216132       0.155834      0.134034\n",
       "pred8_clf_best_rule_78 count  29829.000000  123458.000000  29388.000000\n",
       "                       sum     5184.000000   15182.000000   3124.000000\n",
       "                       mean       0.173791       0.122973      0.106302\n",
       "pred9_rf_best_rule_55  count  29829.000000  123458.000000  29388.000000\n",
       "                       sum       11.000000   16660.000000   2678.000000\n",
       "                       mean       0.000369       0.134945      0.091126\n",
       "pred10_rf_best_rule_60 count  29829.000000  123458.000000  29388.000000\n",
       "                       sum        0.000000   12029.000000   1903.000000\n",
       "                       mean       0.000000       0.097434      0.064754\n",
       "pred11_rf_best_rule_51 count  29829.000000  123458.000000  29388.000000\n",
       "                       sum       90.000000   20815.000000   3470.000000\n",
       "                       mean       0.003017       0.168600      0.118075\n",
       "pred12_rf_best_rule_52 count  29829.000000  123458.000000  29388.000000\n",
       "                       sum       59.000000   19757.000000   3237.000000\n",
       "                       mean       0.001978       0.160030      0.110147\n",
       "pred13_rf_best_rule_53 count  29829.000000  123458.000000  29388.000000\n",
       "                       sum       31.000000   18717.000000   3005.000000\n",
       "                       mean       0.001039       0.151606      0.102253\n",
       "pred14_rf_best_rule_54 count  29829.000000  123458.000000  29388.000000\n",
       "                       sum       18.000000   17703.000000   2838.000000\n",
       "                       mean       0.000603       0.143393      0.096570\n",
       "pred15_rf_best_rule_56 count  29829.000000  123458.000000  29388.000000\n",
       "                       sum        2.000000   15651.000000   2482.000000\n",
       "                       mean       0.000067       0.126772      0.084456\n",
       "pred16_rf_best_rule_57 count  29829.000000  123458.000000  29388.000000\n",
       "                       sum        1.000000   14720.000000   2313.000000\n",
       "                       mean       0.000034       0.119231      0.078706\n",
       "pred17_rf_best_rule_58 count  29829.000000  123458.000000  29388.000000\n",
       "                       sum        1.000000   13813.000000   2180.000000\n",
       "                       mean       0.000034       0.111884      0.074180\n",
       "pred18_rf_best_rule_59 count  29829.000000  123458.000000  29388.000000\n",
       "                       sum        1.000000   12897.000000   2035.000000\n",
       "                       mean       0.000034       0.104465      0.069246"
      ]
     },
     "execution_count": 1436,
     "metadata": {},
     "output_type": "execute_result"
    }
   ],
   "source": [
    "# predictions on models\n",
    "# pred10_rf_best_rule_60: ONLY 2% of TEST cases predicted with high confidence of growth\n",
    "new_df.groupby('split')[PREDICTIONS_ON_MODELS].agg(['count','sum','mean']).T"
   ]
  },
  {
   "cell_type": "code",
   "execution_count": 1437,
   "metadata": {
    "colab": {
     "base_uri": "https://localhost:8080/",
     "height": 1000
    },
    "id": "UcMRarZNwwoc",
    "outputId": "1bde90a2-8ee4-4a86-937a-074c298193d6"
   },
   "outputs": [
    {
     "data": {
      "text/html": [
       "<div>\n",
       "<style scoped>\n",
       "    .dataframe tbody tr th:only-of-type {\n",
       "        vertical-align: middle;\n",
       "    }\n",
       "\n",
       "    .dataframe tbody tr th {\n",
       "        vertical-align: top;\n",
       "    }\n",
       "\n",
       "    .dataframe thead th {\n",
       "        text-align: right;\n",
       "    }\n",
       "</style>\n",
       "<table border=\"1\" class=\"dataframe\">\n",
       "  <thead>\n",
       "    <tr style=\"text-align: right;\">\n",
       "      <th></th>\n",
       "      <th>split</th>\n",
       "      <th>test</th>\n",
       "      <th>train</th>\n",
       "      <th>validation</th>\n",
       "    </tr>\n",
       "  </thead>\n",
       "  <tbody>\n",
       "    <tr>\n",
       "      <th rowspan=\"3\" valign=\"top\">pred0_manual_cci</th>\n",
       "      <th>count</th>\n",
       "      <td>29829.000000</td>\n",
       "      <td>123458.000000</td>\n",
       "      <td>29388.000000</td>\n",
       "    </tr>\n",
       "    <tr>\n",
       "      <th>sum</th>\n",
       "      <td>799.000000</td>\n",
       "      <td>3162.000000</td>\n",
       "      <td>875.000000</td>\n",
       "    </tr>\n",
       "    <tr>\n",
       "      <th>mean</th>\n",
       "      <td>0.026786</td>\n",
       "      <td>0.025612</td>\n",
       "      <td>0.029774</td>\n",
       "    </tr>\n",
       "    <tr>\n",
       "      <th rowspan=\"3\" valign=\"top\">pred1_manual_prev_g1</th>\n",
       "      <th>count</th>\n",
       "      <td>29829.000000</td>\n",
       "      <td>123458.000000</td>\n",
       "      <td>29388.000000</td>\n",
       "    </tr>\n",
       "    <tr>\n",
       "      <th>sum</th>\n",
       "      <td>15601.000000</td>\n",
       "      <td>62117.000000</td>\n",
       "      <td>15585.000000</td>\n",
       "    </tr>\n",
       "    <tr>\n",
       "      <th>mean</th>\n",
       "      <td>0.523015</td>\n",
       "      <td>0.503143</td>\n",
       "      <td>0.530318</td>\n",
       "    </tr>\n",
       "    <tr>\n",
       "      <th rowspan=\"3\" valign=\"top\">pred2_manual_prev_g1_and_snp</th>\n",
       "      <th>count</th>\n",
       "      <td>29829.000000</td>\n",
       "      <td>123458.000000</td>\n",
       "      <td>29388.000000</td>\n",
       "    </tr>\n",
       "    <tr>\n",
       "      <th>sum</th>\n",
       "      <td>10455.000000</td>\n",
       "      <td>41609.000000</td>\n",
       "      <td>10902.000000</td>\n",
       "    </tr>\n",
       "    <tr>\n",
       "      <th>mean</th>\n",
       "      <td>0.350498</td>\n",
       "      <td>0.337030</td>\n",
       "      <td>0.370968</td>\n",
       "    </tr>\n",
       "    <tr>\n",
       "      <th rowspan=\"3\" valign=\"top\">pred3_manual_gdp_and_fastd</th>\n",
       "      <th>count</th>\n",
       "      <td>29829.000000</td>\n",
       "      <td>123458.000000</td>\n",
       "      <td>29388.000000</td>\n",
       "    </tr>\n",
       "    <tr>\n",
       "      <th>sum</th>\n",
       "      <td>29822.000000</td>\n",
       "      <td>107032.000000</td>\n",
       "      <td>29388.000000</td>\n",
       "    </tr>\n",
       "    <tr>\n",
       "      <th>mean</th>\n",
       "      <td>0.999765</td>\n",
       "      <td>0.866951</td>\n",
       "      <td>1.000000</td>\n",
       "    </tr>\n",
       "    <tr>\n",
       "      <th rowspan=\"3\" valign=\"top\">pred4_manual_gdp_and_wti30d</th>\n",
       "      <th>count</th>\n",
       "      <td>29829.000000</td>\n",
       "      <td>123458.000000</td>\n",
       "      <td>29388.000000</td>\n",
       "    </tr>\n",
       "    <tr>\n",
       "      <th>sum</th>\n",
       "      <td>0.000000</td>\n",
       "      <td>5673.000000</td>\n",
       "      <td>0.000000</td>\n",
       "    </tr>\n",
       "    <tr>\n",
       "      <th>mean</th>\n",
       "      <td>0.000000</td>\n",
       "      <td>0.045951</td>\n",
       "      <td>0.000000</td>\n",
       "    </tr>\n",
       "    <tr>\n",
       "      <th rowspan=\"3\" valign=\"top\">pred5_clf_10</th>\n",
       "      <th>count</th>\n",
       "      <td>29829.000000</td>\n",
       "      <td>123458.000000</td>\n",
       "      <td>29388.000000</td>\n",
       "    </tr>\n",
       "    <tr>\n",
       "      <th>sum</th>\n",
       "      <td>3426.000000</td>\n",
       "      <td>11898.000000</td>\n",
       "      <td>1763.000000</td>\n",
       "    </tr>\n",
       "    <tr>\n",
       "      <th>mean</th>\n",
       "      <td>0.114855</td>\n",
       "      <td>0.096373</td>\n",
       "      <td>0.059990</td>\n",
       "    </tr>\n",
       "    <tr>\n",
       "      <th rowspan=\"3\" valign=\"top\">pred6_clf_best</th>\n",
       "      <th>count</th>\n",
       "      <td>29829.000000</td>\n",
       "      <td>123458.000000</td>\n",
       "      <td>29388.000000</td>\n",
       "    </tr>\n",
       "    <tr>\n",
       "      <th>sum</th>\n",
       "      <td>7559.000000</td>\n",
       "      <td>23789.000000</td>\n",
       "      <td>4988.000000</td>\n",
       "    </tr>\n",
       "    <tr>\n",
       "      <th>mean</th>\n",
       "      <td>0.253411</td>\n",
       "      <td>0.192689</td>\n",
       "      <td>0.169729</td>\n",
       "    </tr>\n",
       "    <tr>\n",
       "      <th rowspan=\"3\" valign=\"top\">pred7_clf_best_rule_66</th>\n",
       "      <th>count</th>\n",
       "      <td>29829.000000</td>\n",
       "      <td>123458.000000</td>\n",
       "      <td>29388.000000</td>\n",
       "    </tr>\n",
       "    <tr>\n",
       "      <th>sum</th>\n",
       "      <td>6447.000000</td>\n",
       "      <td>19239.000000</td>\n",
       "      <td>3939.000000</td>\n",
       "    </tr>\n",
       "    <tr>\n",
       "      <th>mean</th>\n",
       "      <td>0.216132</td>\n",
       "      <td>0.155834</td>\n",
       "      <td>0.134034</td>\n",
       "    </tr>\n",
       "    <tr>\n",
       "      <th rowspan=\"3\" valign=\"top\">pred8_clf_best_rule_78</th>\n",
       "      <th>count</th>\n",
       "      <td>29829.000000</td>\n",
       "      <td>123458.000000</td>\n",
       "      <td>29388.000000</td>\n",
       "    </tr>\n",
       "    <tr>\n",
       "      <th>sum</th>\n",
       "      <td>5184.000000</td>\n",
       "      <td>15182.000000</td>\n",
       "      <td>3124.000000</td>\n",
       "    </tr>\n",
       "    <tr>\n",
       "      <th>mean</th>\n",
       "      <td>0.173791</td>\n",
       "      <td>0.122973</td>\n",
       "      <td>0.106302</td>\n",
       "    </tr>\n",
       "    <tr>\n",
       "      <th rowspan=\"3\" valign=\"top\">pred9_rf_best_rule_55</th>\n",
       "      <th>count</th>\n",
       "      <td>29829.000000</td>\n",
       "      <td>123458.000000</td>\n",
       "      <td>29388.000000</td>\n",
       "    </tr>\n",
       "    <tr>\n",
       "      <th>sum</th>\n",
       "      <td>11.000000</td>\n",
       "      <td>16660.000000</td>\n",
       "      <td>2678.000000</td>\n",
       "    </tr>\n",
       "    <tr>\n",
       "      <th>mean</th>\n",
       "      <td>0.000369</td>\n",
       "      <td>0.134945</td>\n",
       "      <td>0.091126</td>\n",
       "    </tr>\n",
       "    <tr>\n",
       "      <th rowspan=\"3\" valign=\"top\">pred10_rf_best_rule_60</th>\n",
       "      <th>count</th>\n",
       "      <td>29829.000000</td>\n",
       "      <td>123458.000000</td>\n",
       "      <td>29388.000000</td>\n",
       "    </tr>\n",
       "    <tr>\n",
       "      <th>sum</th>\n",
       "      <td>0.000000</td>\n",
       "      <td>12029.000000</td>\n",
       "      <td>1903.000000</td>\n",
       "    </tr>\n",
       "    <tr>\n",
       "      <th>mean</th>\n",
       "      <td>0.000000</td>\n",
       "      <td>0.097434</td>\n",
       "      <td>0.064754</td>\n",
       "    </tr>\n",
       "    <tr>\n",
       "      <th rowspan=\"3\" valign=\"top\">pred11_rf_best_rule_51</th>\n",
       "      <th>count</th>\n",
       "      <td>29829.000000</td>\n",
       "      <td>123458.000000</td>\n",
       "      <td>29388.000000</td>\n",
       "    </tr>\n",
       "    <tr>\n",
       "      <th>sum</th>\n",
       "      <td>90.000000</td>\n",
       "      <td>20815.000000</td>\n",
       "      <td>3470.000000</td>\n",
       "    </tr>\n",
       "    <tr>\n",
       "      <th>mean</th>\n",
       "      <td>0.003017</td>\n",
       "      <td>0.168600</td>\n",
       "      <td>0.118075</td>\n",
       "    </tr>\n",
       "    <tr>\n",
       "      <th rowspan=\"3\" valign=\"top\">pred12_rf_best_rule_52</th>\n",
       "      <th>count</th>\n",
       "      <td>29829.000000</td>\n",
       "      <td>123458.000000</td>\n",
       "      <td>29388.000000</td>\n",
       "    </tr>\n",
       "    <tr>\n",
       "      <th>sum</th>\n",
       "      <td>59.000000</td>\n",
       "      <td>19757.000000</td>\n",
       "      <td>3237.000000</td>\n",
       "    </tr>\n",
       "    <tr>\n",
       "      <th>mean</th>\n",
       "      <td>0.001978</td>\n",
       "      <td>0.160030</td>\n",
       "      <td>0.110147</td>\n",
       "    </tr>\n",
       "    <tr>\n",
       "      <th rowspan=\"3\" valign=\"top\">pred13_rf_best_rule_53</th>\n",
       "      <th>count</th>\n",
       "      <td>29829.000000</td>\n",
       "      <td>123458.000000</td>\n",
       "      <td>29388.000000</td>\n",
       "    </tr>\n",
       "    <tr>\n",
       "      <th>sum</th>\n",
       "      <td>31.000000</td>\n",
       "      <td>18717.000000</td>\n",
       "      <td>3005.000000</td>\n",
       "    </tr>\n",
       "    <tr>\n",
       "      <th>mean</th>\n",
       "      <td>0.001039</td>\n",
       "      <td>0.151606</td>\n",
       "      <td>0.102253</td>\n",
       "    </tr>\n",
       "    <tr>\n",
       "      <th rowspan=\"3\" valign=\"top\">pred14_rf_best_rule_54</th>\n",
       "      <th>count</th>\n",
       "      <td>29829.000000</td>\n",
       "      <td>123458.000000</td>\n",
       "      <td>29388.000000</td>\n",
       "    </tr>\n",
       "    <tr>\n",
       "      <th>sum</th>\n",
       "      <td>18.000000</td>\n",
       "      <td>17703.000000</td>\n",
       "      <td>2838.000000</td>\n",
       "    </tr>\n",
       "    <tr>\n",
       "      <th>mean</th>\n",
       "      <td>0.000603</td>\n",
       "      <td>0.143393</td>\n",
       "      <td>0.096570</td>\n",
       "    </tr>\n",
       "    <tr>\n",
       "      <th rowspan=\"3\" valign=\"top\">pred15_rf_best_rule_56</th>\n",
       "      <th>count</th>\n",
       "      <td>29829.000000</td>\n",
       "      <td>123458.000000</td>\n",
       "      <td>29388.000000</td>\n",
       "    </tr>\n",
       "    <tr>\n",
       "      <th>sum</th>\n",
       "      <td>2.000000</td>\n",
       "      <td>15651.000000</td>\n",
       "      <td>2482.000000</td>\n",
       "    </tr>\n",
       "    <tr>\n",
       "      <th>mean</th>\n",
       "      <td>0.000067</td>\n",
       "      <td>0.126772</td>\n",
       "      <td>0.084456</td>\n",
       "    </tr>\n",
       "    <tr>\n",
       "      <th rowspan=\"3\" valign=\"top\">pred16_rf_best_rule_57</th>\n",
       "      <th>count</th>\n",
       "      <td>29829.000000</td>\n",
       "      <td>123458.000000</td>\n",
       "      <td>29388.000000</td>\n",
       "    </tr>\n",
       "    <tr>\n",
       "      <th>sum</th>\n",
       "      <td>1.000000</td>\n",
       "      <td>14720.000000</td>\n",
       "      <td>2313.000000</td>\n",
       "    </tr>\n",
       "    <tr>\n",
       "      <th>mean</th>\n",
       "      <td>0.000034</td>\n",
       "      <td>0.119231</td>\n",
       "      <td>0.078706</td>\n",
       "    </tr>\n",
       "    <tr>\n",
       "      <th rowspan=\"3\" valign=\"top\">pred17_rf_best_rule_58</th>\n",
       "      <th>count</th>\n",
       "      <td>29829.000000</td>\n",
       "      <td>123458.000000</td>\n",
       "      <td>29388.000000</td>\n",
       "    </tr>\n",
       "    <tr>\n",
       "      <th>sum</th>\n",
       "      <td>1.000000</td>\n",
       "      <td>13813.000000</td>\n",
       "      <td>2180.000000</td>\n",
       "    </tr>\n",
       "    <tr>\n",
       "      <th>mean</th>\n",
       "      <td>0.000034</td>\n",
       "      <td>0.111884</td>\n",
       "      <td>0.074180</td>\n",
       "    </tr>\n",
       "    <tr>\n",
       "      <th rowspan=\"3\" valign=\"top\">pred18_rf_best_rule_59</th>\n",
       "      <th>count</th>\n",
       "      <td>29829.000000</td>\n",
       "      <td>123458.000000</td>\n",
       "      <td>29388.000000</td>\n",
       "    </tr>\n",
       "    <tr>\n",
       "      <th>sum</th>\n",
       "      <td>1.000000</td>\n",
       "      <td>12897.000000</td>\n",
       "      <td>2035.000000</td>\n",
       "    </tr>\n",
       "    <tr>\n",
       "      <th>mean</th>\n",
       "      <td>0.000034</td>\n",
       "      <td>0.104465</td>\n",
       "      <td>0.069246</td>\n",
       "    </tr>\n",
       "  </tbody>\n",
       "</table>\n",
       "</div>"
      ],
      "text/plain": [
       "split                                       test          train    validation\n",
       "pred0_manual_cci             count  29829.000000  123458.000000  29388.000000\n",
       "                             sum      799.000000    3162.000000    875.000000\n",
       "                             mean       0.026786       0.025612      0.029774\n",
       "pred1_manual_prev_g1         count  29829.000000  123458.000000  29388.000000\n",
       "                             sum    15601.000000   62117.000000  15585.000000\n",
       "                             mean       0.523015       0.503143      0.530318\n",
       "pred2_manual_prev_g1_and_snp count  29829.000000  123458.000000  29388.000000\n",
       "                             sum    10455.000000   41609.000000  10902.000000\n",
       "                             mean       0.350498       0.337030      0.370968\n",
       "pred3_manual_gdp_and_fastd   count  29829.000000  123458.000000  29388.000000\n",
       "                             sum    29822.000000  107032.000000  29388.000000\n",
       "                             mean       0.999765       0.866951      1.000000\n",
       "pred4_manual_gdp_and_wti30d  count  29829.000000  123458.000000  29388.000000\n",
       "                             sum        0.000000    5673.000000      0.000000\n",
       "                             mean       0.000000       0.045951      0.000000\n",
       "pred5_clf_10                 count  29829.000000  123458.000000  29388.000000\n",
       "                             sum     3426.000000   11898.000000   1763.000000\n",
       "                             mean       0.114855       0.096373      0.059990\n",
       "pred6_clf_best               count  29829.000000  123458.000000  29388.000000\n",
       "                             sum     7559.000000   23789.000000   4988.000000\n",
       "                             mean       0.253411       0.192689      0.169729\n",
       "pred7_clf_best_rule_66       count  29829.000000  123458.000000  29388.000000\n",
       "                             sum     6447.000000   19239.000000   3939.000000\n",
       "                             mean       0.216132       0.155834      0.134034\n",
       "pred8_clf_best_rule_78       count  29829.000000  123458.000000  29388.000000\n",
       "                             sum     5184.000000   15182.000000   3124.000000\n",
       "                             mean       0.173791       0.122973      0.106302\n",
       "pred9_rf_best_rule_55        count  29829.000000  123458.000000  29388.000000\n",
       "                             sum       11.000000   16660.000000   2678.000000\n",
       "                             mean       0.000369       0.134945      0.091126\n",
       "pred10_rf_best_rule_60       count  29829.000000  123458.000000  29388.000000\n",
       "                             sum        0.000000   12029.000000   1903.000000\n",
       "                             mean       0.000000       0.097434      0.064754\n",
       "pred11_rf_best_rule_51       count  29829.000000  123458.000000  29388.000000\n",
       "                             sum       90.000000   20815.000000   3470.000000\n",
       "                             mean       0.003017       0.168600      0.118075\n",
       "pred12_rf_best_rule_52       count  29829.000000  123458.000000  29388.000000\n",
       "                             sum       59.000000   19757.000000   3237.000000\n",
       "                             mean       0.001978       0.160030      0.110147\n",
       "pred13_rf_best_rule_53       count  29829.000000  123458.000000  29388.000000\n",
       "                             sum       31.000000   18717.000000   3005.000000\n",
       "                             mean       0.001039       0.151606      0.102253\n",
       "pred14_rf_best_rule_54       count  29829.000000  123458.000000  29388.000000\n",
       "                             sum       18.000000   17703.000000   2838.000000\n",
       "                             mean       0.000603       0.143393      0.096570\n",
       "pred15_rf_best_rule_56       count  29829.000000  123458.000000  29388.000000\n",
       "                             sum        2.000000   15651.000000   2482.000000\n",
       "                             mean       0.000067       0.126772      0.084456\n",
       "pred16_rf_best_rule_57       count  29829.000000  123458.000000  29388.000000\n",
       "                             sum        1.000000   14720.000000   2313.000000\n",
       "                             mean       0.000034       0.119231      0.078706\n",
       "pred17_rf_best_rule_58       count  29829.000000  123458.000000  29388.000000\n",
       "                             sum        1.000000   13813.000000   2180.000000\n",
       "                             mean       0.000034       0.111884      0.074180\n",
       "pred18_rf_best_rule_59       count  29829.000000  123458.000000  29388.000000\n",
       "                             sum        1.000000   12897.000000   2035.000000\n",
       "                             mean       0.000034       0.104465      0.069246"
      ]
     },
     "execution_count": 1437,
     "metadata": {},
     "output_type": "execute_result"
    }
   ],
   "source": [
    "# 10 predictions stats (check TEST set)\n",
    "new_df.groupby('split')[PREDICTIONS].agg(['count','sum','mean']).T"
   ]
  },
  {
   "cell_type": "markdown",
   "metadata": {
    "id": "bgdAGlbaw0GH"
   },
   "source": [
    "# 3) Trading Simulations\n",
    "\n",
    "* create simulation 1 features: like \"sim1_pred0\" ... \"sim1_predLast\""
   ]
  },
  {
   "cell_type": "markdown",
   "metadata": {
    "id": "fcxkRiorDdDa"
   },
   "source": [
    "## 3.1) Investing $100 on every positive prediction\n",
    "* fees = 0.1% for each buy and sell operation ==> 0.2% for buy+sell operation"
   ]
  },
  {
   "cell_type": "code",
   "execution_count": 1438,
   "metadata": {
    "id": "CgH1paM8DjgB"
   },
   "outputs": [],
   "source": [
    "# current prediction\n",
    "pred = 'pred6_clf_best'"
   ]
  },
  {
   "cell_type": "code",
   "execution_count": 1439,
   "metadata": {
    "colab": {
     "base_uri": "https://localhost:8080/"
    },
    "id": "OyqKoZ6CDkkr",
    "outputId": "51d828cb-19de-4020-bd30-c49b984444cf"
   },
   "outputs": [
    {
     "data": {
      "text/plain": [
       "29829"
      ]
     },
     "execution_count": 1439,
     "metadata": {},
     "output_type": "execute_result"
    }
   ],
   "source": [
    "# Total Number of Investment Opportunities\n",
    "new_df[new_df.split=='test'].Close.count()"
   ]
  },
  {
   "cell_type": "code",
   "execution_count": 1440,
   "metadata": {
    "colab": {
     "base_uri": "https://localhost:8080/"
    },
    "id": "0Yatp1u8DmVS",
    "outputId": "74f6e66a-0782-4c4d-a905-d2e1f53fbfc9"
   },
   "outputs": [
    {
     "data": {
      "text/plain": [
       "947"
      ]
     },
     "execution_count": 1440,
     "metadata": {},
     "output_type": "execute_result"
    }
   ],
   "source": [
    "# Total Number of Days (~4 years of trading)\n",
    "new_df[new_df.split=='test'].Date.nunique()"
   ]
  },
  {
   "cell_type": "code",
   "execution_count": 1441,
   "metadata": {
    "colab": {
     "base_uri": "https://localhost:8080/"
    },
    "id": "IESBIJT6Dnu-",
    "outputId": "3f8e84bf-4fe9-45ca-d46f-c889ccf2b3c0"
   },
   "outputs": [
    {
     "data": {
      "text/plain": [
       "['growth_future_5d',\n",
       " 'is_positive_growth_5d_future',\n",
       " 'is_strong_positive_growth_5d_future']"
      ]
     },
     "execution_count": 1441,
     "metadata": {},
     "output_type": "execute_result"
    }
   ],
   "source": [
    "# check actual future growth with 'growth_future_5d', correctness of the prediction with 'is_positive_growth_5d_future'\n",
    "TO_PREDICT"
   ]
  },
  {
   "cell_type": "code",
   "execution_count": 1442,
   "metadata": {
    "colab": {
     "base_uri": "https://localhost:8080/",
     "height": 424
    },
    "id": "cSXm1PmhDpVa",
    "outputId": "aebd287c-5a5a-409a-de30-6020e289d111"
   },
   "outputs": [
    {
     "data": {
      "text/html": [
       "<div>\n",
       "<style scoped>\n",
       "    .dataframe tbody tr th:only-of-type {\n",
       "        vertical-align: middle;\n",
       "    }\n",
       "\n",
       "    .dataframe tbody tr th {\n",
       "        vertical-align: top;\n",
       "    }\n",
       "\n",
       "    .dataframe thead th {\n",
       "        text-align: right;\n",
       "    }\n",
       "</style>\n",
       "<table border=\"1\" class=\"dataframe\">\n",
       "  <thead>\n",
       "    <tr style=\"text-align: right;\">\n",
       "      <th></th>\n",
       "      <th>growth_future_5d</th>\n",
       "      <th>is_strong_positive_growth_5d_future</th>\n",
       "      <th>pred6_clf_best</th>\n",
       "    </tr>\n",
       "  </thead>\n",
       "  <tbody>\n",
       "    <tr>\n",
       "      <th>3490</th>\n",
       "      <td>0.963003</td>\n",
       "      <td>False</td>\n",
       "      <td>False</td>\n",
       "    </tr>\n",
       "    <tr>\n",
       "      <th>3491</th>\n",
       "      <td>0.971143</td>\n",
       "      <td>False</td>\n",
       "      <td>False</td>\n",
       "    </tr>\n",
       "    <tr>\n",
       "      <th>3492</th>\n",
       "      <td>0.929709</td>\n",
       "      <td>False</td>\n",
       "      <td>False</td>\n",
       "    </tr>\n",
       "    <tr>\n",
       "      <th>3493</th>\n",
       "      <td>0.980114</td>\n",
       "      <td>False</td>\n",
       "      <td>False</td>\n",
       "    </tr>\n",
       "    <tr>\n",
       "      <th>3494</th>\n",
       "      <td>1.007291</td>\n",
       "      <td>False</td>\n",
       "      <td>False</td>\n",
       "    </tr>\n",
       "    <tr>\n",
       "      <th>...</th>\n",
       "      <td>...</td>\n",
       "      <td>...</td>\n",
       "      <td>...</td>\n",
       "    </tr>\n",
       "    <tr>\n",
       "      <th>5422</th>\n",
       "      <td>NaN</td>\n",
       "      <td>False</td>\n",
       "      <td>False</td>\n",
       "    </tr>\n",
       "    <tr>\n",
       "      <th>5423</th>\n",
       "      <td>NaN</td>\n",
       "      <td>False</td>\n",
       "      <td>True</td>\n",
       "    </tr>\n",
       "    <tr>\n",
       "      <th>5424</th>\n",
       "      <td>NaN</td>\n",
       "      <td>False</td>\n",
       "      <td>False</td>\n",
       "    </tr>\n",
       "    <tr>\n",
       "      <th>5425</th>\n",
       "      <td>NaN</td>\n",
       "      <td>False</td>\n",
       "      <td>False</td>\n",
       "    </tr>\n",
       "    <tr>\n",
       "      <th>5426</th>\n",
       "      <td>NaN</td>\n",
       "      <td>False</td>\n",
       "      <td>False</td>\n",
       "    </tr>\n",
       "  </tbody>\n",
       "</table>\n",
       "<p>182675 rows × 3 columns</p>\n",
       "</div>"
      ],
      "text/plain": [
       "      growth_future_5d  is_strong_positive_growth_5d_future  pred6_clf_best\n",
       "3490          0.963003                                False           False\n",
       "3491          0.971143                                False           False\n",
       "3492          0.929709                                False           False\n",
       "3493          0.980114                                False           False\n",
       "3494          1.007291                                False           False\n",
       "...                ...                                  ...             ...\n",
       "5422               NaN                                False           False\n",
       "5423               NaN                                False            True\n",
       "5424               NaN                                False           False\n",
       "5425               NaN                                False           False\n",
       "5426               NaN                                False           False\n",
       "\n",
       "[182675 rows x 3 columns]"
      ]
     },
     "execution_count": 1442,
     "metadata": {},
     "output_type": "execute_result"
    }
   ],
   "source": [
    "new_df[['growth_future_5d', to_predict,pred]]"
   ]
  },
  {
   "cell_type": "code",
   "execution_count": 1443,
   "metadata": {
    "id": "lPM5eYT8DrHb"
   },
   "outputs": [],
   "source": [
    "# GROSS REVENUE: ONLY when current_prediction equals to 1: invest $100 into that stock (buy), and sell in 1week (sell)\n",
    "new_df['sim1_gross_rev_pred6'] = new_df[pred] * 100 * (new_df['growth_future_5d']-1)"
   ]
  },
  {
   "cell_type": "code",
   "execution_count": 1444,
   "metadata": {
    "id": "y1RkuqfJDsYE"
   },
   "outputs": [],
   "source": [
    "# FEES: 0.1% for each operation , 0.2% for buy+sell ONLY when current_prediction equals to one\n",
    "new_df['sim1_fees_pred6'] = -new_df[pred] * 100 * 0.002"
   ]
  },
  {
   "cell_type": "code",
   "execution_count": 1445,
   "metadata": {
    "id": "zNYijl95Dtr4"
   },
   "outputs": [],
   "source": [
    "# NET REVENUE: GROSS_REVENUE + FEES\n",
    "new_df['sim1_net_rev_pred6'] = new_df['sim1_gross_rev_pred6'] + new_df['sim1_fees_pred6']"
   ]
  },
  {
   "cell_type": "code",
   "execution_count": 1446,
   "metadata": {
    "colab": {
     "base_uri": "https://localhost:8080/",
     "height": 617
    },
    "id": "6Dcueis_Dw5j",
    "outputId": "3283b539-6da5-46ae-94cf-56705538f75a"
   },
   "outputs": [
    {
     "data": {
      "text/html": [
       "<div>\n",
       "<style scoped>\n",
       "    .dataframe tbody tr th:only-of-type {\n",
       "        vertical-align: middle;\n",
       "    }\n",
       "\n",
       "    .dataframe tbody tr th {\n",
       "        vertical-align: top;\n",
       "    }\n",
       "\n",
       "    .dataframe thead th {\n",
       "        text-align: right;\n",
       "    }\n",
       "</style>\n",
       "<table border=\"1\" class=\"dataframe\">\n",
       "  <thead>\n",
       "    <tr style=\"text-align: right;\">\n",
       "      <th></th>\n",
       "      <th>Date</th>\n",
       "      <th>Ticker</th>\n",
       "      <th>Close</th>\n",
       "      <th>growth_future_5d</th>\n",
       "      <th>is_positive_growth_5d_future</th>\n",
       "      <th>is_strong_positive_growth_5d_future</th>\n",
       "      <th>pred6_clf_best</th>\n",
       "      <th>sim1_gross_rev_pred6</th>\n",
       "      <th>sim1_fees_pred6</th>\n",
       "      <th>sim1_net_rev_pred6</th>\n",
       "    </tr>\n",
       "  </thead>\n",
       "  <tbody>\n",
       "    <tr>\n",
       "      <th>8704</th>\n",
       "      <td>2020-09-23</td>\n",
       "      <td>MSFT</td>\n",
       "      <td>200.589996</td>\n",
       "      <td>1.048557</td>\n",
       "      <td>1</td>\n",
       "      <td>True</td>\n",
       "      <td>True</td>\n",
       "      <td>4.855687</td>\n",
       "      <td>0.0</td>\n",
       "      <td>4.855687</td>\n",
       "    </tr>\n",
       "    <tr>\n",
       "      <th>8739</th>\n",
       "      <td>2020-11-11</td>\n",
       "      <td>MSFT</td>\n",
       "      <td>216.550003</td>\n",
       "      <td>0.977292</td>\n",
       "      <td>0</td>\n",
       "      <td>False</td>\n",
       "      <td>True</td>\n",
       "      <td>-2.270792</td>\n",
       "      <td>0.0</td>\n",
       "      <td>-2.270792</td>\n",
       "    </tr>\n",
       "    <tr>\n",
       "      <th>8748</th>\n",
       "      <td>2020-11-24</td>\n",
       "      <td>MSFT</td>\n",
       "      <td>213.860001</td>\n",
       "      <td>1.007061</td>\n",
       "      <td>1</td>\n",
       "      <td>False</td>\n",
       "      <td>True</td>\n",
       "      <td>0.706074</td>\n",
       "      <td>0.0</td>\n",
       "      <td>0.706074</td>\n",
       "    </tr>\n",
       "    <tr>\n",
       "      <th>8749</th>\n",
       "      <td>2020-11-25</td>\n",
       "      <td>MSFT</td>\n",
       "      <td>213.869995</td>\n",
       "      <td>1.001730</td>\n",
       "      <td>1</td>\n",
       "      <td>False</td>\n",
       "      <td>True</td>\n",
       "      <td>0.172998</td>\n",
       "      <td>0.0</td>\n",
       "      <td>0.172998</td>\n",
       "    </tr>\n",
       "    <tr>\n",
       "      <th>8753</th>\n",
       "      <td>2020-12-02</td>\n",
       "      <td>MSFT</td>\n",
       "      <td>215.369995</td>\n",
       "      <td>0.983424</td>\n",
       "      <td>0</td>\n",
       "      <td>False</td>\n",
       "      <td>True</td>\n",
       "      <td>-1.657620</td>\n",
       "      <td>0.0</td>\n",
       "      <td>-1.657620</td>\n",
       "    </tr>\n",
       "    <tr>\n",
       "      <th>...</th>\n",
       "      <td>...</td>\n",
       "      <td>...</td>\n",
       "      <td>...</td>\n",
       "      <td>...</td>\n",
       "      <td>...</td>\n",
       "      <td>...</td>\n",
       "      <td>...</td>\n",
       "      <td>...</td>\n",
       "      <td>...</td>\n",
       "      <td>...</td>\n",
       "    </tr>\n",
       "    <tr>\n",
       "      <th>5408</th>\n",
       "      <td>2024-04-08</td>\n",
       "      <td>LT.NS</td>\n",
       "      <td>3807.850098</td>\n",
       "      <td>0.930564</td>\n",
       "      <td>0</td>\n",
       "      <td>False</td>\n",
       "      <td>True</td>\n",
       "      <td>-6.943554</td>\n",
       "      <td>0.0</td>\n",
       "      <td>-6.943554</td>\n",
       "    </tr>\n",
       "    <tr>\n",
       "      <th>5409</th>\n",
       "      <td>2024-04-09</td>\n",
       "      <td>LT.NS</td>\n",
       "      <td>3785.250000</td>\n",
       "      <td>0.938102</td>\n",
       "      <td>0</td>\n",
       "      <td>False</td>\n",
       "      <td>True</td>\n",
       "      <td>-6.189817</td>\n",
       "      <td>0.0</td>\n",
       "      <td>-6.189817</td>\n",
       "    </tr>\n",
       "    <tr>\n",
       "      <th>5413</th>\n",
       "      <td>2024-04-16</td>\n",
       "      <td>LT.NS</td>\n",
       "      <td>3543.449951</td>\n",
       "      <td>1.025794</td>\n",
       "      <td>1</td>\n",
       "      <td>True</td>\n",
       "      <td>True</td>\n",
       "      <td>2.579411</td>\n",
       "      <td>0.0</td>\n",
       "      <td>2.579411</td>\n",
       "    </tr>\n",
       "    <tr>\n",
       "      <th>5421</th>\n",
       "      <td>2024-04-29</td>\n",
       "      <td>LT.NS</td>\n",
       "      <td>3634.300049</td>\n",
       "      <td>0.943166</td>\n",
       "      <td>0</td>\n",
       "      <td>False</td>\n",
       "      <td>True</td>\n",
       "      <td>-5.683352</td>\n",
       "      <td>0.0</td>\n",
       "      <td>-5.683352</td>\n",
       "    </tr>\n",
       "    <tr>\n",
       "      <th>5423</th>\n",
       "      <td>2024-05-02</td>\n",
       "      <td>LT.NS</td>\n",
       "      <td>3599.500000</td>\n",
       "      <td>NaN</td>\n",
       "      <td>0</td>\n",
       "      <td>False</td>\n",
       "      <td>True</td>\n",
       "      <td>NaN</td>\n",
       "      <td>0.0</td>\n",
       "      <td>NaN</td>\n",
       "    </tr>\n",
       "  </tbody>\n",
       "</table>\n",
       "<p>7559 rows × 10 columns</p>\n",
       "</div>"
      ],
      "text/plain": [
       "           Date Ticker        Close  growth_future_5d  \\\n",
       "8704 2020-09-23   MSFT   200.589996          1.048557   \n",
       "8739 2020-11-11   MSFT   216.550003          0.977292   \n",
       "8748 2020-11-24   MSFT   213.860001          1.007061   \n",
       "8749 2020-11-25   MSFT   213.869995          1.001730   \n",
       "8753 2020-12-02   MSFT   215.369995          0.983424   \n",
       "...         ...    ...          ...               ...   \n",
       "5408 2024-04-08  LT.NS  3807.850098          0.930564   \n",
       "5409 2024-04-09  LT.NS  3785.250000          0.938102   \n",
       "5413 2024-04-16  LT.NS  3543.449951          1.025794   \n",
       "5421 2024-04-29  LT.NS  3634.300049          0.943166   \n",
       "5423 2024-05-02  LT.NS  3599.500000               NaN   \n",
       "\n",
       "      is_positive_growth_5d_future  is_strong_positive_growth_5d_future  \\\n",
       "8704                             1                                 True   \n",
       "8739                             0                                False   \n",
       "8748                             1                                False   \n",
       "8749                             1                                False   \n",
       "8753                             0                                False   \n",
       "...                            ...                                  ...   \n",
       "5408                             0                                False   \n",
       "5409                             0                                False   \n",
       "5413                             1                                 True   \n",
       "5421                             0                                False   \n",
       "5423                             0                                False   \n",
       "\n",
       "      pred6_clf_best  sim1_gross_rev_pred6  sim1_fees_pred6  \\\n",
       "8704            True              4.855687              0.0   \n",
       "8739            True             -2.270792              0.0   \n",
       "8748            True              0.706074              0.0   \n",
       "8749            True              0.172998              0.0   \n",
       "8753            True             -1.657620              0.0   \n",
       "...              ...                   ...              ...   \n",
       "5408            True             -6.943554              0.0   \n",
       "5409            True             -6.189817              0.0   \n",
       "5413            True              2.579411              0.0   \n",
       "5421            True             -5.683352              0.0   \n",
       "5423            True                   NaN              0.0   \n",
       "\n",
       "      sim1_net_rev_pred6  \n",
       "8704            4.855687  \n",
       "8739           -2.270792  \n",
       "8748            0.706074  \n",
       "8749            0.172998  \n",
       "8753           -1.657620  \n",
       "...                  ...  \n",
       "5408           -6.943554  \n",
       "5409           -6.189817  \n",
       "5413            2.579411  \n",
       "5421           -5.683352  \n",
       "5423                 NaN  \n",
       "\n",
       "[7559 rows x 10 columns]"
      ]
     },
     "execution_count": 1446,
     "metadata": {},
     "output_type": "execute_result"
    }
   ],
   "source": [
    "COLUMNS_FIN_RESULT = ['Date','Ticker','Close']+TO_PREDICT+ [pred,  'sim1_gross_rev_pred6','sim1_fees_pred6','sim1_net_rev_pred6']\n",
    "new_df[(new_df.split=='test')&(new_df[pred]==1)][COLUMNS_FIN_RESULT]"
   ]
  },
  {
   "cell_type": "code",
   "execution_count": 1447,
   "metadata": {
    "colab": {
     "base_uri": "https://localhost:8080/"
    },
    "id": "BJS19COwDymR",
    "outputId": "fd79dbe7-5f4f-45bf-b32a-ed7a0db82050"
   },
   "outputs": [
    {
     "name": "stdout",
     "output_type": "stream",
     "text": [
      "11.0\n"
     ]
    }
   ],
   "source": [
    "# DAILY INVESTMENTS COUNT\n",
    "filter_test_and_positive_pred = (new_df.split=='test')&(new_df[pred]==1)\n",
    "df_investments_count_daily = pd.DataFrame(new_df[filter_test_and_positive_pred].groupby('Date')[pred].count())\n",
    "sim1_avg_investments_per_day = df_investments_count_daily[pred].quantile(0.75)  # 75% case - how many $100 investments per day do we have?\n",
    "print(sim1_avg_investments_per_day)"
   ]
  },
  {
   "cell_type": "code",
   "execution_count": 1448,
   "metadata": {
    "colab": {
     "base_uri": "https://localhost:8080/",
     "height": 81
    },
    "id": "K10MkjYND0sJ",
    "outputId": "c192e1b9-2162-4698-9d81-39b6a1c22d30"
   },
   "outputs": [
    {
     "data": {
      "text/html": [
       "<div>\n",
       "<style scoped>\n",
       "    .dataframe tbody tr th:only-of-type {\n",
       "        vertical-align: middle;\n",
       "    }\n",
       "\n",
       "    .dataframe tbody tr th {\n",
       "        vertical-align: top;\n",
       "    }\n",
       "\n",
       "    .dataframe thead th {\n",
       "        text-align: right;\n",
       "    }\n",
       "</style>\n",
       "<table border=\"1\" class=\"dataframe\">\n",
       "  <thead>\n",
       "    <tr style=\"text-align: right;\">\n",
       "      <th></th>\n",
       "      <th>count</th>\n",
       "      <th>mean</th>\n",
       "      <th>std</th>\n",
       "      <th>min</th>\n",
       "      <th>25%</th>\n",
       "      <th>50%</th>\n",
       "      <th>75%</th>\n",
       "      <th>max</th>\n",
       "    </tr>\n",
       "  </thead>\n",
       "  <tbody>\n",
       "    <tr>\n",
       "      <th>pred6_clf_best</th>\n",
       "      <td>914.0</td>\n",
       "      <td>8.270241</td>\n",
       "      <td>5.91138</td>\n",
       "      <td>1.0</td>\n",
       "      <td>4.0</td>\n",
       "      <td>7.0</td>\n",
       "      <td>11.0</td>\n",
       "      <td>33.0</td>\n",
       "    </tr>\n",
       "  </tbody>\n",
       "</table>\n",
       "</div>"
      ],
      "text/plain": [
       "                count      mean      std  min  25%  50%   75%   max\n",
       "pred6_clf_best  914.0  8.270241  5.91138  1.0  4.0  7.0  11.0  33.0"
      ]
     },
     "execution_count": 1448,
     "metadata": {},
     "output_type": "execute_result"
    }
   ],
   "source": [
    "# Distribution: how many times do we trade daily (for the current Prediction)?\n",
    "df_investments_count_daily.describe().T"
   ]
  },
  {
   "cell_type": "code",
   "execution_count": 1449,
   "metadata": {
    "colab": {
     "base_uri": "https://localhost:8080/"
    },
    "id": "ilH82pIAD6rV",
    "outputId": "351b699b-d26d-4357-d67c-b6cc8efb2644"
   },
   "outputs": [
    {
     "data": {
      "text/plain": [
       "sim1_gross_rev_pred6    2814.577885\n",
       "sim1_fees_pred6            0.000000\n",
       "sim1_net_rev_pred6      2814.577885\n",
       "dtype: float64"
      ]
     },
     "execution_count": 1449,
     "metadata": {},
     "output_type": "execute_result"
    }
   ],
   "source": [
    "new_df[(new_df.split=='test')&(new_df[pred]==1)][['sim1_gross_rev_pred6','sim1_fees_pred6','sim1_net_rev_pred6']].sum()"
   ]
  },
  {
   "cell_type": "markdown",
   "metadata": {
    "id": "NjeHdCq1D9yN"
   },
   "source": [
    "### 3.1.2 Calculate fin. results for all fields\n",
    "* Simplified and approximate calculation"
   ]
  },
  {
   "cell_type": "code",
   "execution_count": 1450,
   "metadata": {
    "colab": {
     "base_uri": "https://localhost:8080/"
    },
    "id": "Pp7CbZXSD_zT",
    "outputId": "8230d8ea-46a9-47db-a935-892de6a2144d"
   },
   "outputs": [
    {
     "name": "stdout",
     "output_type": "stream",
     "text": [
      "Calculating sumulation for prediction pred0_manual_cci:\n",
      "    Count times of investment 799 out of 29829 TEST records\n",
      "    Financial Result: \n",
      " sim1_gross_rev_pred0    309.04589\n",
      "sim1_fees_pred0        -159.80000\n",
      "sim1_net_rev_pred0      149.84589\n",
      "dtype: float64\n",
      "        Count Investments in 4 years (on TEST): 799\n",
      "        Gross Revenue: $309\n",
      "        Fees (0.2% for buy+sell): $159\n",
      "        Net Revenue: $149\n",
      "        Fees are 51 % from Gross Revenue\n",
      "        Capital Required : $1000 (Vbegin)\n",
      "        Final value (Vbegin + Net_revenue) : $1149 (Vfinal)\n",
      "        Average CAGR on TEST (4 years) : 1.036, or 3.6% \n",
      "        Average daily stats: \n",
      "            Average net revenue per investment: $0.19 \n",
      "            Average investments per day: 2 \n",
      "            Q75 investments per day: 2 \n",
      "=============================================+\n",
      "Calculating sumulation for prediction pred1_manual_prev_g1:\n",
      "    Count times of investment 15601 out of 29829 TEST records\n",
      "    Financial Result: \n",
      " sim1_gross_rev_pred1    6913.217124\n",
      "sim1_fees_pred1        -3120.200000\n",
      "sim1_net_rev_pred1      3812.817124\n",
      "dtype: float64\n",
      "        Count Investments in 4 years (on TEST): 15601\n",
      "        Gross Revenue: $6913\n",
      "        Fees (0.2% for buy+sell): $3120\n",
      "        Net Revenue: $3812\n",
      "        Fees are 45 % from Gross Revenue\n",
      "        Capital Required : $11000 (Vbegin)\n",
      "        Final value (Vbegin + Net_revenue) : $14812 (Vfinal)\n",
      "        Average CAGR on TEST (4 years) : 1.077, or 7.7% \n",
      "        Average daily stats: \n",
      "            Average net revenue per investment: $0.24 \n",
      "            Average investments per day: 17 \n",
      "            Q75 investments per day: 22 \n",
      "=============================================+\n",
      "Calculating sumulation for prediction pred2_manual_prev_g1_and_snp:\n",
      "    Count times of investment 10455 out of 29829 TEST records\n",
      "    Financial Result: \n",
      " sim1_gross_rev_pred2    4213.424501\n",
      "sim1_fees_pred2        -2091.000000\n",
      "sim1_net_rev_pred2      2139.624501\n",
      "dtype: float64\n",
      "        Count Investments in 4 years (on TEST): 10455\n",
      "        Gross Revenue: $4213\n",
      "        Fees (0.2% for buy+sell): $2091\n",
      "        Net Revenue: $2139\n",
      "        Fees are 49 % from Gross Revenue\n",
      "        Capital Required : $13000 (Vbegin)\n",
      "        Final value (Vbegin + Net_revenue) : $15139 (Vfinal)\n",
      "        Average CAGR on TEST (4 years) : 1.039, or 3.9% \n",
      "        Average daily stats: \n",
      "            Average net revenue per investment: $0.2 \n",
      "            Average investments per day: 22 \n",
      "            Q75 investments per day: 26 \n",
      "=============================================+\n",
      "Calculating sumulation for prediction pred3_manual_gdp_and_fastd:\n",
      "    Count times of investment 29822 out of 29829 TEST records\n",
      "    Financial Result: \n",
      " sim1_gross_rev_pred3    14893.285316\n",
      "sim1_fees_pred3         -5964.400000\n",
      "sim1_net_rev_pred3       8961.885316\n",
      "dtype: float64\n",
      "        Count Investments in 4 years (on TEST): 29822\n",
      "        Gross Revenue: $14893\n",
      "        Fees (0.2% for buy+sell): $5964\n",
      "        Net Revenue: $8961\n",
      "        Fees are 40 % from Gross Revenue\n",
      "        Capital Required : $16500 (Vbegin)\n",
      "        Final value (Vbegin + Net_revenue) : $25461 (Vfinal)\n",
      "        Average CAGR on TEST (4 years) : 1.115, or 11.5% \n",
      "        Average daily stats: \n",
      "            Average net revenue per investment: $0.3 \n",
      "            Average investments per day: 31 \n",
      "            Q75 investments per day: 33 \n",
      "=============================================+\n",
      "Calculating sumulation for prediction pred4_manual_gdp_and_wti30d:\n",
      "    Count times of investment 0 out of 29829 TEST records\n",
      "Calculating sumulation for prediction pred5_clf_10:\n",
      "    Count times of investment 3426 out of 29829 TEST records\n",
      "    Financial Result: \n",
      " sim1_gross_rev_pred5    107.020503\n",
      "sim1_fees_pred5           0.000000\n",
      "sim1_net_rev_pred5      107.020503\n",
      "dtype: float64\n",
      "        Count Investments in 4 years (on TEST): 3426\n",
      "        Gross Revenue: $107\n",
      "        Fees (0.2% for buy+sell): $0\n",
      "        Net Revenue: $107\n",
      "        Fees are 0 % from Gross Revenue\n",
      "        Capital Required : $3500 (Vbegin)\n",
      "        Final value (Vbegin + Net_revenue) : $3607 (Vfinal)\n",
      "        Average CAGR on TEST (4 years) : 1.008, or 0.8% \n",
      "        Average daily stats: \n",
      "            Average net revenue per investment: $0.03 \n",
      "            Average investments per day: 6 \n",
      "            Q75 investments per day: 7 \n",
      "=============================================+\n",
      "Calculating sumulation for prediction pred6_clf_best:\n",
      "    Count times of investment 7559 out of 29829 TEST records\n",
      "    Financial Result: \n",
      " sim1_gross_rev_pred6    2814.577885\n",
      "sim1_fees_pred6            0.000000\n",
      "sim1_net_rev_pred6      2814.577885\n",
      "dtype: float64\n",
      "        Count Investments in 4 years (on TEST): 7559\n",
      "        Gross Revenue: $2814\n",
      "        Fees (0.2% for buy+sell): $0\n",
      "        Net Revenue: $2814\n",
      "        Fees are 0 % from Gross Revenue\n",
      "        Capital Required : $5500 (Vbegin)\n",
      "        Final value (Vbegin + Net_revenue) : $8314 (Vfinal)\n",
      "        Average CAGR on TEST (4 years) : 1.109, or 10.9% \n",
      "        Average daily stats: \n",
      "            Average net revenue per investment: $0.37 \n",
      "            Average investments per day: 8 \n",
      "            Q75 investments per day: 11 \n",
      "=============================================+\n",
      "Calculating sumulation for prediction pred7_clf_best_rule_66:\n",
      "    Count times of investment 6447 out of 29829 TEST records\n",
      "    Financial Result: \n",
      " sim1_gross_rev_pred7    2614.179236\n",
      "sim1_fees_pred7        -1289.400000\n",
      "sim1_net_rev_pred7      1331.579236\n",
      "dtype: float64\n",
      "        Count Investments in 4 years (on TEST): 6447\n",
      "        Gross Revenue: $2614\n",
      "        Fees (0.2% for buy+sell): $1289\n",
      "        Net Revenue: $1331\n",
      "        Fees are 49 % from Gross Revenue\n",
      "        Capital Required : $4500 (Vbegin)\n",
      "        Final value (Vbegin + Net_revenue) : $5831 (Vfinal)\n",
      "        Average CAGR on TEST (4 years) : 1.067, or 6.7% \n",
      "        Average daily stats: \n",
      "            Average net revenue per investment: $0.21 \n",
      "            Average investments per day: 7 \n",
      "            Q75 investments per day: 9 \n",
      "=============================================+\n",
      "Calculating sumulation for prediction pred8_clf_best_rule_78:\n",
      "    Count times of investment 5184 out of 29829 TEST records\n",
      "    Financial Result: \n",
      " sim1_gross_rev_pred8    1305.6586\n",
      "sim1_fees_pred8        -1036.8000\n",
      "sim1_net_rev_pred8       274.0586\n",
      "dtype: float64\n",
      "        Count Investments in 4 years (on TEST): 5184\n",
      "        Gross Revenue: $1305\n",
      "        Fees (0.2% for buy+sell): $1036\n",
      "        Net Revenue: $274\n",
      "        Fees are 79 % from Gross Revenue\n",
      "        Capital Required : $4000 (Vbegin)\n",
      "        Final value (Vbegin + Net_revenue) : $4274 (Vfinal)\n",
      "        Average CAGR on TEST (4 years) : 1.017, or 1.7% \n",
      "        Average daily stats: \n",
      "            Average net revenue per investment: $0.05 \n",
      "            Average investments per day: 6 \n",
      "            Q75 investments per day: 8 \n",
      "=============================================+\n",
      "Calculating sumulation for prediction pred9_rf_best_rule_55:\n",
      "    Count times of investment 11 out of 29829 TEST records\n",
      "    Financial Result: \n",
      " sim1_gross_rev_pred9    33.622435\n",
      "sim1_fees_pred9         -2.200000\n",
      "sim1_net_rev_pred9      31.422435\n",
      "dtype: float64\n",
      "        Count Investments in 4 years (on TEST): 11\n",
      "        Gross Revenue: $33\n",
      "        Fees (0.2% for buy+sell): $2\n",
      "        Net Revenue: $31\n",
      "        Fees are 6 % from Gross Revenue\n",
      "        Capital Required : $500 (Vbegin)\n",
      "        Final value (Vbegin + Net_revenue) : $531 (Vfinal)\n",
      "        Average CAGR on TEST (4 years) : 1.015, or 1.5% \n",
      "        Average daily stats: \n",
      "            Average net revenue per investment: $2.86 \n",
      "            Average investments per day: 1 \n",
      "            Q75 investments per day: 1 \n",
      "=============================================+\n",
      "Calculating sumulation for prediction pred10_rf_best_rule_60:\n",
      "    Count times of investment 0 out of 29829 TEST records\n",
      "Calculating sumulation for prediction pred11_rf_best_rule_51:\n",
      "    Count times of investment 90 out of 29829 TEST records\n",
      "    Financial Result: \n",
      " sim1_gross_rev_pred11    83.196586\n",
      "sim1_fees_pred11        -18.000000\n",
      "sim1_net_rev_pred11      65.196586\n",
      "dtype: float64\n",
      "        Count Investments in 4 years (on TEST): 90\n",
      "        Gross Revenue: $83\n",
      "        Fees (0.2% for buy+sell): $17\n",
      "        Net Revenue: $65\n",
      "        Fees are 21 % from Gross Revenue\n",
      "        Capital Required : $1000 (Vbegin)\n",
      "        Final value (Vbegin + Net_revenue) : $1065 (Vfinal)\n",
      "        Average CAGR on TEST (4 years) : 1.016, or 1.6% \n",
      "        Average daily stats: \n",
      "            Average net revenue per investment: $0.72 \n",
      "            Average investments per day: 2 \n",
      "            Q75 investments per day: 2 \n",
      "=============================================+\n",
      "Calculating sumulation for prediction pred12_rf_best_rule_52:\n",
      "    Count times of investment 59 out of 29829 TEST records\n",
      "    Financial Result: \n",
      " sim1_gross_rev_pred12    60.042656\n",
      "sim1_fees_pred12        -11.800000\n",
      "sim1_net_rev_pred12      48.242656\n",
      "dtype: float64\n",
      "        Count Investments in 4 years (on TEST): 59\n",
      "        Gross Revenue: $60\n",
      "        Fees (0.2% for buy+sell): $11\n",
      "        Net Revenue: $48\n",
      "        Fees are 19 % from Gross Revenue\n",
      "        Capital Required : $1000 (Vbegin)\n",
      "        Final value (Vbegin + Net_revenue) : $1048 (Vfinal)\n",
      "        Average CAGR on TEST (4 years) : 1.012, or 1.2% \n",
      "        Average daily stats: \n",
      "            Average net revenue per investment: $0.82 \n",
      "            Average investments per day: 2 \n",
      "            Q75 investments per day: 2 \n",
      "=============================================+\n",
      "Calculating sumulation for prediction pred13_rf_best_rule_53:\n",
      "    Count times of investment 31 out of 29829 TEST records\n",
      "    Financial Result: \n",
      " sim1_gross_rev_pred13    34.868966\n",
      "sim1_fees_pred13         -6.200000\n",
      "sim1_net_rev_pred13      28.668966\n",
      "dtype: float64\n",
      "        Count Investments in 4 years (on TEST): 31\n",
      "        Gross Revenue: $34\n",
      "        Fees (0.2% for buy+sell): $6\n",
      "        Net Revenue: $28\n",
      "        Fees are 17 % from Gross Revenue\n",
      "        Capital Required : $875 (Vbegin)\n",
      "        Final value (Vbegin + Net_revenue) : $903 (Vfinal)\n",
      "        Average CAGR on TEST (4 years) : 1.008, or 0.8% \n",
      "        Average daily stats: \n",
      "            Average net revenue per investment: $0.92 \n",
      "            Average investments per day: 1 \n",
      "            Q75 investments per day: 2 \n",
      "=============================================+\n",
      "Calculating sumulation for prediction pred14_rf_best_rule_54:\n",
      "    Count times of investment 18 out of 29829 TEST records\n",
      "    Financial Result: \n",
      " sim1_gross_rev_pred14    57.896752\n",
      "sim1_fees_pred14         -3.600000\n",
      "sim1_net_rev_pred14      54.296752\n",
      "dtype: float64\n",
      "        Count Investments in 4 years (on TEST): 18\n",
      "        Gross Revenue: $57\n",
      "        Fees (0.2% for buy+sell): $3\n",
      "        Net Revenue: $54\n",
      "        Fees are 6 % from Gross Revenue\n",
      "        Capital Required : $500 (Vbegin)\n",
      "        Final value (Vbegin + Net_revenue) : $554 (Vfinal)\n",
      "        Average CAGR on TEST (4 years) : 1.026, or 2.6% \n",
      "        Average daily stats: \n",
      "            Average net revenue per investment: $3.02 \n",
      "            Average investments per day: 1 \n",
      "            Q75 investments per day: 1 \n",
      "=============================================+\n",
      "Calculating sumulation for prediction pred15_rf_best_rule_56:\n",
      "    Count times of investment 2 out of 29829 TEST records\n",
      "    Financial Result: \n",
      " sim1_gross_rev_pred15    6.343076\n",
      "sim1_fees_pred15        -0.400000\n",
      "sim1_net_rev_pred15      5.943076\n",
      "dtype: float64\n",
      "        Count Investments in 4 years (on TEST): 2\n",
      "        Gross Revenue: $6\n",
      "        Fees (0.2% for buy+sell): $0\n",
      "        Net Revenue: $5\n",
      "        Fees are 6 % from Gross Revenue\n",
      "        Capital Required : $500 (Vbegin)\n",
      "        Final value (Vbegin + Net_revenue) : $505 (Vfinal)\n",
      "        Average CAGR on TEST (4 years) : 1.003, or 0.3% \n",
      "        Average daily stats: \n",
      "            Average net revenue per investment: $2.97 \n",
      "            Average investments per day: 1 \n",
      "            Q75 investments per day: 1 \n",
      "=============================================+\n",
      "Calculating sumulation for prediction pred16_rf_best_rule_57:\n",
      "    Count times of investment 1 out of 29829 TEST records\n",
      "Calculating sumulation for prediction pred17_rf_best_rule_58:\n",
      "    Count times of investment 1 out of 29829 TEST records\n",
      "Calculating sumulation for prediction pred18_rf_best_rule_59:\n",
      "    Count times of investment 1 out of 29829 TEST records\n"
     ]
    }
   ],
   "source": [
    "# Calculate fin. result for ALL predictions (manual and produced by models)\n",
    "\n",
    "sim1_results = [] # results in Array\n",
    "\n",
    "# Iterate over all predictions\n",
    "for pred in PREDICTIONS:\n",
    "  print(f'Calculating sumulation for prediction {pred}:')\n",
    "  print(f\"    Count times of investment {len(new_df[(new_df.split=='test')&(new_df[pred]==1)])} out of {len(new_df[(new_df.split=='test')])} TEST records\")\n",
    "\n",
    "  # Prefix: e.g. pred1 or pred10\n",
    "  pred_prefix= pred.split('_')[0]\n",
    "\n",
    "  # Fin. result columns: define new records for EACH positive prediction\n",
    "  new_df['sim1_gross_rev_'+pred_prefix] = new_df[pred] * 100 * (new_df['growth_future_5d']-1)\n",
    "  new_df['sim1_fees_'+pred_prefix] = -new_df[pred] * 100 * 0.002\n",
    "  new_df['sim1_net_rev_'+pred_prefix] = new_df['sim1_gross_rev_'+pred_prefix] + new_df['sim1_fees_'+pred_prefix]\n",
    "\n",
    "  # calculate agg. results for each PREDICTION columns (pred) on TEST\n",
    "  filter_test_and_positive_pred = (new_df.split=='test')&(new_df[pred]==1) # filter records on TEST set, when current prediction is 1 (we invest $100 for 1 week ahead - 5 periods)\n",
    "  sim1_count_investments = len(new_df[filter_test_and_positive_pred])\n",
    "  sim1_gross_rev = new_df[filter_test_and_positive_pred]['sim1_gross_rev_'+pred_prefix].sum()\n",
    "  sim1_fees = new_df[filter_test_and_positive_pred]['sim1_fees_'+pred_prefix].sum()\n",
    "  sim1_net_rev = new_df[filter_test_and_positive_pred]['sim1_net_rev_'+pred_prefix].sum()\n",
    "\n",
    "  if sim1_gross_rev>0:\n",
    "    sim1_fees_percentage = -sim1_fees/sim1_gross_rev\n",
    "  else:\n",
    "    sim1_fees_percentage = None\n",
    "\n",
    "  if sim1_count_investments>0:\n",
    "    sim1_average_net_revenue = sim1_net_rev/sim1_count_investments\n",
    "  else:\n",
    "    sim1_average_net_revenue = None\n",
    "\n",
    "  # APPROXIMATE CAPITAL REQUIRED and CAGR Calculation\n",
    "  df_investments_count_daily = pd.DataFrame(new_df[filter_test_and_positive_pred].groupby('Date')[pred].count())\n",
    "  sim1_avg_investments_per_day = df_investments_count_daily[pred].mean()\n",
    "  sim1_q75_investments_per_day = df_investments_count_daily[pred].quantile(0.75)  # 75% case - how many $100 investments per day do we have?\n",
    "  # df_investments_count_daily[pred].mean()\n",
    "  sim1_capital = 100 * 5 * sim1_q75_investments_per_day # 5 days in a row with positive predictions\n",
    "  # CAGR: average growth per year. E.g. if you have 1.5 return (50% growth in 4 years) --> (1.5)**(1/4) = 1.106 or 10.6% average\n",
    "  sim1_CAGR = ((sim1_capital+sim1_net_rev)/sim1_capital)**(1/4)\n",
    "\n",
    "  # append to DF\n",
    "  sim1_results.append((pred,sim1_count_investments,sim1_gross_rev,sim1_fees,sim1_net_rev,sim1_fees_percentage,sim1_average_net_revenue,sim1_avg_investments_per_day,sim1_capital,sim1_CAGR))\n",
    "\n",
    "\n",
    "  # output for all predictions with some positive predictions\n",
    "  if  sim1_count_investments>1:\n",
    "    print(f\"    Financial Result: \\n {new_df[filter_test_and_positive_pred][['sim1_gross_rev_'+pred_prefix,'sim1_fees_'+pred_prefix,'sim1_net_rev_'+pred_prefix]].sum()}\")\n",
    "    print(f\"        Count Investments in 4 years (on TEST): {sim1_count_investments}\")\n",
    "    print(f\"        Gross Revenue: ${int(sim1_gross_rev)}\")\n",
    "    print(f\"        Fees (0.2% for buy+sell): ${int(-sim1_fees)}\")\n",
    "    print(f\"        Net Revenue: ${int(sim1_net_rev)}\")\n",
    "    print(f\"        Fees are {int(-100.0*sim1_fees/sim1_gross_rev)} % from Gross Revenue\")\n",
    "    print(f\"        Capital Required : ${int(sim1_capital)} (Vbegin)\")\n",
    "    print(f\"        Final value (Vbegin + Net_revenue) : ${int(sim1_capital + sim1_net_rev)} (Vfinal)\")\n",
    "\n",
    "    print(f\"        Average CAGR on TEST (4 years) : {np.round(sim1_CAGR,3)}, or {np.round(100.0*(sim1_CAGR-1),1)}% \")\n",
    "\n",
    "    print(f\"        Average daily stats: \")\n",
    "    print(f\"            Average net revenue per investment: ${np.round(sim1_net_rev/sim1_count_investments,2)} \")\n",
    "    print(f\"            Average investments per day: {int(np.round(sim1_avg_investments_per_day))} \")\n",
    "    print(f\"            Q75 investments per day: {int(np.round(sim1_q75_investments_per_day))} \")\n",
    "    print('=============================================+')\n",
    "\n",
    "\n",
    "# results in a DataFrame from an Array\n",
    "columns_simulation = ['prediction', 'sim1_count_investments', 'sim1_gross_rev', 'sim1_fees', 'sim1_net_rev', 'sim1_fees_percentage','sim1_average_net_revenue','sim1_avg_investments_per_day','sim1_capital','sim1_CAGR']\n",
    "\n",
    "df_sim1_results = pd.DataFrame(sim1_results,columns=columns_simulation)"
   ]
  },
  {
   "cell_type": "code",
   "execution_count": 1451,
   "metadata": {
    "id": "06L2zLXMEDUh"
   },
   "outputs": [],
   "source": [
    "df_sim1_results['sim1_growth_capital_4y'] = (df_sim1_results.sim1_net_rev+df_sim1_results.sim1_capital) / df_sim1_results.sim1_capital"
   ]
  },
  {
   "cell_type": "code",
   "execution_count": 1452,
   "metadata": {
    "colab": {
     "base_uri": "https://localhost:8080/",
     "height": 414
    },
    "id": "dKoRow8IEEYx",
    "outputId": "4f546edf-c9e9-4e31-98a2-833cbeb35b63"
   },
   "outputs": [
    {
     "data": {
      "text/html": [
       "<div>\n",
       "<style scoped>\n",
       "    .dataframe tbody tr th:only-of-type {\n",
       "        vertical-align: middle;\n",
       "    }\n",
       "\n",
       "    .dataframe tbody tr th {\n",
       "        vertical-align: top;\n",
       "    }\n",
       "\n",
       "    .dataframe thead th {\n",
       "        text-align: right;\n",
       "    }\n",
       "</style>\n",
       "<table border=\"1\" class=\"dataframe\">\n",
       "  <thead>\n",
       "    <tr style=\"text-align: right;\">\n",
       "      <th></th>\n",
       "      <th>prediction</th>\n",
       "      <th>sim1_count_investments</th>\n",
       "      <th>sim1_gross_rev</th>\n",
       "      <th>sim1_fees</th>\n",
       "      <th>sim1_net_rev</th>\n",
       "      <th>sim1_fees_percentage</th>\n",
       "      <th>sim1_average_net_revenue</th>\n",
       "      <th>sim1_avg_investments_per_day</th>\n",
       "      <th>sim1_capital</th>\n",
       "      <th>sim1_CAGR</th>\n",
       "      <th>sim1_growth_capital_4y</th>\n",
       "    </tr>\n",
       "  </thead>\n",
       "  <tbody>\n",
       "    <tr>\n",
       "      <th>0</th>\n",
       "      <td>pred0_manual_cci</td>\n",
       "      <td>799</td>\n",
       "      <td>309.045890</td>\n",
       "      <td>-159.8</td>\n",
       "      <td>149.845890</td>\n",
       "      <td>0.517075</td>\n",
       "      <td>0.187542</td>\n",
       "      <td>1.866822</td>\n",
       "      <td>1000.0</td>\n",
       "      <td>1.035523</td>\n",
       "      <td>1.149846</td>\n",
       "    </tr>\n",
       "    <tr>\n",
       "      <th>1</th>\n",
       "      <td>pred1_manual_prev_g1</td>\n",
       "      <td>15601</td>\n",
       "      <td>6913.217124</td>\n",
       "      <td>-3120.2</td>\n",
       "      <td>3812.817124</td>\n",
       "      <td>0.451338</td>\n",
       "      <td>0.244396</td>\n",
       "      <td>16.526483</td>\n",
       "      <td>11000.0</td>\n",
       "      <td>1.077237</td>\n",
       "      <td>1.346620</td>\n",
       "    </tr>\n",
       "    <tr>\n",
       "      <th>2</th>\n",
       "      <td>pred2_manual_prev_g1_and_snp</td>\n",
       "      <td>10455</td>\n",
       "      <td>4213.424501</td>\n",
       "      <td>-2091.0</td>\n",
       "      <td>2139.624501</td>\n",
       "      <td>0.496271</td>\n",
       "      <td>0.204651</td>\n",
       "      <td>21.918239</td>\n",
       "      <td>13000.0</td>\n",
       "      <td>1.038826</td>\n",
       "      <td>1.164587</td>\n",
       "    </tr>\n",
       "    <tr>\n",
       "      <th>3</th>\n",
       "      <td>pred3_manual_gdp_and_fastd</td>\n",
       "      <td>29822</td>\n",
       "      <td>14893.285316</td>\n",
       "      <td>-5964.4</td>\n",
       "      <td>8961.885316</td>\n",
       "      <td>0.400476</td>\n",
       "      <td>0.300513</td>\n",
       "      <td>31.491024</td>\n",
       "      <td>16500.0</td>\n",
       "      <td>1.114555</td>\n",
       "      <td>1.543145</td>\n",
       "    </tr>\n",
       "    <tr>\n",
       "      <th>4</th>\n",
       "      <td>pred4_manual_gdp_and_wti30d</td>\n",
       "      <td>0</td>\n",
       "      <td>0.000000</td>\n",
       "      <td>0.0</td>\n",
       "      <td>0.000000</td>\n",
       "      <td>NaN</td>\n",
       "      <td>NaN</td>\n",
       "      <td>NaN</td>\n",
       "      <td>NaN</td>\n",
       "      <td>NaN</td>\n",
       "      <td>NaN</td>\n",
       "    </tr>\n",
       "    <tr>\n",
       "      <th>5</th>\n",
       "      <td>pred5_clf_10</td>\n",
       "      <td>3426</td>\n",
       "      <td>107.020503</td>\n",
       "      <td>0.0</td>\n",
       "      <td>107.020503</td>\n",
       "      <td>-0.000000</td>\n",
       "      <td>0.031238</td>\n",
       "      <td>5.796954</td>\n",
       "      <td>3500.0</td>\n",
       "      <td>1.007558</td>\n",
       "      <td>1.030577</td>\n",
       "    </tr>\n",
       "    <tr>\n",
       "      <th>6</th>\n",
       "      <td>pred6_clf_best</td>\n",
       "      <td>7559</td>\n",
       "      <td>2814.577885</td>\n",
       "      <td>0.0</td>\n",
       "      <td>2814.577885</td>\n",
       "      <td>-0.000000</td>\n",
       "      <td>0.372348</td>\n",
       "      <td>8.270241</td>\n",
       "      <td>5500.0</td>\n",
       "      <td>1.108841</td>\n",
       "      <td>1.511741</td>\n",
       "    </tr>\n",
       "    <tr>\n",
       "      <th>7</th>\n",
       "      <td>pred7_clf_best_rule_66</td>\n",
       "      <td>6447</td>\n",
       "      <td>2614.179236</td>\n",
       "      <td>-1289.4</td>\n",
       "      <td>1331.579236</td>\n",
       "      <td>0.493233</td>\n",
       "      <td>0.206542</td>\n",
       "      <td>7.179287</td>\n",
       "      <td>4500.0</td>\n",
       "      <td>1.066948</td>\n",
       "      <td>1.295906</td>\n",
       "    </tr>\n",
       "    <tr>\n",
       "      <th>8</th>\n",
       "      <td>pred8_clf_best_rule_78</td>\n",
       "      <td>5184</td>\n",
       "      <td>1305.658600</td>\n",
       "      <td>-1036.8</td>\n",
       "      <td>274.058600</td>\n",
       "      <td>0.794082</td>\n",
       "      <td>0.052866</td>\n",
       "      <td>6.041958</td>\n",
       "      <td>4000.0</td>\n",
       "      <td>1.016705</td>\n",
       "      <td>1.068515</td>\n",
       "    </tr>\n",
       "    <tr>\n",
       "      <th>9</th>\n",
       "      <td>pred9_rf_best_rule_55</td>\n",
       "      <td>11</td>\n",
       "      <td>33.622435</td>\n",
       "      <td>-2.2</td>\n",
       "      <td>31.422435</td>\n",
       "      <td>0.065433</td>\n",
       "      <td>2.856585</td>\n",
       "      <td>1.222222</td>\n",
       "      <td>500.0</td>\n",
       "      <td>1.015354</td>\n",
       "      <td>1.062845</td>\n",
       "    </tr>\n",
       "    <tr>\n",
       "      <th>10</th>\n",
       "      <td>pred10_rf_best_rule_60</td>\n",
       "      <td>0</td>\n",
       "      <td>0.000000</td>\n",
       "      <td>0.0</td>\n",
       "      <td>0.000000</td>\n",
       "      <td>NaN</td>\n",
       "      <td>NaN</td>\n",
       "      <td>NaN</td>\n",
       "      <td>NaN</td>\n",
       "      <td>NaN</td>\n",
       "      <td>NaN</td>\n",
       "    </tr>\n",
       "    <tr>\n",
       "      <th>11</th>\n",
       "      <td>pred11_rf_best_rule_51</td>\n",
       "      <td>90</td>\n",
       "      <td>83.196586</td>\n",
       "      <td>-18.0</td>\n",
       "      <td>65.196586</td>\n",
       "      <td>0.216355</td>\n",
       "      <td>0.724407</td>\n",
       "      <td>1.698113</td>\n",
       "      <td>1000.0</td>\n",
       "      <td>1.015915</td>\n",
       "      <td>1.065197</td>\n",
       "    </tr>\n",
       "    <tr>\n",
       "      <th>12</th>\n",
       "      <td>pred12_rf_best_rule_52</td>\n",
       "      <td>59</td>\n",
       "      <td>60.042656</td>\n",
       "      <td>-11.8</td>\n",
       "      <td>48.242656</td>\n",
       "      <td>0.196527</td>\n",
       "      <td>0.817672</td>\n",
       "      <td>1.685714</td>\n",
       "      <td>1000.0</td>\n",
       "      <td>1.011848</td>\n",
       "      <td>1.048243</td>\n",
       "    </tr>\n",
       "    <tr>\n",
       "      <th>13</th>\n",
       "      <td>pred13_rf_best_rule_53</td>\n",
       "      <td>31</td>\n",
       "      <td>34.868966</td>\n",
       "      <td>-6.2</td>\n",
       "      <td>28.668966</td>\n",
       "      <td>0.177809</td>\n",
       "      <td>0.924805</td>\n",
       "      <td>1.409091</td>\n",
       "      <td>875.0</td>\n",
       "      <td>1.008092</td>\n",
       "      <td>1.032765</td>\n",
       "    </tr>\n",
       "    <tr>\n",
       "      <th>14</th>\n",
       "      <td>pred14_rf_best_rule_54</td>\n",
       "      <td>18</td>\n",
       "      <td>57.896752</td>\n",
       "      <td>-3.6</td>\n",
       "      <td>54.296752</td>\n",
       "      <td>0.062180</td>\n",
       "      <td>3.016486</td>\n",
       "      <td>1.200000</td>\n",
       "      <td>500.0</td>\n",
       "      <td>1.026108</td>\n",
       "      <td>1.108594</td>\n",
       "    </tr>\n",
       "    <tr>\n",
       "      <th>15</th>\n",
       "      <td>pred15_rf_best_rule_56</td>\n",
       "      <td>2</td>\n",
       "      <td>6.343076</td>\n",
       "      <td>-0.4</td>\n",
       "      <td>5.943076</td>\n",
       "      <td>0.063061</td>\n",
       "      <td>2.971538</td>\n",
       "      <td>1.000000</td>\n",
       "      <td>500.0</td>\n",
       "      <td>1.002958</td>\n",
       "      <td>1.011886</td>\n",
       "    </tr>\n",
       "    <tr>\n",
       "      <th>16</th>\n",
       "      <td>pred16_rf_best_rule_57</td>\n",
       "      <td>1</td>\n",
       "      <td>0.363324</td>\n",
       "      <td>-0.2</td>\n",
       "      <td>0.163324</td>\n",
       "      <td>0.550473</td>\n",
       "      <td>0.163324</td>\n",
       "      <td>1.000000</td>\n",
       "      <td>500.0</td>\n",
       "      <td>1.000082</td>\n",
       "      <td>1.000327</td>\n",
       "    </tr>\n",
       "    <tr>\n",
       "      <th>17</th>\n",
       "      <td>pred17_rf_best_rule_58</td>\n",
       "      <td>1</td>\n",
       "      <td>0.363324</td>\n",
       "      <td>-0.2</td>\n",
       "      <td>0.163324</td>\n",
       "      <td>0.550473</td>\n",
       "      <td>0.163324</td>\n",
       "      <td>1.000000</td>\n",
       "      <td>500.0</td>\n",
       "      <td>1.000082</td>\n",
       "      <td>1.000327</td>\n",
       "    </tr>\n",
       "    <tr>\n",
       "      <th>18</th>\n",
       "      <td>pred18_rf_best_rule_59</td>\n",
       "      <td>1</td>\n",
       "      <td>0.363324</td>\n",
       "      <td>-0.2</td>\n",
       "      <td>0.163324</td>\n",
       "      <td>0.550473</td>\n",
       "      <td>0.163324</td>\n",
       "      <td>1.000000</td>\n",
       "      <td>500.0</td>\n",
       "      <td>1.000082</td>\n",
       "      <td>1.000327</td>\n",
       "    </tr>\n",
       "  </tbody>\n",
       "</table>\n",
       "</div>"
      ],
      "text/plain": [
       "                      prediction  sim1_count_investments  sim1_gross_rev  \\\n",
       "0               pred0_manual_cci                     799      309.045890   \n",
       "1           pred1_manual_prev_g1                   15601     6913.217124   \n",
       "2   pred2_manual_prev_g1_and_snp                   10455     4213.424501   \n",
       "3     pred3_manual_gdp_and_fastd                   29822    14893.285316   \n",
       "4    pred4_manual_gdp_and_wti30d                       0        0.000000   \n",
       "5                   pred5_clf_10                    3426      107.020503   \n",
       "6                 pred6_clf_best                    7559     2814.577885   \n",
       "7         pred7_clf_best_rule_66                    6447     2614.179236   \n",
       "8         pred8_clf_best_rule_78                    5184     1305.658600   \n",
       "9          pred9_rf_best_rule_55                      11       33.622435   \n",
       "10        pred10_rf_best_rule_60                       0        0.000000   \n",
       "11        pred11_rf_best_rule_51                      90       83.196586   \n",
       "12        pred12_rf_best_rule_52                      59       60.042656   \n",
       "13        pred13_rf_best_rule_53                      31       34.868966   \n",
       "14        pred14_rf_best_rule_54                      18       57.896752   \n",
       "15        pred15_rf_best_rule_56                       2        6.343076   \n",
       "16        pred16_rf_best_rule_57                       1        0.363324   \n",
       "17        pred17_rf_best_rule_58                       1        0.363324   \n",
       "18        pred18_rf_best_rule_59                       1        0.363324   \n",
       "\n",
       "    sim1_fees  sim1_net_rev  sim1_fees_percentage  sim1_average_net_revenue  \\\n",
       "0      -159.8    149.845890              0.517075                  0.187542   \n",
       "1     -3120.2   3812.817124              0.451338                  0.244396   \n",
       "2     -2091.0   2139.624501              0.496271                  0.204651   \n",
       "3     -5964.4   8961.885316              0.400476                  0.300513   \n",
       "4         0.0      0.000000                   NaN                       NaN   \n",
       "5         0.0    107.020503             -0.000000                  0.031238   \n",
       "6         0.0   2814.577885             -0.000000                  0.372348   \n",
       "7     -1289.4   1331.579236              0.493233                  0.206542   \n",
       "8     -1036.8    274.058600              0.794082                  0.052866   \n",
       "9        -2.2     31.422435              0.065433                  2.856585   \n",
       "10        0.0      0.000000                   NaN                       NaN   \n",
       "11      -18.0     65.196586              0.216355                  0.724407   \n",
       "12      -11.8     48.242656              0.196527                  0.817672   \n",
       "13       -6.2     28.668966              0.177809                  0.924805   \n",
       "14       -3.6     54.296752              0.062180                  3.016486   \n",
       "15       -0.4      5.943076              0.063061                  2.971538   \n",
       "16       -0.2      0.163324              0.550473                  0.163324   \n",
       "17       -0.2      0.163324              0.550473                  0.163324   \n",
       "18       -0.2      0.163324              0.550473                  0.163324   \n",
       "\n",
       "    sim1_avg_investments_per_day  sim1_capital  sim1_CAGR  \\\n",
       "0                       1.866822        1000.0   1.035523   \n",
       "1                      16.526483       11000.0   1.077237   \n",
       "2                      21.918239       13000.0   1.038826   \n",
       "3                      31.491024       16500.0   1.114555   \n",
       "4                            NaN           NaN        NaN   \n",
       "5                       5.796954        3500.0   1.007558   \n",
       "6                       8.270241        5500.0   1.108841   \n",
       "7                       7.179287        4500.0   1.066948   \n",
       "8                       6.041958        4000.0   1.016705   \n",
       "9                       1.222222         500.0   1.015354   \n",
       "10                           NaN           NaN        NaN   \n",
       "11                      1.698113        1000.0   1.015915   \n",
       "12                      1.685714        1000.0   1.011848   \n",
       "13                      1.409091         875.0   1.008092   \n",
       "14                      1.200000         500.0   1.026108   \n",
       "15                      1.000000         500.0   1.002958   \n",
       "16                      1.000000         500.0   1.000082   \n",
       "17                      1.000000         500.0   1.000082   \n",
       "18                      1.000000         500.0   1.000082   \n",
       "\n",
       "    sim1_growth_capital_4y  \n",
       "0                 1.149846  \n",
       "1                 1.346620  \n",
       "2                 1.164587  \n",
       "3                 1.543145  \n",
       "4                      NaN  \n",
       "5                 1.030577  \n",
       "6                 1.511741  \n",
       "7                 1.295906  \n",
       "8                 1.068515  \n",
       "9                 1.062845  \n",
       "10                     NaN  \n",
       "11                1.065197  \n",
       "12                1.048243  \n",
       "13                1.032765  \n",
       "14                1.108594  \n",
       "15                1.011886  \n",
       "16                1.000327  \n",
       "17                1.000327  \n",
       "18                1.000327  "
      ]
     },
     "execution_count": 1452,
     "metadata": {},
     "output_type": "execute_result"
    }
   ],
   "source": [
    "# final comparison\n",
    "df_sim1_results"
   ]
  },
  {
   "cell_type": "code",
   "execution_count": 1453,
   "metadata": {},
   "outputs": [
    {
     "data": {
      "text/plain": [
       "1.114555382053512"
      ]
     },
     "execution_count": 1453,
     "metadata": {},
     "output_type": "execute_result"
    }
   ],
   "source": [
    "df_sim1_results['sim1_CAGR'].max()"
   ]
  },
  {
   "cell_type": "code",
   "execution_count": 1454,
   "metadata": {},
   "outputs": [
    {
     "data": {
      "text/plain": [
       "1.0000816519391613"
      ]
     },
     "execution_count": 1454,
     "metadata": {},
     "output_type": "execute_result"
    }
   ],
   "source": [
    "sim1_CAGR"
   ]
  },
  {
   "cell_type": "code",
   "execution_count": 1455,
   "metadata": {
    "colab": {
     "base_uri": "https://localhost:8080/",
     "height": 542
    },
    "id": "nVqxN-1wEGGj",
    "outputId": "a57def22-8af2-4fa8-d4e8-ded4306e2bdd"
   },
   "outputs": [
    {
     "data": {
      "application/vnd.plotly.v1+json": {
       "config": {
        "plotlyServerURL": "https://plot.ly"
       },
       "data": [
        {
         "hovertemplate": "sim1_avg_investments_per_day=%{x}<br>sim1_CAGR=%{y}<br>sim1_growth_capital_4y=%{marker.size}<br>prediction=%{text}<extra></extra>",
         "legendgroup": "",
         "marker": {
          "color": "#636efa",
          "size": [
           1.1498458895152726,
           1.3466197385724221,
           1.1645865000916178,
           1.5431445645820265,
           1.0305772864424005,
           1.5117414337153658,
           1.2959064969079457,
           1.068514650003637,
           1.0628448691724224,
           1.0651965863213213,
           1.0482426558342717,
           1.0327645322042782,
           1.1085935035562866,
           1.0118861523070233,
           1.0003266477610582,
           1.0003266477610582,
           1.0003266477610582
          ],
          "sizemode": "area",
          "sizeref": 0.0038578614114550664,
          "symbol": "circle"
         },
         "mode": "markers+text",
         "name": "",
         "orientation": "v",
         "showlegend": false,
         "text": [
          "pred0_manual_cci",
          "pred1_manual_prev_g1",
          "pred2_manual_prev_g1_and_snp",
          "pred3_manual_gdp_and_fastd",
          "pred5_clf_10",
          "pred6_clf_best",
          "pred7_clf_best_rule_66",
          "pred8_clf_best_rule_78",
          "pred9_rf_best_rule_55",
          "pred11_rf_best_rule_51",
          "pred12_rf_best_rule_52",
          "pred13_rf_best_rule_53",
          "pred14_rf_best_rule_54",
          "pred15_rf_best_rule_56",
          "pred16_rf_best_rule_57",
          "pred17_rf_best_rule_58",
          "pred18_rf_best_rule_59"
         ],
         "textposition": "top center",
         "type": "scatter",
         "x": [
          1.8668224299065421,
          16.526483050847457,
          21.91823899371069,
          31.49102428722281,
          5.7969543147208125,
          8.27024070021882,
          7.179287305122495,
          6.041958041958042,
          1.2222222222222223,
          1.6981132075471699,
          1.6857142857142857,
          1.4090909090909092,
          1.2,
          1,
          1,
          1,
          1
         ],
         "xaxis": "x",
         "y": [
          1.035523381042123,
          1.077236955940904,
          1.0388263041107977,
          1.114555382053512,
          1.0075581994537048,
          1.1088412636155167,
          1.0669484007545837,
          1.0167053766542722,
          1.0153539673200913,
          1.0159151608360224,
          1.0118484181714893,
          1.0080923723036443,
          1.0261080206444153,
          1.002958384110899,
          1.0000816519391613,
          1.0000816519391613,
          1.0000816519391613
         ],
         "yaxis": "y"
        }
       ],
       "layout": {
        "autosize": true,
        "legend": {
         "itemsizing": "constant",
         "tracegroupgap": 0
        },
        "template": {
         "data": {
          "bar": [
           {
            "error_x": {
             "color": "#2a3f5f"
            },
            "error_y": {
             "color": "#2a3f5f"
            },
            "marker": {
             "line": {
              "color": "#E5ECF6",
              "width": 0.5
             },
             "pattern": {
              "fillmode": "overlay",
              "size": 10,
              "solidity": 0.2
             }
            },
            "type": "bar"
           }
          ],
          "barpolar": [
           {
            "marker": {
             "line": {
              "color": "#E5ECF6",
              "width": 0.5
             },
             "pattern": {
              "fillmode": "overlay",
              "size": 10,
              "solidity": 0.2
             }
            },
            "type": "barpolar"
           }
          ],
          "carpet": [
           {
            "aaxis": {
             "endlinecolor": "#2a3f5f",
             "gridcolor": "white",
             "linecolor": "white",
             "minorgridcolor": "white",
             "startlinecolor": "#2a3f5f"
            },
            "baxis": {
             "endlinecolor": "#2a3f5f",
             "gridcolor": "white",
             "linecolor": "white",
             "minorgridcolor": "white",
             "startlinecolor": "#2a3f5f"
            },
            "type": "carpet"
           }
          ],
          "choropleth": [
           {
            "colorbar": {
             "outlinewidth": 0,
             "ticks": ""
            },
            "type": "choropleth"
           }
          ],
          "contour": [
           {
            "colorbar": {
             "outlinewidth": 0,
             "ticks": ""
            },
            "colorscale": [
             [
              0,
              "#0d0887"
             ],
             [
              0.1111111111111111,
              "#46039f"
             ],
             [
              0.2222222222222222,
              "#7201a8"
             ],
             [
              0.3333333333333333,
              "#9c179e"
             ],
             [
              0.4444444444444444,
              "#bd3786"
             ],
             [
              0.5555555555555556,
              "#d8576b"
             ],
             [
              0.6666666666666666,
              "#ed7953"
             ],
             [
              0.7777777777777778,
              "#fb9f3a"
             ],
             [
              0.8888888888888888,
              "#fdca26"
             ],
             [
              1,
              "#f0f921"
             ]
            ],
            "type": "contour"
           }
          ],
          "contourcarpet": [
           {
            "colorbar": {
             "outlinewidth": 0,
             "ticks": ""
            },
            "type": "contourcarpet"
           }
          ],
          "heatmap": [
           {
            "colorbar": {
             "outlinewidth": 0,
             "ticks": ""
            },
            "colorscale": [
             [
              0,
              "#0d0887"
             ],
             [
              0.1111111111111111,
              "#46039f"
             ],
             [
              0.2222222222222222,
              "#7201a8"
             ],
             [
              0.3333333333333333,
              "#9c179e"
             ],
             [
              0.4444444444444444,
              "#bd3786"
             ],
             [
              0.5555555555555556,
              "#d8576b"
             ],
             [
              0.6666666666666666,
              "#ed7953"
             ],
             [
              0.7777777777777778,
              "#fb9f3a"
             ],
             [
              0.8888888888888888,
              "#fdca26"
             ],
             [
              1,
              "#f0f921"
             ]
            ],
            "type": "heatmap"
           }
          ],
          "heatmapgl": [
           {
            "colorbar": {
             "outlinewidth": 0,
             "ticks": ""
            },
            "colorscale": [
             [
              0,
              "#0d0887"
             ],
             [
              0.1111111111111111,
              "#46039f"
             ],
             [
              0.2222222222222222,
              "#7201a8"
             ],
             [
              0.3333333333333333,
              "#9c179e"
             ],
             [
              0.4444444444444444,
              "#bd3786"
             ],
             [
              0.5555555555555556,
              "#d8576b"
             ],
             [
              0.6666666666666666,
              "#ed7953"
             ],
             [
              0.7777777777777778,
              "#fb9f3a"
             ],
             [
              0.8888888888888888,
              "#fdca26"
             ],
             [
              1,
              "#f0f921"
             ]
            ],
            "type": "heatmapgl"
           }
          ],
          "histogram": [
           {
            "marker": {
             "pattern": {
              "fillmode": "overlay",
              "size": 10,
              "solidity": 0.2
             }
            },
            "type": "histogram"
           }
          ],
          "histogram2d": [
           {
            "colorbar": {
             "outlinewidth": 0,
             "ticks": ""
            },
            "colorscale": [
             [
              0,
              "#0d0887"
             ],
             [
              0.1111111111111111,
              "#46039f"
             ],
             [
              0.2222222222222222,
              "#7201a8"
             ],
             [
              0.3333333333333333,
              "#9c179e"
             ],
             [
              0.4444444444444444,
              "#bd3786"
             ],
             [
              0.5555555555555556,
              "#d8576b"
             ],
             [
              0.6666666666666666,
              "#ed7953"
             ],
             [
              0.7777777777777778,
              "#fb9f3a"
             ],
             [
              0.8888888888888888,
              "#fdca26"
             ],
             [
              1,
              "#f0f921"
             ]
            ],
            "type": "histogram2d"
           }
          ],
          "histogram2dcontour": [
           {
            "colorbar": {
             "outlinewidth": 0,
             "ticks": ""
            },
            "colorscale": [
             [
              0,
              "#0d0887"
             ],
             [
              0.1111111111111111,
              "#46039f"
             ],
             [
              0.2222222222222222,
              "#7201a8"
             ],
             [
              0.3333333333333333,
              "#9c179e"
             ],
             [
              0.4444444444444444,
              "#bd3786"
             ],
             [
              0.5555555555555556,
              "#d8576b"
             ],
             [
              0.6666666666666666,
              "#ed7953"
             ],
             [
              0.7777777777777778,
              "#fb9f3a"
             ],
             [
              0.8888888888888888,
              "#fdca26"
             ],
             [
              1,
              "#f0f921"
             ]
            ],
            "type": "histogram2dcontour"
           }
          ],
          "mesh3d": [
           {
            "colorbar": {
             "outlinewidth": 0,
             "ticks": ""
            },
            "type": "mesh3d"
           }
          ],
          "parcoords": [
           {
            "line": {
             "colorbar": {
              "outlinewidth": 0,
              "ticks": ""
             }
            },
            "type": "parcoords"
           }
          ],
          "pie": [
           {
            "automargin": true,
            "type": "pie"
           }
          ],
          "scatter": [
           {
            "fillpattern": {
             "fillmode": "overlay",
             "size": 10,
             "solidity": 0.2
            },
            "type": "scatter"
           }
          ],
          "scatter3d": [
           {
            "line": {
             "colorbar": {
              "outlinewidth": 0,
              "ticks": ""
             }
            },
            "marker": {
             "colorbar": {
              "outlinewidth": 0,
              "ticks": ""
             }
            },
            "type": "scatter3d"
           }
          ],
          "scattercarpet": [
           {
            "marker": {
             "colorbar": {
              "outlinewidth": 0,
              "ticks": ""
             }
            },
            "type": "scattercarpet"
           }
          ],
          "scattergeo": [
           {
            "marker": {
             "colorbar": {
              "outlinewidth": 0,
              "ticks": ""
             }
            },
            "type": "scattergeo"
           }
          ],
          "scattergl": [
           {
            "marker": {
             "colorbar": {
              "outlinewidth": 0,
              "ticks": ""
             }
            },
            "type": "scattergl"
           }
          ],
          "scattermapbox": [
           {
            "marker": {
             "colorbar": {
              "outlinewidth": 0,
              "ticks": ""
             }
            },
            "type": "scattermapbox"
           }
          ],
          "scatterpolar": [
           {
            "marker": {
             "colorbar": {
              "outlinewidth": 0,
              "ticks": ""
             }
            },
            "type": "scatterpolar"
           }
          ],
          "scatterpolargl": [
           {
            "marker": {
             "colorbar": {
              "outlinewidth": 0,
              "ticks": ""
             }
            },
            "type": "scatterpolargl"
           }
          ],
          "scatterternary": [
           {
            "marker": {
             "colorbar": {
              "outlinewidth": 0,
              "ticks": ""
             }
            },
            "type": "scatterternary"
           }
          ],
          "surface": [
           {
            "colorbar": {
             "outlinewidth": 0,
             "ticks": ""
            },
            "colorscale": [
             [
              0,
              "#0d0887"
             ],
             [
              0.1111111111111111,
              "#46039f"
             ],
             [
              0.2222222222222222,
              "#7201a8"
             ],
             [
              0.3333333333333333,
              "#9c179e"
             ],
             [
              0.4444444444444444,
              "#bd3786"
             ],
             [
              0.5555555555555556,
              "#d8576b"
             ],
             [
              0.6666666666666666,
              "#ed7953"
             ],
             [
              0.7777777777777778,
              "#fb9f3a"
             ],
             [
              0.8888888888888888,
              "#fdca26"
             ],
             [
              1,
              "#f0f921"
             ]
            ],
            "type": "surface"
           }
          ],
          "table": [
           {
            "cells": {
             "fill": {
              "color": "#EBF0F8"
             },
             "line": {
              "color": "white"
             }
            },
            "header": {
             "fill": {
              "color": "#C8D4E3"
             },
             "line": {
              "color": "white"
             }
            },
            "type": "table"
           }
          ]
         },
         "layout": {
          "annotationdefaults": {
           "arrowcolor": "#2a3f5f",
           "arrowhead": 0,
           "arrowwidth": 1
          },
          "autotypenumbers": "strict",
          "coloraxis": {
           "colorbar": {
            "outlinewidth": 0,
            "ticks": ""
           }
          },
          "colorscale": {
           "diverging": [
            [
             0,
             "#8e0152"
            ],
            [
             0.1,
             "#c51b7d"
            ],
            [
             0.2,
             "#de77ae"
            ],
            [
             0.3,
             "#f1b6da"
            ],
            [
             0.4,
             "#fde0ef"
            ],
            [
             0.5,
             "#f7f7f7"
            ],
            [
             0.6,
             "#e6f5d0"
            ],
            [
             0.7,
             "#b8e186"
            ],
            [
             0.8,
             "#7fbc41"
            ],
            [
             0.9,
             "#4d9221"
            ],
            [
             1,
             "#276419"
            ]
           ],
           "sequential": [
            [
             0,
             "#0d0887"
            ],
            [
             0.1111111111111111,
             "#46039f"
            ],
            [
             0.2222222222222222,
             "#7201a8"
            ],
            [
             0.3333333333333333,
             "#9c179e"
            ],
            [
             0.4444444444444444,
             "#bd3786"
            ],
            [
             0.5555555555555556,
             "#d8576b"
            ],
            [
             0.6666666666666666,
             "#ed7953"
            ],
            [
             0.7777777777777778,
             "#fb9f3a"
            ],
            [
             0.8888888888888888,
             "#fdca26"
            ],
            [
             1,
             "#f0f921"
            ]
           ],
           "sequentialminus": [
            [
             0,
             "#0d0887"
            ],
            [
             0.1111111111111111,
             "#46039f"
            ],
            [
             0.2222222222222222,
             "#7201a8"
            ],
            [
             0.3333333333333333,
             "#9c179e"
            ],
            [
             0.4444444444444444,
             "#bd3786"
            ],
            [
             0.5555555555555556,
             "#d8576b"
            ],
            [
             0.6666666666666666,
             "#ed7953"
            ],
            [
             0.7777777777777778,
             "#fb9f3a"
            ],
            [
             0.8888888888888888,
             "#fdca26"
            ],
            [
             1,
             "#f0f921"
            ]
           ]
          },
          "colorway": [
           "#636efa",
           "#EF553B",
           "#00cc96",
           "#ab63fa",
           "#FFA15A",
           "#19d3f3",
           "#FF6692",
           "#B6E880",
           "#FF97FF",
           "#FECB52"
          ],
          "font": {
           "color": "#2a3f5f"
          },
          "geo": {
           "bgcolor": "white",
           "lakecolor": "white",
           "landcolor": "#E5ECF6",
           "showlakes": true,
           "showland": true,
           "subunitcolor": "white"
          },
          "hoverlabel": {
           "align": "left"
          },
          "hovermode": "closest",
          "mapbox": {
           "style": "light"
          },
          "paper_bgcolor": "white",
          "plot_bgcolor": "#E5ECF6",
          "polar": {
           "angularaxis": {
            "gridcolor": "white",
            "linecolor": "white",
            "ticks": ""
           },
           "bgcolor": "#E5ECF6",
           "radialaxis": {
            "gridcolor": "white",
            "linecolor": "white",
            "ticks": ""
           }
          },
          "scene": {
           "xaxis": {
            "backgroundcolor": "#E5ECF6",
            "gridcolor": "white",
            "gridwidth": 2,
            "linecolor": "white",
            "showbackground": true,
            "ticks": "",
            "zerolinecolor": "white"
           },
           "yaxis": {
            "backgroundcolor": "#E5ECF6",
            "gridcolor": "white",
            "gridwidth": 2,
            "linecolor": "white",
            "showbackground": true,
            "ticks": "",
            "zerolinecolor": "white"
           },
           "zaxis": {
            "backgroundcolor": "#E5ECF6",
            "gridcolor": "white",
            "gridwidth": 2,
            "linecolor": "white",
            "showbackground": true,
            "ticks": "",
            "zerolinecolor": "white"
           }
          },
          "shapedefaults": {
           "line": {
            "color": "#2a3f5f"
           }
          },
          "ternary": {
           "aaxis": {
            "gridcolor": "white",
            "linecolor": "white",
            "ticks": ""
           },
           "baxis": {
            "gridcolor": "white",
            "linecolor": "white",
            "ticks": ""
           },
           "bgcolor": "#E5ECF6",
           "caxis": {
            "gridcolor": "white",
            "linecolor": "white",
            "ticks": ""
           }
          },
          "title": {
           "x": 0.05
          },
          "xaxis": {
           "automargin": true,
           "gridcolor": "white",
           "linecolor": "white",
           "ticks": "",
           "title": {
            "standoff": 15
           },
           "zerolinecolor": "white",
           "zerolinewidth": 2
          },
          "yaxis": {
           "automargin": true,
           "gridcolor": "white",
           "linecolor": "white",
           "ticks": "",
           "title": {
            "standoff": 15
           },
           "zerolinecolor": "white",
           "zerolinewidth": 2
          }
         }
        },
        "title": {
         "text": "Compound Annual Growth vs. Time spent (Average investments per day)"
        },
        "xaxis": {
         "anchor": "y",
         "autorange": true,
         "domain": [
          0,
          1
         ],
         "range": [
          -1.2326417589496441,
          33.83623736292285
         ],
         "title": {
          "text": "sim1_avg_investments_per_day"
         },
         "type": "linear"
        },
        "yaxis": {
         "anchor": "x",
         "autorange": true,
         "domain": [
          0,
          1
         ],
         "range": [
          0.9814425392478899,
          1.1358373201707348
         ],
         "title": {
          "text": "sim1_CAGR"
         },
         "type": "linear"
        }
       }
      },
      "image/png": "[encoded data removed]",
      "text/html": [
       "<div>                            <div id=\"6dc78fe8-29f7-4f36-9f74-04f50bcf99a5\" class=\"plotly-graph-div\" style=\"height:525px; width:100%;\"></div>            <script type=\"text/javascript\">                require([\"plotly\"], function(Plotly) {                    window.PLOTLYENV=window.PLOTLYENV || {};                                    if (document.getElementById(\"6dc78fe8-29f7-4f36-9f74-04f50bcf99a5\")) {                    Plotly.newPlot(                        \"6dc78fe8-29f7-4f36-9f74-04f50bcf99a5\",                        [{\"hovertemplate\":\"sim1_avg_investments_per_day=%{x}\\u003cbr\\u003esim1_CAGR=%{y}\\u003cbr\\u003esim1_growth_capital_4y=%{marker.size}\\u003cbr\\u003eprediction=%{text}\\u003cextra\\u003e\\u003c\\u002fextra\\u003e\",\"legendgroup\":\"\",\"marker\":{\"color\":\"#636efa\",\"size\":[1.1498458895152726,1.3466197385724221,1.1645865000916178,1.5431445645820265,1.0305772864424005,1.5117414337153658,1.2959064969079457,1.068514650003637,1.0628448691724224,1.0651965863213213,1.0482426558342717,1.0327645322042782,1.1085935035562866,1.0118861523070233,1.0003266477610582,1.0003266477610582,1.0003266477610582],\"sizemode\":\"area\",\"sizeref\":0.0038578614114550664,\"symbol\":\"circle\"},\"mode\":\"markers+text\",\"name\":\"\",\"orientation\":\"v\",\"showlegend\":false,\"text\":[\"pred0_manual_cci\",\"pred1_manual_prev_g1\",\"pred2_manual_prev_g1_and_snp\",\"pred3_manual_gdp_and_fastd\",\"pred5_clf_10\",\"pred6_clf_best\",\"pred7_clf_best_rule_66\",\"pred8_clf_best_rule_78\",\"pred9_rf_best_rule_55\",\"pred11_rf_best_rule_51\",\"pred12_rf_best_rule_52\",\"pred13_rf_best_rule_53\",\"pred14_rf_best_rule_54\",\"pred15_rf_best_rule_56\",\"pred16_rf_best_rule_57\",\"pred17_rf_best_rule_58\",\"pred18_rf_best_rule_59\"],\"x\":[1.8668224299065421,16.526483050847457,21.91823899371069,31.49102428722281,5.7969543147208125,8.27024070021882,7.179287305122495,6.041958041958042,1.2222222222222223,1.6981132075471699,1.6857142857142857,1.4090909090909092,1.2,1.0,1.0,1.0,1.0],\"xaxis\":\"x\",\"y\":[1.035523381042123,1.077236955940904,1.0388263041107977,1.114555382053512,1.0075581994537048,1.1088412636155167,1.0669484007545837,1.0167053766542722,1.0153539673200913,1.0159151608360224,1.0118484181714893,1.0080923723036443,1.0261080206444153,1.002958384110899,1.0000816519391613,1.0000816519391613,1.0000816519391613],\"yaxis\":\"y\",\"type\":\"scatter\",\"textposition\":\"top center\"}],                        {\"template\":{\"data\":{\"histogram2dcontour\":[{\"type\":\"histogram2dcontour\",\"colorbar\":{\"outlinewidth\":0,\"ticks\":\"\"},\"colorscale\":[[0.0,\"#0d0887\"],[0.1111111111111111,\"#46039f\"],[0.2222222222222222,\"#7201a8\"],[0.3333333333333333,\"#9c179e\"],[0.4444444444444444,\"#bd3786\"],[0.5555555555555556,\"#d8576b\"],[0.6666666666666666,\"#ed7953\"],[0.7777777777777778,\"#fb9f3a\"],[0.8888888888888888,\"#fdca26\"],[1.0,\"#f0f921\"]]}],\"choropleth\":[{\"type\":\"choropleth\",\"colorbar\":{\"outlinewidth\":0,\"ticks\":\"\"}}],\"histogram2d\":[{\"type\":\"histogram2d\",\"colorbar\":{\"outlinewidth\":0,\"ticks\":\"\"},\"colorscale\":[[0.0,\"#0d0887\"],[0.1111111111111111,\"#46039f\"],[0.2222222222222222,\"#7201a8\"],[0.3333333333333333,\"#9c179e\"],[0.4444444444444444,\"#bd3786\"],[0.5555555555555556,\"#d8576b\"],[0.6666666666666666,\"#ed7953\"],[0.7777777777777778,\"#fb9f3a\"],[0.8888888888888888,\"#fdca26\"],[1.0,\"#f0f921\"]]}],\"heatmap\":[{\"type\":\"heatmap\",\"colorbar\":{\"outlinewidth\":0,\"ticks\":\"\"},\"colorscale\":[[0.0,\"#0d0887\"],[0.1111111111111111,\"#46039f\"],[0.2222222222222222,\"#7201a8\"],[0.3333333333333333,\"#9c179e\"],[0.4444444444444444,\"#bd3786\"],[0.5555555555555556,\"#d8576b\"],[0.6666666666666666,\"#ed7953\"],[0.7777777777777778,\"#fb9f3a\"],[0.8888888888888888,\"#fdca26\"],[1.0,\"#f0f921\"]]}],\"heatmapgl\":[{\"type\":\"heatmapgl\",\"colorbar\":{\"outlinewidth\":0,\"ticks\":\"\"},\"colorscale\":[[0.0,\"#0d0887\"],[0.1111111111111111,\"#46039f\"],[0.2222222222222222,\"#7201a8\"],[0.3333333333333333,\"#9c179e\"],[0.4444444444444444,\"#bd3786\"],[0.5555555555555556,\"#d8576b\"],[0.6666666666666666,\"#ed7953\"],[0.7777777777777778,\"#fb9f3a\"],[0.8888888888888888,\"#fdca26\"],[1.0,\"#f0f921\"]]}],\"contourcarpet\":[{\"type\":\"contourcarpet\",\"colorbar\":{\"outlinewidth\":0,\"ticks\":\"\"}}],\"contour\":[{\"type\":\"contour\",\"colorbar\":{\"outlinewidth\":0,\"ticks\":\"\"},\"colorscale\":[[0.0,\"#0d0887\"],[0.1111111111111111,\"#46039f\"],[0.2222222222222222,\"#7201a8\"],[0.3333333333333333,\"#9c179e\"],[0.4444444444444444,\"#bd3786\"],[0.5555555555555556,\"#d8576b\"],[0.6666666666666666,\"#ed7953\"],[0.7777777777777778,\"#fb9f3a\"],[0.8888888888888888,\"#fdca26\"],[1.0,\"#f0f921\"]]}],\"surface\":[{\"type\":\"surface\",\"colorbar\":{\"outlinewidth\":0,\"ticks\":\"\"},\"colorscale\":[[0.0,\"#0d0887\"],[0.1111111111111111,\"#46039f\"],[0.2222222222222222,\"#7201a8\"],[0.3333333333333333,\"#9c179e\"],[0.4444444444444444,\"#bd3786\"],[0.5555555555555556,\"#d8576b\"],[0.6666666666666666,\"#ed7953\"],[0.7777777777777778,\"#fb9f3a\"],[0.8888888888888888,\"#fdca26\"],[1.0,\"#f0f921\"]]}],\"mesh3d\":[{\"type\":\"mesh3d\",\"colorbar\":{\"outlinewidth\":0,\"ticks\":\"\"}}],\"scatter\":[{\"fillpattern\":{\"fillmode\":\"overlay\",\"size\":10,\"solidity\":0.2},\"type\":\"scatter\"}],\"parcoords\":[{\"type\":\"parcoords\",\"line\":{\"colorbar\":{\"outlinewidth\":0,\"ticks\":\"\"}}}],\"scatterpolargl\":[{\"type\":\"scatterpolargl\",\"marker\":{\"colorbar\":{\"outlinewidth\":0,\"ticks\":\"\"}}}],\"bar\":[{\"error_x\":{\"color\":\"#2a3f5f\"},\"error_y\":{\"color\":\"#2a3f5f\"},\"marker\":{\"line\":{\"color\":\"#E5ECF6\",\"width\":0.5},\"pattern\":{\"fillmode\":\"overlay\",\"size\":10,\"solidity\":0.2}},\"type\":\"bar\"}],\"scattergeo\":[{\"type\":\"scattergeo\",\"marker\":{\"colorbar\":{\"outlinewidth\":0,\"ticks\":\"\"}}}],\"scatterpolar\":[{\"type\":\"scatterpolar\",\"marker\":{\"colorbar\":{\"outlinewidth\":0,\"ticks\":\"\"}}}],\"histogram\":[{\"marker\":{\"pattern\":{\"fillmode\":\"overlay\",\"size\":10,\"solidity\":0.2}},\"type\":\"histogram\"}],\"scattergl\":[{\"type\":\"scattergl\",\"marker\":{\"colorbar\":{\"outlinewidth\":0,\"ticks\":\"\"}}}],\"scatter3d\":[{\"type\":\"scatter3d\",\"line\":{\"colorbar\":{\"outlinewidth\":0,\"ticks\":\"\"}},\"marker\":{\"colorbar\":{\"outlinewidth\":0,\"ticks\":\"\"}}}],\"scattermapbox\":[{\"type\":\"scattermapbox\",\"marker\":{\"colorbar\":{\"outlinewidth\":0,\"ticks\":\"\"}}}],\"scatterternary\":[{\"type\":\"scatterternary\",\"marker\":{\"colorbar\":{\"outlinewidth\":0,\"ticks\":\"\"}}}],\"scattercarpet\":[{\"type\":\"scattercarpet\",\"marker\":{\"colorbar\":{\"outlinewidth\":0,\"ticks\":\"\"}}}],\"carpet\":[{\"aaxis\":{\"endlinecolor\":\"#2a3f5f\",\"gridcolor\":\"white\",\"linecolor\":\"white\",\"minorgridcolor\":\"white\",\"startlinecolor\":\"#2a3f5f\"},\"baxis\":{\"endlinecolor\":\"#2a3f5f\",\"gridcolor\":\"white\",\"linecolor\":\"white\",\"minorgridcolor\":\"white\",\"startlinecolor\":\"#2a3f5f\"},\"type\":\"carpet\"}],\"table\":[{\"cells\":{\"fill\":{\"color\":\"#EBF0F8\"},\"line\":{\"color\":\"white\"}},\"header\":{\"fill\":{\"color\":\"#C8D4E3\"},\"line\":{\"color\":\"white\"}},\"type\":\"table\"}],\"barpolar\":[{\"marker\":{\"line\":{\"color\":\"#E5ECF6\",\"width\":0.5},\"pattern\":{\"fillmode\":\"overlay\",\"size\":10,\"solidity\":0.2}},\"type\":\"barpolar\"}],\"pie\":[{\"automargin\":true,\"type\":\"pie\"}]},\"layout\":{\"autotypenumbers\":\"strict\",\"colorway\":[\"#636efa\",\"#EF553B\",\"#00cc96\",\"#ab63fa\",\"#FFA15A\",\"#19d3f3\",\"#FF6692\",\"#B6E880\",\"#FF97FF\",\"#FECB52\"],\"font\":{\"color\":\"#2a3f5f\"},\"hovermode\":\"closest\",\"hoverlabel\":{\"align\":\"left\"},\"paper_bgcolor\":\"white\",\"plot_bgcolor\":\"#E5ECF6\",\"polar\":{\"bgcolor\":\"#E5ECF6\",\"angularaxis\":{\"gridcolor\":\"white\",\"linecolor\":\"white\",\"ticks\":\"\"},\"radialaxis\":{\"gridcolor\":\"white\",\"linecolor\":\"white\",\"ticks\":\"\"}},\"ternary\":{\"bgcolor\":\"#E5ECF6\",\"aaxis\":{\"gridcolor\":\"white\",\"linecolor\":\"white\",\"ticks\":\"\"},\"baxis\":{\"gridcolor\":\"white\",\"linecolor\":\"white\",\"ticks\":\"\"},\"caxis\":{\"gridcolor\":\"white\",\"linecolor\":\"white\",\"ticks\":\"\"}},\"coloraxis\":{\"colorbar\":{\"outlinewidth\":0,\"ticks\":\"\"}},\"colorscale\":{\"sequential\":[[0.0,\"#0d0887\"],[0.1111111111111111,\"#46039f\"],[0.2222222222222222,\"#7201a8\"],[0.3333333333333333,\"#9c179e\"],[0.4444444444444444,\"#bd3786\"],[0.5555555555555556,\"#d8576b\"],[0.6666666666666666,\"#ed7953\"],[0.7777777777777778,\"#fb9f3a\"],[0.8888888888888888,\"#fdca26\"],[1.0,\"#f0f921\"]],\"sequentialminus\":[[0.0,\"#0d0887\"],[0.1111111111111111,\"#46039f\"],[0.2222222222222222,\"#7201a8\"],[0.3333333333333333,\"#9c179e\"],[0.4444444444444444,\"#bd3786\"],[0.5555555555555556,\"#d8576b\"],[0.6666666666666666,\"#ed7953\"],[0.7777777777777778,\"#fb9f3a\"],[0.8888888888888888,\"#fdca26\"],[1.0,\"#f0f921\"]],\"diverging\":[[0,\"#8e0152\"],[0.1,\"#c51b7d\"],[0.2,\"#de77ae\"],[0.3,\"#f1b6da\"],[0.4,\"#fde0ef\"],[0.5,\"#f7f7f7\"],[0.6,\"#e6f5d0\"],[0.7,\"#b8e186\"],[0.8,\"#7fbc41\"],[0.9,\"#4d9221\"],[1,\"#276419\"]]},\"xaxis\":{\"gridcolor\":\"white\",\"linecolor\":\"white\",\"ticks\":\"\",\"title\":{\"standoff\":15},\"zerolinecolor\":\"white\",\"automargin\":true,\"zerolinewidth\":2},\"yaxis\":{\"gridcolor\":\"white\",\"linecolor\":\"white\",\"ticks\":\"\",\"title\":{\"standoff\":15},\"zerolinecolor\":\"white\",\"automargin\":true,\"zerolinewidth\":2},\"scene\":{\"xaxis\":{\"backgroundcolor\":\"#E5ECF6\",\"gridcolor\":\"white\",\"linecolor\":\"white\",\"showbackground\":true,\"ticks\":\"\",\"zerolinecolor\":\"white\",\"gridwidth\":2},\"yaxis\":{\"backgroundcolor\":\"#E5ECF6\",\"gridcolor\":\"white\",\"linecolor\":\"white\",\"showbackground\":true,\"ticks\":\"\",\"zerolinecolor\":\"white\",\"gridwidth\":2},\"zaxis\":{\"backgroundcolor\":\"#E5ECF6\",\"gridcolor\":\"white\",\"linecolor\":\"white\",\"showbackground\":true,\"ticks\":\"\",\"zerolinecolor\":\"white\",\"gridwidth\":2}},\"shapedefaults\":{\"line\":{\"color\":\"#2a3f5f\"}},\"annotationdefaults\":{\"arrowcolor\":\"#2a3f5f\",\"arrowhead\":0,\"arrowwidth\":1},\"geo\":{\"bgcolor\":\"white\",\"landcolor\":\"#E5ECF6\",\"subunitcolor\":\"white\",\"showland\":true,\"showlakes\":true,\"lakecolor\":\"white\"},\"title\":{\"x\":0.05},\"mapbox\":{\"style\":\"light\"}}},\"xaxis\":{\"anchor\":\"y\",\"domain\":[0.0,1.0],\"title\":{\"text\":\"sim1_avg_investments_per_day\"}},\"yaxis\":{\"anchor\":\"x\",\"domain\":[0.0,1.0],\"title\":{\"text\":\"sim1_CAGR\"}},\"legend\":{\"tracegroupgap\":0,\"itemsizing\":\"constant\"},\"title\":{\"text\":\"Compound Annual Growth vs. Time spent (Average investments per day)\"}},                        {\"responsive\": true}                    ).then(function(){\n",
       "                            \n",
       "var gd = document.getElementById('6dc78fe8-29f7-4f36-9f74-04f50bcf99a5');\n",
       "var x = new MutationObserver(function (mutations, observer) {{\n",
       "        var display = window.getComputedStyle(gd).display;\n",
       "        if (!display || display === 'none') {{\n",
       "            console.log([gd, 'removed!']);\n",
       "            Plotly.purge(gd);\n",
       "            observer.disconnect();\n",
       "        }}\n",
       "}});\n",
       "\n",
       "// Listen for the removal of the full notebook cells\n",
       "var notebookContainer = gd.closest('#notebook-container');\n",
       "if (notebookContainer) {{\n",
       "    x.observe(notebookContainer, {childList: true});\n",
       "}}\n",
       "\n",
       "// Listen for the clearing of the current output cell\n",
       "var outputEl = gd.closest('.output');\n",
       "if (outputEl) {{\n",
       "    x.observe(outputEl, {childList: true});\n",
       "}}\n",
       "\n",
       "                        })                };                });            </script>        </div>"
      ]
     },
     "metadata": {},
     "output_type": "display_data"
    }
   ],
   "source": [
    "# Create the scatter plot\n",
    "fig = px.scatter(\n",
    "    df_sim1_results.dropna(),\n",
    "    x='sim1_avg_investments_per_day',\n",
    "    y='sim1_CAGR',\n",
    "    size='sim1_growth_capital_4y',  # Use the 'size' parameter for sim1_CAGR\n",
    "    text='prediction',\n",
    "    title='Compound Annual Growth vs. Time spent (Average investments per day)',\n",
    "    labels={'sim1_capital': 'Initial Capital Requirement', 'growth_capital_4y': '4-Year Capital Growth'}\n",
    ")\n",
    "\n",
    "# Update the layout to improve readability of the annotations\n",
    "fig.update_traces(textposition='top center')\n",
    "\n",
    "# Show the plot\n",
    "fig.show()"
   ]
  },
  {
   "cell_type": "code",
   "execution_count": null,
   "metadata": {},
   "outputs": [],
   "source": []
  }
 ],
 "metadata": {
  "colab": {
   "collapsed_sections": [
    "_Uu1B9NuqP8w"
   ],
   "provenance": []
  },
  "kernelspec": {
   "display_name": "Python 3 (ipykernel)",
   "language": "python",
   "name": "python3"
  },
  "language_info": {
   "codemirror_mode": {
    "name": "ipython",
    "version": 3
   },
   "file_extension": ".py",
   "mimetype": "text/x-python",
   "name": "python",
   "nbconvert_exporter": "python",
   "pygments_lexer": "ipython3",
   "version": "3.10.14"
  }
 },
 "nbformat": 4,
 "nbformat_minor": 4
}
