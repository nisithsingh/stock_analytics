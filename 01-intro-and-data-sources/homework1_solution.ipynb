{
 "cells": [
  {
   "cell_type": "code",
   "execution_count": 1,
   "id": "5f404c8d-bada-44bf-b57b-a56f2c8c3ca3",
   "metadata": {},
   "outputs": [],
   "source": [
    "# IMPORTS\n",
    "import numpy as np\n",
    "import pandas as pd\n",
    "\n",
    "#Fin Data Sources\n",
    "import yfinance as yf\n",
    "import pandas_datareader as pdr\n",
    "\n",
    "#Data viz\n",
    "import plotly.graph_objs as go\n",
    "import plotly.express as px\n",
    "\n",
    "import time\n",
    "from datetime import date"
   ]
  },
  {
   "cell_type": "code",
   "execution_count": 2,
   "id": "47e2ae5b-dd0f-4025-bf01-3ecd43cef1f5",
   "metadata": {},
   "outputs": [
    {
     "name": "stdout",
     "output_type": "stream",
     "text": [
      "Year = 2024; month= 4; day=19\n",
      "Period for indexes: 1954-04-19 to 2024-04-19 \n"
     ]
    }
   ],
   "source": [
    "end = date.today()\n",
    "print(f'Year = {end.year}; month= {end.month}; day={end.day}')\n",
    "\n",
    "start = date(year=end.year-70, month=end.month, day=end.day)\n",
    "print(f'Period for indexes: {start} to {end} ')"
   ]
  },
  {
   "cell_type": "markdown",
   "id": "74079500-fe7f-4262-a05b-9582597cb802",
   "metadata": {},
   "source": [
    "### Question 1: [Macro] Average growth of GDP in 2023"
   ]
  },
  {
   "cell_type": "code",
   "execution_count": 18,
   "id": "2777b082-acb2-4d70-ba2e-e4f4b3ccb2ef",
   "metadata": {},
   "outputs": [
    {
     "data": {
      "text/plain": [
       "(278, 1)"
      ]
     },
     "execution_count": 18,
     "metadata": {},
     "output_type": "execute_result"
    }
   ],
   "source": [
    "df_gdpc1 = pdr.DataReader(\"GDPC1\", \"fred\", start=start)\n",
    "df_gdpc1.shape"
   ]
  },
  {
   "cell_type": "code",
   "execution_count": 19,
   "id": "419cc294-1ddc-4e95-be07-957b0717f6be",
   "metadata": {},
   "outputs": [
    {
     "data": {
      "text/html": [
       "<div>\n",
       "<style scoped>\n",
       "    .dataframe tbody tr th:only-of-type {\n",
       "        vertical-align: middle;\n",
       "    }\n",
       "\n",
       "    .dataframe tbody tr th {\n",
       "        vertical-align: top;\n",
       "    }\n",
       "\n",
       "    .dataframe thead th {\n",
       "        text-align: right;\n",
       "    }\n",
       "</style>\n",
       "<table border=\"1\" class=\"dataframe\">\n",
       "  <thead>\n",
       "    <tr style=\"text-align: right;\">\n",
       "      <th></th>\n",
       "      <th>GDPC1</th>\n",
       "    </tr>\n",
       "    <tr>\n",
       "      <th>DATE</th>\n",
       "      <th></th>\n",
       "    </tr>\n",
       "  </thead>\n",
       "  <tbody>\n",
       "    <tr>\n",
       "      <th>1954-07-01</th>\n",
       "      <td>2880.482</td>\n",
       "    </tr>\n",
       "    <tr>\n",
       "      <th>1954-10-01</th>\n",
       "      <td>2936.852</td>\n",
       "    </tr>\n",
       "    <tr>\n",
       "      <th>1955-01-01</th>\n",
       "      <td>3020.746</td>\n",
       "    </tr>\n",
       "    <tr>\n",
       "      <th>1955-04-01</th>\n",
       "      <td>3069.910</td>\n",
       "    </tr>\n",
       "    <tr>\n",
       "      <th>1955-07-01</th>\n",
       "      <td>3111.379</td>\n",
       "    </tr>\n",
       "    <tr>\n",
       "      <th>...</th>\n",
       "      <td>...</td>\n",
       "    </tr>\n",
       "    <tr>\n",
       "      <th>2022-10-01</th>\n",
       "      <td>21989.981</td>\n",
       "    </tr>\n",
       "    <tr>\n",
       "      <th>2023-01-01</th>\n",
       "      <td>22112.329</td>\n",
       "    </tr>\n",
       "    <tr>\n",
       "      <th>2023-04-01</th>\n",
       "      <td>22225.350</td>\n",
       "    </tr>\n",
       "    <tr>\n",
       "      <th>2023-07-01</th>\n",
       "      <td>22490.692</td>\n",
       "    </tr>\n",
       "    <tr>\n",
       "      <th>2023-10-01</th>\n",
       "      <td>22679.255</td>\n",
       "    </tr>\n",
       "  </tbody>\n",
       "</table>\n",
       "<p>278 rows × 1 columns</p>\n",
       "</div>"
      ],
      "text/plain": [
       "                GDPC1\n",
       "DATE                 \n",
       "1954-07-01   2880.482\n",
       "1954-10-01   2936.852\n",
       "1955-01-01   3020.746\n",
       "1955-04-01   3069.910\n",
       "1955-07-01   3111.379\n",
       "...               ...\n",
       "2022-10-01  21989.981\n",
       "2023-01-01  22112.329\n",
       "2023-04-01  22225.350\n",
       "2023-07-01  22490.692\n",
       "2023-10-01  22679.255\n",
       "\n",
       "[278 rows x 1 columns]"
      ]
     },
     "execution_count": 19,
     "metadata": {},
     "output_type": "execute_result"
    }
   ],
   "source": [
    "df_gdpc1"
   ]
  },
  {
   "cell_type": "code",
   "execution_count": 20,
   "id": "7e1998c9-cf03-4807-865e-e84cbfa09b42",
   "metadata": {},
   "outputs": [],
   "source": [
    "df_gdpc1['gdpc1_us_yoy'] = df_gdpc1.GDPC1/df_gdpc1.GDPC1.shift(4)-1"
   ]
  },
  {
   "cell_type": "code",
   "execution_count": 21,
   "id": "08cace5c-f591-4c11-8499-390fa4e5df8a",
   "metadata": {},
   "outputs": [],
   "source": [
    "df_gdpc1['YEAR']= df_gdpc1.index.year"
   ]
  },
  {
   "cell_type": "code",
   "execution_count": 24,
   "id": "e9ac1c0c-9849-4d3f-99a1-01da1e07f944",
   "metadata": {},
   "outputs": [
    {
     "data": {
      "text/plain": [
       "2.5"
      ]
     },
     "execution_count": 24,
     "metadata": {},
     "output_type": "execute_result"
    }
   ],
   "source": [
    "round(df_gdpc1[df_gdpc1['YEAR']==2023]['gdpc1_us_yoy'].mean()*100,1)"
   ]
  },
  {
   "cell_type": "markdown",
   "id": "f41479a2-b52b-4991-8b96-04356c1f320f",
   "metadata": {},
   "source": [
    "### Question 2. [Macro] Inverse \"Treasury Yield\""
   ]
  },
  {
   "cell_type": "code",
   "execution_count": 25,
   "id": "6f3a39be-41d3-4f73-a3ec-11b2d8b8ac6a",
   "metadata": {},
   "outputs": [
    {
     "data": {
      "text/plain": [
       "(16252, 1)"
      ]
     },
     "execution_count": 25,
     "metadata": {},
     "output_type": "execute_result"
    }
   ],
   "source": [
    "df_dgs10 = pdr.DataReader(\"DGS10\", \"fred\", start=start)\n",
    "df_dgs10.shape"
   ]
  },
  {
   "cell_type": "code",
   "execution_count": 27,
   "id": "70641cb4-1bf5-46d0-8cf7-ea427984c579",
   "metadata": {},
   "outputs": [
    {
     "data": {
      "text/html": [
       "<div>\n",
       "<style scoped>\n",
       "    .dataframe tbody tr th:only-of-type {\n",
       "        vertical-align: middle;\n",
       "    }\n",
       "\n",
       "    .dataframe tbody tr th {\n",
       "        vertical-align: top;\n",
       "    }\n",
       "\n",
       "    .dataframe thead th {\n",
       "        text-align: right;\n",
       "    }\n",
       "</style>\n",
       "<table border=\"1\" class=\"dataframe\">\n",
       "  <thead>\n",
       "    <tr style=\"text-align: right;\">\n",
       "      <th></th>\n",
       "      <th>DGS10</th>\n",
       "    </tr>\n",
       "    <tr>\n",
       "      <th>DATE</th>\n",
       "      <th></th>\n",
       "    </tr>\n",
       "  </thead>\n",
       "  <tbody>\n",
       "    <tr>\n",
       "      <th>1962-01-02</th>\n",
       "      <td>4.06</td>\n",
       "    </tr>\n",
       "    <tr>\n",
       "      <th>1962-01-03</th>\n",
       "      <td>4.03</td>\n",
       "    </tr>\n",
       "    <tr>\n",
       "      <th>1962-01-04</th>\n",
       "      <td>3.99</td>\n",
       "    </tr>\n",
       "  </tbody>\n",
       "</table>\n",
       "</div>"
      ],
      "text/plain": [
       "            DGS10\n",
       "DATE             \n",
       "1962-01-02   4.06\n",
       "1962-01-03   4.03\n",
       "1962-01-04   3.99"
      ]
     },
     "execution_count": 27,
     "metadata": {},
     "output_type": "execute_result"
    }
   ],
   "source": [
    "df_dgs10.head(3)"
   ]
  },
  {
   "cell_type": "code",
   "execution_count": 26,
   "id": "483cc766-e2a9-4711-8093-0d53840ebe18",
   "metadata": {},
   "outputs": [
    {
     "data": {
      "text/plain": [
       "(12492, 1)"
      ]
     },
     "execution_count": 26,
     "metadata": {},
     "output_type": "execute_result"
    }
   ],
   "source": [
    "df_dgs2 = pdr.DataReader(\"DGS2\", \"fred\", start=start)\n",
    "df_dgs2.shape"
   ]
  },
  {
   "cell_type": "code",
   "execution_count": 28,
   "id": "dccb3f58-d32c-4ead-94c4-7f3703cec16b",
   "metadata": {},
   "outputs": [
    {
     "data": {
      "text/html": [
       "<div>\n",
       "<style scoped>\n",
       "    .dataframe tbody tr th:only-of-type {\n",
       "        vertical-align: middle;\n",
       "    }\n",
       "\n",
       "    .dataframe tbody tr th {\n",
       "        vertical-align: top;\n",
       "    }\n",
       "\n",
       "    .dataframe thead th {\n",
       "        text-align: right;\n",
       "    }\n",
       "</style>\n",
       "<table border=\"1\" class=\"dataframe\">\n",
       "  <thead>\n",
       "    <tr style=\"text-align: right;\">\n",
       "      <th></th>\n",
       "      <th>DGS2</th>\n",
       "    </tr>\n",
       "    <tr>\n",
       "      <th>DATE</th>\n",
       "      <th></th>\n",
       "    </tr>\n",
       "  </thead>\n",
       "  <tbody>\n",
       "    <tr>\n",
       "      <th>1976-06-01</th>\n",
       "      <td>7.26</td>\n",
       "    </tr>\n",
       "    <tr>\n",
       "      <th>1976-06-02</th>\n",
       "      <td>7.23</td>\n",
       "    </tr>\n",
       "    <tr>\n",
       "      <th>1976-06-03</th>\n",
       "      <td>7.22</td>\n",
       "    </tr>\n",
       "  </tbody>\n",
       "</table>\n",
       "</div>"
      ],
      "text/plain": [
       "            DGS2\n",
       "DATE            \n",
       "1976-06-01  7.26\n",
       "1976-06-02  7.23\n",
       "1976-06-03  7.22"
      ]
     },
     "execution_count": 28,
     "metadata": {},
     "output_type": "execute_result"
    }
   ],
   "source": [
    "df_dgs2.head(3)"
   ]
  },
  {
   "cell_type": "code",
   "execution_count": 32,
   "id": "201b92bd-cee1-43a7-9d2e-0ea26314de53",
   "metadata": {},
   "outputs": [
    {
     "data": {
      "text/html": [
       "<div>\n",
       "<style scoped>\n",
       "    .dataframe tbody tr th:only-of-type {\n",
       "        vertical-align: middle;\n",
       "    }\n",
       "\n",
       "    .dataframe tbody tr th {\n",
       "        vertical-align: top;\n",
       "    }\n",
       "\n",
       "    .dataframe thead th {\n",
       "        text-align: right;\n",
       "    }\n",
       "</style>\n",
       "<table border=\"1\" class=\"dataframe\">\n",
       "  <thead>\n",
       "    <tr style=\"text-align: right;\">\n",
       "      <th></th>\n",
       "      <th>DGS10</th>\n",
       "      <th>DGS2</th>\n",
       "    </tr>\n",
       "    <tr>\n",
       "      <th>DATE</th>\n",
       "      <th></th>\n",
       "      <th></th>\n",
       "    </tr>\n",
       "  </thead>\n",
       "  <tbody>\n",
       "    <tr>\n",
       "      <th>1976-06-01</th>\n",
       "      <td>7.94</td>\n",
       "      <td>7.26</td>\n",
       "    </tr>\n",
       "    <tr>\n",
       "      <th>1976-06-02</th>\n",
       "      <td>7.94</td>\n",
       "      <td>7.23</td>\n",
       "    </tr>\n",
       "    <tr>\n",
       "      <th>1976-06-03</th>\n",
       "      <td>7.92</td>\n",
       "      <td>7.22</td>\n",
       "    </tr>\n",
       "  </tbody>\n",
       "</table>\n",
       "</div>"
      ],
      "text/plain": [
       "            DGS10  DGS2\n",
       "DATE                   \n",
       "1976-06-01   7.94  7.26\n",
       "1976-06-02   7.94  7.23\n",
       "1976-06-03   7.92  7.22"
      ]
     },
     "execution_count": 32,
     "metadata": {},
     "output_type": "execute_result"
    }
   ],
   "source": [
    "df_dgs10_dgs2 = df_dgs10.join(df_dgs2, on='DATE',how='inner')\n",
    "df_dgs10_dgs2.head(3)"
   ]
  },
  {
   "cell_type": "code",
   "execution_count": 33,
   "id": "c3e25868-f1aa-4ae4-b9ef-de5d20f82d4e",
   "metadata": {},
   "outputs": [],
   "source": [
    "df_dgs10_dgs2['diff'] = df_dgs10_dgs2['DGS10'] - df_dgs10_dgs2['DGS2']"
   ]
  },
  {
   "cell_type": "code",
   "execution_count": 36,
   "id": "f1d6989f-7038-42ef-b036-f17c489317fd",
   "metadata": {},
   "outputs": [
    {
     "data": {
      "text/plain": [
       "-1.1"
      ]
     },
     "execution_count": 36,
     "metadata": {},
     "output_type": "execute_result"
    }
   ],
   "source": [
    "round(df_dgs10_dgs2[df_dgs10_dgs2.index.year>=2000]['diff'].min(),1)"
   ]
  },
  {
   "cell_type": "markdown",
   "id": "957ff931-f0bf-4856-ae2a-064af72f6356",
   "metadata": {},
   "source": [
    "Question 3. [Index] Which Index is better recently?"
   ]
  },
  {
   "cell_type": "code",
   "execution_count": 59,
   "id": "360ef442-57ea-4192-9823-453ed32fc6a1",
   "metadata": {},
   "outputs": [
    {
     "name": "stderr",
     "output_type": "stream",
     "text": [
      "[*********************100%%**********************]  1 of 1 completed\n"
     ]
    },
    {
     "data": {
      "text/plain": [
       "(24190, 6)"
      ]
     },
     "execution_count": 59,
     "metadata": {},
     "output_type": "execute_result"
    }
   ],
   "source": [
    "df_snp500_daily = yf.download(tickers = \"^GSPC,\",\n",
    "                     period = \"max\",\n",
    "                     interval = \"1d\")\n",
    "df_snp500_daily.shape"
   ]
  },
  {
   "cell_type": "code",
   "execution_count": 61,
   "id": "982af048-78a8-4a06-b557-5e7f4729d2e0",
   "metadata": {},
   "outputs": [],
   "source": [
    "df_snp500_daily['date'] = df_snp500_daily.index \n",
    "df_snp500_daily = df_snp500_daily[df_snp500_daily['date'].between(pd.to_datetime('2019-04-09'),pd.to_datetime('2024-04-09'))]"
   ]
  },
  {
   "cell_type": "code",
   "execution_count": 68,
   "id": "5c73804d-1afe-4747-ba56-81298ec42187",
   "metadata": {},
   "outputs": [
    {
     "data": {
      "text/html": [
       "<div>\n",
       "<style scoped>\n",
       "    .dataframe tbody tr th:only-of-type {\n",
       "        vertical-align: middle;\n",
       "    }\n",
       "\n",
       "    .dataframe tbody tr th {\n",
       "        vertical-align: top;\n",
       "    }\n",
       "\n",
       "    .dataframe thead th {\n",
       "        text-align: right;\n",
       "    }\n",
       "</style>\n",
       "<table border=\"1\" class=\"dataframe\">\n",
       "  <thead>\n",
       "    <tr style=\"text-align: right;\">\n",
       "      <th></th>\n",
       "      <th>Open</th>\n",
       "      <th>High</th>\n",
       "      <th>Low</th>\n",
       "      <th>Close</th>\n",
       "      <th>Adj Close</th>\n",
       "      <th>Volume</th>\n",
       "      <th>date</th>\n",
       "    </tr>\n",
       "    <tr>\n",
       "      <th>Date</th>\n",
       "      <th></th>\n",
       "      <th></th>\n",
       "      <th></th>\n",
       "      <th></th>\n",
       "      <th></th>\n",
       "      <th></th>\n",
       "      <th></th>\n",
       "    </tr>\n",
       "  </thead>\n",
       "  <tbody>\n",
       "    <tr>\n",
       "      <th>2019-04-09</th>\n",
       "      <td>2886.580078</td>\n",
       "      <td>2886.879883</td>\n",
       "      <td>2873.330078</td>\n",
       "      <td>2878.199951</td>\n",
       "      <td>2878.199951</td>\n",
       "      <td>3032480000</td>\n",
       "      <td>2019-04-09</td>\n",
       "    </tr>\n",
       "    <tr>\n",
       "      <th>2019-04-10</th>\n",
       "      <td>2881.370117</td>\n",
       "      <td>2889.709961</td>\n",
       "      <td>2879.129883</td>\n",
       "      <td>2888.209961</td>\n",
       "      <td>2888.209961</td>\n",
       "      <td>3092230000</td>\n",
       "      <td>2019-04-10</td>\n",
       "    </tr>\n",
       "    <tr>\n",
       "      <th>2019-04-11</th>\n",
       "      <td>2891.919922</td>\n",
       "      <td>2893.419922</td>\n",
       "      <td>2881.989990</td>\n",
       "      <td>2888.320068</td>\n",
       "      <td>2888.320068</td>\n",
       "      <td>2970650000</td>\n",
       "      <td>2019-04-11</td>\n",
       "    </tr>\n",
       "    <tr>\n",
       "      <th>2019-04-12</th>\n",
       "      <td>2900.860107</td>\n",
       "      <td>2910.540039</td>\n",
       "      <td>2898.370117</td>\n",
       "      <td>2907.409912</td>\n",
       "      <td>2907.409912</td>\n",
       "      <td>3726050000</td>\n",
       "      <td>2019-04-12</td>\n",
       "    </tr>\n",
       "    <tr>\n",
       "      <th>2019-04-15</th>\n",
       "      <td>2908.320068</td>\n",
       "      <td>2909.600098</td>\n",
       "      <td>2896.479980</td>\n",
       "      <td>2905.580078</td>\n",
       "      <td>2905.580078</td>\n",
       "      <td>3114530000</td>\n",
       "      <td>2019-04-15</td>\n",
       "    </tr>\n",
       "    <tr>\n",
       "      <th>...</th>\n",
       "      <td>...</td>\n",
       "      <td>...</td>\n",
       "      <td>...</td>\n",
       "      <td>...</td>\n",
       "      <td>...</td>\n",
       "      <td>...</td>\n",
       "      <td>...</td>\n",
       "    </tr>\n",
       "    <tr>\n",
       "      <th>2024-04-03</th>\n",
       "      <td>5194.370117</td>\n",
       "      <td>5228.750000</td>\n",
       "      <td>5194.370117</td>\n",
       "      <td>5211.490234</td>\n",
       "      <td>5211.490234</td>\n",
       "      <td>3703250000</td>\n",
       "      <td>2024-04-03</td>\n",
       "    </tr>\n",
       "    <tr>\n",
       "      <th>2024-04-04</th>\n",
       "      <td>5244.049805</td>\n",
       "      <td>5256.589844</td>\n",
       "      <td>5146.060059</td>\n",
       "      <td>5147.209961</td>\n",
       "      <td>5147.209961</td>\n",
       "      <td>4075680000</td>\n",
       "      <td>2024-04-04</td>\n",
       "    </tr>\n",
       "    <tr>\n",
       "      <th>2024-04-05</th>\n",
       "      <td>5158.950195</td>\n",
       "      <td>5222.180176</td>\n",
       "      <td>5157.209961</td>\n",
       "      <td>5204.339844</td>\n",
       "      <td>5204.339844</td>\n",
       "      <td>3386780000</td>\n",
       "      <td>2024-04-05</td>\n",
       "    </tr>\n",
       "    <tr>\n",
       "      <th>2024-04-08</th>\n",
       "      <td>5211.370117</td>\n",
       "      <td>5219.569824</td>\n",
       "      <td>5197.350098</td>\n",
       "      <td>5202.390137</td>\n",
       "      <td>5202.390137</td>\n",
       "      <td>3278180000</td>\n",
       "      <td>2024-04-08</td>\n",
       "    </tr>\n",
       "    <tr>\n",
       "      <th>2024-04-09</th>\n",
       "      <td>5217.029785</td>\n",
       "      <td>5224.810059</td>\n",
       "      <td>5160.779785</td>\n",
       "      <td>5209.910156</td>\n",
       "      <td>5209.910156</td>\n",
       "      <td>3400680000</td>\n",
       "      <td>2024-04-09</td>\n",
       "    </tr>\n",
       "  </tbody>\n",
       "</table>\n",
       "<p>1259 rows × 7 columns</p>\n",
       "</div>"
      ],
      "text/plain": [
       "                   Open         High          Low        Close    Adj Close  \\\n",
       "Date                                                                          \n",
       "2019-04-09  2886.580078  2886.879883  2873.330078  2878.199951  2878.199951   \n",
       "2019-04-10  2881.370117  2889.709961  2879.129883  2888.209961  2888.209961   \n",
       "2019-04-11  2891.919922  2893.419922  2881.989990  2888.320068  2888.320068   \n",
       "2019-04-12  2900.860107  2910.540039  2898.370117  2907.409912  2907.409912   \n",
       "2019-04-15  2908.320068  2909.600098  2896.479980  2905.580078  2905.580078   \n",
       "...                 ...          ...          ...          ...          ...   \n",
       "2024-04-03  5194.370117  5228.750000  5194.370117  5211.490234  5211.490234   \n",
       "2024-04-04  5244.049805  5256.589844  5146.060059  5147.209961  5147.209961   \n",
       "2024-04-05  5158.950195  5222.180176  5157.209961  5204.339844  5204.339844   \n",
       "2024-04-08  5211.370117  5219.569824  5197.350098  5202.390137  5202.390137   \n",
       "2024-04-09  5217.029785  5224.810059  5160.779785  5209.910156  5209.910156   \n",
       "\n",
       "                Volume       date  \n",
       "Date                               \n",
       "2019-04-09  3032480000 2019-04-09  \n",
       "2019-04-10  3092230000 2019-04-10  \n",
       "2019-04-11  2970650000 2019-04-11  \n",
       "2019-04-12  3726050000 2019-04-12  \n",
       "2019-04-15  3114530000 2019-04-15  \n",
       "...                ...        ...  \n",
       "2024-04-03  3703250000 2024-04-03  \n",
       "2024-04-04  4075680000 2024-04-04  \n",
       "2024-04-05  3386780000 2024-04-05  \n",
       "2024-04-08  3278180000 2024-04-08  \n",
       "2024-04-09  3400680000 2024-04-09  \n",
       "\n",
       "[1259 rows x 7 columns]"
      ]
     },
     "execution_count": 68,
     "metadata": {},
     "output_type": "execute_result"
    }
   ],
   "source": [
    "df_snp500_daily"
   ]
  },
  {
   "cell_type": "code",
   "execution_count": 70,
   "id": "7f0f678a-ce82-4241-a695-7c70dea2db9d",
   "metadata": {},
   "outputs": [
    {
     "data": {
      "text/plain": [
       "0.8101279427059513"
      ]
     },
     "execution_count": 70,
     "metadata": {},
     "output_type": "execute_result"
    }
   ],
   "source": [
    "(5209.910156 - 2878.199951) / 2878.199951"
   ]
  },
  {
   "cell_type": "code",
   "execution_count": 62,
   "id": "48d13792-e9f2-4752-894b-c538b994b5b1",
   "metadata": {},
   "outputs": [
    {
     "name": "stderr",
     "output_type": "stream",
     "text": [
      "[*********************100%%**********************]  1 of 1 completed\n"
     ]
    },
    {
     "data": {
      "text/plain": [
       "(8123, 6)"
      ]
     },
     "execution_count": 62,
     "metadata": {},
     "output_type": "execute_result"
    }
   ],
   "source": [
    "df_ipc_daily = yf.download(tickers = \"^MXX\",\n",
    "                     period = \"max\",\n",
    "                     interval = \"1d\")\n",
    "df_ipc_daily.shape"
   ]
  },
  {
   "cell_type": "code",
   "execution_count": 69,
   "id": "0b6e7096-6a71-492a-ad11-9331d253bd9b",
   "metadata": {},
   "outputs": [
    {
     "data": {
      "text/html": [
       "<div>\n",
       "<style scoped>\n",
       "    .dataframe tbody tr th:only-of-type {\n",
       "        vertical-align: middle;\n",
       "    }\n",
       "\n",
       "    .dataframe tbody tr th {\n",
       "        vertical-align: top;\n",
       "    }\n",
       "\n",
       "    .dataframe thead th {\n",
       "        text-align: right;\n",
       "    }\n",
       "</style>\n",
       "<table border=\"1\" class=\"dataframe\">\n",
       "  <thead>\n",
       "    <tr style=\"text-align: right;\">\n",
       "      <th></th>\n",
       "      <th>Open</th>\n",
       "      <th>High</th>\n",
       "      <th>Low</th>\n",
       "      <th>Close</th>\n",
       "      <th>Adj Close</th>\n",
       "      <th>Volume</th>\n",
       "      <th>date</th>\n",
       "    </tr>\n",
       "    <tr>\n",
       "      <th>Date</th>\n",
       "      <th></th>\n",
       "      <th></th>\n",
       "      <th></th>\n",
       "      <th></th>\n",
       "      <th></th>\n",
       "      <th></th>\n",
       "      <th></th>\n",
       "    </tr>\n",
       "  </thead>\n",
       "  <tbody>\n",
       "    <tr>\n",
       "      <th>2019-04-09</th>\n",
       "      <td>45346.828125</td>\n",
       "      <td>45346.828125</td>\n",
       "      <td>44854.531250</td>\n",
       "      <td>45151.628906</td>\n",
       "      <td>45151.628906</td>\n",
       "      <td>191575000</td>\n",
       "      <td>2019-04-09</td>\n",
       "    </tr>\n",
       "    <tr>\n",
       "      <th>2019-04-10</th>\n",
       "      <td>45204.750000</td>\n",
       "      <td>45219.410156</td>\n",
       "      <td>44850.109375</td>\n",
       "      <td>44909.140625</td>\n",
       "      <td>44909.140625</td>\n",
       "      <td>145314900</td>\n",
       "      <td>2019-04-10</td>\n",
       "    </tr>\n",
       "    <tr>\n",
       "      <th>2019-04-11</th>\n",
       "      <td>44872.531250</td>\n",
       "      <td>44966.500000</td>\n",
       "      <td>44373.488281</td>\n",
       "      <td>44580.058594</td>\n",
       "      <td>44580.058594</td>\n",
       "      <td>109090000</td>\n",
       "      <td>2019-04-11</td>\n",
       "    </tr>\n",
       "    <tr>\n",
       "      <th>2019-04-12</th>\n",
       "      <td>44767.671875</td>\n",
       "      <td>44888.699219</td>\n",
       "      <td>44534.378906</td>\n",
       "      <td>44686.058594</td>\n",
       "      <td>44686.058594</td>\n",
       "      <td>143662400</td>\n",
       "      <td>2019-04-12</td>\n",
       "    </tr>\n",
       "    <tr>\n",
       "      <th>2019-04-15</th>\n",
       "      <td>44649.738281</td>\n",
       "      <td>44900.929688</td>\n",
       "      <td>44347.531250</td>\n",
       "      <td>44625.781250</td>\n",
       "      <td>44625.781250</td>\n",
       "      <td>108627100</td>\n",
       "      <td>2019-04-15</td>\n",
       "    </tr>\n",
       "    <tr>\n",
       "      <th>...</th>\n",
       "      <td>...</td>\n",
       "      <td>...</td>\n",
       "      <td>...</td>\n",
       "      <td>...</td>\n",
       "      <td>...</td>\n",
       "      <td>...</td>\n",
       "      <td>...</td>\n",
       "    </tr>\n",
       "    <tr>\n",
       "      <th>2024-04-03</th>\n",
       "      <td>57547.191406</td>\n",
       "      <td>58086.421875</td>\n",
       "      <td>57300.109375</td>\n",
       "      <td>57503.390625</td>\n",
       "      <td>57503.390625</td>\n",
       "      <td>189285300</td>\n",
       "      <td>2024-04-03</td>\n",
       "    </tr>\n",
       "    <tr>\n",
       "      <th>2024-04-04</th>\n",
       "      <td>57539.468750</td>\n",
       "      <td>58219.500000</td>\n",
       "      <td>57514.179688</td>\n",
       "      <td>57882.761719</td>\n",
       "      <td>57882.761719</td>\n",
       "      <td>184739700</td>\n",
       "      <td>2024-04-04</td>\n",
       "    </tr>\n",
       "    <tr>\n",
       "      <th>2024-04-05</th>\n",
       "      <td>57805.191406</td>\n",
       "      <td>58227.839844</td>\n",
       "      <td>57678.609375</td>\n",
       "      <td>58092.441406</td>\n",
       "      <td>58092.441406</td>\n",
       "      <td>212252300</td>\n",
       "      <td>2024-04-05</td>\n",
       "    </tr>\n",
       "    <tr>\n",
       "      <th>2024-04-08</th>\n",
       "      <td>58021.660156</td>\n",
       "      <td>58192.320312</td>\n",
       "      <td>57749.441406</td>\n",
       "      <td>57989.941406</td>\n",
       "      <td>57989.941406</td>\n",
       "      <td>154641800</td>\n",
       "      <td>2024-04-08</td>\n",
       "    </tr>\n",
       "    <tr>\n",
       "      <th>2024-04-09</th>\n",
       "      <td>58010.371094</td>\n",
       "      <td>58298.769531</td>\n",
       "      <td>57492.058594</td>\n",
       "      <td>57571.148438</td>\n",
       "      <td>57571.148438</td>\n",
       "      <td>202213300</td>\n",
       "      <td>2024-04-09</td>\n",
       "    </tr>\n",
       "  </tbody>\n",
       "</table>\n",
       "<p>1259 rows × 7 columns</p>\n",
       "</div>"
      ],
      "text/plain": [
       "                    Open          High           Low         Close  \\\n",
       "Date                                                                 \n",
       "2019-04-09  45346.828125  45346.828125  44854.531250  45151.628906   \n",
       "2019-04-10  45204.750000  45219.410156  44850.109375  44909.140625   \n",
       "2019-04-11  44872.531250  44966.500000  44373.488281  44580.058594   \n",
       "2019-04-12  44767.671875  44888.699219  44534.378906  44686.058594   \n",
       "2019-04-15  44649.738281  44900.929688  44347.531250  44625.781250   \n",
       "...                  ...           ...           ...           ...   \n",
       "2024-04-03  57547.191406  58086.421875  57300.109375  57503.390625   \n",
       "2024-04-04  57539.468750  58219.500000  57514.179688  57882.761719   \n",
       "2024-04-05  57805.191406  58227.839844  57678.609375  58092.441406   \n",
       "2024-04-08  58021.660156  58192.320312  57749.441406  57989.941406   \n",
       "2024-04-09  58010.371094  58298.769531  57492.058594  57571.148438   \n",
       "\n",
       "               Adj Close     Volume       date  \n",
       "Date                                            \n",
       "2019-04-09  45151.628906  191575000 2019-04-09  \n",
       "2019-04-10  44909.140625  145314900 2019-04-10  \n",
       "2019-04-11  44580.058594  109090000 2019-04-11  \n",
       "2019-04-12  44686.058594  143662400 2019-04-12  \n",
       "2019-04-15  44625.781250  108627100 2019-04-15  \n",
       "...                  ...        ...        ...  \n",
       "2024-04-03  57503.390625  189285300 2024-04-03  \n",
       "2024-04-04  57882.761719  184739700 2024-04-04  \n",
       "2024-04-05  58092.441406  212252300 2024-04-05  \n",
       "2024-04-08  57989.941406  154641800 2024-04-08  \n",
       "2024-04-09  57571.148438  202213300 2024-04-09  \n",
       "\n",
       "[1259 rows x 7 columns]"
      ]
     },
     "execution_count": 69,
     "metadata": {},
     "output_type": "execute_result"
    }
   ],
   "source": [
    "df_ipc_daily"
   ]
  },
  {
   "cell_type": "code",
   "execution_count": 63,
   "id": "49061f97-82e3-4d01-89dd-d0ea416c42f1",
   "metadata": {},
   "outputs": [],
   "source": [
    "df_ipc_daily['date'] = df_ipc_daily.index \n",
    "df_ipc_daily = df_ipc_daily[df_ipc_daily['date'].between(pd.to_datetime('2019-04-09'),pd.to_datetime('2024-04-09'))]"
   ]
  },
  {
   "cell_type": "code",
   "execution_count": 65,
   "id": "f0059b3c-9c9b-4aea-8458-6abb33fa5891",
   "metadata": {},
   "outputs": [
    {
     "data": {
      "text/plain": [
       "((1259, 7), (1259, 7))"
      ]
     },
     "execution_count": 65,
     "metadata": {},
     "output_type": "execute_result"
    }
   ],
   "source": [
    "df_snp500_daily.shape, df_ipc_daily.shape"
   ]
  },
  {
   "cell_type": "code",
   "execution_count": 71,
   "id": "94560986-b9f2-4d28-b7da-90f37069bb9d",
   "metadata": {},
   "outputs": [
    {
     "data": {
      "text/plain": [
       "0.27506249127480814"
      ]
     },
     "execution_count": 71,
     "metadata": {},
     "output_type": "execute_result"
    }
   ],
   "source": [
    "(57571.148438 - 45151.628906) / 45151.628906"
   ]
  },
  {
   "cell_type": "markdown",
   "id": "30261e90-30d5-4578-b776-9174e3ee2999",
   "metadata": {},
   "source": [
    "Question 4. [Stocks OHLCV] 52-weeks range ratio (2023) for the selected stocks"
   ]
  },
  {
   "cell_type": "code",
   "execution_count": 73,
   "id": "0b8786e0-043a-4741-b22f-6f3bba1702ef",
   "metadata": {},
   "outputs": [
    {
     "name": "stderr",
     "output_type": "stream",
     "text": [
      "[*********************100%%**********************]  1 of 1 completed\n"
     ]
    },
    {
     "data": {
      "text/plain": [
       "(1085, 6)"
      ]
     },
     "execution_count": 73,
     "metadata": {},
     "output_type": "execute_result"
    }
   ],
   "source": [
    "df_2222_SR_daily = yf.download(tickers = \"2222.SR\",\n",
    "                     period = \"max\",\n",
    "                     interval = \"1d\")\n",
    "df_2222_SR_daily.shape"
   ]
  },
  {
   "cell_type": "code",
   "execution_count": 80,
   "id": "fbe6a1e8-bd15-410a-9b2d-23bf1341097a",
   "metadata": {},
   "outputs": [
    {
     "data": {
      "text/plain": [
       "(249, 6)"
      ]
     },
     "execution_count": 80,
     "metadata": {},
     "output_type": "execute_result"
    }
   ],
   "source": [
    "df_2222_SR_daily = df_2222_SR_daily[df_2222_SR_daily.index.year==2023]\n",
    "df_2222_SR_daily.shape"
   ]
  },
  {
   "cell_type": "code",
   "execution_count": 86,
   "id": "c43a7446-fc06-4c02-960f-fd145460afd9",
   "metadata": {},
   "outputs": [
    {
     "data": {
      "text/plain": [
       "0.21393070882746015"
      ]
     },
     "execution_count": 86,
     "metadata": {},
     "output_type": "execute_result"
    }
   ],
   "source": [
    "(df_2222_SR_daily['Adj Close'].max() - df_2222_SR_daily['Adj Close'].min()) / df_2222_SR_daily['Adj Close'].max()"
   ]
  },
  {
   "cell_type": "code",
   "execution_count": 75,
   "id": "7fee066e-c251-4624-8bab-d90607f3698f",
   "metadata": {},
   "outputs": [
    {
     "name": "stderr",
     "output_type": "stream",
     "text": [
      "[*********************100%%**********************]  1 of 1 completed\n"
     ]
    },
    {
     "data": {
      "text/plain": [
       "(7033, 6)"
      ]
     },
     "execution_count": 75,
     "metadata": {},
     "output_type": "execute_result"
    }
   ],
   "source": [
    "df_BRK_B_daily = yf.download(tickers = \"BRK-B\",\n",
    "                     period = \"max\",\n",
    "                     interval = \"1d\")\n",
    "df_BRK_B_daily.shape"
   ]
  },
  {
   "cell_type": "code",
   "execution_count": 81,
   "id": "bde57e8c-4435-4451-8f81-9535fac879b1",
   "metadata": {},
   "outputs": [
    {
     "data": {
      "text/plain": [
       "(250, 6)"
      ]
     },
     "execution_count": 81,
     "metadata": {},
     "output_type": "execute_result"
    }
   ],
   "source": [
    "df_BRK_B_daily = df_BRK_B_daily[df_BRK_B_daily.index.year==2023]\n",
    "df_BRK_B_daily.shape"
   ]
  },
  {
   "cell_type": "code",
   "execution_count": 87,
   "id": "b4d4f384-85fe-423c-976c-d465e24bfd4e",
   "metadata": {},
   "outputs": [
    {
     "data": {
      "text/plain": [
       "0.20775750091289963"
      ]
     },
     "execution_count": 87,
     "metadata": {},
     "output_type": "execute_result"
    }
   ],
   "source": [
    "(df_BRK_B_daily['Adj Close'].max() - df_BRK_B_daily['Adj Close'].min()) / df_BRK_B_daily['Adj Close'].max()"
   ]
  },
  {
   "cell_type": "code",
   "execution_count": 76,
   "id": "b202f42e-f5b0-4953-8c99-f88aa632a2c4",
   "metadata": {},
   "outputs": [
    {
     "name": "stderr",
     "output_type": "stream",
     "text": [
      "[*********************100%%**********************]  1 of 1 completed\n"
     ]
    },
    {
     "data": {
      "text/plain": [
       "(10928, 6)"
      ]
     },
     "execution_count": 76,
     "metadata": {},
     "output_type": "execute_result"
    }
   ],
   "source": [
    "df_AAPL_daily = yf.download(tickers = \"AAPL\",\n",
    "                     period = \"max\",\n",
    "                     interval = \"1d\")\n",
    "df_AAPL_daily.shape"
   ]
  },
  {
   "cell_type": "code",
   "execution_count": 82,
   "id": "ba6e549a-a435-438d-a2d3-a6bf1a63c72a",
   "metadata": {},
   "outputs": [
    {
     "data": {
      "text/plain": [
       "(250, 6)"
      ]
     },
     "execution_count": 82,
     "metadata": {},
     "output_type": "execute_result"
    }
   ],
   "source": [
    "df_AAPL_daily = df_AAPL_daily[df_AAPL_daily.index.year==2023]\n",
    "df_AAPL_daily.shape"
   ]
  },
  {
   "cell_type": "code",
   "execution_count": 88,
   "id": "4fdc03a5-4ef8-42f1-8a6b-b6e9e8667e5b",
   "metadata": {},
   "outputs": [
    {
     "data": {
      "text/plain": [
       "0.37244423080467637"
      ]
     },
     "execution_count": 88,
     "metadata": {},
     "output_type": "execute_result"
    }
   ],
   "source": [
    "(df_AAPL_daily['Adj Close'].max() - df_AAPL_daily['Adj Close'].min()) / df_AAPL_daily['Adj Close'].max()"
   ]
  },
  {
   "cell_type": "code",
   "execution_count": 77,
   "id": "9e47b990-303d-422e-a505-c8d5fbfeb9fb",
   "metadata": {},
   "outputs": [
    {
     "name": "stderr",
     "output_type": "stream",
     "text": [
      "[*********************100%%**********************]  1 of 1 completed\n"
     ]
    },
    {
     "data": {
      "text/plain": [
       "(4950, 6)"
      ]
     },
     "execution_count": 77,
     "metadata": {},
     "output_type": "execute_result"
    }
   ],
   "source": [
    "df_GOOG_daily = yf.download(tickers = \"GOOG\",\n",
    "                     period = \"max\",\n",
    "                     interval = \"1d\")\n",
    "df_GOOG_daily.shape"
   ]
  },
  {
   "cell_type": "code",
   "execution_count": 83,
   "id": "739c6fd0-1819-4340-86fa-7dc8c1fbdbe9",
   "metadata": {},
   "outputs": [
    {
     "data": {
      "text/plain": [
       "(250, 6)"
      ]
     },
     "execution_count": 83,
     "metadata": {},
     "output_type": "execute_result"
    }
   ],
   "source": [
    "df_GOOG_daily = df_GOOG_daily[df_GOOG_daily.index.year==2023]\n",
    "df_GOOG_daily.shape"
   ]
  },
  {
   "cell_type": "code",
   "execution_count": 89,
   "id": "27553019-472c-498c-b0c1-9d68a4dea6bf",
   "metadata": {},
   "outputs": [
    {
     "data": {
      "text/plain": [
       "0.3924520921912013"
      ]
     },
     "execution_count": 89,
     "metadata": {},
     "output_type": "execute_result"
    }
   ],
   "source": [
    "(df_GOOG_daily['Adj Close'].max() - df_GOOG_daily['Adj Close'].min()) / df_GOOG_daily['Adj Close'].max()"
   ]
  },
  {
   "cell_type": "code",
   "execution_count": 78,
   "id": "92379750-9c69-4be1-8ce8-0b5d21e50a4c",
   "metadata": {},
   "outputs": [
    {
     "name": "stderr",
     "output_type": "stream",
     "text": [
      "[*********************100%%**********************]  1 of 1 completed\n"
     ]
    },
    {
     "data": {
      "text/plain": [
       "(11116, 6)"
      ]
     },
     "execution_count": 78,
     "metadata": {},
     "output_type": "execute_result"
    }
   ],
   "source": [
    "df_JPM_daily = yf.download(tickers = \"JPM\",\n",
    "                     period = \"max\",\n",
    "                     interval = \"1d\")\n",
    "df_JPM_daily.shape"
   ]
  },
  {
   "cell_type": "code",
   "execution_count": 84,
   "id": "ce8f11ba-3ccf-4f91-8860-f5b918a22774",
   "metadata": {},
   "outputs": [
    {
     "data": {
      "text/plain": [
       "(250, 6)"
      ]
     },
     "execution_count": 84,
     "metadata": {},
     "output_type": "execute_result"
    }
   ],
   "source": [
    "df_JPM_daily = df_JPM_daily[df_JPM_daily.index.year==2023]\n",
    "df_JPM_daily.shape"
   ]
  },
  {
   "cell_type": "code",
   "execution_count": 90,
   "id": "75416a4e-5773-45b4-8e0e-3e1c1c6db9da",
   "metadata": {},
   "outputs": [
    {
     "data": {
      "text/plain": [
       "0.28249927707093897"
      ]
     },
     "execution_count": 90,
     "metadata": {},
     "output_type": "execute_result"
    }
   ],
   "source": [
    "(df_JPM_daily['Adj Close'].max() - df_JPM_daily['Adj Close'].min()) / df_JPM_daily['Adj Close'].max()"
   ]
  },
  {
   "cell_type": "markdown",
   "id": "1ab197a8-6ca4-4f03-a827-7017f1c8dc9c",
   "metadata": {},
   "source": [
    "Question 5. [Stocks] Dividend Yield"
   ]
  },
  {
   "cell_type": "code",
   "execution_count": 94,
   "id": "83d416f2-882d-48c9-acf7-452172548264",
   "metadata": {},
   "outputs": [],
   "source": [
    "SR_2222 = yf.Ticker(\"2222.SR\")\n",
    "BRK_B = yf.Ticker(\"BRK-B\")\n",
    "AAPL = yf.Ticker(\"AAPL\")\n",
    "GOOG = yf.Ticker(\"GOOG\")\n",
    "JPM = yf.Ticker(\"JPM\")"
   ]
  },
  {
   "cell_type": "code",
   "execution_count": 96,
   "id": "c3ed130a-b73a-4f09-9146-82788f1896e8",
   "metadata": {},
   "outputs": [],
   "source": [
    "df_div_SR_2222 = SR_2222.dividends\n",
    "df_div_BRK_B = BRK_B.dividends\n",
    "df_AAPL = AAPL.dividends\n",
    "df_GOOG = GOOG.dividends\n",
    "df_JPM = JPM.dividends"
   ]
  },
  {
   "cell_type": "code",
   "execution_count": 101,
   "id": "e61a9f45-b579-42ee-90ca-961690f8e16c",
   "metadata": {},
   "outputs": [],
   "source": [
    "df_div_SR_2222 = df_div_SR_2222[df_div_SR_2222.index.year==2023]\n",
    "\n",
    "df_div_BRK_B = df_div_BRK_B[df_div_BRK_B.index.year==2023]\n",
    "\n",
    "df_AAPL = df_AAPL[df_AAPL.index.year==2023]\n",
    "\n",
    "df_GOOG = df_GOOG[df_GOOG.index.year==2023]\n",
    "\n",
    "df_JPM = df_JPM[df_JPM.index.year==2023]"
   ]
  },
  {
   "cell_type": "code",
   "execution_count": 99,
   "id": "60f660c2-e8de-424a-a971-50a630dd57a2",
   "metadata": {},
   "outputs": [
    {
     "data": {
      "text/plain": [
       "Date\n",
       "2023-03-15 00:00:00+03:00    0.302364\n",
       "2023-05-17 00:00:00+03:00    0.302400\n",
       "2023-09-11 00:00:00+03:00    0.153000\n",
       "2023-11-15 00:00:00+03:00    0.153000\n",
       "Name: Dividends, dtype: float64"
      ]
     },
     "execution_count": 99,
     "metadata": {},
     "output_type": "execute_result"
    }
   ],
   "source": []
  },
  {
   "cell_type": "code",
   "execution_count": 109,
   "id": "f5ddcc12-84bd-49cc-85d7-8e6e5a92774e",
   "metadata": {},
   "outputs": [
    {
     "data": {
      "text/plain": [
       "(0.027743470474138235, 0.0, 0.004940592304162832, 0.0, 0.02409608190645897)"
      ]
     },
     "execution_count": 109,
     "metadata": {},
     "output_type": "execute_result"
    }
   ],
   "source": [
    "df_div_SR_2222.sum()/df_2222_SR_daily.iloc[-1]['Adj Close'], \\\n",
    "df_div_BRK_B.sum()/df_BRK_B_daily.iloc[-1]['Adj Close'] \\\n",
    ", df_AAPL.sum()/df_AAPL_daily.iloc[-1]['Adj Close']\\\n",
    ", df_GOOG.sum()/df_GOOG_daily.iloc[-1]['Adj Close']\\\n",
    ", df_JPM.sum()/df_JPM_daily.iloc[-1]['Adj Close']"
   ]
  },
  {
   "cell_type": "code",
   "execution_count": 105,
   "id": "18a0536f-beff-4daf-9cc5-fb77d4cb877d",
   "metadata": {},
   "outputs": [
    {
     "data": {
      "text/html": [
       "<div>\n",
       "<style scoped>\n",
       "    .dataframe tbody tr th:only-of-type {\n",
       "        vertical-align: middle;\n",
       "    }\n",
       "\n",
       "    .dataframe tbody tr th {\n",
       "        vertical-align: top;\n",
       "    }\n",
       "\n",
       "    .dataframe thead th {\n",
       "        text-align: right;\n",
       "    }\n",
       "</style>\n",
       "<table border=\"1\" class=\"dataframe\">\n",
       "  <thead>\n",
       "    <tr style=\"text-align: right;\">\n",
       "      <th></th>\n",
       "      <th>Open</th>\n",
       "      <th>High</th>\n",
       "      <th>Low</th>\n",
       "      <th>Close</th>\n",
       "      <th>Adj Close</th>\n",
       "      <th>Volume</th>\n",
       "    </tr>\n",
       "    <tr>\n",
       "      <th>Date</th>\n",
       "      <th></th>\n",
       "      <th></th>\n",
       "      <th></th>\n",
       "      <th></th>\n",
       "      <th></th>\n",
       "      <th></th>\n",
       "    </tr>\n",
       "  </thead>\n",
       "  <tbody>\n",
       "    <tr>\n",
       "      <th>2023-12-25</th>\n",
       "      <td>33.000000</td>\n",
       "      <td>33.099998</td>\n",
       "      <td>32.849998</td>\n",
       "      <td>33.099998</td>\n",
       "      <td>32.927525</td>\n",
       "      <td>15869070</td>\n",
       "    </tr>\n",
       "    <tr>\n",
       "      <th>2023-12-26</th>\n",
       "      <td>33.049999</td>\n",
       "      <td>33.099998</td>\n",
       "      <td>32.900002</td>\n",
       "      <td>33.049999</td>\n",
       "      <td>32.877789</td>\n",
       "      <td>14598967</td>\n",
       "    </tr>\n",
       "    <tr>\n",
       "      <th>2023-12-27</th>\n",
       "      <td>33.099998</td>\n",
       "      <td>33.250000</td>\n",
       "      <td>33.000000</td>\n",
       "      <td>33.150002</td>\n",
       "      <td>32.977268</td>\n",
       "      <td>14815683</td>\n",
       "    </tr>\n",
       "    <tr>\n",
       "      <th>2023-12-28</th>\n",
       "      <td>33.150002</td>\n",
       "      <td>33.250000</td>\n",
       "      <td>32.950001</td>\n",
       "      <td>33.049999</td>\n",
       "      <td>32.877789</td>\n",
       "      <td>12720450</td>\n",
       "    </tr>\n",
       "    <tr>\n",
       "      <th>2023-12-31</th>\n",
       "      <td>33.049999</td>\n",
       "      <td>33.099998</td>\n",
       "      <td>32.900002</td>\n",
       "      <td>33.000000</td>\n",
       "      <td>32.828049</td>\n",
       "      <td>10776909</td>\n",
       "    </tr>\n",
       "  </tbody>\n",
       "</table>\n",
       "</div>"
      ],
      "text/plain": [
       "                 Open       High        Low      Close  Adj Close    Volume\n",
       "Date                                                                       \n",
       "2023-12-25  33.000000  33.099998  32.849998  33.099998  32.927525  15869070\n",
       "2023-12-26  33.049999  33.099998  32.900002  33.049999  32.877789  14598967\n",
       "2023-12-27  33.099998  33.250000  33.000000  33.150002  32.977268  14815683\n",
       "2023-12-28  33.150002  33.250000  32.950001  33.049999  32.877789  12720450\n",
       "2023-12-31  33.049999  33.099998  32.900002  33.000000  32.828049  10776909"
      ]
     },
     "execution_count": 105,
     "metadata": {},
     "output_type": "execute_result"
    }
   ],
   "source": [
    "df_2222_SR_daily.tail()"
   ]
  },
  {
   "cell_type": "code",
   "execution_count": 107,
   "id": "8a9387a7-a400-4ad4-a802-8051ee984889",
   "metadata": {},
   "outputs": [
    {
     "data": {
      "text/plain": [
       "32.82804870605469"
      ]
     },
     "execution_count": 107,
     "metadata": {},
     "output_type": "execute_result"
    }
   ],
   "source": []
  },
  {
   "cell_type": "code",
   "execution_count": null,
   "id": "22f116a4-a35b-4f6d-a0e8-85f4d57d4c89",
   "metadata": {},
   "outputs": [],
   "source": []
  }
 ],
 "metadata": {
  "kernelspec": {
   "display_name": "Python 3 (ipykernel)",
   "language": "python",
   "name": "python3"
  },
  "language_info": {
   "codemirror_mode": {
    "name": "ipython",
    "version": 3
   },
   "file_extension": ".py",
   "mimetype": "text/x-python",
   "name": "python",
   "nbconvert_exporter": "python",
   "pygments_lexer": "ipython3",
   "version": "3.10.14"
  }
 },
 "nbformat": 4,
 "nbformat_minor": 5
}
